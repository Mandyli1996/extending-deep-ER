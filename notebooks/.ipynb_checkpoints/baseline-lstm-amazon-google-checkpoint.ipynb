{
 "cells": [
  {
   "cell_type": "code",
   "execution_count": 1,
   "metadata": {
    "ExecuteTime": {
     "end_time": "2018-03-03T23:33:13.987850Z",
     "start_time": "2018-03-03T23:33:13.792003Z"
    }
   },
   "outputs": [
    {
     "name": "stderr",
     "output_type": "stream",
     "text": [
      "/home/paperspace/anaconda3/envs/python-36/lib/python3.6/site-packages/h5py/__init__.py:36: FutureWarning: Conversion of the second argument of issubdtype from `float` to `np.floating` is deprecated. In future, it will be treated as `np.float64 == np.dtype(float).type`.\n",
      "  from ._conv import register_converters as _register_converters\n",
      "Using TensorFlow backend.\n"
     ]
    }
   ],
   "source": [
    "import sys\n",
    "sys.path.append('../scripts')\n",
    "\n",
    "import numpy as np\n",
    "import pandas as pd\n",
    "import matplotlib.pyplot as plt\n",
    "import seaborn as sns\n",
    "import helpers as hp\n",
    "import pickle as pkl\n",
    "import os\n",
    "\n",
    "from keras.layers import Input, Dense, LSTM, Embedding, Merge\n",
    "from keras.models import Model\n",
    "from keras.preprocessing.sequence import pad_sequences\n",
    "from keras.optimizers import Adadelta\n",
    "from keras.callbacks import Callback\n",
    "from keras import backend as K\n",
    "\n",
    "from sklearn.metrics import f1_score, precision_score, recall_score,\\\n",
    "                            average_precision_score, roc_auc_score,\\\n",
    "                            roc_curve, precision_recall_curve, confusion_matrix,\\\n",
    "                            accuracy_score\n",
    "\n",
    "from IPython.core.interactiveshell import InteractiveShell\n",
    "from matplotlib import rcParams\n",
    "from importlib import reload\n",
    "from harness import TrainingHarness\n",
    "\n",
    "rcParams['font.family'] = 'serif'\n",
    "rcParams['font.serif'] = 'times new roman'\n",
    "\n",
    "%config InlineBackend.figure_format = 'retina'\n",
    "%matplotlib inline"
   ]
  },
  {
   "cell_type": "markdown",
   "metadata": {},
   "source": [
    "# Data Preprocessing"
   ]
  },
  {
   "cell_type": "code",
   "execution_count": 2,
   "metadata": {
    "ExecuteTime": {
     "end_time": "2018-03-03T23:34:04.547276Z",
     "start_time": "2018-03-03T23:33:58.541064Z"
    },
    "collapsed": true
   },
   "outputs": [],
   "source": [
    "with open('../data/embeddings/glove-300.map', 'rb') as f:\n",
    "    map = pkl.load(f)\n",
    "\n",
    "data_dir = os.path.join('..','data')\n",
    "source_dir = os.path.join(data_dir,'split','amazon-google')\n",
    "data = hp.load_data(source_dir)\n",
    "\n",
    "datasets = ['train_1', 'val_1', 'test_1', 'train_2', 'val_2', 'test_2']\n",
    "\n",
    "# drop columns that do not contain embeddings\n",
    "data['train_1'] = data['train_1'].drop(['id1', 'price'], axis = 'columns')\n",
    "data['train_2'] = data['train_2'].drop(['id2', 'price'], axis = 'columns')\n",
    "data['val_1'] = data['val_1'].drop(['id1', 'price'], axis = 'columns')\n",
    "data['val_2'] = data['val_2'].drop(['id2', 'price'], axis = 'columns')\n",
    "data['test_1'] = data['test_1'].drop(['id1', 'price'], axis = 'columns')\n",
    "data['test_2'] = data['test_2'].drop(['id2', 'price'], axis = 'columns')\n",
    "\n",
    "\n",
    "# concatenate all embedding columns so each record becomes one giant list\n",
    "def concat_columns(x):\n",
    "    x = x['title'] + x['description'] + x['manufacturer']\n",
    "    return x\n",
    "\n",
    "for df_name in datasets:\n",
    "    data[df_name] = data[df_name].apply(concat_columns, axis='columns')\n",
    "    \n",
    "# pad all sequences with less than 500 indices with zeros\n",
    "# limit all sequences to 500 indices\n",
    "maxlen = 500\n",
    "for df_name in datasets:\n",
    "    data[df_name] = pad_sequences(data[df_name], maxlen=maxlen)"
   ]
  },
  {
   "cell_type": "markdown",
   "metadata": {},
   "source": [
    "# Build Model"
   ]
  },
  {
   "cell_type": "code",
   "execution_count": 3,
   "metadata": {
    "ExecuteTime": {
     "end_time": "2018-03-03T17:55:17.098911Z",
     "start_time": "2018-03-03T17:55:08.566823Z"
    },
    "collapsed": true
   },
   "outputs": [],
   "source": [
    "glove_matrix = np.load(os.path.join(data_dir, \n",
    "                                    'embeddings',\n",
    "                                    'glove-300.matrix.npy'))"
   ]
  },
  {
   "cell_type": "code",
   "execution_count": 4,
   "metadata": {
    "ExecuteTime": {
     "end_time": "2018-03-03T18:33:49.510048Z",
     "start_time": "2018-03-03T18:32:50.701981Z"
    }
   },
   "outputs": [
    {
     "name": "stderr",
     "output_type": "stream",
     "text": [
      "/home/paperspace/anaconda3/envs/python-36/lib/python3.6/site-packages/ipykernel_launcher.py:24: UserWarning: The `Merge` layer is deprecated and will be removed after 08/2017. Use instead layers from `keras.layers.merge`, e.g. `add`, `concatenate`, etc.\n"
     ]
    }
   ],
   "source": [
    "n_hidden = 50\n",
    "gradient_clipping_norm = 1.25\n",
    "\n",
    "input_left = Input(shape=(maxlen,))\n",
    "input_right = Input(shape=(maxlen,))\n",
    "\n",
    "embedding_layer = Embedding(glove_matrix.shape[0],\n",
    "                            glove_matrix.shape[1],\n",
    "                            weights=[glove_matrix],\n",
    "                            input_length=maxlen,\n",
    "                            trainable=False)\n",
    "embedded_left = embedding_layer(input_left)\n",
    "embedded_right = embedding_layer(input_right)\n",
    "\n",
    "lstm_layer = LSTM(n_hidden)\n",
    "output_left = lstm_layer(embedded_right)\n",
    "output_right = lstm_layer(embedded_left)\n",
    "\n",
    "def distance_metric(x1, x2):\n",
    "    l1 = -K.sum(K.abs(x1 - x2), axis=1, keepdims=True)\n",
    "    return K.exp(l1)\n",
    "\n",
    "merge_layer = Merge(mode=lambda x: distance_metric(x[0], x[1]),\n",
    "                    output_shape=lambda x: (x[0][0], 1))\n",
    "distance = merge_layer([output_left, output_right])\n",
    "\n",
    "malstm = Model([input_left, input_right], [distance])"
   ]
  },
  {
   "cell_type": "markdown",
   "metadata": {},
   "source": [
    "# Pre-training"
   ]
  },
  {
   "cell_type": "code",
   "execution_count": 20,
   "metadata": {
    "ExecuteTime": {
     "end_time": "2018-03-03T19:55:44.463741Z",
     "start_time": "2018-03-03T19:55:44.443551Z"
    },
    "collapsed": true
   },
   "outputs": [],
   "source": [
    "compile_args = dict(optimizer='adam',\n",
    "                    loss='mean_squared_error',\n",
    "                    metrics=['acc'])\n",
    "fit_args = dict(x = [data['train_1'], data['train_2']],\n",
    "                  y = data['train_y'],\n",
    "                  epochs = 10,\n",
    "                  batch_size = 2048,\n",
    "                  validation_data = ([data['val_1'], data['val_2']], data['val_y']))\n",
    "th = TrainingHarness(malstm,\n",
    "                     n_checkpoints = 10,\n",
    "                     compile_args = compile_args,\n",
    "                     fit_args = fit_args,\n",
    "                     npy_embedding_matrix = '../data/embeddings/glove-300.matrix.npy')"
   ]
  },
  {
   "cell_type": "code",
   "execution_count": null,
   "metadata": {
    "collapsed": true
   },
   "outputs": [],
   "source": []
  },
  {
   "cell_type": "code",
   "execution_count": null,
   "metadata": {
    "collapsed": true
   },
   "outputs": [],
   "source": []
  },
  {
   "cell_type": "code",
   "execution_count": null,
   "metadata": {
    "collapsed": true
   },
   "outputs": [],
   "source": []
  },
  {
   "cell_type": "code",
   "execution_count": 36,
   "metadata": {
    "scrolled": false
   },
   "outputs": [
    {
     "name": "stdout",
     "output_type": "stream",
     "text": [
      "Train on 10400 samples, validate on 1300 samples\n",
      "Epoch 1/1\n",
      "10400/10400 [==============================] - 9s 889us/step - loss: 0.0423 - acc: 0.9939 - val_loss: 0.0704 - val_acc: 0.9077\n",
      "Train on 10400 samples, validate on 1300 samples\n",
      "Epoch 1/1\n",
      "10400/10400 [==============================] - 9s 906us/step - loss: 0.0438 - acc: 0.9926 - val_loss: 0.0693 - val_acc: 0.9100\n",
      "Train on 10400 samples, validate on 1300 samples\n",
      "Epoch 1/1\n",
      "10400/10400 [==============================] - 10s 917us/step - loss: 0.0428 - acc: 0.9935 - val_loss: 0.0698 - val_acc: 0.9077\n",
      "Train on 10400 samples, validate on 1300 samples\n",
      "Epoch 1/1\n",
      "10400/10400 [==============================] - 9s 880us/step - loss: 0.0401 - acc: 0.9939 - val_loss: 0.0690 - val_acc: 0.9062\n",
      "Train on 10400 samples, validate on 1300 samples\n",
      "Epoch 1/1\n",
      "10400/10400 [==============================] - 9s 895us/step - loss: 0.0380 - acc: 0.9941 - val_loss: 0.0697 - val_acc: 0.9085\n",
      "Train on 10400 samples, validate on 1300 samples\n",
      "Epoch 1/1\n",
      "10400/10400 [==============================] - 9s 871us/step - loss: 0.0367 - acc: 0.9953 - val_loss: 0.0699 - val_acc: 0.9069\n",
      "Train on 10400 samples, validate on 1300 samples\n",
      "Epoch 1/1\n",
      "10400/10400 [==============================] - 9s 894us/step - loss: 0.0358 - acc: 0.9945 - val_loss: 0.0692 - val_acc: 0.9085\n",
      "Train on 10400 samples, validate on 1300 samples\n",
      "Epoch 1/1\n",
      "10400/10400 [==============================] - 10s 923us/step - loss: 0.0355 - acc: 0.9946 - val_loss: 0.0688 - val_acc: 0.9069\n",
      "Train on 10400 samples, validate on 1300 samples\n",
      "Epoch 1/1\n",
      "10400/10400 [==============================] - 9s 903us/step - loss: 0.0353 - acc: 0.9950 - val_loss: 0.0688 - val_acc: 0.9092\n",
      "Train on 10400 samples, validate on 1300 samples\n",
      "Epoch 1/1\n",
      "10400/10400 [==============================] - 9s 888us/step - loss: 0.0348 - acc: 0.9952 - val_loss: 0.0692 - val_acc: 0.9092\n",
      "Train on 10400 samples, validate on 1300 samples\n",
      "Epoch 1/1\n",
      "10400/10400 [==============================] - 9s 899us/step - loss: 0.0372 - acc: 0.9949 - val_loss: 0.0694 - val_acc: 0.9077\n",
      "Train on 10400 samples, validate on 1300 samples\n",
      "Epoch 1/1\n",
      "10400/10400 [==============================] - 9s 900us/step - loss: 0.0396 - acc: 0.9949 - val_loss: 0.0696 - val_acc: 0.9077\n",
      "Train on 10400 samples, validate on 1300 samples\n",
      "Epoch 1/1\n",
      "10400/10400 [==============================] - 9s 911us/step - loss: 0.0389 - acc: 0.9944 - val_loss: 0.0697 - val_acc: 0.9062\n",
      "Train on 10400 samples, validate on 1300 samples\n",
      "Epoch 1/1\n",
      "10400/10400 [==============================] - 10s 914us/step - loss: 0.0404 - acc: 0.9943 - val_loss: 0.0704 - val_acc: 0.9100\n",
      "Train on 10400 samples, validate on 1300 samples\n",
      "Epoch 1/1\n",
      "10400/10400 [==============================] - 9s 894us/step - loss: 0.0436 - acc: 0.9936 - val_loss: 0.0705 - val_acc: 0.9069\n",
      "Train on 10400 samples, validate on 1300 samples\n",
      "Epoch 1/1\n",
      "10400/10400 [==============================] - 9s 895us/step - loss: 0.0439 - acc: 0.9933 - val_loss: 0.0707 - val_acc: 0.9038\n",
      "Train on 10400 samples, validate on 1300 samples\n",
      "Epoch 1/1\n",
      "10400/10400 [==============================] - 9s 908us/step - loss: 0.0425 - acc: 0.9938 - val_loss: 0.0703 - val_acc: 0.9054\n",
      "Train on 10400 samples, validate on 1300 samples\n",
      "Epoch 1/1\n",
      "10400/10400 [==============================] - 10s 917us/step - loss: 0.0417 - acc: 0.9938 - val_loss: 0.0698 - val_acc: 0.9062\n",
      "Train on 10400 samples, validate on 1300 samples\n",
      "Epoch 1/1\n",
      "10400/10400 [==============================] - 9s 892us/step - loss: 0.0402 - acc: 0.9941 - val_loss: 0.0705 - val_acc: 0.9077\n",
      "Train on 10400 samples, validate on 1300 samples\n",
      "Epoch 1/1\n",
      "10400/10400 [==============================] - 9s 888us/step - loss: 0.0410 - acc: 0.9946 - val_loss: 0.0705 - val_acc: 0.9077\n",
      "Train on 10400 samples, validate on 1300 samples\n",
      "Epoch 1/1\n",
      "10400/10400 [==============================] - 9s 903us/step - loss: 0.0407 - acc: 0.9946 - val_loss: 0.0695 - val_acc: 0.9054\n",
      "Train on 10400 samples, validate on 1300 samples\n",
      "Epoch 1/1\n",
      "10400/10400 [==============================] - 9s 882us/step - loss: 0.0412 - acc: 0.9946 - val_loss: 0.0699 - val_acc: 0.9100\n",
      "Train on 10400 samples, validate on 1300 samples\n",
      "Epoch 1/1\n",
      "10400/10400 [==============================] - 9s 895us/step - loss: 0.0410 - acc: 0.9944 - val_loss: 0.0695 - val_acc: 0.9038\n",
      "Train on 10400 samples, validate on 1300 samples\n",
      "Epoch 1/1\n",
      "10400/10400 [==============================] - 9s 886us/step - loss: 0.0400 - acc: 0.9938 - val_loss: 0.0689 - val_acc: 0.9092\n",
      "Train on 10400 samples, validate on 1300 samples\n",
      "Epoch 1/1\n",
      "10400/10400 [==============================] - 9s 901us/step - loss: 0.0425 - acc: 0.9946 - val_loss: 0.0690 - val_acc: 0.9115\n",
      "Train on 10400 samples, validate on 1300 samples\n",
      "Epoch 1/1\n",
      "10400/10400 [==============================] - 9s 896us/step - loss: 0.0428 - acc: 0.9936 - val_loss: 0.0703 - val_acc: 0.9108\n",
      "Train on 10400 samples, validate on 1300 samples\n",
      "Epoch 1/1\n",
      "10400/10400 [==============================] - 9s 891us/step - loss: 0.0412 - acc: 0.9942 - val_loss: 0.0704 - val_acc: 0.9062\n",
      "Train on 10400 samples, validate on 1300 samples\n",
      "Epoch 1/1\n",
      "10400/10400 [==============================] - 10s 943us/step - loss: 0.0424 - acc: 0.9941 - val_loss: 0.0695 - val_acc: 0.9069\n",
      "Train on 10400 samples, validate on 1300 samples\n",
      "Epoch 1/1\n",
      "10400/10400 [==============================] - 10s 918us/step - loss: 0.0398 - acc: 0.9948 - val_loss: 0.0687 - val_acc: 0.9062\n",
      "Train on 10400 samples, validate on 1300 samples\n",
      "Epoch 1/1\n",
      "10400/10400 [==============================] - 9s 905us/step - loss: 0.0379 - acc: 0.9949 - val_loss: 0.0692 - val_acc: 0.9069\n",
      "Train on 10400 samples, validate on 1300 samples\n",
      "Epoch 1/1\n",
      "10400/10400 [==============================] - 10s 928us/step - loss: 0.0369 - acc: 0.9953 - val_loss: 0.0694 - val_acc: 0.9069\n",
      "Train on 10400 samples, validate on 1300 samples\n",
      "Epoch 1/1\n",
      "10400/10400 [==============================] - 9s 895us/step - loss: 0.0361 - acc: 0.9956 - val_loss: 0.0702 - val_acc: 0.9062\n",
      "Train on 10400 samples, validate on 1300 samples\n",
      "Epoch 1/1\n",
      "10400/10400 [==============================] - 9s 899us/step - loss: 0.0355 - acc: 0.9953 - val_loss: 0.0683 - val_acc: 0.9100\n",
      "Train on 10400 samples, validate on 1300 samples\n",
      "Epoch 1/1\n",
      "10400/10400 [==============================] - 9s 896us/step - loss: 0.0374 - acc: 0.9949 - val_loss: 0.0694 - val_acc: 0.9054\n",
      "Train on 10400 samples, validate on 1300 samples\n",
      "Epoch 1/1\n",
      "10400/10400 [==============================] - 10s 936us/step - loss: 0.0360 - acc: 0.9956 - val_loss: 0.0689 - val_acc: 0.9046\n",
      "Train on 10400 samples, validate on 1300 samples\n",
      "Epoch 1/1\n",
      "10400/10400 [==============================] - 10s 927us/step - loss: 0.0356 - acc: 0.9952 - val_loss: 0.0693 - val_acc: 0.9054\n",
      "Train on 10400 samples, validate on 1300 samples\n",
      "Epoch 1/1\n",
      "10400/10400 [==============================] - 9s 894us/step - loss: 0.0353 - acc: 0.9952 - val_loss: 0.0690 - val_acc: 0.9085\n",
      "Train on 10400 samples, validate on 1300 samples\n",
      "Epoch 1/1\n",
      "10400/10400 [==============================] - 9s 897us/step - loss: 0.0339 - acc: 0.9953 - val_loss: 0.0694 - val_acc: 0.9069\n",
      "Train on 10400 samples, validate on 1300 samples\n",
      "Epoch 1/1\n",
      "10400/10400 [==============================] - 9s 884us/step - loss: 0.0340 - acc: 0.9956 - val_loss: 0.0696 - val_acc: 0.9085\n",
      "Train on 10400 samples, validate on 1300 samples\n",
      "Epoch 1/1\n",
      "10400/10400 [==============================] - 9s 891us/step - loss: 0.0345 - acc: 0.9954 - val_loss: 0.0694 - val_acc: 0.9085\n",
      "Train on 10400 samples, validate on 1300 samples\n",
      "Epoch 1/1\n",
      "10400/10400 [==============================] - 9s 885us/step - loss: 0.0346 - acc: 0.9956 - val_loss: 0.0692 - val_acc: 0.9069\n",
      "Train on 10400 samples, validate on 1300 samples\n",
      "Epoch 1/1\n",
      "10400/10400 [==============================] - 9s 888us/step - loss: 0.0338 - acc: 0.9958 - val_loss: 0.0684 - val_acc: 0.9085\n",
      "Train on 10400 samples, validate on 1300 samples\n",
      "Epoch 1/1\n",
      "10400/10400 [==============================] - 9s 884us/step - loss: 0.0358 - acc: 0.9958 - val_loss: 0.0692 - val_acc: 0.9077\n",
      "Train on 10400 samples, validate on 1300 samples\n",
      "Epoch 1/1\n",
      "10400/10400 [==============================] - 9s 893us/step - loss: 0.0365 - acc: 0.9948 - val_loss: 0.0689 - val_acc: 0.9100\n"
     ]
    },
    {
     "name": "stdout",
     "output_type": "stream",
     "text": [
      "Train on 10400 samples, validate on 1300 samples\n",
      "Epoch 1/1\n",
      "10400/10400 [==============================] - 9s 897us/step - loss: 0.0341 - acc: 0.9953 - val_loss: 0.0693 - val_acc: 0.9092\n",
      "Train on 10400 samples, validate on 1300 samples\n",
      "Epoch 1/1\n",
      "10400/10400 [==============================] - 9s 881us/step - loss: 0.0363 - acc: 0.9949 - val_loss: 0.0696 - val_acc: 0.9069\n",
      "Train on 10400 samples, validate on 1300 samples\n",
      "Epoch 1/1\n",
      "10400/10400 [==============================] - 9s 876us/step - loss: 0.0343 - acc: 0.9953 - val_loss: 0.0693 - val_acc: 0.9069\n",
      "Train on 10400 samples, validate on 1300 samples\n",
      "Epoch 1/1\n",
      "10400/10400 [==============================] - 9s 893us/step - loss: 0.0346 - acc: 0.9957 - val_loss: 0.0693 - val_acc: 0.9077\n",
      "Train on 10400 samples, validate on 1300 samples\n",
      "Epoch 1/1\n",
      "10400/10400 [==============================] - 9s 906us/step - loss: 0.0323 - acc: 0.9957 - val_loss: 0.0693 - val_acc: 0.9100\n",
      "Train on 10400 samples, validate on 1300 samples\n",
      "Epoch 1/1\n",
      "10400/10400 [==============================] - 9s 888us/step - loss: 0.0318 - acc: 0.9960 - val_loss: 0.0689 - val_acc: 0.9092\n",
      "Train on 10400 samples, validate on 1300 samples\n",
      "Epoch 1/1\n",
      "10400/10400 [==============================] - 9s 885us/step - loss: 0.0317 - acc: 0.9958 - val_loss: 0.0695 - val_acc: 0.9100\n",
      "Train on 10400 samples, validate on 1300 samples\n",
      "Epoch 1/1\n",
      "10400/10400 [==============================] - 9s 909us/step - loss: 0.0332 - acc: 0.9958 - val_loss: 0.0691 - val_acc: 0.9062\n",
      "Train on 10400 samples, validate on 1300 samples\n",
      "Epoch 1/1\n",
      "10400/10400 [==============================] - 9s 900us/step - loss: 0.0323 - acc: 0.9957 - val_loss: 0.0689 - val_acc: 0.9069\n",
      "Train on 10400 samples, validate on 1300 samples\n",
      "Epoch 1/1\n",
      "10400/10400 [==============================] - 10s 925us/step - loss: 0.0308 - acc: 0.9960 - val_loss: 0.0689 - val_acc: 0.9092\n",
      "Train on 10400 samples, validate on 1300 samples\n",
      "Epoch 1/1\n",
      "10400/10400 [==============================] - 9s 911us/step - loss: 0.0303 - acc: 0.9963 - val_loss: 0.0686 - val_acc: 0.9100\n",
      "Train on 10400 samples, validate on 1300 samples\n",
      "Epoch 1/1\n",
      "10400/10400 [==============================] - 9s 905us/step - loss: 0.0303 - acc: 0.9962 - val_loss: 0.0688 - val_acc: 0.9077\n",
      "Train on 10400 samples, validate on 1300 samples\n",
      "Epoch 1/1\n",
      "10400/10400 [==============================] - 9s 889us/step - loss: 0.0317 - acc: 0.9959 - val_loss: 0.0688 - val_acc: 0.9100\n",
      "Train on 10400 samples, validate on 1300 samples\n",
      "Epoch 1/1\n",
      "10400/10400 [==============================] - 9s 900us/step - loss: 0.0318 - acc: 0.9955 - val_loss: 0.0681 - val_acc: 0.9115\n",
      "Train on 10400 samples, validate on 1300 samples\n",
      "Epoch 1/1\n",
      "10400/10400 [==============================] - 9s 866us/step - loss: 0.0328 - acc: 0.9959 - val_loss: 0.0676 - val_acc: 0.9146\n",
      "Train on 10400 samples, validate on 1300 samples\n",
      "Epoch 1/1\n",
      "10400/10400 [==============================] - 9s 897us/step - loss: 0.0352 - acc: 0.9958 - val_loss: 0.0679 - val_acc: 0.9131\n",
      "Train on 10400 samples, validate on 1300 samples\n",
      "Epoch 1/1\n",
      "10400/10400 [==============================] - 9s 900us/step - loss: 0.0342 - acc: 0.9960 - val_loss: 0.0687 - val_acc: 0.9108\n",
      "Train on 10400 samples, validate on 1300 samples\n",
      "Epoch 1/1\n",
      "10400/10400 [==============================] - 9s 888us/step - loss: 0.0332 - acc: 0.9963 - val_loss: 0.0690 - val_acc: 0.9115\n",
      "Train on 10400 samples, validate on 1300 samples\n",
      "Epoch 1/1\n",
      "10400/10400 [==============================] - 9s 883us/step - loss: 0.0326 - acc: 0.9957 - val_loss: 0.0691 - val_acc: 0.9092\n",
      "Train on 10400 samples, validate on 1300 samples\n",
      "Epoch 1/1\n",
      "10400/10400 [==============================] - 10s 914us/step - loss: 0.0357 - acc: 0.9960 - val_loss: 0.0681 - val_acc: 0.9100\n",
      "Train on 10400 samples, validate on 1300 samples\n",
      "Epoch 1/1\n",
      "10400/10400 [==============================] - 10s 926us/step - loss: 0.0351 - acc: 0.9957 - val_loss: 0.0691 - val_acc: 0.9085\n",
      "Train on 10400 samples, validate on 1300 samples\n",
      "Epoch 1/1\n",
      "10400/10400 [==============================] - 9s 901us/step - loss: 0.0341 - acc: 0.9959 - val_loss: 0.0689 - val_acc: 0.9085\n",
      "Train on 10400 samples, validate on 1300 samples\n",
      "Epoch 1/1\n",
      "10400/10400 [==============================] - 9s 900us/step - loss: 0.0357 - acc: 0.9961 - val_loss: 0.0683 - val_acc: 0.9100\n",
      "Train on 10400 samples, validate on 1300 samples\n",
      "Epoch 1/1\n",
      "10400/10400 [==============================] - 9s 912us/step - loss: 0.0339 - acc: 0.9963 - val_loss: 0.0683 - val_acc: 0.9108\n",
      "Train on 10400 samples, validate on 1300 samples\n",
      "Epoch 1/1\n",
      "10400/10400 [==============================] - 10s 919us/step - loss: 0.0328 - acc: 0.9966 - val_loss: 0.0684 - val_acc: 0.9085\n",
      "Train on 10400 samples, validate on 1300 samples\n",
      "Epoch 1/1\n",
      "10400/10400 [==============================] - 9s 902us/step - loss: 0.0314 - acc: 0.9963 - val_loss: 0.0689 - val_acc: 0.9085\n",
      "Train on 10400 samples, validate on 1300 samples\n",
      "Epoch 1/1\n",
      "10400/10400 [==============================] - 9s 912us/step - loss: 0.0330 - acc: 0.9960 - val_loss: 0.0690 - val_acc: 0.9085\n",
      "Train on 10400 samples, validate on 1300 samples\n",
      "Epoch 1/1\n",
      "10400/10400 [==============================] - 9s 899us/step - loss: 0.0325 - acc: 0.9962 - val_loss: 0.0689 - val_acc: 0.9085\n",
      "Train on 10400 samples, validate on 1300 samples\n",
      "Epoch 1/1\n",
      "10400/10400 [==============================] - 9s 909us/step - loss: 0.0318 - acc: 0.9959 - val_loss: 0.0684 - val_acc: 0.9115\n",
      "Train on 10400 samples, validate on 1300 samples\n",
      "Epoch 1/1\n",
      "10400/10400 [==============================] - 9s 902us/step - loss: 0.0353 - acc: 0.9957 - val_loss: 0.0686 - val_acc: 0.9123\n",
      "Train on 10400 samples, validate on 1300 samples\n",
      "Epoch 1/1\n",
      "10400/10400 [==============================] - 9s 881us/step - loss: 0.0372 - acc: 0.9953 - val_loss: 0.0687 - val_acc: 0.9100\n",
      "Train on 10400 samples, validate on 1300 samples\n",
      "Epoch 1/1\n",
      "10400/10400 [==============================] - 9s 899us/step - loss: 0.0358 - acc: 0.9953 - val_loss: 0.0692 - val_acc: 0.9069\n",
      "Train on 10400 samples, validate on 1300 samples\n",
      "Epoch 1/1\n",
      "10400/10400 [==============================] - 9s 900us/step - loss: 0.0378 - acc: 0.9948 - val_loss: 0.0691 - val_acc: 0.9077\n",
      "Train on 10400 samples, validate on 1300 samples\n",
      "Epoch 1/1\n",
      "10400/10400 [==============================] - 9s 877us/step - loss: 0.0378 - acc: 0.9951 - val_loss: 0.0686 - val_acc: 0.9100\n",
      "Train on 10400 samples, validate on 1300 samples\n",
      "Epoch 1/1\n",
      "10400/10400 [==============================] - 9s 903us/step - loss: 0.0371 - acc: 0.9955 - val_loss: 0.0679 - val_acc: 0.9131\n",
      "Train on 10400 samples, validate on 1300 samples\n",
      "Epoch 1/1\n",
      "10400/10400 [==============================] - 9s 895us/step - loss: 0.0350 - acc: 0.9958 - val_loss: 0.0685 - val_acc: 0.9092\n",
      "Train on 10400 samples, validate on 1300 samples\n",
      "Epoch 1/1\n",
      "10400/10400 [==============================] - 9s 884us/step - loss: 0.0316 - acc: 0.9967 - val_loss: 0.0684 - val_acc: 0.9108\n",
      "Train on 10400 samples, validate on 1300 samples\n",
      "Epoch 1/1\n",
      "10400/10400 [==============================] - 9s 870us/step - loss: 0.0303 - acc: 0.9968 - val_loss: 0.0680 - val_acc: 0.9100\n",
      "Train on 10400 samples, validate on 1300 samples\n",
      "Epoch 1/1\n",
      "10400/10400 [==============================] - 10s 924us/step - loss: 0.0293 - acc: 0.9965 - val_loss: 0.0678 - val_acc: 0.9123\n",
      "Train on 10400 samples, validate on 1300 samples\n",
      "Epoch 1/1\n",
      "10400/10400 [==============================] - 9s 894us/step - loss: 0.0295 - acc: 0.9970 - val_loss: 0.0682 - val_acc: 0.9092\n",
      "Train on 10400 samples, validate on 1300 samples\n",
      "Epoch 1/1\n",
      "10400/10400 [==============================] - 9s 903us/step - loss: 0.0292 - acc: 0.9966 - val_loss: 0.0680 - val_acc: 0.9100\n",
      "Train on 10400 samples, validate on 1300 samples\n",
      "Epoch 1/1\n",
      "10400/10400 [==============================] - 10s 924us/step - loss: 0.0292 - acc: 0.9967 - val_loss: 0.0681 - val_acc: 0.9123\n",
      "Train on 10400 samples, validate on 1300 samples\n",
      "Epoch 1/1\n",
      "10400/10400 [==============================] - 9s 901us/step - loss: 0.0287 - acc: 0.9964 - val_loss: 0.0681 - val_acc: 0.9077\n",
      "Train on 10400 samples, validate on 1300 samples\n",
      "Epoch 1/1\n",
      "10400/10400 [==============================] - 9s 863us/step - loss: 0.0283 - acc: 0.9965 - val_loss: 0.0680 - val_acc: 0.9108\n",
      "Train on 10400 samples, validate on 1300 samples\n",
      "Epoch 1/1\n"
     ]
    },
    {
     "name": "stdout",
     "output_type": "stream",
     "text": [
      "10400/10400 [==============================] - 9s 899us/step - loss: 0.0299 - acc: 0.9965 - val_loss: 0.0689 - val_acc: 0.9077\n",
      "Train on 10400 samples, validate on 1300 samples\n",
      "Epoch 1/1\n",
      "10400/10400 [==============================] - 9s 911us/step - loss: 0.0303 - acc: 0.9968 - val_loss: 0.0680 - val_acc: 0.9085\n",
      "Train on 10400 samples, validate on 1300 samples\n",
      "Epoch 1/1\n",
      "10400/10400 [==============================] - 9s 905us/step - loss: 0.0300 - acc: 0.9968 - val_loss: 0.0687 - val_acc: 0.9069\n",
      "Train on 10400 samples, validate on 1300 samples\n",
      "Epoch 1/1\n",
      "10400/10400 [==============================] - 9s 903us/step - loss: 0.0288 - acc: 0.9974 - val_loss: 0.0682 - val_acc: 0.9085\n",
      "Train on 10400 samples, validate on 1300 samples\n",
      "Epoch 1/1\n",
      "10400/10400 [==============================] - 9s 904us/step - loss: 0.0274 - acc: 0.9968 - val_loss: 0.0684 - val_acc: 0.9108\n",
      "Train on 10400 samples, validate on 1300 samples\n",
      "Epoch 1/1\n",
      "10400/10400 [==============================] - 9s 886us/step - loss: 0.0289 - acc: 0.9970 - val_loss: 0.0684 - val_acc: 0.9077\n",
      "Train on 10400 samples, validate on 1300 samples\n",
      "Epoch 1/1\n",
      "10400/10400 [==============================] - 9s 876us/step - loss: 0.0294 - acc: 0.9967 - val_loss: 0.0680 - val_acc: 0.9100\n",
      "Train on 10400 samples, validate on 1300 samples\n",
      "Epoch 1/1\n",
      "10400/10400 [==============================] - 9s 880us/step - loss: 0.0284 - acc: 0.9969 - val_loss: 0.0682 - val_acc: 0.9077\n",
      "Train on 10400 samples, validate on 1300 samples\n",
      "Epoch 1/1\n",
      "10400/10400 [==============================] - 9s 887us/step - loss: 0.0278 - acc: 0.9973 - val_loss: 0.0678 - val_acc: 0.9115\n",
      "Train on 10400 samples, validate on 1300 samples\n",
      "Epoch 1/1\n",
      "10400/10400 [==============================] - 9s 912us/step - loss: 0.0286 - acc: 0.9965 - val_loss: 0.0681 - val_acc: 0.9108\n",
      "Train on 10400 samples, validate on 1300 samples\n",
      "Epoch 1/1\n",
      "10400/10400 [==============================] - 9s 901us/step - loss: 0.0308 - acc: 0.9966 - val_loss: 0.0688 - val_acc: 0.9092\n",
      "Train on 10400 samples, validate on 1300 samples\n",
      "Epoch 1/1\n",
      "10400/10400 [==============================] - 9s 899us/step - loss: 0.0329 - acc: 0.9965 - val_loss: 0.0684 - val_acc: 0.9131\n"
     ]
    }
   ],
   "source": [
    "th.fit(class_weight = {0:1, 1:5}, epochs = 100)"
   ]
  },
  {
   "cell_type": "code",
   "execution_count": 40,
   "metadata": {},
   "outputs": [
    {
     "data": {
      "text/plain": [
       "<matplotlib.axes._subplots.AxesSubplot at 0x7ff984cb8a90>"
      ]
     },
     "execution_count": 40,
     "metadata": {},
     "output_type": "execute_result"
    },
    {
     "data": {
      "image/png": "[encoded data removed]",
      "text/plain": [
       "<Figure size 1080x504 with 1 Axes>"
      ]
     },
     "metadata": {
      "image/png": {
       "height": 426,
       "width": 896
      }
     },
     "output_type": "display_data"
    }
   ],
   "source": [
    "th.plot_history('acc')"
   ]
  },
  {
   "cell_type": "code",
   "execution_count": 42,
   "metadata": {
    "collapsed": true
   },
   "outputs": [],
   "source": [
    "y_train_pred = th.model.predict([data['train_1'], data['train_2']])\n",
    "y_val_pred = th.model.predict([data['val_1'], data['val_2']])"
   ]
  },
  {
   "cell_type": "code",
   "execution_count": 60,
   "metadata": {},
   "outputs": [
    {
     "data": {
      "text/plain": [
       "array([[9326,   26],\n",
       "       [  10, 1038]])"
      ]
     },
     "execution_count": 60,
     "metadata": {},
     "output_type": "execute_result"
    }
   ],
   "source": [
    "confusion_matrix(data['train_y'], y_train_pred >= 0.5)"
   ]
  },
  {
   "cell_type": "code",
   "execution_count": 62,
   "metadata": {},
   "outputs": [
    {
     "data": {
      "text/plain": [
       "array([[1081,  106],\n",
       "       [  63,   50]])"
      ]
     },
     "execution_count": 62,
     "metadata": {},
     "output_type": "execute_result"
    }
   ],
   "source": [
    "confusion_matrix(data['val_y'], y_val_pred >= 0.3)"
   ]
  },
  {
   "cell_type": "code",
   "execution_count": 58,
   "metadata": {},
   "outputs": [
    {
     "data": {
      "text/plain": [
       "(array([889., 156.,  84.,  54.,  45.,  28.,  18.,   9.,   5.,  12.]),\n",
       " array([1.45307516e-11, 9.13808763e-02, 1.82761753e-01, 2.74142629e-01,\n",
       "        3.65523505e-01, 4.56904382e-01, 5.48285258e-01, 6.39666134e-01,\n",
       "        7.31047010e-01, 8.22427887e-01, 9.13808763e-01]),\n",
       " <a list of 10 Patch objects>)"
      ]
     },
     "execution_count": 58,
     "metadata": {},
     "output_type": "execute_result"
    },
    {
     "data": {
      "image/png": "[encoded data removed]",
      "text/plain": [
       "<Figure size 432x288 with 1 Axes>"
      ]
     },
     "metadata": {
      "image/png": {
       "height": 250,
       "width": 377
      }
     },
     "output_type": "display_data"
    }
   ],
   "source": [
    "plt.hist(y_val_pred)"
   ]
  },
  {
   "cell_type": "code",
   "execution_count": 59,
   "metadata": {},
   "outputs": [
    {
     "data": {
      "text/plain": [
       "(array([7294., 1216.,  527.,  210.,   73.,   40.,   31.,  145.,  538.,\n",
       "         326.]),\n",
       " array([7.77698503e-18, 9.35717642e-02, 1.87143528e-01, 2.80715293e-01,\n",
       "        3.74287057e-01, 4.67858821e-01, 5.61430585e-01, 6.55002350e-01,\n",
       "        7.48574114e-01, 8.42145878e-01, 9.35717642e-01]),\n",
       " <a list of 10 Patch objects>)"
      ]
     },
     "execution_count": 59,
     "metadata": {},
     "output_type": "execute_result"
    },
    {
     "data": {
      "image/png": "[encoded data removed]",
      "text/plain": [
       "<Figure size 432x288 with 1 Axes>"
      ]
     },
     "metadata": {
      "image/png": {
       "height": 250,
       "width": 383
      }
     },
     "output_type": "display_data"
    }
   ],
   "source": [
    "plt.hist(y_train_pred)"
   ]
  },
  {
   "cell_type": "code",
   "execution_count": 66,
   "metadata": {
    "collapsed": true
   },
   "outputs": [],
   "source": [
    "with open('../data/embeddings/glove-300.map', 'rb') as f:\n",
    "    map = pkl.load(f)"
   ]
  },
  {
   "cell_type": "code",
   "execution_count": 64,
   "metadata": {
    "scrolled": true
   },
   "outputs": [],
   "source": [
    "val_1 = pd.read_csv('../data/split/amazon-google/val_1.csv')\n",
    "val_2 = pd.read_csv('../data/split/amazon-google/val_2.csv')"
   ]
  },
  {
   "cell_type": "code",
   "execution_count": 82,
   "metadata": {},
   "outputs": [],
   "source": [
    "import helpers as hp\n",
    "\n",
    "def indices_to_words(x):\n",
    "    string = ''\n",
    "    for idx in x:\n",
    "        string = string + ' ' + map['idx2word'][idx]\n",
    "    return string\n",
    "\n",
    "val_1_str = val_1[['title', 'description', 'manufacturer']].applymap(hp.str_to_list)\n",
    "val_2_str = val_2[['title', 'description', 'manufacturer']].applymap(hp.str_to_list)\n",
    "\n",
    "val_1_str = val_1_str.applymap(indices_to_words)\n",
    "val_2_str = val_2_str.applymap(indices_to_words)"
   ]
  },
  {
   "cell_type": "code",
   "execution_count": 94,
   "metadata": {},
   "outputs": [
    {
     "data": {
      "text/plain": [
       "array([[False],\n",
       "       [False],\n",
       "       [False],\n",
       "       ...,\n",
       "       [False],\n",
       "       [False],\n",
       "       [False]])"
      ]
     },
     "execution_count": 94,
     "metadata": {},
     "output_type": "execute_result"
    }
   ],
   "source": [
    "y_val_pred >= 0.5"
   ]
  },
  {
   "cell_type": "code",
   "execution_count": 98,
   "metadata": {
    "scrolled": false
   },
   "outputs": [
    {
     "data": {
      "text/html": [
       "<div>\n",
       "<style scoped>\n",
       "    .dataframe tbody tr th:only-of-type {\n",
       "        vertical-align: middle;\n",
       "    }\n",
       "\n",
       "    .dataframe tbody tr th {\n",
       "        vertical-align: top;\n",
       "    }\n",
       "\n",
       "    .dataframe thead th {\n",
       "        text-align: right;\n",
       "    }\n",
       "</style>\n",
       "<table border=\"1\" class=\"dataframe\">\n",
       "  <thead>\n",
       "    <tr style=\"text-align: right;\">\n",
       "      <th></th>\n",
       "      <th>title</th>\n",
       "      <th>description</th>\n",
       "      <th>manufacturer</th>\n",
       "      <th>title</th>\n",
       "      <th>description</th>\n",
       "      <th>manufacturer</th>\n",
       "    </tr>\n",
       "  </thead>\n",
       "  <tbody>\n",
       "    <tr>\n",
       "      <th>147</th>\n",
       "      <td>roxio toast 8 titanium</td>\n",
       "      <td>roxio toast 8 sets the standard for burning c...</td>\n",
       "      <td>roxio</td>\n",
       "      <td>onone software &lt;unk&gt; - on1 essentials &lt;unk&gt; f...</td>\n",
       "      <td>onone software &lt;unk&gt; : make it better cut it ...</td>\n",
       "      <td>&lt;unk&gt;</td>\n",
       "    </tr>\n",
       "    <tr>\n",
       "      <th>198</th>\n",
       "      <td>calendar creator platinum sb cs by Riverdeep</td>\n",
       "      <td>calendar creator platinum new for 2007 is the...</td>\n",
       "      <td>encore software</td>\n",
       "      <td>absolute software &lt;unk&gt; - Computrace lojack f...</td>\n",
       "      <td>absolute software &lt;unk&gt; : a laptop is stolen ...</td>\n",
       "      <td>&lt;unk&gt;</td>\n",
       "    </tr>\n",
       "    <tr>\n",
       "      <th>203</th>\n",
       "      <td>rome total war gold edition</td>\n",
       "      <td>rome : total war gold puts you in command of ...</td>\n",
       "      <td>sega of america inc.</td>\n",
       "      <td>encore software 14110 - jeopardy ! deluxe - w...</td>\n",
       "      <td>encore software 14110 : do you have what it t...</td>\n",
       "      <td>&lt;unk&gt;</td>\n",
       "    </tr>\n",
       "    <tr>\n",
       "      <th>443</th>\n",
       "      <td>gsp crossword addict</td>\n",
       "      <td>crossword addict ( win 95 98 me 2000 xp )</td>\n",
       "      <td>global software publishing north america inc</td>\n",
       "      <td>custom land designer 3d 7.0</td>\n",
       "      <td>overview everything you need to easily create...</td>\n",
       "      <td>&lt;unk&gt;</td>\n",
       "    </tr>\n",
       "    <tr>\n",
       "      <th>596</th>\n",
       "      <td>ultra sudoku / ultra kakuro</td>\n",
       "      <td>ultra sudoku / kakuro prepares you for hours ...</td>\n",
       "      <td>abacus</td>\n",
       "      <td>sony playstation 2 : grand turismo 4</td>\n",
       "      <td>new and enhanced racing modes include : gt di...</td>\n",
       "      <td>&lt;unk&gt;</td>\n",
       "    </tr>\n",
       "    <tr>\n",
       "      <th>631</th>\n",
       "      <td>emedia piano and keyboard method volume 1</td>\n",
       "      <td>piano and keyboard method is a powerful and o...</td>\n",
       "      <td>emedia</td>\n",
       "      <td>viva media llc 00257 - my sim aquarium - win ...</td>\n",
       "      <td>viva media llc 00257 : my sim aquarium is a v...</td>\n",
       "      <td>&lt;unk&gt;</td>\n",
       "    </tr>\n",
       "    <tr>\n",
       "      <th>664</th>\n",
       "      <td>dv rack 2 win retail &lt;unk&gt;</td>\n",
       "      <td>- marketing information : dv rack hd 2 is dir...</td>\n",
       "      <td>adobe</td>\n",
       "      <td>adobe after effects professional 7 software f...</td>\n",
       "      <td>after effects professional 7 software for win...</td>\n",
       "      <td>&lt;unk&gt;</td>\n",
       "    </tr>\n",
       "    <tr>\n",
       "      <th>685</th>\n",
       "      <td>microsoft virtual pc for mac 7.0 with windows...</td>\n",
       "      <td>virtual pc 7 with windows xp home makes it ea...</td>\n",
       "      <td>microsoft</td>\n",
       "      <td>total training for advanced flash 8 - action ...</td>\n",
       "      <td>learn how to unleash your creative potential ...</td>\n",
       "      <td>&lt;unk&gt;</td>\n",
       "    </tr>\n",
       "    <tr>\n",
       "      <th>706</th>\n",
       "      <td>treasure &lt;unk&gt;</td>\n",
       "      <td>math learning tool for ages 5 - 9</td>\n",
       "      <td>the learning company</td>\n",
       "      <td>hoyle game collection - 4 game pack</td>\n",
       "      <td>this game collection includes four full-versi...</td>\n",
       "      <td>&lt;unk&gt;</td>\n",
       "    </tr>\n",
       "    <tr>\n",
       "      <th>711</th>\n",
       "      <td>Zoboomafoo animal logic cd / workbook combo</td>\n",
       "      <td>learning through &lt;unk&gt; &lt;unk&gt; Zoboomafoo chris...</td>\n",
       "      <td>brighter minds media inc.</td>\n",
       "      <td>classics the : the piano ( audio book )</td>\n",
       "      <td>a new worldwide audio standard for classical ...</td>\n",
       "      <td>&lt;unk&gt;</td>\n",
       "    </tr>\n",
       "    <tr>\n",
       "      <th>719</th>\n",
       "      <td>weekly reader preparing for kindergarten</td>\n",
       "      <td>&lt;unk&gt;</td>\n",
       "      <td>&lt;unk&gt; publishing</td>\n",
       "      <td>dreamcatcher interactive mark the</td>\n",
       "      <td>fanatic terrorists are planning the ultimate ...</td>\n",
       "      <td>&lt;unk&gt;</td>\n",
       "    </tr>\n",
       "    <tr>\n",
       "      <th>737</th>\n",
       "      <td>simple movie maker</td>\n",
       "      <td>lights ! camera ! interactive ! product infor...</td>\n",
       "      <td>topics entertainment</td>\n",
       "      <td>acid music studio 6</td>\n",
       "      <td>make your music more professional and more po...</td>\n",
       "      <td>&lt;unk&gt;</td>\n",
       "    </tr>\n",
       "    <tr>\n",
       "      <th>825</th>\n",
       "      <td>the print shop 21 standard by broderbund</td>\n",
       "      <td>yellow cyan magenta - ink cartridge ( s )</td>\n",
       "      <td>encore software</td>\n",
       "      <td>Micromat inc. &lt;unk&gt;</td>\n",
       "      <td>how often have you wished that you could chan...</td>\n",
       "      <td>&lt;unk&gt;</td>\n",
       "    </tr>\n",
       "    <tr>\n",
       "      <th>993</th>\n",
       "      <td>&lt;unk&gt; cd recipe cards</td>\n",
       "      <td>&lt;unk&gt; cd recipe cards ( win 95 98 me nt 2000 ...</td>\n",
       "      <td>dvo enterprises</td>\n",
       "      <td>aspyr lego star wars ii</td>\n",
       "      <td>system requirements mac os x v10 or later &lt;un...</td>\n",
       "      <td>&lt;unk&gt;</td>\n",
       "    </tr>\n",
       "    <tr>\n",
       "      <th>1052</th>\n",
       "      <td>museums of the world</td>\n",
       "      <td>step behind the velvet rope to examine some o...</td>\n",
       "      <td>topics entertainment</td>\n",
       "      <td>Destineer inc 10328 scrabble mac 10.3.8 or later</td>\n",
       "      <td>play against one of eight challenging compute...</td>\n",
       "      <td>Destineer inc</td>\n",
       "    </tr>\n",
       "    <tr>\n",
       "      <th>1078</th>\n",
       "      <td>poetry fiction and drama ( win / mac ) ( jewe...</td>\n",
       "      <td>middle school english - fiction poetry &amp; dram...</td>\n",
       "      <td>&lt;unk&gt; publishing</td>\n",
       "      <td>sos aggregation company airline tycoon deluxe...</td>\n",
       "      <td>this economy simulator lets you manage every ...</td>\n",
       "      <td>&lt;unk&gt;</td>\n",
       "    </tr>\n",
       "    <tr>\n",
       "      <th>1109</th>\n",
       "      <td>punch ! master landscape professional &amp; home ...</td>\n",
       "      <td>master landscape pro and home design makes it...</td>\n",
       "      <td>punch ! software</td>\n",
       "      <td>individual software &lt;unk&gt; total 3d home delux...</td>\n",
       "      <td>total 3d home deluxe j / c</td>\n",
       "      <td>individual software</td>\n",
       "    </tr>\n",
       "    <tr>\n",
       "      <th>1123</th>\n",
       "      <td>zonealarm wireless security</td>\n",
       "      <td>zonealarm wireless security combines the zone...</td>\n",
       "      <td>encore software</td>\n",
       "      <td>encore software &lt;unk&gt; - the big box of art 41...</td>\n",
       "      <td>encore software &lt;unk&gt; : get over a million im...</td>\n",
       "      <td>&lt;unk&gt;</td>\n",
       "    </tr>\n",
       "    <tr>\n",
       "      <th>1133</th>\n",
       "      <td>backyard sports - backyard basketball and bac...</td>\n",
       "      <td>create your own team by picking players from ...</td>\n",
       "      <td>humongous entertainment</td>\n",
       "      <td>encore software 10118 - adventure workshop 4t...</td>\n",
       "      <td>encore software 10118 : encore software adven...</td>\n",
       "      <td>&lt;unk&gt;</td>\n",
       "    </tr>\n",
       "    <tr>\n",
       "      <th>1180</th>\n",
       "      <td>nero 7 ultra edition enhanced pc &amp; home &lt;unk&gt;...</td>\n",
       "      <td>nero 7 ultra edition enhanced now offers both...</td>\n",
       "      <td>Neso usa</td>\n",
       "      <td>adobe flash cs3 ( v9 ) pro win up from flash ...</td>\n",
       "      <td>adobe flash cs3 professional software is the ...</td>\n",
       "      <td>&lt;unk&gt;</td>\n",
       "    </tr>\n",
       "    <tr>\n",
       "      <th>1221</th>\n",
       "      <td>cute ftp</td>\n",
       "      <td>cuteftp is an easy way to transfer files betw...</td>\n",
       "      <td>tri synergy</td>\n",
       "      <td>microsoft windows xp professional edition ( u...</td>\n",
       "      <td>key features : more security and privacy mobi...</td>\n",
       "      <td>&lt;unk&gt;</td>\n",
       "    </tr>\n",
       "    <tr>\n",
       "      <th>1224</th>\n",
       "      <td>apple final cut express hd 3.5 ( mac )</td>\n",
       "      <td>final cut express hd 3.5 delivers the advance...</td>\n",
       "      <td>apple computer</td>\n",
       "      <td>autodesk autodesk combustion 4 motion graphic...</td>\n",
       "      <td>combustion 4 motion graphics software - mac a...</td>\n",
       "      <td>&lt;unk&gt;</td>\n",
       "    </tr>\n",
       "    <tr>\n",
       "      <th>1225</th>\n",
       "      <td>equilibrium &lt;unk&gt; pro 6.0 - 1 user</td>\n",
       "      <td>&lt;unk&gt; pro 6 provides you with the image editi...</td>\n",
       "      <td>equilibrium</td>\n",
       "      <td>graphics software</td>\n",
       "      <td>autosketch release 8 software is a feature-ri...</td>\n",
       "      <td>&lt;unk&gt;</td>\n",
       "    </tr>\n",
       "    <tr>\n",
       "      <th>1236</th>\n",
       "      <td>hoyle board games</td>\n",
       "      <td>find the best excitement and puzzle fun in th...</td>\n",
       "      <td>encore</td>\n",
       "      <td>mother goose - interactive storybook</td>\n",
       "      <td>read along as your favorite golden books char...</td>\n",
       "      <td>&lt;unk&gt;</td>\n",
       "    </tr>\n",
       "    <tr>\n",
       "      <th>1240</th>\n",
       "      <td>punch ! master landscape &amp; home design</td>\n",
       "      <td>plan out your perfect home &amp; garden with the ...</td>\n",
       "      <td>punch ! software</td>\n",
       "      <td>encore inc 3d home architect home design delu...</td>\n",
       "      <td>the ultimate easy-to-use home design and remo...</td>\n",
       "      <td>&lt;unk&gt;</td>\n",
       "    </tr>\n",
       "    <tr>\n",
       "      <th>1266</th>\n",
       "      <td>adobe creative suite cs3 web standard upsell</td>\n",
       "      <td>note : this is the upsell version of adobe cr...</td>\n",
       "      <td>adobe</td>\n",
       "      <td>adobe cs3 flash professional</td>\n",
       "      <td>system requirements 1ghz or faster powerpc g4...</td>\n",
       "      <td>&lt;unk&gt;</td>\n",
       "    </tr>\n",
       "  </tbody>\n",
       "</table>\n",
       "</div>"
      ],
      "text/plain": [
       "                                                  title  \\\n",
       "147                              roxio toast 8 titanium   \n",
       "198        calendar creator platinum sb cs by Riverdeep   \n",
       "203                         rome total war gold edition   \n",
       "443                                gsp crossword addict   \n",
       "596                         ultra sudoku / ultra kakuro   \n",
       "631           emedia piano and keyboard method volume 1   \n",
       "664                          dv rack 2 win retail <unk>   \n",
       "685    microsoft virtual pc for mac 7.0 with windows...   \n",
       "706                                      treasure <unk>   \n",
       "711         Zoboomafoo animal logic cd / workbook combo   \n",
       "719            weekly reader preparing for kindergarten   \n",
       "737                                  simple movie maker   \n",
       "825            the print shop 21 standard by broderbund   \n",
       "993                               <unk> cd recipe cards   \n",
       "1052                               museums of the world   \n",
       "1078   poetry fiction and drama ( win / mac ) ( jewe...   \n",
       "1109   punch ! master landscape professional & home ...   \n",
       "1123                        zonealarm wireless security   \n",
       "1133   backyard sports - backyard basketball and bac...   \n",
       "1180   nero 7 ultra edition enhanced pc & home <unk>...   \n",
       "1221                                           cute ftp   \n",
       "1224             apple final cut express hd 3.5 ( mac )   \n",
       "1225                 equilibrium <unk> pro 6.0 - 1 user   \n",
       "1236                                  hoyle board games   \n",
       "1240             punch ! master landscape & home design   \n",
       "1266       adobe creative suite cs3 web standard upsell   \n",
       "\n",
       "                                            description  \\\n",
       "147    roxio toast 8 sets the standard for burning c...   \n",
       "198    calendar creator platinum new for 2007 is the...   \n",
       "203    rome : total war gold puts you in command of ...   \n",
       "443           crossword addict ( win 95 98 me 2000 xp )   \n",
       "596    ultra sudoku / kakuro prepares you for hours ...   \n",
       "631    piano and keyboard method is a powerful and o...   \n",
       "664    - marketing information : dv rack hd 2 is dir...   \n",
       "685    virtual pc 7 with windows xp home makes it ea...   \n",
       "706                   math learning tool for ages 5 - 9   \n",
       "711    learning through <unk> <unk> Zoboomafoo chris...   \n",
       "719                                               <unk>   \n",
       "737    lights ! camera ! interactive ! product infor...   \n",
       "825           yellow cyan magenta - ink cartridge ( s )   \n",
       "993    <unk> cd recipe cards ( win 95 98 me nt 2000 ...   \n",
       "1052   step behind the velvet rope to examine some o...   \n",
       "1078   middle school english - fiction poetry & dram...   \n",
       "1109   master landscape pro and home design makes it...   \n",
       "1123   zonealarm wireless security combines the zone...   \n",
       "1133   create your own team by picking players from ...   \n",
       "1180   nero 7 ultra edition enhanced now offers both...   \n",
       "1221   cuteftp is an easy way to transfer files betw...   \n",
       "1224   final cut express hd 3.5 delivers the advance...   \n",
       "1225   <unk> pro 6 provides you with the image editi...   \n",
       "1236   find the best excitement and puzzle fun in th...   \n",
       "1240   plan out your perfect home & garden with the ...   \n",
       "1266   note : this is the upsell version of adobe cr...   \n",
       "\n",
       "                                       manufacturer  \\\n",
       "147                                           roxio   \n",
       "198                                 encore software   \n",
       "203                            sega of america inc.   \n",
       "443    global software publishing north america inc   \n",
       "596                                          abacus   \n",
       "631                                          emedia   \n",
       "664                                           adobe   \n",
       "685                                       microsoft   \n",
       "706                            the learning company   \n",
       "711                       brighter minds media inc.   \n",
       "719                                <unk> publishing   \n",
       "737                            topics entertainment   \n",
       "825                                 encore software   \n",
       "993                                 dvo enterprises   \n",
       "1052                           topics entertainment   \n",
       "1078                               <unk> publishing   \n",
       "1109                               punch ! software   \n",
       "1123                                encore software   \n",
       "1133                        humongous entertainment   \n",
       "1180                                       Neso usa   \n",
       "1221                                    tri synergy   \n",
       "1224                                 apple computer   \n",
       "1225                                    equilibrium   \n",
       "1236                                         encore   \n",
       "1240                               punch ! software   \n",
       "1266                                          adobe   \n",
       "\n",
       "                                                  title  \\\n",
       "147    onone software <unk> - on1 essentials <unk> f...   \n",
       "198    absolute software <unk> - Computrace lojack f...   \n",
       "203    encore software 14110 - jeopardy ! deluxe - w...   \n",
       "443                         custom land designer 3d 7.0   \n",
       "596                sony playstation 2 : grand turismo 4   \n",
       "631    viva media llc 00257 - my sim aquarium - win ...   \n",
       "664    adobe after effects professional 7 software f...   \n",
       "685    total training for advanced flash 8 - action ...   \n",
       "706                 hoyle game collection - 4 game pack   \n",
       "711             classics the : the piano ( audio book )   \n",
       "719                   dreamcatcher interactive mark the   \n",
       "737                                 acid music studio 6   \n",
       "825                                 Micromat inc. <unk>   \n",
       "993                             aspyr lego star wars ii   \n",
       "1052   Destineer inc 10328 scrabble mac 10.3.8 or later   \n",
       "1078   sos aggregation company airline tycoon deluxe...   \n",
       "1109   individual software <unk> total 3d home delux...   \n",
       "1123   encore software <unk> - the big box of art 41...   \n",
       "1133   encore software 10118 - adventure workshop 4t...   \n",
       "1180   adobe flash cs3 ( v9 ) pro win up from flash ...   \n",
       "1221   microsoft windows xp professional edition ( u...   \n",
       "1224   autodesk autodesk combustion 4 motion graphic...   \n",
       "1225                                  graphics software   \n",
       "1236               mother goose - interactive storybook   \n",
       "1240   encore inc 3d home architect home design delu...   \n",
       "1266                       adobe cs3 flash professional   \n",
       "\n",
       "                                            description          manufacturer  \n",
       "147    onone software <unk> : make it better cut it ...                 <unk>  \n",
       "198    absolute software <unk> : a laptop is stolen ...                 <unk>  \n",
       "203    encore software 14110 : do you have what it t...                 <unk>  \n",
       "443    overview everything you need to easily create...                 <unk>  \n",
       "596    new and enhanced racing modes include : gt di...                 <unk>  \n",
       "631    viva media llc 00257 : my sim aquarium is a v...                 <unk>  \n",
       "664    after effects professional 7 software for win...                 <unk>  \n",
       "685    learn how to unleash your creative potential ...                 <unk>  \n",
       "706    this game collection includes four full-versi...                 <unk>  \n",
       "711    a new worldwide audio standard for classical ...                 <unk>  \n",
       "719    fanatic terrorists are planning the ultimate ...                 <unk>  \n",
       "737    make your music more professional and more po...                 <unk>  \n",
       "825    how often have you wished that you could chan...                 <unk>  \n",
       "993    system requirements mac os x v10 or later <un...                 <unk>  \n",
       "1052   play against one of eight challenging compute...         Destineer inc  \n",
       "1078   this economy simulator lets you manage every ...                 <unk>  \n",
       "1109                         total 3d home deluxe j / c   individual software  \n",
       "1123   encore software <unk> : get over a million im...                 <unk>  \n",
       "1133   encore software 10118 : encore software adven...                 <unk>  \n",
       "1180   adobe flash cs3 professional software is the ...                 <unk>  \n",
       "1221   key features : more security and privacy mobi...                 <unk>  \n",
       "1224   combustion 4 motion graphics software - mac a...                 <unk>  \n",
       "1225   autosketch release 8 software is a feature-ri...                 <unk>  \n",
       "1236   read along as your favorite golden books char...                 <unk>  \n",
       "1240   the ultimate easy-to-use home design and remo...                 <unk>  \n",
       "1266   system requirements 1ghz or faster powerpc g4...                 <unk>  "
      ]
     },
     "execution_count": 98,
     "metadata": {},
     "output_type": "execute_result"
    }
   ],
   "source": [
    "val_str = pd.concat([val_1_str, val_2_str], axis = 'columns')\n",
    "val_str.loc[(y_val_pred >= 0.5).squeeze() & ~(data['val_y'].squeeze()), :]"
   ]
  },
  {
   "cell_type": "code",
   "execution_count": null,
   "metadata": {
    "collapsed": true
   },
   "outputs": [],
   "source": []
  }
 ],
 "metadata": {
  "kernelspec": {
   "display_name": "Python 3.6",
   "language": "python",
   "name": "python-36"
  },
  "language_info": {
   "codemirror_mode": {
    "name": "ipython",
    "version": 3
   },
   "file_extension": ".py",
   "mimetype": "text/x-python",
   "name": "python",
   "nbconvert_exporter": "python",
   "pygments_lexer": "ipython3",
   "version": "3.6.4"
  },
  "toc": {
   "nav_menu": {},
   "number_sections": false,
   "sideBar": true,
   "skip_h1_title": false,
   "toc_cell": false,
   "toc_position": {},
   "toc_section_display": "block",
   "toc_window_display": false
  },
  "varInspector": {
   "cols": {
    "lenName": 16,
    "lenType": 16,
    "lenVar": 40
   },
   "kernels_config": {
    "python": {
     "delete_cmd_postfix": "",
     "delete_cmd_prefix": "del ",
     "library": "var_list.py",
     "varRefreshCmd": "print(var_dic_list())"
    },
    "r": {
     "delete_cmd_postfix": ") ",
     "delete_cmd_prefix": "rm(",
     "library": "var_list.r",
     "varRefreshCmd": "cat(var_dic_list()) "
    }
   },
   "types_to_exclude": [
    "module",
    "function",
    "builtin_function_or_method",
    "instance",
    "_Feature"
   ],
   "window_display": false
  }
 },
 "nbformat": 4,
 "nbformat_minor": 2
}
