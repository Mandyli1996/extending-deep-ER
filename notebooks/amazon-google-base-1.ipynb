{
 "cells": [
  {
   "cell_type": "code",
   "execution_count": 2,
   "metadata": {
    "ExecuteTime": {
     "end_time": "2018-04-02T18:09:57.929146Z",
     "start_time": "2018-04-02T18:09:57.842434Z"
    }
   },
   "outputs": [
    {
     "name": "stderr",
     "output_type": "stream",
     "text": [
      "/home/paperspace/anaconda3/envs/python-36/lib/python3.6/site-packages/h5py/__init__.py:36: FutureWarning: Conversion of the second argument of issubdtype from `float` to `np.floating` is deprecated. In future, it will be treated as `np.float64 == np.dtype(float).type`.\n",
      "  from ._conv import register_converters as _register_converters\n",
      "Using TensorFlow backend.\n"
     ]
    }
   ],
   "source": [
    "import sys\n",
    "import os\n",
    "import re\n",
    "sys.path.append('../scripts')\n",
    "\n",
    "import numpy as np\n",
    "import pandas as pd\n",
    "import matplotlib.pyplot as plt\n",
    "import seaborn as sns\n",
    "import helpers as hp\n",
    "import pickle as pkl\n",
    "import itertools as it\n",
    "\n",
    "from collections import OrderedDict, defaultdict\n",
    "\n",
    "from sklearn.metrics import f1_score, precision_score, recall_score,\\\n",
    "                            average_precision_score, roc_auc_score,\\\n",
    "                            roc_curve, precision_recall_curve, confusion_matrix,\\\n",
    "                            accuracy_score, classification_report\n",
    "\n",
    "from IPython.core.interactiveshell import InteractiveShell\n",
    "from matplotlib import rcParams\n",
    "from importlib import reload\n",
    "from model_generator import deep_er_model_generator\n",
    "pd.options.display.max_colwidth = 1000\n",
    "\n",
    "rcParams['font.family'] = 'serif'\n",
    "rcParams['font.serif'] = 'times new roman'\n",
    "\n",
    "%config InlineBackend.figure_format = 'retina'\n",
    "%matplotlib inline"
   ]
  },
  {
   "cell_type": "markdown",
   "metadata": {},
   "source": [
    "# Load data "
   ]
  },
  {
   "cell_type": "code",
   "execution_count": 3,
   "metadata": {
    "ExecuteTime": {
     "end_time": "2018-04-02T18:10:27.304643Z",
     "start_time": "2018-04-02T18:10:05.635981Z"
    }
   },
   "outputs": [],
   "source": [
    "reload(hp)\n",
    "\n",
    "with open('../data/converted/amazon-google-reduced/glove-300.map', 'rb') as f:\n",
    "    map = pkl.load(f)\n",
    "\n",
    "data_dir = os.path.join('..','data')\n",
    "source_dir = os.path.join(data_dir,'split','amazon-google-reduced')\n",
    "data = hp.load_data(source_dir)\n",
    "\n",
    "datasets = ['train_1', 'val_1', 'test_1', 'train_2', 'val_2', 'test_2']\n",
    "\n",
    "data['train_2']['price'] = data['train_2']['price'].apply(hp.str_to_num)\n",
    "data['val_2']['price'] = data['val_2']['price'].apply(hp.str_to_num)\n",
    "data['test_2']['price'] = data['test_2']['price'].apply(hp.str_to_num)\n",
    "\n",
    "doc_freqs_1, doc_freqs_2 = hp.get_document_frequencies('../data/converted/amazon-google-reduced/', mapping=map)\n",
    "nan_idx = map['word2idx']['NaN']"
   ]
  },
  {
   "cell_type": "markdown",
   "metadata": {},
   "source": [
    "# Generate model "
   ]
  },
  {
   "cell_type": "code",
   "execution_count": 4,
   "metadata": {
    "ExecuteTime": {
     "end_time": "2018-04-02T18:11:09.672677Z",
     "start_time": "2018-04-02T18:11:05.852392Z"
    }
   },
   "outputs": [
    {
     "name": "stdout",
     "output_type": "stream",
     "text": [
      "Number of inputs to dense layer: 2\n"
     ]
    }
   ],
   "source": [
    "histories = dict(acc=list(), val_acc=list(), loss=list(), val_loss=list())\n",
    "model, X_train, X_val, X_test, y_train, y_val, y_test = \\\n",
    "deep_er_model_generator(data,\n",
    "                        embedding_file = '../data/converted/amazon-google-reduced/glove-300.matrix.npy',\n",
    "                        text_columns = ['name', 'description'],\n",
    "                        numeric_columns = [],\n",
    "                        text_nan_idx=nan_idx,\n",
    "                        num_nan_val=0,\n",
    "                        text_sim_metrics=['cosine'],\n",
    "                        text_compositions=['average'],\n",
    "                        numeric_sim_metrics=[],\n",
    "                        dense_nodes=[32, 16, 8],\n",
    "                        document_frequencies=(doc_freqs_1, doc_freqs_2),\n",
    "                        idf_smoothing=2,\n",
    "                        make_isna=False)"
   ]
  },
  {
   "cell_type": "markdown",
   "metadata": {},
   "source": [
    "# Train model "
   ]
  },
  {
   "cell_type": "code",
   "execution_count": 49,
   "metadata": {
    "ExecuteTime": {
     "end_time": "2018-04-02T18:23:52.975629Z",
     "start_time": "2018-04-02T18:22:52.440971Z"
    }
   },
   "outputs": [
    {
     "name": "stdout",
     "output_type": "stream",
     "text": [
      "Train on 105040 samples, validate on 13130 samples\n",
      "Epoch 1/5\n",
      "105040/105040 [==============================] - 13s 121us/step - loss: 0.0170 - acc: 0.9946 - val_loss: 0.0191 - val_acc: 0.9937\n",
      "Epoch 2/5\n",
      "105040/105040 [==============================] - 12s 112us/step - loss: 0.0171 - acc: 0.9946 - val_loss: 0.0186 - val_acc: 0.9941\n",
      "Epoch 3/5\n",
      "105040/105040 [==============================] - 12s 112us/step - loss: 0.0170 - acc: 0.9946 - val_loss: 0.0184 - val_acc: 0.9941\n",
      "Epoch 4/5\n",
      "105040/105040 [==============================] - 12s 114us/step - loss: 0.0170 - acc: 0.9946 - val_loss: 0.0193 - val_acc: 0.9936\n",
      "Epoch 5/5\n",
      "105040/105040 [==============================] - 12s 114us/step - loss: 0.0169 - acc: 0.9947 - val_loss: 0.0199 - val_acc: 0.9933\n"
     ]
    }
   ],
   "source": [
    "model.compile(optimizer='adam', loss='binary_crossentropy', metrics=['acc'])\n",
    "history = model.fit(X_train, y_train, epochs=5, batch_size=128,\n",
    "                    validation_data=(X_val, y_val),\n",
    "                    shuffle=True)\n",
    "\n",
    "histories['acc'].extend(history.history['acc'])\n",
    "histories['val_acc'].extend(history.history['val_acc'])\n",
    "histories['loss'].extend(history.history['loss'])\n",
    "histories['val_loss'].extend(history.history['val_loss'])"
   ]
  },
  {
   "cell_type": "markdown",
   "metadata": {},
   "source": [
    "# Learning curves"
   ]
  },
  {
   "cell_type": "code",
   "execution_count": 50,
   "metadata": {
    "ExecuteTime": {
     "end_time": "2018-04-02T18:24:01.299689Z",
     "start_time": "2018-04-02T18:24:00.908500Z"
    }
   },
   "outputs": [
    {
     "data": {
      "image/png": "[encoded data removed]",
      "text/plain": [
       "<matplotlib.figure.Figure at 0x1a50548860>"
      ]
     },
     "metadata": {
      "image/png": {
       "height": 371,
       "width": 933
      }
     },
     "output_type": "display_data"
    }
   ],
   "source": [
    "fig, axes = plt.subplots(1, 2, figsize=(16,6))\n",
    "axes[0].plot(histories['loss'], label='loss')\n",
    "axes[0].plot(histories['val_loss'], label='val_loss')\n",
    "axes[1].plot(histories['acc'], label='acc')\n",
    "axes[1].plot(histories['val_acc'], label='val_acc')\n",
    "\n",
    "for ax in axes:\n",
    "    ax.legend()\n",
    "    ax.grid(True)\n",
    "    ax.set(xlabel='epoch')"
   ]
  },
  {
   "cell_type": "markdown",
   "metadata": {},
   "source": [
    "# Evaluate model "
   ]
  },
  {
   "cell_type": "code",
   "execution_count": 45,
   "metadata": {
    "ExecuteTime": {
     "end_time": "2018-04-02T18:22:23.617361Z",
     "start_time": "2018-04-02T18:22:22.342575Z"
    },
    "collapsed": true
   },
   "outputs": [],
   "source": [
    "y_val_pred = model.predict(X_val)[:,1]\n",
    "y_val_ = data['val_y'].values.squeeze()"
   ]
  },
  {
   "cell_type": "code",
   "execution_count": 46,
   "metadata": {
    "ExecuteTime": {
     "end_time": "2018-04-02T18:22:24.522707Z",
     "start_time": "2018-04-02T18:22:24.480499Z"
    }
   },
   "outputs": [
    {
     "name": "stdout",
     "output_type": "stream",
     "text": [
      "             precision    recall  f1-score   support\n",
      "\n",
      "          0       1.00      1.00      1.00     12999\n",
      "          1       0.81      0.58      0.68       131\n",
      "\n",
      "avg / total       0.99      0.99      0.99     13130\n",
      "\n",
      "[[12981    18]\n",
      " [   55    76]]\n"
     ]
    }
   ],
   "source": [
    "print(classification_report(y_val_, y_val_pred >= 0.5))\n",
    "print(confusion_matrix(y_val_, y_val_pred >= 0.5))"
   ]
  },
  {
   "cell_type": "code",
   "execution_count": 41,
   "metadata": {
    "ExecuteTime": {
     "end_time": "2018-04-02T18:20:27.393295Z",
     "start_time": "2018-04-02T18:20:26.075336Z"
    },
    "collapsed": true
   },
   "outputs": [],
   "source": [
    "mapping = map.copy()\n",
    "bool_mask = (y_val_ == 1) & ~(y_val_pred >= 0.5)\n",
    "columns = ['name', 'description']\n",
    "df_examine = hp.examine_data(data['val_1'], data['val_2'], columns, bool_mask, mapping)"
   ]
  },
  {
   "cell_type": "code",
   "execution_count": 42,
   "metadata": {
    "ExecuteTime": {
     "end_time": "2018-04-02T18:20:28.716115Z",
     "start_time": "2018-04-02T18:20:28.697091Z"
    },
    "scrolled": true
   },
   "outputs": [
    {
     "data": {
      "text/html": [
       "<div>\n",
       "<style>\n",
       "    .dataframe thead tr:only-child th {\n",
       "        text-align: right;\n",
       "    }\n",
       "\n",
       "    .dataframe thead th {\n",
       "        text-align: left;\n",
       "    }\n",
       "\n",
       "    .dataframe tbody tr th {\n",
       "        vertical-align: top;\n",
       "    }\n",
       "</style>\n",
       "<table border=\"1\" class=\"dataframe\">\n",
       "  <thead>\n",
       "    <tr style=\"text-align: right;\">\n",
       "      <th></th>\n",
       "      <th>id1</th>\n",
       "      <th>name</th>\n",
       "      <th>description</th>\n",
       "      <th>price</th>\n",
       "      <th>id2</th>\n",
       "      <th>name</th>\n",
       "      <th>description</th>\n",
       "      <th>price</th>\n",
       "    </tr>\n",
       "  </thead>\n",
       "  <tbody>\n",
       "    <tr>\n",
       "      <th>1482</th>\n",
       "      <td>b0007q7mg2</td>\n",
       "      <td>upg rumba  edition level</td>\n",
       "      <td>upg rumba  edition level   units</td>\n",
       "      <td>0.00</td>\n",
       "      <td>http://www.google.com/base/feeds/snippets/13029285540855383313</td>\n",
       "      <td>rumba  edition  upgrade license   user  volume  level</td>\n",
       "      <td>usually ships  24 hours    rumba product family provides users secure access   applications  data residing  virtually any host system   latest windows desktops including windows xp</td>\n",
       "      <td>106.48</td>\n",
       "    </tr>\n",
       "    <tr>\n",
       "      <th>13073</th>\n",
       "      <td>b000icpfmi</td>\n",
       "      <td>knowledge adventure jumpstart 1st grade</td>\n",
       "      <td>jumpstart 1st grade teaches essential skills  school product information join frankie  his friends  an interactive classroom filled  animation   take field trips   beach   read 50 illustrated stories   interactive books   help   flores    all discover 18 activities teaching geography science early math reading comprehension music  more  if  want  first grader  focus  reading more intensively get jumpstart 1st grade reading    jumpstart elementary learning system  based  nationally recommended curricula  actual teacher lesson   result  an incredible variety  activities that make learning  choosing  best educational    child can be   jumpstart system makes it easy by taking what children learn  school  organizing it by grade so real  learning  reinforced  every jumpstart  helpful animated friends encourage  child  explore an amazing variety  fun   18 interactive learning modules jumpstart 1st grade has three times more activities than typical education  skills learned reading additi...</td>\n",
       "      <td>0.00</td>\n",
       "      <td>http://www.google.com/base/feeds/snippets/14325412592062687221</td>\n",
       "      <td>jumpstart 1st grade  jc</td>\n",
       "      <td>jumpstart 1st grade teaches essential skills  school</td>\n",
       "      <td>9.90</td>\n",
       "    </tr>\n",
       "    <tr>\n",
       "      <th>3009</th>\n",
       "      <td>b000hhvb9k</td>\n",
       "      <td>encore monopoly here  now</td>\n",
       "      <td>monopoly here  now extends  fun   classic board game by taking  out  atlantic city  letting  buy some   best modern real   world has changed amazingly over  last 70 years  this special anniversary edition celebrates monopoly   new spin   old  choose   range  new movers including  mobile phone roller blade  even  cheeseburger   rent has rocketed sky high   much more recognisable   can build property  covent garden visit  london eye  make millions</td>\n",
       "      <td>19.95</td>\n",
       "      <td>http://www.google.com/base/feeds/snippets/9852496278444342781</td>\n",
       "      <td>encore  11180  monopoly here  now  win 98 me 2000 xp</td>\n",
       "      <td>encore  11180  this special anniversary edition celebrates 70 years   world  most popular board game   modern day equivalent   traditional  system requirements  operating system  windows    98  me  xp processor  pentium</td>\n",
       "      <td>18.97</td>\n",
       "    </tr>\n",
       "    <tr>\n",
       "      <th>8804</th>\n",
       "      <td>b000f7bps4</td>\n",
       "      <td>palo alto  palo alto marketing plan pro</td>\n",
       "      <td>marketing plan pro    easiest way  create  practical successful marketing  if  need  finish  plan  accomplish  goal   most professional  most efficient way possible marketing plan pro     can produce  professional plan that will be respected by business colleagues  just  few  five unique outlines   new plan setup wizard make it easy  tailor marketing plan pro  fit   develop  best strategy   business define  positioning  impress  audience  automatic professional   its  expert guidance  handle budgeting track  performance  attain   plan  manage  marketing schedule  budget  implement  strategy   better  option  two full years  monthly financial reporting  an option  quarterly reports  tools help users create  mission statement executive summary  swot analysis  wizard enables   marketer  create  practical plan  open  sample marketing plan  view  plan setup summary  see if it   good match     can then make specific changes   sample  tailor  needs included free   22 immutable laws  bran...</td>\n",
       "      <td>179.00</td>\n",
       "      <td>http://www.google.com/base/feeds/snippets/12516109834871224117</td>\n",
       "      <td>palo alto    palo alto marketing plan  pro  complete product  business planning   user  complete product  standard  pc</td>\n",
       "      <td>palo alto    marketing plan plan pro    selling marketing planning  providing everything  need  produce  profession marketing plan that gets   enclosed  no   download only   system</td>\n",
       "      <td>149.97</td>\n",
       "    </tr>\n",
       "    <tr>\n",
       "      <th>3207</th>\n",
       "      <td>b000bx5ggy</td>\n",
       "      <td>apple computer apple shake  visual effects</td>\n",
       "      <td>shake  lets  leverage  creative work  producing  final cut studio even   tight production  shake provides  only compositing    complete toolset  both single artists  visual effects facilities   combination produces  world  most celebrated visual  use shake  create convincing photorealistic  visual effects  all</td>\n",
       "      <td>499.00</td>\n",
       "      <td>http://www.google.com/base/feeds/snippets/8317633865991250636</td>\n",
       "      <td>apple shake   os</td>\n",
       "      <td>system requirements power  g5  power  g4  powerbook g4  1ghz  faster powerpc g4 processor   any intel  macintosh computer  os    later quicktime   later 512mb  ram  more 1gb  available disk</td>\n",
       "      <td>499.99</td>\n",
       "    </tr>\n",
       "    <tr>\n",
       "      <th>7628</th>\n",
       "      <td>b000aoz7hw</td>\n",
       "      <td>thq</td>\n",
       "      <td>an action adventure title  young ladies who are out  find   take charge  four teenagers as they try  find their place   world based  their</td>\n",
       "      <td>14.99</td>\n",
       "      <td>http://www.google.com/base/feeds/snippets/10563522754094993865</td>\n",
       "      <td>pc  video game</td>\n",
       "      <td>based   tween lifestyle brand launched  2004 this action  adventure game will contain loads  adventures tailored specifically   player  personality    brand features  clothing  accessories line   companion web</td>\n",
       "      <td>14.99</td>\n",
       "    </tr>\n",
       "    <tr>\n",
       "      <th>2749</th>\n",
       "      <td>b000b6n2oe</td>\n",
       "      <td>aspyr media stubbs  zombie  rebel without  pulse  dvd</td>\n",
       "      <td>stubbs  zombie lets  become  man whose luck was so bad dying was  best thing that ever happened    1933 edward  was  traveling salesman trying  survive  great depression when he was murdered  buried   field   fast forward  1959 when billionaire playboy andrew monday builds his own ultramodern city  punchbowl where  can drink  fill    unfortunately he built it   grave  stubbs bringing him back as  angry  stubbs was  loser all his life  being  zombie gives him power he never had  he decides  keep eating brains until  city  his  unless andrew monday can stop</td>\n",
       "      <td>9.99</td>\n",
       "      <td>http://www.google.com/base/feeds/snippets/848125606533600340</td>\n",
       "      <td>aspyr stubbs  zombie</td>\n",
       "      <td>system requirements  operating system   os    later   recommended  cpu processor  powerpc g4  g5  later cpu speed    faster   recommended  memory  256 mb  higher  512 mb recommended  hard disk space   gb free</td>\n",
       "      <td>35.99</td>\n",
       "    </tr>\n",
       "    <tr>\n",
       "      <th>10000</th>\n",
       "      <td>b00002s8if</td>\n",
       "      <td>ibm trudy  time  place house ages</td>\n",
       "      <td></td>\n",
       "      <td>0.00</td>\n",
       "      <td>http://www.google.com/base/feeds/snippets/17110430434010171078</td>\n",
       "      <td>time  place house</td>\n",
       "      <td>five fascinating activities students build early science skills  practice important scientific</td>\n",
       "      <td>9.90</td>\n",
       "    </tr>\n",
       "    <tr>\n",
       "      <th>7239</th>\n",
       "      <td>b0007wv3ei</td>\n",
       "      <td>microspot  microspot  professional</td>\n",
       "      <td>pro delivers  full complement  drawing tools dimensioning  imperial  metric  full compatibility wth other autocad  it  ideal  mechanical architectural  engineering design as well as technical  simple sketches  complex drawings are easier than  supports dwg  dxf files</td>\n",
       "      <td>349.99</td>\n",
       "      <td>http://www.google.com/base/feeds/snippets/18347005743602331538</td>\n",
       "      <td>microspot  professional edition</td>\n",
       "      <td>system requirements operating system  macintosh os    higher processor  power  g3 500mhz  higher memory  ram   128 mb free hard disk space  100 mb minimum screen resolution  1024  768</td>\n",
       "      <td>249.99</td>\n",
       "    </tr>\n",
       "    <tr>\n",
       "      <th>6232</th>\n",
       "      <td>b000jf5zec</td>\n",
       "      <td>bling  safekeeper plus</td>\n",
       "      <td>safekeeper plus   guardian   online  this powerful  security suite combines  best  antivirus   avoid being corrupted by malicious computer files  unsavory people who may provide objectionable content</td>\n",
       "      <td>0.00</td>\n",
       "      <td>http://www.google.com/base/feeds/snippets/13629768701500088491</td>\n",
       "      <td>bling  limited 873172050209  safekeeper plus  win 2000 xp</td>\n",
       "      <td>bling  limited 873172050209  safekeeper plus   first  product that offers total protection  both  family   it   only product  offer  kid safe blocker family watchdog  safety  safekeeper</td>\n",
       "      <td>35.97</td>\n",
       "    </tr>\n",
       "  </tbody>\n",
       "</table>\n",
       "</div>"
      ],
      "text/plain": [
       "              id1                                                        name  \\\n",
       "1482   b0007q7mg2                                 upg rumba  edition level      \n",
       "13073  b000icpfmi                     knowledge adventure jumpstart 1st grade   \n",
       "3009   b000hhvb9k                                   encore monopoly here  now   \n",
       "8804   b000f7bps4                    palo alto  palo alto marketing plan pro    \n",
       "3207   b000bx5ggy               apple computer apple shake  visual effects      \n",
       "7628   b000aoz7hw                                                        thq    \n",
       "2749   b000b6n2oe   aspyr media stubbs  zombie  rebel without  pulse  dvd       \n",
       "10000  b00002s8if                          ibm trudy  time  place house ages    \n",
       "7239   b0007wv3ei                       microspot  microspot  professional      \n",
       "6232   b000jf5zec                                      bling  safekeeper plus   \n",
       "\n",
       "                                                                                                                                                                                                                                                                                                                                                                                                                                                                                                                                                                                                                                                                                                                                                                                                                                                                                                                                                                                                                                   description  \\\n",
       "1482                                                                                                                                                                                                                                                                                                                                                                                                                                                                                                                                                                                                                                                                                                                                                                                                                                                                                                                                                                                                          upg rumba  edition level   units   \n",
       "13073   jumpstart 1st grade teaches essential skills  school product information join frankie  his friends  an interactive classroom filled  animation   take field trips   beach   read 50 illustrated stories   interactive books   help   flores    all discover 18 activities teaching geography science early math reading comprehension music  more  if  want  first grader  focus  reading more intensively get jumpstart 1st grade reading    jumpstart elementary learning system  based  nationally recommended curricula  actual teacher lesson   result  an incredible variety  activities that make learning  choosing  best educational    child can be   jumpstart system makes it easy by taking what children learn  school  organizing it by grade so real  learning  reinforced  every jumpstart  helpful animated friends encourage  child  explore an amazing variety  fun   18 interactive learning modules jumpstart 1st grade has three times more activities than typical education  skills learned reading additi...   \n",
       "3009                                                                                                                                                                                                                                                                                                                                                                                                                                                                                                                                                                      monopoly here  now extends  fun   classic board game by taking  out  atlantic city  letting  buy some   best modern real   world has changed amazingly over  last 70 years  this special anniversary edition celebrates monopoly   new spin   old  choose   range  new movers including  mobile phone roller blade  even  cheeseburger   rent has rocketed sky high   much more recognisable   can build property  covent garden visit  london eye  make millions      \n",
       "8804    marketing plan pro    easiest way  create  practical successful marketing  if  need  finish  plan  accomplish  goal   most professional  most efficient way possible marketing plan pro     can produce  professional plan that will be respected by business colleagues  just  few  five unique outlines   new plan setup wizard make it easy  tailor marketing plan pro  fit   develop  best strategy   business define  positioning  impress  audience  automatic professional   its  expert guidance  handle budgeting track  performance  attain   plan  manage  marketing schedule  budget  implement  strategy   better  option  two full years  monthly financial reporting  an option  quarterly reports  tools help users create  mission statement executive summary  swot analysis  wizard enables   marketer  create  practical plan  open  sample marketing plan  view  plan setup summary  see if it   good match     can then make specific changes   sample  tailor  needs included free   22 immutable laws  bran...   \n",
       "3207                                                                                                                                                                                                                                                                                                                                                                                                                                                                                                                                                                                                                                                                                                                shake  lets  leverage  creative work  producing  final cut studio even   tight production  shake provides  only compositing    complete toolset  both single artists  visual effects facilities   combination produces  world  most celebrated visual  use shake  create convincing photorealistic  visual effects  all      \n",
       "7628                                                                                                                                                                                                                                                                                                                                                                                                                                                                                                                                                                                                                                                                                                                                                                                                                                                                                               an action adventure title  young ladies who are out  find   take charge  four teenagers as they try  find their place   world based  their    \n",
       "2749                                                                                                                                                                                                                                                                                                                                                                                                                                                        stubbs  zombie lets  become  man whose luck was so bad dying was  best thing that ever happened    1933 edward  was  traveling salesman trying  survive  great depression when he was murdered  buried   field   fast forward  1959 when billionaire playboy andrew monday builds his own ultramodern city  punchbowl where  can drink  fill    unfortunately he built it   grave  stubbs bringing him back as  angry  stubbs was  loser all his life  being  zombie gives him power he never had  he decides  keep eating brains until  city  his  unless andrew monday can stop    \n",
       "10000                                                                                                                                                                                                                                                                                                                                                                                                                                                                                                                                                                                                                                                                                                                                                                                                                                                                                                                                                                                                                                            \n",
       "7239                                                                                                                                                                                                                                                                                                                                                                                                                                                                                                                                                                                                                                                                                                                                                               pro delivers  full complement  drawing tools dimensioning  imperial  metric  full compatibility wth other autocad  it  ideal  mechanical architectural  engineering design as well as technical  simple sketches  complex drawings are easier than  supports dwg  dxf files   \n",
       "6232                                                                                                                                                                                                                                                                                                                                                                                                                                                                                                                                                                                                                                                                                                                                                                                                                                 safekeeper plus   guardian   online  this powerful  security suite combines  best  antivirus   avoid being corrupted by malicious computer files  unsavory people who may provide objectionable content     \n",
       "\n",
       "        price                                                             id2  \\\n",
       "1482     0.00  http://www.google.com/base/feeds/snippets/13029285540855383313   \n",
       "13073    0.00  http://www.google.com/base/feeds/snippets/14325412592062687221   \n",
       "3009    19.95   http://www.google.com/base/feeds/snippets/9852496278444342781   \n",
       "8804   179.00  http://www.google.com/base/feeds/snippets/12516109834871224117   \n",
       "3207   499.00   http://www.google.com/base/feeds/snippets/8317633865991250636   \n",
       "7628    14.99  http://www.google.com/base/feeds/snippets/10563522754094993865   \n",
       "2749     9.99    http://www.google.com/base/feeds/snippets/848125606533600340   \n",
       "10000    0.00  http://www.google.com/base/feeds/snippets/17110430434010171078   \n",
       "7239   349.99  http://www.google.com/base/feeds/snippets/18347005743602331538   \n",
       "6232     0.00  http://www.google.com/base/feeds/snippets/13629768701500088491   \n",
       "\n",
       "                                                                                                                          name  \\\n",
       "1482                                                                  rumba  edition  upgrade license   user  volume  level      \n",
       "13073                                                                                                 jumpstart 1st grade  jc    \n",
       "3009                                                                      encore  11180  monopoly here  now  win 98 me 2000 xp   \n",
       "8804    palo alto    palo alto marketing plan  pro  complete product  business planning   user  complete product  standard  pc   \n",
       "3207                                                                                                         apple shake   os    \n",
       "7628                                                                                                            pc  video game   \n",
       "2749                                                                                                      aspyr stubbs  zombie   \n",
       "10000                                                                                                        time  place house   \n",
       "7239                                                                                           microspot  professional edition   \n",
       "6232                                                                 bling  limited 873172050209  safekeeper plus  win 2000 xp   \n",
       "\n",
       "                                                                                                                                                                                                                           description  \\\n",
       "1482                                            usually ships  24 hours    rumba product family provides users secure access   applications  data residing  virtually any host system   latest windows desktops including windows xp     \n",
       "13073                                                                                                                                                                             jumpstart 1st grade teaches essential skills  school   \n",
       "3009    encore  11180  this special anniversary edition celebrates 70 years   world  most popular board game   modern day equivalent   traditional  system requirements  operating system  windows    98  me  xp processor  pentium      \n",
       "8804                                             palo alto    marketing plan plan pro    selling marketing planning  providing everything  need  produce  profession marketing plan that gets   enclosed  no   download only   system    \n",
       "3207                                    system requirements power  g5  power  g4  powerbook g4  1ghz  faster powerpc g4 processor   any intel  macintosh computer  os    later quicktime   later 512mb  ram  more 1gb  available disk    \n",
       "7628                based   tween lifestyle brand launched  2004 this action  adventure game will contain loads  adventures tailored specifically   player  personality    brand features  clothing  accessories line   companion web    \n",
       "2749                 system requirements  operating system   os    later   recommended  cpu processor  powerpc g4  g5  later cpu speed    faster   recommended  memory  256 mb  higher  512 mb recommended  hard disk space   gb free    \n",
       "10000                                                                                                                                  five fascinating activities students build early science skills  practice important scientific    \n",
       "7239                                           system requirements operating system  macintosh os    higher processor  power  g3 500mhz  higher memory  ram   128 mb free hard disk space  100 mb minimum screen resolution  1024  768   \n",
       "6232                                        bling  limited 873172050209  safekeeper plus   first  product that offers total protection  both  family   it   only product  offer  kid safe blocker family watchdog  safety  safekeeper    \n",
       "\n",
       "        price  \n",
       "1482   106.48  \n",
       "13073    9.90  \n",
       "3009    18.97  \n",
       "8804   149.97  \n",
       "3207   499.99  \n",
       "7628    14.99  \n",
       "2749    35.99  \n",
       "10000    9.90  \n",
       "7239   249.99  \n",
       "6232    35.97  "
      ]
     },
     "execution_count": 42,
     "metadata": {},
     "output_type": "execute_result"
    }
   ],
   "source": [
    "df_examine.sample(10)"
   ]
  },
  {
   "cell_type": "markdown",
   "metadata": {},
   "source": [
    "# Save model and histories "
   ]
  },
  {
   "cell_type": "code",
   "execution_count": 38,
   "metadata": {
    "ExecuteTime": {
     "end_time": "2018-04-02T18:16:27.575327Z",
     "start_time": "2018-04-02T18:16:27.515716Z"
    },
    "collapsed": true
   },
   "outputs": [],
   "source": [
    "pd.DataFrame(histories).to_csv('../data/histories/amazon-google-base-1.csv', index=False)\n",
    "model.save_weights('../data/models/amazon-google-base-1')"
   ]
  },
  {
   "cell_type": "markdown",
   "metadata": {},
   "source": [
    "# Test model "
   ]
  },
  {
   "cell_type": "code",
   "execution_count": 5,
   "metadata": {
    "ExecuteTime": {
     "end_time": "2018-04-02T18:16:53.474485Z",
     "start_time": "2018-04-02T18:16:52.170741Z"
    }
   },
   "outputs": [
    {
     "name": "stdout",
     "output_type": "stream",
     "text": [
      "             precision    recall  f1-score   support\n",
      "\n",
      "          0    0.99617   0.99854   0.99735     13013\n",
      "          1    0.77907   0.57265   0.66010       117\n",
      "\n",
      "avg / total    0.99423   0.99474   0.99435     13130\n",
      "\n",
      "[[12994    19]\n",
      " [   50    67]]\n"
     ]
    }
   ],
   "source": [
    "model.load_weights('../data/models/amazon-google-base-1')\n",
    "y_test_pred = model.predict(X_test)[:,1]\n",
    "y_test_ = data['test_y'].values.squeeze()\n",
    "print(classification_report(y_test_, y_test_pred >= 0.5, digits=5))\n",
    "print(confusion_matrix(y_test_, y_test_pred >= 0.5))"
   ]
  }
 ],
 "metadata": {
  "kernelspec": {
   "display_name": "Python 3.6",
   "language": "python",
   "name": "python-36"
  },
  "language_info": {
   "codemirror_mode": {
    "name": "ipython",
    "version": 3
   },
   "file_extension": ".py",
   "mimetype": "text/x-python",
   "name": "python",
   "nbconvert_exporter": "python",
   "pygments_lexer": "ipython3",
   "version": "3.6.4"
  },
  "varInspector": {
   "cols": {
    "lenName": 16,
    "lenType": 16,
    "lenVar": 40
   },
   "kernels_config": {
    "python": {
     "delete_cmd_postfix": "",
     "delete_cmd_prefix": "del ",
     "library": "var_list.py",
     "varRefreshCmd": "print(var_dic_list())"
    },
    "r": {
     "delete_cmd_postfix": ") ",
     "delete_cmd_prefix": "rm(",
     "library": "var_list.r",
     "varRefreshCmd": "cat(var_dic_list()) "
    }
   },
   "types_to_exclude": [
    "module",
    "function",
    "builtin_function_or_method",
    "instance",
    "_Feature"
   ],
   "window_display": false
  }
 },
 "nbformat": 4,
 "nbformat_minor": 2
}
