{
 "cells": [
  {
   "cell_type": "code",
   "execution_count": 1,
   "metadata": {
    "ExecuteTime": {
     "end_time": "2018-04-12T19:27:23.665689Z",
     "start_time": "2018-04-12T19:27:20.582747Z"
    }
   },
   "outputs": [
    {
     "name": "stderr",
     "output_type": "stream",
     "text": [
      "/home/paperspace/anaconda3/envs/python-36/lib/python3.6/site-packages/h5py/__init__.py:36: FutureWarning: Conversion of the second argument of issubdtype from `float` to `np.floating` is deprecated. In future, it will be treated as `np.float64 == np.dtype(float).type`.\n",
      "  from ._conv import register_converters as _register_converters\n",
      "Using TensorFlow backend.\n"
     ]
    }
   ],
   "source": [
    "import sys\n",
    "import os\n",
    "import re\n",
    "sys.path.append('../scripts')\n",
    "\n",
    "import numpy as np\n",
    "import pandas as pd\n",
    "import matplotlib.pyplot as plt\n",
    "import seaborn as sns\n",
    "import helpers as hp\n",
    "import pickle as pkl\n",
    "import itertools as it\n",
    "\n",
    "from collections import OrderedDict, defaultdict\n",
    "\n",
    "from sklearn.metrics import f1_score, precision_score, recall_score,\\\n",
    "                            average_precision_score, roc_auc_score,\\\n",
    "                            roc_curve, precision_recall_curve, confusion_matrix,\\\n",
    "                            accuracy_score, classification_report\n",
    "\n",
    "from IPython.core.interactiveshell import InteractiveShell\n",
    "from matplotlib import rcParams\n",
    "from importlib import reload\n",
    "from model_generator import deep_er_model_generator\n",
    "pd.options.display.max_colwidth = 1000\n",
    "\n",
    "rcParams['font.family'] = 'serif'\n",
    "rcParams['font.serif'] = 'times new roman'\n",
    "\n",
    "%config InlineBackend.figure_format = 'retina'\n",
    "%matplotlib inline"
   ]
  },
  {
   "cell_type": "markdown",
   "metadata": {},
   "source": [
    "# Load data "
   ]
  },
  {
   "cell_type": "code",
   "execution_count": 2,
   "metadata": {
    "ExecuteTime": {
     "end_time": "2018-04-12T21:41:12.001384Z",
     "start_time": "2018-04-12T21:40:47.012379Z"
    },
    "collapsed": true
   },
   "outputs": [],
   "source": [
    "reload(hp)\n",
    "\n",
    "with open('../data/converted/amazon-walmart/glove-300.map', 'rb') as f:\n",
    "    map = pkl.load(f)\n",
    "\n",
    "data_dir = os.path.join('..','data')\n",
    "source_dir = os.path.join(data_dir,'split','amazon-walmart')\n",
    "data = hp.load_data(source_dir)\n",
    "\n",
    "datasets = ['train_1', 'val_1', 'test_1', 'train_2', 'val_2', 'test_2']\n",
    "\n",
    "for data_name in data.keys():\n",
    "    data[data_name] = data[data_name].fillna(0)\n",
    "\n",
    "doc_freqs_1, doc_freqs_2 = hp.get_document_frequencies('../data/converted/amazon-walmart/', mapping=map)\n",
    "nan_idx = map['word2idx']['NaN']"
   ]
  },
  {
   "cell_type": "markdown",
   "metadata": {},
   "source": [
    "# Generate model"
   ]
  },
  {
   "cell_type": "code",
   "execution_count": 3,
   "metadata": {
    "ExecuteTime": {
     "end_time": "2018-04-12T21:41:28.691606Z",
     "start_time": "2018-04-12T21:41:20.426588Z"
    }
   },
   "outputs": [
    {
     "name": "stdout",
     "output_type": "stream",
     "text": [
      "Number of inputs to dense layer: 205\n"
     ]
    }
   ],
   "source": [
    "histories = dict(acc=list(), val_acc=list(), loss=list(), val_loss=list())\n",
    "model, X_train, X_val, X_test, y_train, y_val, y_test = \\\n",
    "deep_er_model_generator(data,\n",
    "                        embedding_file = '../data/converted/amazon-walmart/glove-300.matrix.npy',\n",
    "                        text_columns = ['brand', 'groupname', 'title', 'shelfdescr',\n",
    "                                        'shortdescr', 'longdescr'],\n",
    "                        numeric_columns = ['price', 'shipweight', 'length', 'width', 'height'],\n",
    "                        text_nan_idx=nan_idx,\n",
    "                        num_nan_val=0,\n",
    "                        text_sim_metrics=['inverse_l1', 'cosine'],\n",
    "                        text_compositions=['average', 'idf', 'bi_lstm'],\n",
    "                        numeric_sim_metrics=['min_max_ratio', 'scaled_inverse_lp', 'unscaled_inverse_lp'],\n",
    "                        dense_nodes=[32],\n",
    "                        document_frequencies=(doc_freqs_1, doc_freqs_2),\n",
    "                        idf_smoothing=2,\n",
    "                        make_isna=True,\n",
    "                        dropout=0.75,\n",
    "                        batch_norm=True,\n",
    "                        lstm_args=dict(units=20, dropout=0.25, recurrent_dropout=0.25),\n",
    "                        shared_lstm=True,\n",
    "                        embedding_trainable=True)"
   ]
  },
  {
   "cell_type": "markdown",
   "metadata": {},
   "source": [
    "# Crash recovery "
   ]
  },
  {
   "cell_type": "code",
   "execution_count": 4,
   "metadata": {
    "collapsed": true
   },
   "outputs": [],
   "source": [
    "model.load_weights('../data/models/amazon-walmart-all-full')\n",
    "df_hist = pd.read_csv('../data/histories/amazon-walmart-all-full.csv')\n",
    "\n",
    "histories['acc'] = list(df_hist['acc'].values)\n",
    "histories['val_acc'] = list(df_hist['val_acc'].values)\n",
    "histories['loss'] = list(df_hist['loss'].values)\n",
    "histories['val_loss'] = list(df_hist['val_loss'].values)"
   ]
  },
  {
   "cell_type": "markdown",
   "metadata": {},
   "source": [
    "# Train model "
   ]
  },
  {
   "cell_type": "code",
   "execution_count": 45,
   "metadata": {
    "ExecuteTime": {
     "end_time": "2018-04-12T21:52:12.328428Z",
     "start_time": "2018-04-12T21:51:42.009377Z"
    },
    "scrolled": true
   },
   "outputs": [
    {
     "name": "stdout",
     "output_type": "stream",
     "text": [
      "Train on 93243 samples, validate on 11656 samples\n",
      "Epoch 1/1\n",
      "93243/93243 [==============================] - 876s 9ms/step - loss: 0.0119 - acc: 0.9974 - val_loss: 0.0295 - val_acc: 0.9961\n"
     ]
    }
   ],
   "source": [
    "model.compile(optimizer='adam', loss='binary_crossentropy', metrics=['acc'])\n",
    "history = model.fit(X_train, y_train, epochs=1, batch_size=512,\n",
    "                    validation_data=(X_val, y_val),\n",
    "                    shuffle=True)\n",
    "\n",
    "histories['acc'].extend(history.history['acc'])\n",
    "histories['val_acc'].extend(history.history['val_acc'])\n",
    "histories['loss'].extend(history.history['loss'])\n",
    "histories['val_loss'].extend(history.history['val_loss'])"
   ]
  },
  {
   "cell_type": "markdown",
   "metadata": {},
   "source": [
    "# Learning curves"
   ]
  },
  {
   "cell_type": "code",
   "execution_count": 47,
   "metadata": {
    "ExecuteTime": {
     "end_time": "2018-04-12T21:53:06.430610Z",
     "start_time": "2018-04-12T21:53:06.048975Z"
    }
   },
   "outputs": [
    {
     "data": {
      "image/png": "[encoded data removed]",
      "text/plain": [
       "<Figure size 1152x432 with 2 Axes>"
      ]
     },
     "metadata": {
      "image/png": {
       "height": 374,
       "width": 944
      }
     },
     "output_type": "display_data"
    }
   ],
   "source": [
    "fig, axes = plt.subplots(1, 2, figsize=(16,6))\n",
    "axes[0].plot(histories['loss'], label='loss')\n",
    "axes[0].plot(histories['val_loss'], label='val_loss')\n",
    "axes[0].set(ylim = (0, 0.2))\n",
    "axes[1].plot(histories['acc'], label='acc')\n",
    "axes[1].plot(histories['val_acc'], label='val_acc')\n",
    "axes[1].set(ylim = (0.98, 1))\n",
    "\n",
    "for ax in axes:\n",
    "    ax.legend()\n",
    "    ax.grid(True)\n",
    "    ax.set(xlabel='epoch')"
   ]
  },
  {
   "cell_type": "markdown",
   "metadata": {},
   "source": [
    "# Evaluate model "
   ]
  },
  {
   "cell_type": "code",
   "execution_count": 41,
   "metadata": {
    "ExecuteTime": {
     "end_time": "2018-04-12T21:53:11.515998Z",
     "start_time": "2018-04-12T21:53:08.723045Z"
    }
   },
   "outputs": [
    {
     "name": "stdout",
     "output_type": "stream",
     "text": [
      "             precision    recall  f1-score   support\n",
      "\n",
      "          0       1.00      1.00      1.00     11525\n",
      "          1       0.82      0.94      0.88       131\n",
      "\n",
      "avg / total       1.00      1.00      1.00     11656\n",
      "\n",
      "[[11498    27]\n",
      " [    8   123]]\n"
     ]
    }
   ],
   "source": [
    "y_val_pred = model.predict(X_val, batch_size=2048)[:,1]\n",
    "y_val_ = data['val_y'].values.squeeze()\n",
    "print(classification_report(y_val_, y_val_pred >= 0.5))\n",
    "print(confusion_matrix(y_val_, y_val_pred >= 0.5))"
   ]
  },
  {
   "cell_type": "code",
   "execution_count": 42,
   "metadata": {
    "ExecuteTime": {
     "end_time": "2018-04-12T21:45:49.865322Z",
     "start_time": "2018-04-12T21:45:47.406682Z"
    }
   },
   "outputs": [
    {
     "data": {
      "text/html": [
       "<div>\n",
       "<style scoped>\n",
       "    .dataframe tbody tr th:only-of-type {\n",
       "        vertical-align: middle;\n",
       "    }\n",
       "\n",
       "    .dataframe tbody tr th {\n",
       "        vertical-align: top;\n",
       "    }\n",
       "\n",
       "    .dataframe thead th {\n",
       "        text-align: right;\n",
       "    }\n",
       "</style>\n",
       "<table border=\"1\" class=\"dataframe\">\n",
       "  <thead>\n",
       "    <tr style=\"text-align: right;\">\n",
       "      <th></th>\n",
       "      <th>id1</th>\n",
       "      <th>brand</th>\n",
       "      <th>groupname</th>\n",
       "      <th>title</th>\n",
       "      <th>price</th>\n",
       "      <th>shelfdescr</th>\n",
       "      <th>shortdescr</th>\n",
       "      <th>longdescr</th>\n",
       "      <th>shipweight</th>\n",
       "      <th>length</th>\n",
       "      <th>...</th>\n",
       "      <th>groupname</th>\n",
       "      <th>title</th>\n",
       "      <th>price</th>\n",
       "      <th>shelfdescr</th>\n",
       "      <th>shortdescr</th>\n",
       "      <th>longdescr</th>\n",
       "      <th>shipweight</th>\n",
       "      <th>length</th>\n",
       "      <th>width</th>\n",
       "      <th>height</th>\n",
       "    </tr>\n",
       "  </thead>\n",
       "  <tbody>\n",
       "    <tr>\n",
       "      <th>9734</th>\n",
       "      <td>12443</td>\n",
       "      <td>Rocstor</td>\n",
       "      <td>NaN</td>\n",
       "      <td>1.5TB ROCPRO 850 7200 Rpm 32MB FW800 USB ESATA</td>\n",
       "      <td>360.00</td>\n",
       "      <td>FW800 USB ESATA INT PWR SUP</td>\n",
       "      <td>NaN</td>\n",
       "      <td>1.5TB ROCPORT 850 7200 RPM 32MB FW800 USB ESATA INT PWR SUP</td>\n",
       "      <td>0.0</td>\n",
       "      <td>11.0</td>\n",
       "      <td>...</td>\n",
       "      <td>Hard Drives</td>\n",
       "      <td>Rocstor G222R2-01 ROCPRO 850 External Hard Drive</td>\n",
       "      <td>159.98</td>\n",
       "      <td>1.5TB storage capacity External form factor FireWire and USB host interface</td>\n",
       "      <td>The Rocstor G222R2-01 ROCPRO 850 External Hard Drive delivers extraordinary performance and reliability for both Mac and PC users. Specifically designed for demanding audio video professionals the new ROCPRO 850 contains a fast SATA high capacity 3.5 drive mechanism in a stylish and unique aluminum case that can be stacked or mounted VERTICALLY. With its built-in power supply fan-less and quite operation the ROCPRO 850 can be easily moved from one desktop environment to another using the provided carrying case.</td>\n",
       "      <td>1.5TB storage capacity External form factor FireWire and USB host interface Plug and play</td>\n",
       "      <td>4.95</td>\n",
       "      <td>8.66</td>\n",
       "      <td>5.79</td>\n",
       "      <td>1.61</td>\n",
       "    </tr>\n",
       "    <tr>\n",
       "      <th>7254</th>\n",
       "      <td>1275</td>\n",
       "      <td>Wintec</td>\n",
       "      <td>Computer Accessories</td>\n",
       "      <td>Wintec Filemate 4 GB Class 4 Secure Digital SDHC Card</td>\n",
       "      <td>7.99</td>\n",
       "      <td>Compatible With High-Capacity HC Devices On-Board Error Correction Low Power Consumption And Smart Power Management High Speed Serial Interface With Random Access Extended Memory Lifetime With Thousands Of Program Erase Cycles Mechanical write protection switch</td>\n",
       "      <td>NaN</td>\n",
       "      <td>The Wintec Filemate SDHC Flash Memory Cards Are Perfect For Capturing And Saving Videos Photos And Music With Today s Most Popular Cameras And Digital Music devices.</td>\n",
       "      <td>0.0</td>\n",
       "      <td>5.2</td>\n",
       "      <td>...</td>\n",
       "      <td>USB Drives</td>\n",
       "      <td>Wintec FileMate 4GB SDHC Secure Digital Flash Memory Card</td>\n",
       "      <td>7.99</td>\n",
       "      <td>Compatible with high capacity devices Low power consumption Extended memory life</td>\n",
       "      <td>The Wintec FileMate 4GB SDHC Secure Digital Flash Memory Card is compatible with today s most popular SDHC devices including digital cameras digital camcorders and card reader slots in laptops and NETBOOKS. The Wintec FileMate 4GB SDHC Secure Digital Flash Memory Card is great for capturing and saving videos photos and music.</td>\n",
       "      <td>Wintec FileMate 4GB SDHC Secure Digital Flash Memory Card Capacity 4GB Compatible with high capacity devices Low power consumption Extended memory life Write protection switch</td>\n",
       "      <td>0.14</td>\n",
       "      <td>5.25</td>\n",
       "      <td>4.13</td>\n",
       "      <td>0.63</td>\n",
       "    </tr>\n",
       "    <tr>\n",
       "      <th>340</th>\n",
       "      <td>18916</td>\n",
       "      <td>BIC</td>\n",
       "      <td>Computer Accessories</td>\n",
       "      <td>BIC WOSQPP418 - Wite-Out Shake n Squeeze Correction Pen 8 ml White 4 Pack</td>\n",
       "      <td>28.36</td>\n",
       "      <td>NaN</td>\n",
       "      <td>NaN</td>\n",
       "      <td>Needle point tip corrects mistakes with PRECISION. For Everything formula offers premium coverage and dries quickly. Soft squeezable body gives you more control with less effort. Pocket clip for on-the-go convenience. Correction Fluid Type Pen Applicator Color s White Applicator Type Pen Tip Capacity Volume 8.000 ml.</td>\n",
       "      <td>0.0</td>\n",
       "      <td>0.0</td>\n",
       "      <td>...</td>\n",
       "      <td>Stationery &amp; Office Machinery</td>\n",
       "      <td>BIC Wite-Out Shake n Squeeze Correction Pen White 4-Pack</td>\n",
       "      <td>8.39</td>\n",
       "      <td>Needle point tip Soft squeeze barrel for increased control Each pen contains 8 ml of correction fluid</td>\n",
       "      <td>The white BIC Wite-Out Shake n Squeeze Correction Pen available in a four-pack features a needle point tip and a soft squeeze barrel for accurate controlled CORRECTIONS. This pen dries fast provides excellent coverage and dries to a smooth finish. The BIC Shake n Squeeze Correction Pen covers photocopies faxes ink permanent markers and more.</td>\n",
       "      <td>BIC Wite-Out Shake n Squeeze Correction Pen 4 pack White Needle point tip for accurate precise corrections Fast drying premium coverage that dries to a smooth finish Soft squeeze barrel for increased control Covers photocopies faxes ink permanent markers and more Each pen contains 8 ml of Wite-Out correction fluid</td>\n",
       "      <td>0.25</td>\n",
       "      <td>8.09</td>\n",
       "      <td>5.22</td>\n",
       "      <td>1.00</td>\n",
       "    </tr>\n",
       "    <tr>\n",
       "      <th>4466</th>\n",
       "      <td>15905</td>\n",
       "      <td>LaCie</td>\n",
       "      <td>Electronics</td>\n",
       "      <td>Lacie Fw 800 EXPRESSCARD 34</td>\n",
       "      <td>79.99</td>\n",
       "      <td>FireWire 800 ExpressCard 34 Add 2 FireWire 800 ports to your laptop Features the Texas Instruments SM chipset Transfer rates up to 800Mb s Compatible with FireWire 400 products</td>\n",
       "      <td>NaN</td>\n",
       "      <td>LaCie 130992 FireWire Hub 130992 Firewire Hubs</td>\n",
       "      <td>0.0</td>\n",
       "      <td>0.0</td>\n",
       "      <td>...</td>\n",
       "      <td>Electronics - General</td>\n",
       "      <td>LaCie FireWire 800 ExpressCard 34</td>\n",
       "      <td>45.00</td>\n",
       "      <td>Add 2 FireWire 800 ports to your laptop Compatible with FireWire 400 products Transfer rates up to 800Mb s</td>\n",
       "      <td>Affordably upgrade your Mac or PC laptop to fast FireWire 800 connectivity which offers a rapid maximum interface transfer rate of up to 800MBS s. Just plug the card into your computer s ExpressCard 34 or 54 slot and you ll have two external ports for connecting up to two FireWire devices SIMULTANEOUSLY. It s backward compatible with FireWire 400 and perfect for connecting your laptop to your favorite peripherals such as LaCie hard disks CD DVD drives cameras scanners printers etc. It s easy to install and use since it supports hardware hot plugging UNPLUGGING.</td>\n",
       "      <td>LaCie FireWire 800 ExpressCard 34 Add 2 FireWire 800 ports to your laptop Features the Texas INSTRUMENTSSM chipset Transfer rates up to 800Mb s Compatible with FireWire 400 products Plug and play driver free and hot pluggable System requirements Windows XP Vista 7 and Mac OS X 10.5 10.6</td>\n",
       "      <td>0.26</td>\n",
       "      <td>8.20</td>\n",
       "      <td>6.80</td>\n",
       "      <td>1.10</td>\n",
       "    </tr>\n",
       "    <tr>\n",
       "      <th>1539</th>\n",
       "      <td>6817</td>\n",
       "      <td>Kingston</td>\n",
       "      <td>Computer Components</td>\n",
       "      <td>Kingston Technology 1 GB DIMM Memory 533 MHz PC2 4200 240-Pin DDR2 SDRAM Single Not a kit KTD-DM8400A 1G</td>\n",
       "      <td>29.99</td>\n",
       "      <td>Includes one 1GB module of 533MHz DDR2 Desktop Memory for Dell Replaces Dell A0375066 A0375074 A0498618 A0498620 A0743606 A0913211 Memory designed manufactured and tested to the specifications of each particular brand name computer system From the industry leader in PC memory 240-pin DIMM type</td>\n",
       "      <td>NaN</td>\n",
       "      <td>Kingston is the industry leader in pc memory. our line of system specific memory is memory designed manufactured and tested to the specifications of each particular brand name computer system. included in package is a 1gb module of 533mhz ddr2 desktop memory.</td>\n",
       "      <td>0.0</td>\n",
       "      <td>13.0</td>\n",
       "      <td>...</td>\n",
       "      <td>Memory</td>\n",
       "      <td>Kingston KTD-DM8400A 1G 1GB DDR2 SDRAM Memory Module</td>\n",
       "      <td>22.92</td>\n",
       "      <td>240-pin form factor 533MHz memory speed</td>\n",
       "      <td>All Kingston memory modules must perform properly to ensure maximum performance. Therefore Kingston has developed an industry leading quality process to ensure that Kingston memory delivers superior quality performance and 100 compatibility with the computing system the module is designed for.</td>\n",
       "      <td>1GB SDRAM memory module Compatible with Dell - Desktop - Dimension 4700 533MHz FSB 4700C 533MHz FSB 5000 533MHz FSB 8400 533 MHz FSB Dimension XPS Gen 3 G3 XPS Gen 4 G4 OptiPlex GX280 GX280 - Mini-Tower GX280 - Small Form Factor 240-pin form factor 533MHz memory speed</td>\n",
       "      <td>0.05</td>\n",
       "      <td>4.77</td>\n",
       "      <td>1.71</td>\n",
       "      <td>0.45</td>\n",
       "    </tr>\n",
       "    <tr>\n",
       "      <th>5781</th>\n",
       "      <td>16954</td>\n",
       "      <td>Sennheiser</td>\n",
       "      <td>Electronics</td>\n",
       "      <td>NEW-SH230 Monaural Headset - SH230</td>\n",
       "      <td>89.32</td>\n",
       "      <td>NaN</td>\n",
       "      <td>NaN</td>\n",
       "      <td>SH230 Monaural Headset Over the Head Omni Directional mic. Headband adjustable on both sides for individually preferred POSITIONS. Self-adjusting BALL-MOUNTED speaker capsule allows perfect fitting to the ear. Flexible pivotable microphone boom for optimal speech CLARITY.</td>\n",
       "      <td>0.0</td>\n",
       "      <td>0.0</td>\n",
       "      <td>...</td>\n",
       "      <td>Electronics - General</td>\n",
       "      <td>Sennheiser SH 230 Monaural Headset</td>\n",
       "      <td>84.00</td>\n",
       "      <td>Patented ACTIVEGARD technology safeguards your hearing Acoustical foam ear cushion channels sound into ear Lightweight construction for long-lasting comfort</td>\n",
       "      <td>The SH 230 headset from Sennheiser is an over-the-head single-sided headset with flexible boom omni-directional microphone and ACTIVEGARD protection technology. Comes in black with a light-gray metal C-CLAMP.</td>\n",
       "      <td>Sennheiser SH 230 Monaural Headset Packed with safety and comfort features exclusive to Sennheiser Communications Patented ACTIVEGARD technology safeguards your hearing Acoustical foam ear cushion effectively channels sound into ear Detachable headband for easy upgrading to ear clip model Black with dark gray colored C-clamp Lightweight construction perfect for any type of office or professional communication Includes cable clothing clip and carry bag</td>\n",
       "      <td>0.40</td>\n",
       "      <td>0.20</td>\n",
       "      <td>0.10</td>\n",
       "      <td>0.01</td>\n",
       "    </tr>\n",
       "    <tr>\n",
       "      <th>9325</th>\n",
       "      <td>14496</td>\n",
       "      <td>Case Logic</td>\n",
       "      <td>Computer Accessories</td>\n",
       "      <td>Case Logic LNEO-12 12.1-Inch Neoprene Netbook Sleeve Black</td>\n",
       "      <td>24.99</td>\n",
       "      <td>Fits any netbook up to 12.1-Inch even with extended battery pack Small compact footprint is perfect for transporting netbooks with none of the extra bulk Power Pocket - Streamlined front pocket comfortably fits bulky power cords without deforming the case Durable neoprene construction with extra protection Comfortable handles for easy carrying</td>\n",
       "      <td>NaN</td>\n",
       "      <td>Case Logic is obsessed with organization No matter who you are what toys tools or technology you have where you are or where you are going Case Logic is your partner in managing the things that matter to you. We are the stuff wranglers that make life easier. With this focus in mind Caselogic introduces the Caselogic LNEO-12 12.1-Inch Neoprene Netbook sleeve. Small compact footprint is perfect for transporting netbooks with none of the extra BULK. Features a Power Pocket - Dedicated storage for AC Power ADAPTER. Made from Durable neoprene construction with extra protection. Comfortable handles for easy CARRYING. Fits Netbooks and small laptops up to 12.1-INCH. 25 Year limited Warranty</td>\n",
       "      <td>0.0</td>\n",
       "      <td>12.4</td>\n",
       "      <td>...</td>\n",
       "      <td>Electronics - General</td>\n",
       "      <td>Case Logic 12.1 Laptop Sleeve</td>\n",
       "      <td>19.99</td>\n",
       "      <td>Case Logic 12.1 Available in Asia Pacific Europe Latin America US</td>\n",
       "      <td>NaN</td>\n",
       "      <td>Guard your netbook from daily bumps and fumbles with a sleeve designed for sleek protection. The padded lining cushions your investment while the zippered pocket stores your cords and accessories. Product Material Neoprene Product Weight 0.64 lbs. Laptop Compartment Dimensions 11.8 Available in Asia Pacific Europe Latin America US</td>\n",
       "      <td>0.64</td>\n",
       "      <td>12.40</td>\n",
       "      <td>9.40</td>\n",
       "      <td>1.50</td>\n",
       "    </tr>\n",
       "    <tr>\n",
       "      <th>8603</th>\n",
       "      <td>5519</td>\n",
       "      <td>Sima</td>\n",
       "      <td>Batteries</td>\n",
       "      <td>Sima Lens Pen</td>\n",
       "      <td>7.95</td>\n",
       "      <td>Remarkable cleaning compound removes fingerprints smudges and grease marks Safe for all lenses including multi coated surfaces Unique cleaning compound will not spill or dry out Environmentally friendly and non toxic Handy high quality retractable lens cleaning brush</td>\n",
       "      <td>Lens pen the 2 in 1 lens cleaning system for camera lenses binoculars and camcorders</td>\n",
       "      <td>The Sima Lens Pen is a compact handy lens cleaning tool. You can use it to safely remove dust particles fingerprints smudges and grease marks from camera binocular and camcorder lenses.</td>\n",
       "      <td>0.0</td>\n",
       "      <td>5.0</td>\n",
       "      <td>...</td>\n",
       "      <td>Photography - General</td>\n",
       "      <td>Sima 2-In-1 Lens Cleaner</td>\n",
       "      <td>9.88</td>\n",
       "      <td>Removes dust and dirt self-replenishing flexible tip</td>\n",
       "      <td>Sima 2-In-1 Lens Cleaner</td>\n",
       "      <td>Remarkable cleaning compound removes fingerprints smudges and grease marks with ease. Safe for all lenses including multi-coated surfaces Unique cleaning compound will not spill or dry out Environmentally friendly and non-toxic Handy high quality retractable lens cleaning brush Use with camera lenses binoculars and camcorders</td>\n",
       "      <td>0.08</td>\n",
       "      <td>8.00</td>\n",
       "      <td>3.50</td>\n",
       "      <td>1.00</td>\n",
       "    </tr>\n",
       "    <tr>\n",
       "      <th>310</th>\n",
       "      <td>15253</td>\n",
       "      <td>ViewSonic</td>\n",
       "      <td>Computers Accessories</td>\n",
       "      <td>ViewSonic PRO8500 XGA DLP Projector - 120Hz 3D Ready 5000 Lumens 3000 1 DCR</td>\n",
       "      <td>2299.00</td>\n",
       "      <td>1024 x 768 XGA resolution 5000 Lumens 3000 1 DCR Throw Ratio 1.45 - 2.18 1 120Hz 3D TI DLP Link Ready Multiple connectivity options RJ45 Control with included Crestron RoomView Express Keystone adjustment -40 Microphone input for use with integrated 20W Speakers Laser remote control with batteries Lamp life 4000 5000 hrs N Eco Eco Mode for energy savings longer lamp life and reduced audible noise</td>\n",
       "      <td>NaN</td>\n",
       "      <td>The PRO8500 is an advanced high brightness DLP installation projector which includes BrilliantColor tech nology to produce more vibrant colors. The PRO8500 delivers 5000 lumens with a 1024 x 768 XGA native resolution allowing it to shine in virtually any lighting situation. The PRO8500 provides maximum mounting flexibility with a wide 1.5X optical zoom adjustment and a multitude of connectivity options including Network Display USB and WIFI. The filter-less design and long lamp life provide for easy maintenance and low total cost of OWNERSHIP.</td>\n",
       "      <td>0.0</td>\n",
       "      <td>13.1</td>\n",
       "      <td>...</td>\n",
       "      <td>Electronics - General</td>\n",
       "      <td>ViewSonic PRO8500 DLP Projector</td>\n",
       "      <td>1518.00</td>\n",
       "      <td>Brilliant presentations in almost any lighting condition with 5000 lumens BrilliantColor technology produces more vibrant colors Integrated closed captioning decoder for hearing impaired</td>\n",
       "      <td>The ViewSonic PRO8500 is an advanced high brightness DLP installation projector that includes BrilliantColor technology to produce more vibrant colors. The PRO8500 delivers 5000 lumens 4900 1 contrast ratio with a 1024 x 768 XGA native resolution allowing it to shine in virtually any lighting situation. The PRO8500 provides maximum mounting flexibility with a wide 1.5 times optical zoom adjustment and a multitude of connectivity options including Network Display USB and WI-FI. The filter-less design and long lamp life provide for easy maintenance and low total cost of OWNERSHIP.</td>\n",
       "      <td>ViewSonic PRO8500 DLP Projector Brilliant presentations in almost any lighting condition with 5000 lumens Native XGA 1024 x 768 resolution BrilliantColor technology produces more vibrant colors 1.5X manual optical zoom Integrated closed captioning decoder for hearing impaired Eco-mode achieves lower power consumption Network control through RJ-45 Supports video formats from SD NTSC PAL SECAM to HD 720p and 1080i p Wireless capability with the optional wireless adapter not included</td>\n",
       "      <td>11.95</td>\n",
       "      <td>16.75</td>\n",
       "      <td>15.25</td>\n",
       "      <td>7.50</td>\n",
       "    </tr>\n",
       "    <tr>\n",
       "      <th>9807</th>\n",
       "      <td>15548</td>\n",
       "      <td>Canon</td>\n",
       "      <td>Accessories</td>\n",
       "      <td>Canon PSC-4100 Deluxe Fitted Leather Case for the Powershot SX30 IS SX20 IS SX10 IS SX1 IS Digital Cameras Black</td>\n",
       "      <td>29.99</td>\n",
       "      <td>Snug-fitting minimalistic case for the Canon Powershot SX-IS series Soft interior pliable and strong nylon imitation leather exterior Magnetic clasps</td>\n",
       "      <td>NaN</td>\n",
       "      <td>The Canon PSC-4000 Deluxe Leather Case for Canon SX10IS Digital camera.</td>\n",
       "      <td>0.0</td>\n",
       "      <td>0.0</td>\n",
       "      <td>...</td>\n",
       "      <td>Photography - General</td>\n",
       "      <td>Canon PSC-4100 Deluxe Soft Case compatible with SX-30 Canon Camera</td>\n",
       "      <td>22.99</td>\n",
       "      <td>Nylon construction Designed to fit the PowerShot SX30IS Snug and secure protection</td>\n",
       "      <td>Protect your camera with the Canon PSC-4100 Deluxe Soft case. This durable and attractive leather case is designed to fit the PowerShot SX30IS digital camera.</td>\n",
       "      <td>Canon PSC-4100 Deluxe Soft Case Nylon construction Designed to fit the PowerShot SX30IS Snug and secure protection</td>\n",
       "      <td>0.45</td>\n",
       "      <td>5.10</td>\n",
       "      <td>3.10</td>\n",
       "      <td>2.20</td>\n",
       "    </tr>\n",
       "  </tbody>\n",
       "</table>\n",
       "<p>10 rows × 24 columns</p>\n",
       "</div>"
      ],
      "text/plain": [
       "        id1        brand               groupname  \\\n",
       "9734  12443      Rocstor                     NaN   \n",
       "7254   1275       Wintec    Computer Accessories   \n",
       "340   18916          BIC    Computer Accessories   \n",
       "4466  15905        LaCie             Electronics   \n",
       "1539   6817     Kingston     Computer Components   \n",
       "5781  16954   Sennheiser             Electronics   \n",
       "9325  14496   Case Logic    Computer Accessories   \n",
       "8603   5519         Sima               Batteries   \n",
       "310   15253    ViewSonic   Computers Accessories   \n",
       "9807  15548        Canon             Accessories   \n",
       "\n",
       "                                                                                                                  title  \\\n",
       "9734                                                                     1.5TB ROCPRO 850 7200 Rpm 32MB FW800 USB ESATA   \n",
       "7254                                                              Wintec Filemate 4 GB Class 4 Secure Digital SDHC Card   \n",
       "340                                           BIC WOSQPP418 - Wite-Out Shake n Squeeze Correction Pen 8 ml White 4 Pack   \n",
       "4466                                                                                        Lacie Fw 800 EXPRESSCARD 34   \n",
       "1539           Kingston Technology 1 GB DIMM Memory 533 MHz PC2 4200 240-Pin DDR2 SDRAM Single Not a kit KTD-DM8400A 1G   \n",
       "5781                                                                                 NEW-SH230 Monaural Headset - SH230   \n",
       "9325                                                         Case Logic LNEO-12 12.1-Inch Neoprene Netbook Sleeve Black   \n",
       "8603                                                                                                      Sima Lens Pen   \n",
       "310                                         ViewSonic PRO8500 XGA DLP Projector - 120Hz 3D Ready 5000 Lumens 3000 1 DCR   \n",
       "9807   Canon PSC-4100 Deluxe Fitted Leather Case for the Powershot SX30 IS SX20 IS SX10 IS SX1 IS Digital Cameras Black   \n",
       "\n",
       "        price  \\\n",
       "9734   360.00   \n",
       "7254     7.99   \n",
       "340     28.36   \n",
       "4466    79.99   \n",
       "1539    29.99   \n",
       "5781    89.32   \n",
       "9325    24.99   \n",
       "8603     7.95   \n",
       "310   2299.00   \n",
       "9807    29.99   \n",
       "\n",
       "                                                                                                                                                                                                                                                                                                                                                                                                            shelfdescr  \\\n",
       "9734                                                                                                                                                                                                                                                                                                                                                                                       FW800 USB ESATA INT PWR SUP   \n",
       "7254                                                                                                                                             Compatible With High-Capacity HC Devices On-Board Error Correction Low Power Consumption And Smart Power Management High Speed Serial Interface With Random Access Extended Memory Lifetime With Thousands Of Program Erase Cycles Mechanical write protection switch   \n",
       "340                                                                                                                                                                                                                                                                                                                                                                                                                NaN   \n",
       "4466                                                                                                                                                                                                                                  FireWire 800 ExpressCard 34 Add 2 FireWire 800 ports to your laptop Features the Texas Instruments SM chipset Transfer rates up to 800Mb s Compatible with FireWire 400 products   \n",
       "1539                                                                                                            Includes one 1GB module of 533MHz DDR2 Desktop Memory for Dell Replaces Dell A0375066 A0375074 A0498618 A0498620 A0743606 A0913211 Memory designed manufactured and tested to the specifications of each particular brand name computer system From the industry leader in PC memory 240-pin DIMM type   \n",
       "5781                                                                                                                                                                                                                                                                                                                                                                                                               NaN   \n",
       "9325                                                         Fits any netbook up to 12.1-Inch even with extended battery pack Small compact footprint is perfect for transporting netbooks with none of the extra bulk Power Pocket - Streamlined front pocket comfortably fits bulky power cords without deforming the case Durable neoprene construction with extra protection Comfortable handles for easy carrying   \n",
       "8603                                                                                                                                       Remarkable cleaning compound removes fingerprints smudges and grease marks Safe for all lenses including multi coated surfaces Unique cleaning compound will not spill or dry out Environmentally friendly and non toxic Handy high quality retractable lens cleaning brush   \n",
       "310    1024 x 768 XGA resolution 5000 Lumens 3000 1 DCR Throw Ratio 1.45 - 2.18 1 120Hz 3D TI DLP Link Ready Multiple connectivity options RJ45 Control with included Crestron RoomView Express Keystone adjustment -40 Microphone input for use with integrated 20W Speakers Laser remote control with batteries Lamp life 4000 5000 hrs N Eco Eco Mode for energy savings longer lamp life and reduced audible noise   \n",
       "9807                                                                                                                                                                                                                                                             Snug-fitting minimalistic case for the Canon Powershot SX-IS series Soft interior pliable and strong nylon imitation leather exterior Magnetic clasps   \n",
       "\n",
       "                                                                                 shortdescr  \\\n",
       "9734                                                                                    NaN   \n",
       "7254                                                                                    NaN   \n",
       "340                                                                                     NaN   \n",
       "4466                                                                                    NaN   \n",
       "1539                                                                                    NaN   \n",
       "5781                                                                                    NaN   \n",
       "9325                                                                                    NaN   \n",
       "8603   Lens pen the 2 in 1 lens cleaning system for camera lenses binoculars and camcorders   \n",
       "310                                                                                     NaN   \n",
       "9807                                                                                    NaN   \n",
       "\n",
       "                                                                                                                                                                                                                                                                                                                                                                                                                                                                                                                                                                                                                                                                                                                  longdescr  \\\n",
       "9734                                                                                                                                                                                                                                                                                                                                                                                                                                                                                                                                                                                                                                                            1.5TB ROCPORT 850 7200 RPM 32MB FW800 USB ESATA INT PWR SUP   \n",
       "7254                                                                                                                                                                                                                                                                                                                                                                                                                                                                                                                                                  The Wintec Filemate SDHC Flash Memory Cards Are Perfect For Capturing And Saving Videos Photos And Music With Today s Most Popular Cameras And Digital Music devices.   \n",
       "340                                                                                                                                                                                                                                                                                                                                                                                          Needle point tip corrects mistakes with PRECISION. For Everything formula offers premium coverage and dries quickly. Soft squeezable body gives you more control with less effort. Pocket clip for on-the-go convenience. Correction Fluid Type Pen Applicator Color s White Applicator Type Pen Tip Capacity Volume 8.000 ml.   \n",
       "4466                                                                                                                                                                                                                                                                                                                                                                                                                                                                                                                                                                                                                                                                         LaCie 130992 FireWire Hub 130992 Firewire Hubs   \n",
       "1539                                                                                                                                                                                                                                                                                                                                                                                                                                                    Kingston is the industry leader in pc memory. our line of system specific memory is memory designed manufactured and tested to the specifications of each particular brand name computer system. included in package is a 1gb module of 533mhz ddr2 desktop memory.   \n",
       "5781                                                                                                                                                                                                                                                                                                                                                                                                                                       SH230 Monaural Headset Over the Head Omni Directional mic. Headband adjustable on both sides for individually preferred POSITIONS. Self-adjusting BALL-MOUNTED speaker capsule allows perfect fitting to the ear. Flexible pivotable microphone boom for optimal speech CLARITY.   \n",
       "9325   Case Logic is obsessed with organization No matter who you are what toys tools or technology you have where you are or where you are going Case Logic is your partner in managing the things that matter to you. We are the stuff wranglers that make life easier. With this focus in mind Caselogic introduces the Caselogic LNEO-12 12.1-Inch Neoprene Netbook sleeve. Small compact footprint is perfect for transporting netbooks with none of the extra BULK. Features a Power Pocket - Dedicated storage for AC Power ADAPTER. Made from Durable neoprene construction with extra protection. Comfortable handles for easy CARRYING. Fits Netbooks and small laptops up to 12.1-INCH. 25 Year limited Warranty   \n",
       "8603                                                                                                                                                                                                                                                                                                                                                                                                                                                                                                                              The Sima Lens Pen is a compact handy lens cleaning tool. You can use it to safely remove dust particles fingerprints smudges and grease marks from camera binocular and camcorder lenses.   \n",
       "310                                                                                                                                                   The PRO8500 is an advanced high brightness DLP installation projector which includes BrilliantColor tech nology to produce more vibrant colors. The PRO8500 delivers 5000 lumens with a 1024 x 768 XGA native resolution allowing it to shine in virtually any lighting situation. The PRO8500 provides maximum mounting flexibility with a wide 1.5X optical zoom adjustment and a multitude of connectivity options including Network Display USB and WIFI. The filter-less design and long lamp life provide for easy maintenance and low total cost of OWNERSHIP.   \n",
       "9807                                                                                                                                                                                                                                                                                                                                                                                                                                                                                                                                                                                                                                                The Canon PSC-4000 Deluxe Leather Case for Canon SX10IS Digital camera.   \n",
       "\n",
       "      shipweight length  ...                         groupname  \\\n",
       "9734         0.0   11.0  ...                       Hard Drives   \n",
       "7254         0.0    5.2  ...                        USB Drives   \n",
       "340          0.0    0.0  ...     Stationery & Office Machinery   \n",
       "4466         0.0    0.0  ...             Electronics - General   \n",
       "1539         0.0   13.0  ...                            Memory   \n",
       "5781         0.0    0.0  ...             Electronics - General   \n",
       "9325         0.0   12.4  ...             Electronics - General   \n",
       "8603         0.0    5.0  ...             Photography - General   \n",
       "310          0.0   13.1  ...             Electronics - General   \n",
       "9807         0.0    0.0  ...             Photography - General   \n",
       "\n",
       "                                                                    title  \\\n",
       "9734                     Rocstor G222R2-01 ROCPRO 850 External Hard Drive   \n",
       "7254            Wintec FileMate 4GB SDHC Secure Digital Flash Memory Card   \n",
       "340              BIC Wite-Out Shake n Squeeze Correction Pen White 4-Pack   \n",
       "4466                                    LaCie FireWire 800 ExpressCard 34   \n",
       "1539                 Kingston KTD-DM8400A 1G 1GB DDR2 SDRAM Memory Module   \n",
       "5781                                   Sennheiser SH 230 Monaural Headset   \n",
       "9325                                        Case Logic 12.1 Laptop Sleeve   \n",
       "8603                                             Sima 2-In-1 Lens Cleaner   \n",
       "310                                       ViewSonic PRO8500 DLP Projector   \n",
       "9807   Canon PSC-4100 Deluxe Soft Case compatible with SX-30 Canon Camera   \n",
       "\n",
       "        price  \\\n",
       "9734   159.98   \n",
       "7254     7.99   \n",
       "340      8.39   \n",
       "4466    45.00   \n",
       "1539    22.92   \n",
       "5781    84.00   \n",
       "9325    19.99   \n",
       "8603     9.88   \n",
       "310   1518.00   \n",
       "9807    22.99   \n",
       "\n",
       "                                                                                                                                                                                       shelfdescr  \\\n",
       "9734                                                                                                                  1.5TB storage capacity External form factor FireWire and USB host interface   \n",
       "7254                                                                                                             Compatible with high capacity devices Low power consumption Extended memory life   \n",
       "340                                                                                         Needle point tip Soft squeeze barrel for increased control Each pen contains 8 ml of correction fluid   \n",
       "4466                                                                                   Add 2 FireWire 800 ports to your laptop Compatible with FireWire 400 products Transfer rates up to 800Mb s   \n",
       "1539                                                                                                                                                      240-pin form factor 533MHz memory speed   \n",
       "5781                                 Patented ACTIVEGARD technology safeguards your hearing Acoustical foam ear cushion channels sound into ear Lightweight construction for long-lasting comfort   \n",
       "9325                                                                                                                            Case Logic 12.1 Available in Asia Pacific Europe Latin America US   \n",
       "8603                                                                                                                                         Removes dust and dirt self-replenishing flexible tip   \n",
       "310    Brilliant presentations in almost any lighting condition with 5000 lumens BrilliantColor technology produces more vibrant colors Integrated closed captioning decoder for hearing impaired   \n",
       "9807                                                                                                           Nylon construction Designed to fit the PowerShot SX30IS Snug and secure protection   \n",
       "\n",
       "                                                                                                                                                                                                                                                                                                                                                                                                                                                                                                                                                                                                      shortdescr  \\\n",
       "9734                                                                        The Rocstor G222R2-01 ROCPRO 850 External Hard Drive delivers extraordinary performance and reliability for both Mac and PC users. Specifically designed for demanding audio video professionals the new ROCPRO 850 contains a fast SATA high capacity 3.5 drive mechanism in a stylish and unique aluminum case that can be stacked or mounted VERTICALLY. With its built-in power supply fan-less and quite operation the ROCPRO 850 can be easily moved from one desktop environment to another using the provided carrying case.   \n",
       "7254                                                                                                                                                                                                                                                                     The Wintec FileMate 4GB SDHC Secure Digital Flash Memory Card is compatible with today s most popular SDHC devices including digital cameras digital camcorders and card reader slots in laptops and NETBOOKS. The Wintec FileMate 4GB SDHC Secure Digital Flash Memory Card is great for capturing and saving videos photos and music.   \n",
       "340                                                                                                                                                                                                                                                      The white BIC Wite-Out Shake n Squeeze Correction Pen available in a four-pack features a needle point tip and a soft squeeze barrel for accurate controlled CORRECTIONS. This pen dries fast provides excellent coverage and dries to a smooth finish. The BIC Shake n Squeeze Correction Pen covers photocopies faxes ink permanent markers and more.   \n",
       "4466                     Affordably upgrade your Mac or PC laptop to fast FireWire 800 connectivity which offers a rapid maximum interface transfer rate of up to 800MBS s. Just plug the card into your computer s ExpressCard 34 or 54 slot and you ll have two external ports for connecting up to two FireWire devices SIMULTANEOUSLY. It s backward compatible with FireWire 400 and perfect for connecting your laptop to your favorite peripherals such as LaCie hard disks CD DVD drives cameras scanners printers etc. It s easy to install and use since it supports hardware hot plugging UNPLUGGING.   \n",
       "1539                                                                                                                                                                                                                                                                                                      All Kingston memory modules must perform properly to ensure maximum performance. Therefore Kingston has developed an industry leading quality process to ensure that Kingston memory delivers superior quality performance and 100 compatibility with the computing system the module is designed for.   \n",
       "5781                                                                                                                                                                                                                                                                                                                                                                                            The SH 230 headset from Sennheiser is an over-the-head single-sided headset with flexible boom omni-directional microphone and ACTIVEGARD protection technology. Comes in black with a light-gray metal C-CLAMP.   \n",
       "9325                                                                                                                                                                                                                                                                                                                                                                                                                                                                                                                                                                                                         NaN   \n",
       "8603                                                                                                                                                                                                                                                                                                                                                                                                                                                                                                                                                                                    Sima 2-In-1 Lens Cleaner   \n",
       "310    The ViewSonic PRO8500 is an advanced high brightness DLP installation projector that includes BrilliantColor technology to produce more vibrant colors. The PRO8500 delivers 5000 lumens 4900 1 contrast ratio with a 1024 x 768 XGA native resolution allowing it to shine in virtually any lighting situation. The PRO8500 provides maximum mounting flexibility with a wide 1.5 times optical zoom adjustment and a multitude of connectivity options including Network Display USB and WI-FI. The filter-less design and long lamp life provide for easy maintenance and low total cost of OWNERSHIP.   \n",
       "9807                                                                                                                                                                                                                                                                                                                                                                                                                                              Protect your camera with the Canon PSC-4100 Deluxe Soft case. This durable and attractive leather case is designed to fit the PowerShot SX30IS digital camera.   \n",
       "\n",
       "                                                                                                                                                                                                                                                                                                                                                                                                                                                                                                   longdescr  \\\n",
       "9734                                                                                                                                                                                                                                                                                                                                                                                                               1.5TB storage capacity External form factor FireWire and USB host interface Plug and play   \n",
       "7254                                                                                                                                                                                                                                                                                                                         Wintec FileMate 4GB SDHC Secure Digital Flash Memory Card Capacity 4GB Compatible with high capacity devices Low power consumption Extended memory life Write protection switch   \n",
       "340                                                                                                                                                                              BIC Wite-Out Shake n Squeeze Correction Pen 4 pack White Needle point tip for accurate precise corrections Fast drying premium coverage that dries to a smooth finish Soft squeeze barrel for increased control Covers photocopies faxes ink permanent markers and more Each pen contains 8 ml of Wite-Out correction fluid   \n",
       "4466                                                                                                                                                                                                         LaCie FireWire 800 ExpressCard 34 Add 2 FireWire 800 ports to your laptop Features the Texas INSTRUMENTSSM chipset Transfer rates up to 800Mb s Compatible with FireWire 400 products Plug and play driver free and hot pluggable System requirements Windows XP Vista 7 and Mac OS X 10.5 10.6   \n",
       "1539                                                                                                                                                                                                                            1GB SDRAM memory module Compatible with Dell - Desktop - Dimension 4700 533MHz FSB 4700C 533MHz FSB 5000 533MHz FSB 8400 533 MHz FSB Dimension XPS Gen 3 G3 XPS Gen 4 G4 OptiPlex GX280 GX280 - Mini-Tower GX280 - Small Form Factor 240-pin form factor 533MHz memory speed   \n",
       "5781                                 Sennheiser SH 230 Monaural Headset Packed with safety and comfort features exclusive to Sennheiser Communications Patented ACTIVEGARD technology safeguards your hearing Acoustical foam ear cushion effectively channels sound into ear Detachable headband for easy upgrading to ear clip model Black with dark gray colored C-clamp Lightweight construction perfect for any type of office or professional communication Includes cable clothing clip and carry bag   \n",
       "9325                                                                                                                                                            Guard your netbook from daily bumps and fumbles with a sleeve designed for sleek protection. The padded lining cushions your investment while the zippered pocket stores your cords and accessories. Product Material Neoprene Product Weight 0.64 lbs. Laptop Compartment Dimensions 11.8 Available in Asia Pacific Europe Latin America US   \n",
       "8603                                                                                                                                                                 Remarkable cleaning compound removes fingerprints smudges and grease marks with ease. Safe for all lenses including multi-coated surfaces Unique cleaning compound will not spill or dry out Environmentally friendly and non-toxic Handy high quality retractable lens cleaning brush Use with camera lenses binoculars and camcorders   \n",
       "310    ViewSonic PRO8500 DLP Projector Brilliant presentations in almost any lighting condition with 5000 lumens Native XGA 1024 x 768 resolution BrilliantColor technology produces more vibrant colors 1.5X manual optical zoom Integrated closed captioning decoder for hearing impaired Eco-mode achieves lower power consumption Network control through RJ-45 Supports video formats from SD NTSC PAL SECAM to HD 720p and 1080i p Wireless capability with the optional wireless adapter not included   \n",
       "9807                                                                                                                                                                                                                                                                                                                                                                                      Canon PSC-4100 Deluxe Soft Case Nylon construction Designed to fit the PowerShot SX30IS Snug and secure protection   \n",
       "\n",
       "      shipweight length  width height  \n",
       "9734        4.95   8.66   5.79   1.61  \n",
       "7254        0.14   5.25   4.13   0.63  \n",
       "340         0.25   8.09   5.22   1.00  \n",
       "4466        0.26   8.20   6.80   1.10  \n",
       "1539        0.05   4.77   1.71   0.45  \n",
       "5781        0.40   0.20   0.10   0.01  \n",
       "9325        0.64  12.40   9.40   1.50  \n",
       "8603        0.08   8.00   3.50   1.00  \n",
       "310        11.95  16.75  15.25   7.50  \n",
       "9807        0.45   5.10   3.10   2.20  \n",
       "\n",
       "[10 rows x 24 columns]"
      ]
     },
     "execution_count": 42,
     "metadata": {},
     "output_type": "execute_result"
    }
   ],
   "source": [
    "mapping = map.copy()\n",
    "bool_mask = (y_val_ == 1) & (y_val_pred >= 0.5)\n",
    "columns = ['brand', 'groupname', 'title', 'shelfdescr',\n",
    "           'shortdescr', 'longdescr']\n",
    "df_examine = hp.examine_data(data['val_1'], data['val_2'], columns, bool_mask, mapping)\n",
    "df_examine.sample(10)"
   ]
  },
  {
   "cell_type": "markdown",
   "metadata": {},
   "source": [
    "# Save model and histories "
   ]
  },
  {
   "cell_type": "code",
   "execution_count": 43,
   "metadata": {
    "ExecuteTime": {
     "end_time": "2018-04-12T21:51:21.415206Z",
     "start_time": "2018-04-12T21:51:21.050809Z"
    },
    "collapsed": true
   },
   "outputs": [],
   "source": [
    "pd.DataFrame(histories).to_csv('../data/histories/amazon-walmart-all-full.csv', index=False)\n",
    "model.save_weights('../data/models/amazon-walmart-all-full')"
   ]
  },
  {
   "cell_type": "markdown",
   "metadata": {},
   "source": [
    "# Test model "
   ]
  },
  {
   "cell_type": "code",
   "execution_count": 4,
   "metadata": {
    "ExecuteTime": {
     "end_time": "2018-04-12T21:51:26.898830Z",
     "start_time": "2018-04-12T21:51:23.802014Z"
    }
   },
   "outputs": [
    {
     "name": "stdout",
     "output_type": "stream",
     "text": [
      "             precision    recall  f1-score   support\n",
      "\n",
      "          0    0.99939   0.99809   0.99874     11540\n",
      "          1    0.83077   0.93913   0.88163       115\n",
      "\n",
      "avg / total    0.99773   0.99751   0.99759     11655\n",
      "\n",
      "[[11518    22]\n",
      " [    7   108]]\n"
     ]
    }
   ],
   "source": [
    "model.load_weights('../data/models/amazon-walmart-all-full')\n",
    "y_test_pred = model.predict(X_test, batch_size=2048)[:,1]\n",
    "y_test_ = data['test_y'].values.squeeze()\n",
    "print(classification_report(y_test_, y_test_pred >= 0.5, digits=5))\n",
    "print(confusion_matrix(y_test_, y_test_pred >= 0.5))"
   ]
  },
  {
   "cell_type": "code",
   "execution_count": null,
   "metadata": {
    "collapsed": true
   },
   "outputs": [],
   "source": []
  }
 ],
 "metadata": {
  "kernelspec": {
   "display_name": "Python 3.6",
   "language": "python",
   "name": "python-36"
  },
  "language_info": {
   "codemirror_mode": {
    "name": "ipython",
    "version": 3
   },
   "file_extension": ".py",
   "mimetype": "text/x-python",
   "name": "python",
   "nbconvert_exporter": "python",
   "pygments_lexer": "ipython3",
   "version": "3.6.4"
  },
  "varInspector": {
   "cols": {
    "lenName": 16,
    "lenType": 16,
    "lenVar": 40
   },
   "kernels_config": {
    "python": {
     "delete_cmd_postfix": "",
     "delete_cmd_prefix": "del ",
     "library": "var_list.py",
     "varRefreshCmd": "print(var_dic_list())"
    },
    "r": {
     "delete_cmd_postfix": ") ",
     "delete_cmd_prefix": "rm(",
     "library": "var_list.r",
     "varRefreshCmd": "cat(var_dic_list()) "
    }
   },
   "types_to_exclude": [
    "module",
    "function",
    "builtin_function_or_method",
    "instance",
    "_Feature"
   ],
   "window_display": false
  }
 },
 "nbformat": 4,
 "nbformat_minor": 2
}
