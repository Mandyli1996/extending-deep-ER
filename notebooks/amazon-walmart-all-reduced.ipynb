{
 "cells": [
  {
   "cell_type": "code",
   "execution_count": 1,
   "metadata": {
    "ExecuteTime": {
     "end_time": "2018-04-12T19:27:23.665689Z",
     "start_time": "2018-04-12T19:27:20.582747Z"
    }
   },
   "outputs": [
    {
     "name": "stderr",
     "output_type": "stream",
     "text": [
      "/home/paperspace/anaconda3/envs/python-36/lib/python3.6/site-packages/h5py/__init__.py:36: FutureWarning: Conversion of the second argument of issubdtype from `float` to `np.floating` is deprecated. In future, it will be treated as `np.float64 == np.dtype(float).type`.\n",
      "  from ._conv import register_converters as _register_converters\n",
      "Using TensorFlow backend.\n"
     ]
    }
   ],
   "source": [
    "import sys\n",
    "import os\n",
    "import re\n",
    "sys.path.append('../scripts')\n",
    "\n",
    "import numpy as np\n",
    "import pandas as pd\n",
    "import matplotlib.pyplot as plt\n",
    "import seaborn as sns\n",
    "import helpers as hp\n",
    "import pickle as pkl\n",
    "import itertools as it\n",
    "\n",
    "from collections import OrderedDict, defaultdict\n",
    "\n",
    "from sklearn.metrics import f1_score, precision_score, recall_score,\\\n",
    "                            average_precision_score, roc_auc_score,\\\n",
    "                            roc_curve, precision_recall_curve, confusion_matrix,\\\n",
    "                            accuracy_score, classification_report\n",
    "\n",
    "from IPython.core.interactiveshell import InteractiveShell\n",
    "from matplotlib import rcParams\n",
    "from importlib import reload\n",
    "from model_generator import deep_er_model_generator\n",
    "pd.options.display.max_colwidth = 1000\n",
    "\n",
    "rcParams['font.family'] = 'serif'\n",
    "rcParams['font.serif'] = 'times new roman'\n",
    "\n",
    "%config InlineBackend.figure_format = 'retina'\n",
    "%matplotlib inline"
   ]
  },
  {
   "cell_type": "markdown",
   "metadata": {},
   "source": [
    "# Load data "
   ]
  },
  {
   "cell_type": "code",
   "execution_count": 2,
   "metadata": {
    "ExecuteTime": {
     "end_time": "2018-04-12T21:41:12.001384Z",
     "start_time": "2018-04-12T21:40:47.012379Z"
    },
    "collapsed": true
   },
   "outputs": [],
   "source": [
    "reload(hp)\n",
    "\n",
    "with open('../data/converted/amazon-walmart-reduced/glove-300.map', 'rb') as f:\n",
    "    map = pkl.load(f)\n",
    "\n",
    "data_dir = os.path.join('..','data')\n",
    "source_dir = os.path.join(data_dir,'split','amazon-walmart-reduced')\n",
    "data = hp.load_data(source_dir)\n",
    "\n",
    "datasets = ['train_1', 'val_1', 'test_1', 'train_2', 'val_2', 'test_2']\n",
    "\n",
    "for data_name in data.keys():\n",
    "    data[data_name] = data[data_name].fillna(0)\n",
    "\n",
    "doc_freqs_1, doc_freqs_2 = hp.get_document_frequencies('../data/converted/amazon-walmart-reduced/', mapping=map)\n",
    "nan_idx = map['word2idx']['NaN']"
   ]
  },
  {
   "cell_type": "markdown",
   "metadata": {},
   "source": [
    "# Generate model"
   ]
  },
  {
   "cell_type": "code",
   "execution_count": 3,
   "metadata": {
    "ExecuteTime": {
     "end_time": "2018-04-12T21:41:28.691606Z",
     "start_time": "2018-04-12T21:41:20.426588Z"
    }
   },
   "outputs": [
    {
     "name": "stdout",
     "output_type": "stream",
     "text": [
      "Number of inputs to dense layer: 205\n"
     ]
    }
   ],
   "source": [
    "histories = dict(acc=list(), val_acc=list(), loss=list(), val_loss=list())\n",
    "model, X_train, X_val, X_test, y_train, y_val, y_test = \\\n",
    "deep_er_model_generator(data,\n",
    "                        embedding_file = '../data/converted/amazon-walmart-reduced/glove-300.matrix.npy',\n",
    "                        text_columns = ['brand', 'groupname', 'title', 'shelfdescr',\n",
    "                                        'shortdescr', 'longdescr'],\n",
    "                        numeric_columns = ['price', 'shipweight', 'length', 'width', 'height'],\n",
    "                        text_nan_idx=nan_idx,\n",
    "                        num_nan_val=0,\n",
    "                        text_sim_metrics=['inverse_l1', 'cosine'],\n",
    "                        text_compositions=['average', 'idf', 'bi_lstm'],\n",
    "                        numeric_sim_metrics=['min_max_ratio', 'scaled_inverse_lp', 'unscaled_inverse_lp'],\n",
    "                        dense_nodes=[32],\n",
    "                        document_frequencies=(doc_freqs_1, doc_freqs_2),\n",
    "                        idf_smoothing=2,\n",
    "                        make_isna=True,\n",
    "                        dropout=0.75,\n",
    "                        batch_norm=True,\n",
    "                        lstm_args=dict(units=20, dropout=0.25, recurrent_dropout=0.25),\n",
    "                        shared_lstm=True,\n",
    "                        embedding_trainable=True)"
   ]
  },
  {
   "cell_type": "markdown",
   "metadata": {},
   "source": [
    "# Crash recovery "
   ]
  },
  {
   "cell_type": "code",
   "execution_count": null,
   "metadata": {
    "collapsed": true
   },
   "outputs": [],
   "source": [
    "model.load_weights('../data/models/amazon-walmart-all-reduced')\n",
    "df_hist = pd.read_csv('../data/histories/amazon-walmart-all-reduced.csv')\n",
    "\n",
    "histories['acc'] = list(df_hist['acc'].values)\n",
    "histories['val_acc'] = list(df_hist['val_acc'].values)\n",
    "histories['loss'] = list(df_hist['loss'].values)\n",
    "histories['val_loss'] = list(df_hist['val_loss'].values)"
   ]
  },
  {
   "cell_type": "markdown",
   "metadata": {},
   "source": [
    "# Train model "
   ]
  },
  {
   "cell_type": "code",
   "execution_count": 53,
   "metadata": {
    "ExecuteTime": {
     "end_time": "2018-04-12T21:52:12.328428Z",
     "start_time": "2018-04-12T21:51:42.009377Z"
    },
    "scrolled": true
   },
   "outputs": [
    {
     "name": "stdout",
     "output_type": "stream",
     "text": [
      "Train on 93243 samples, validate on 11656 samples\n",
      "Epoch 1/1\n",
      "93243/93243 [==============================] - 537s 6ms/step - loss: 0.0105 - acc: 0.9978 - val_loss: 0.0133 - val_acc: 0.9978\n"
     ]
    }
   ],
   "source": [
    "model.compile(optimizer='adam', loss='binary_crossentropy', metrics=['acc'])\n",
    "history = model.fit(X_train, y_train, epochs=1, batch_size=1024,\n",
    "                    validation_data=(X_val, y_val),\n",
    "                    shuffle=True)\n",
    "\n",
    "histories['acc'].extend(history.history['acc'])\n",
    "histories['val_acc'].extend(history.history['val_acc'])\n",
    "histories['loss'].extend(history.history['loss'])\n",
    "histories['val_loss'].extend(history.history['val_loss'])"
   ]
  },
  {
   "cell_type": "markdown",
   "metadata": {},
   "source": [
    "# Learning curves"
   ]
  },
  {
   "cell_type": "code",
   "execution_count": 55,
   "metadata": {
    "ExecuteTime": {
     "end_time": "2018-04-12T21:53:06.430610Z",
     "start_time": "2018-04-12T21:53:06.048975Z"
    }
   },
   "outputs": [
    {
     "data": {
      "image/png": "[encoded data removed]",
      "text/plain": [
       "<Figure size 1152x432 with 2 Axes>"
      ]
     },
     "metadata": {
      "image/png": {
       "height": 374,
       "width": 944
      }
     },
     "output_type": "display_data"
    }
   ],
   "source": [
    "fig, axes = plt.subplots(1, 2, figsize=(16,6))\n",
    "axes[0].plot(histories['loss'], label='loss')\n",
    "axes[0].plot(histories['val_loss'], label='val_loss')\n",
    "axes[0].set(ylim = (0, 0.2))\n",
    "axes[1].plot(histories['acc'], label='acc')\n",
    "axes[1].plot(histories['val_acc'], label='val_acc')\n",
    "axes[1].set(ylim = (0.98, 1))\n",
    "\n",
    "for ax in axes:\n",
    "    ax.legend()\n",
    "    ax.grid(True)\n",
    "    ax.set(xlabel='epoch')"
   ]
  },
  {
   "cell_type": "markdown",
   "metadata": {},
   "source": [
    "# Evaluate model "
   ]
  },
  {
   "cell_type": "code",
   "execution_count": 43,
   "metadata": {
    "ExecuteTime": {
     "end_time": "2018-04-12T21:53:11.515998Z",
     "start_time": "2018-04-12T21:53:08.723045Z"
    }
   },
   "outputs": [
    {
     "name": "stdout",
     "output_type": "stream",
     "text": [
      "             precision    recall  f1-score   support\n",
      "\n",
      "          0       1.00      1.00      1.00     11529\n",
      "          1       0.90      0.96      0.93       127\n",
      "\n",
      "avg / total       1.00      1.00      1.00     11656\n",
      "\n",
      "[[11515    14]\n",
      " [    5   122]]\n"
     ]
    }
   ],
   "source": [
    "y_val_pred = model.predict(X_val, batch_size=4096)[:,1]\n",
    "y_val_ = data['val_y'].values.squeeze()\n",
    "print(classification_report(y_val_, y_val_pred >= 0.5))\n",
    "print(confusion_matrix(y_val_, y_val_pred >= 0.5))"
   ]
  },
  {
   "cell_type": "code",
   "execution_count": 44,
   "metadata": {
    "ExecuteTime": {
     "end_time": "2018-04-12T21:45:49.865322Z",
     "start_time": "2018-04-12T21:45:47.406682Z"
    }
   },
   "outputs": [
    {
     "data": {
      "text/html": [
       "<div>\n",
       "<style scoped>\n",
       "    .dataframe tbody tr th:only-of-type {\n",
       "        vertical-align: middle;\n",
       "    }\n",
       "\n",
       "    .dataframe tbody tr th {\n",
       "        vertical-align: top;\n",
       "    }\n",
       "\n",
       "    .dataframe thead th {\n",
       "        text-align: right;\n",
       "    }\n",
       "</style>\n",
       "<table border=\"1\" class=\"dataframe\">\n",
       "  <thead>\n",
       "    <tr style=\"text-align: right;\">\n",
       "      <th></th>\n",
       "      <th>id1</th>\n",
       "      <th>brand</th>\n",
       "      <th>groupname</th>\n",
       "      <th>title</th>\n",
       "      <th>price</th>\n",
       "      <th>shelfdescr</th>\n",
       "      <th>shortdescr</th>\n",
       "      <th>longdescr</th>\n",
       "      <th>shipweight</th>\n",
       "      <th>length</th>\n",
       "      <th>...</th>\n",
       "      <th>groupname</th>\n",
       "      <th>title</th>\n",
       "      <th>price</th>\n",
       "      <th>shelfdescr</th>\n",
       "      <th>shortdescr</th>\n",
       "      <th>longdescr</th>\n",
       "      <th>shipweight</th>\n",
       "      <th>length</th>\n",
       "      <th>width</th>\n",
       "      <th>height</th>\n",
       "    </tr>\n",
       "  </thead>\n",
       "  <tbody>\n",
       "    <tr>\n",
       "      <th>1910</th>\n",
       "      <td>11885</td>\n",
       "      <td>green</td>\n",
       "      <td>laptop netbook computer accessories</td>\n",
       "      <td>green onions supply    screen protector for  wide laptop lcd screen  piece transparent</td>\n",
       "      <td>39.95</td>\n",
       "      <td>sold individually</td>\n",
       "      <td>nan</td>\n",
       "      <td>screen protector for 17  laptop lcd screen product details this is   lcd screen protector suited to fit 17  lcd screens or 17 apple  the silicone glue allows for easy attachment while the micro fiber cloth allows for quick cleaning before placement of screen  unique company features  the  surface reduces the glare when viewing the screen under strong light   the hard coating 3h protects the screen from   the liner contains  release tab all of which is silicone glued onto the screen protector which makes it easy to peel   the silicone glue makes for easy attachment or reapplying of   keeps oil and fingerprints off lcd while in   each pack includes  screen protector and micro fiber wiping  customer service support information toll free  product specifications content one 17  screen protector with  high quality japanese made micro fiber  dimensions 14  20   32 33 367mm  228mm thickness  mm  mil</td>\n",
       "      <td>0.0</td>\n",
       "      <td>15.2</td>\n",
       "      <td>...</td>\n",
       "      <td>electronics  general</td>\n",
       "      <td>green onions supply  screen protector for  wide laptop lcd screen  piece transparent</td>\n",
       "      <td>32.88</td>\n",
       "      <td>fits 17 laptops or macbooks reduces lighting problems on reflective screens includes cleaning cloth</td>\n",
       "      <td>screen protector for 17  laptop lcd screen is an  lcd screen protector suited to fit 17  lcd screens or 17 apple  the silicone glue allows for easy attachment while the micro fiber cloth allows for quick cleaning before placement of screen  the  surface reduces the glare when viewing the screen under strong light   hard coating protects the screen from  the liner contains  release tab all of which is silicone glued onto the screen protector which makes it easy to peel  keeps oil and fingerprints off lcd while in  each pack includes  screen protector and micro fiber wiping</td>\n",
       "      <td>key features fits 17 laptops or macbooks reduces lighting problems on reflective screens material pet film with silicone glue protects screen includes cleaning cloth</td>\n",
       "      <td>0.000</td>\n",
       "      <td>0.00</td>\n",
       "      <td>0.0</td>\n",
       "      <td>0.00</td>\n",
       "    </tr>\n",
       "    <tr>\n",
       "      <th>7803</th>\n",
       "      <td>16033</td>\n",
       "      <td>svat</td>\n",
       "      <td>electronics</td>\n",
       "      <td>svat  digital wireless dvr security system with sd card recording long range night visi</td>\n",
       "      <td>438.72</td>\n",
       "      <td>wireless  system allows for easy   gb secure digital card records up to 350 minutes of continuos    wireless  camera has 18 infrared leds to allow up to  night vision  protective aluminum housing allows system to be used year round indoors amp  expandable up to</td>\n",
       "      <td>nan</td>\n",
       "      <td>wireless  system allows for easy setup2 gb secure digital card records up to 350 minutes of continuos   footagewireless  camera has 18 infrared leds to allow up to  night vision rangeprotective aluminum housing allows system to be used year round indoors amp outdoorsexpandable up to  camerasadvanced  settings24 hour recording amp remote control access to adjust settings amp recording schedules24  lifetime live customer supportreceiverupc 871363012081shipping dimensions      shipping weight</td>\n",
       "      <td>0.0</td>\n",
       "      <td>0.0</td>\n",
       "      <td>...</td>\n",
       "      <td>garden  general</td>\n",
       "      <td>svat  digital wireless dvr security system with receiver sd card recording and long range night vision cameras</td>\n",
       "      <td>249.82</td>\n",
       "      <td>record up to 350 min of video and audio on included 2gb sd card advanced motion detection settings includes remote control</td>\n",
       "      <td>svat  digital wireless dvr security system can be used to monitor and record video and audio in any indoor or outdoor space at any time of the  this wireless plug and play system allows for easy set up in  matter of minutes and the included 2gb sd card can record up to 350 minutes of continuous audio and video  the wireless weather resistant camera included with this system has 18 infrared leds that allow you to see up to 40 away in the  ideal for monitoring entrances backyards valuables and employees the system can be used in any situation you</td>\n",
       "      <td>svat  digital wireless dvr security system with receiver and long range night vision cameras record up to 350 min of video and audio on included 2gb sd card long range night vision cameras 40 range compact receiver connects to any tv  intercom camera has protective aluminum housing expandable up to  cameras advanced motion detection settings includes remote control</td>\n",
       "      <td>5.000</td>\n",
       "      <td>11.50</td>\n",
       "      <td>11.0</td>\n",
       "      <td>3.50</td>\n",
       "    </tr>\n",
       "    <tr>\n",
       "      <th>9942</th>\n",
       "      <td>13541</td>\n",
       "      <td>scosche</td>\n",
       "      <td>computer accessories</td>\n",
       "      <td>scosche foldio p2 black leather texture folio case for ipad  ipd2flbk</td>\n",
       "      <td>44.99</td>\n",
       "      <td>leather texture multiple viewing angles folio style protects screen while on the go leather texture folio case for ipad  with multiple viewing  folio style protects screen while on the  three position landscape viewing</td>\n",
       "      <td>nan</td>\n",
       "      <td>the foldio is  leather texture folio case for ipad  with multiple viewing</td>\n",
       "      <td>0.0</td>\n",
       "      <td>13.0</td>\n",
       "      <td>...</td>\n",
       "      <td>mp3 accessories</td>\n",
       "      <td>foldio p2 leather texture folio case for ipad  black</td>\n",
       "      <td>44.88</td>\n",
       "      <td>multiple viewing angles leather texture color black</td>\n",
       "      <td>the foldio is  leather texture folio case for ipad  with multiple viewing</td>\n",
       "      <td>foldio p2 leather texture folio case for ipad  multiple viewing angles leather texture color black</td>\n",
       "      <td>0.770</td>\n",
       "      <td>13.00</td>\n",
       "      <td>9.0</td>\n",
       "      <td>1.00</td>\n",
       "    </tr>\n",
       "    <tr>\n",
       "      <th>5721</th>\n",
       "      <td>13423</td>\n",
       "      <td>startech</td>\n",
       "      <td>electronics</td>\n",
       "      <td>port pci express 1394a firewire adapter card   external  internal pex13943</td>\n",
       "      <td>46.99</td>\n",
       "      <td>easily add  firewire ports to your desktop computer includes  low profile bracket for slimline and small form factor system applications high speed data transfer rates of up to 400 mbits  compliant with pci express specification  hot swap capabilities allows you to connect or disconnect devices without turning off your computer compliant with ieee 1394 openhci specifications  and</td>\n",
       "      <td>nan</td>\n",
       "      <td>this  port pci express 1394a firewire adapter card turns  pci express slot into three external and one internal 1394a ports allowing you to connect portable drives digital camcorders and more to your desktop  the adapter card supports  so you ll be able to plug unplug and swap your firewire peripherals with ease without having to power down the  it also includes  low profile bracket that makes the adapter card suitable for installation in slimline or small micro form factor</td>\n",
       "      <td>0.0</td>\n",
       "      <td>7.1</td>\n",
       "      <td>...</td>\n",
       "      <td>electronics  general</td>\n",
       "      <td>pex13943  port pcie 1394a firewire adapter card</td>\n",
       "      <td>34.88</td>\n",
       "      <td>data transfer rate up to 400 mbps ports    female ieee 1394a firewire external    female ieee 1394a firewire internal form factor  card</td>\n",
       "      <td>this  port pci express 1394a firewire adapter card turns  pci express slot into three external and one internal 1394a ports allowing you to connect portable drives digital camcorders and more to your desktop</td>\n",
       "      <td>data transfer rate up to 400 mbps ports    female ieee 1394a firewire external    female ieee 1394a firewire internal form factor  card platform support pcs and macs</td>\n",
       "      <td>0.250</td>\n",
       "      <td>6.75</td>\n",
       "      <td>6.3</td>\n",
       "      <td>2.25</td>\n",
       "    </tr>\n",
       "    <tr>\n",
       "      <th>9694</th>\n",
       "      <td>11538</td>\n",
       "      <td>simplism</td>\n",
       "      <td>touch screen tablet accessories</td>\n",
       "      <td>simplism leather collection shoulder leather case for ipad deep red</td>\n",
       "      <td>59.99</td>\n",
       "      <td>glare film for ipad protects display from scratches shiny and invisible glare film  film that can be applied repeatedly leveler to squeeze out air bubbles in the</td>\n",
       "      <td>nan</td>\n",
       "      <td>simplism shoulder leather case for ipad protects your ipad from dust and scratches in  luxurious leather  100 genuine leather is used on exterior and the special coating creates glossy and fancy  this finish provides  quality and elegant  addition to the function to protect ipad and absorb impacts as  case this leather case comes with  removable shoulder strap that completes its stylish  you will forget what is inside of the leather case is the latest  gadget  shoulder leather case for ipad is more than just the beautiful  its secret hidden plates absorb shocks and especially the cushioning in the back protects your  as the plates are bigger than the size of ipad the corners should be securely  all the buttons and connectors such as audio jack volume buttons sleep awake button screen rotation lock and dock connector can be accessed without removing from the  simply open the flap and it is ready to  all the sensors are uncovered and so is the speaker you can enjoy music with  flap ...</td>\n",
       "      <td>0.0</td>\n",
       "      <td>14.0</td>\n",
       "      <td>...</td>\n",
       "      <td>mp3 accessories</td>\n",
       "      <td>simplism shoulder case for ipad red</td>\n",
       "      <td>58.76</td>\n",
       "      <td>shoulder case material leather color red</td>\n",
       "      <td>the simplism shoulder case for ipad red protects your ipad from the  conveniently transport your ipad with you anywhere with this shoulder</td>\n",
       "      <td>key features shoulder case material leather color red</td>\n",
       "      <td>0.200</td>\n",
       "      <td>12.00</td>\n",
       "      <td>12.0</td>\n",
       "      <td>9.00</td>\n",
       "    </tr>\n",
       "    <tr>\n",
       "      <th>11310</th>\n",
       "      <td>12192</td>\n",
       "      <td>night owl optics</td>\n",
       "      <td>surveillance cameras</td>\n",
       "      <td>night owl security products  ccd wired color security camera with 60 of cable</td>\n",
       "      <td>89.99</td>\n",
       "      <td>night vision up to 45 compatible with all night owl systems vandal proof  bracket</td>\n",
       "      <td>nan</td>\n",
       "      <td>night vision up to 45  compatible with all night owl systems  vandal proof  bracket</td>\n",
       "      <td>0.0</td>\n",
       "      <td>13.0</td>\n",
       "      <td>...</td>\n",
       "      <td>garden  general</td>\n",
       "      <td>night owl security products ccd wired color security camera with 60 cable</td>\n",
       "      <td>67.82</td>\n",
       "      <td>ccd wired color security camera color black 60 of cable</td>\n",
       "      <td>the night owl security products ccd wired color security camera includes  of cable and provides night vision up to  this security camera is compatible with all night owl</td>\n",
       "      <td>night owl security products ccd wired color security camera color black 60 of cable up to 45 of night vision vandal proof  bracket compatible with all night owl systems</td>\n",
       "      <td>2.800</td>\n",
       "      <td>13.00</td>\n",
       "      <td>11.5</td>\n",
       "      <td>5.50</td>\n",
       "    </tr>\n",
       "    <tr>\n",
       "      <th>4661</th>\n",
       "      <td>7325</td>\n",
       "      <td>usrobotics</td>\n",
       "      <td>networking products</td>\n",
       "      <td>usrobotics usr5637 56k usb faxmodem for windows mac linux</td>\n",
       "      <td>49.99</td>\n",
       "      <td>controller based dongle form factor</td>\n",
       "      <td>nan</td>\n",
       "      <td>us robotics robotics 5637 56k usb modem usr5637 modems</td>\n",
       "      <td>0.0</td>\n",
       "      <td>7.8</td>\n",
       "      <td>...</td>\n",
       "      <td>networking</td>\n",
       "      <td>usrobotics 56k usb  external modem</td>\n",
       "      <td>47.82</td>\n",
       "      <td>delivers superb performance and reliability in  compact flexible form factor</td>\n",
       "      <td>the usrobotics 56k usb modem delivers superb performance and reliability in  compact flexible form</td>\n",
       "      <td>key features broadly compatible across major operating systems including linux windows and macintosh quick connect reduces your connection time to get you online quicker  upstream provides 50 greater upload speeds and is ideal for sending  messages with large attachments supports usrobotics modem on hold application to screen incoming voice calls while online answer calls without losing your internet connection no second phone line is needed</td>\n",
       "      <td>0.600</td>\n",
       "      <td>7.60</td>\n",
       "      <td>6.0</td>\n",
       "      <td>1.50</td>\n",
       "    </tr>\n",
       "    <tr>\n",
       "      <th>2494</th>\n",
       "      <td>16127</td>\n",
       "      <td>panasonic</td>\n",
       "      <td>accessories supplies</td>\n",
       "      <td>panasonic  lightweight headphones with xbs port</td>\n",
       "      <td>4.95</td>\n",
       "      <td>lightweight  design headphones weigh just   without cable xbs port for increased bass response and neodymium magnets for  sound wide headband and  earphones for added listening comfort  driver units 30mm  16 frequency response 16 hz  22 khz</td>\n",
       "      <td>panasonic  lightweight headphones with xbs extra bass system</td>\n",
       "      <td>take your music on the run with panasonic  lightweight     lightweight    click here for  larger image  earphones and  wide headband for added  their large 30 mm diaphragms feature neodymium magnets offering  sound free of the discomfort that can sometimes accompany   the  phones also feature  wide headband for added listening  the phones are equipped with panasonic  xbs acoustic ports which naturally emphasize bass frequencies for rich sound from nearly any  specs driver unit diameter 30 frequency response 16 hz  22 khz weight   without cord xbs yes what  in the box  headphones data</td>\n",
       "      <td>0.0</td>\n",
       "      <td>9.1</td>\n",
       "      <td>...</td>\n",
       "      <td>electronics  general</td>\n",
       "      <td>panasonic lightweight headphones  xbs</td>\n",
       "      <td>9.88</td>\n",
       "      <td>extra bass system acoustic ports and large 30mm drivers provide rich</td>\n",
       "      <td>design minimizes adverse resonances and extra bass system acoustic ports naturally emphasize bass frequencies for rich  large 30mm drivers offer  sound free of harshness and  frequency response is 18hz</td>\n",
       "      <td>nan</td>\n",
       "      <td>0.850</td>\n",
       "      <td>9.10</td>\n",
       "      <td>6.6</td>\n",
       "      <td>1.90</td>\n",
       "    </tr>\n",
       "    <tr>\n",
       "      <th>6540</th>\n",
       "      <td>16059</td>\n",
       "      <td>smead</td>\n",
       "      <td>nan</td>\n",
       "      <td>smead 64259   capacity box bottom hanging file folders letter green 25 box</td>\n",
       "      <td>37.93</td>\n",
       "      <td>satisfaction ensured design is stylish and  functionality that is</td>\n",
       "      <td>nan</td>\n",
       "      <td>ideal for bulky records manuals and  reinforcement strip prevents  tabs and inserts not  assorted  hanging file folder type box bottom expansion  material  11  stock color  standard</td>\n",
       "      <td>0.0</td>\n",
       "      <td>0.0</td>\n",
       "      <td>...</td>\n",
       "      <td>stationery  office machinery</td>\n",
       "      <td>smead capacity box bottom hanging file folders letter green 25 box</td>\n",
       "      <td>30.94</td>\n",
       "      <td>for bulky records manuals and catalogs front and back scoring coated rod tips</td>\n",
       "      <td>protect and organize documents with smead capacity box bottom hanging file  these folders are great for organizing bulky records manuals and  the reinforcement strip prevents  the smead capacity box bottom hanging file folders are scored front and back for easy content</td>\n",
       "      <td>smead capacity box bottom hanging file folders letter green 25 box  expansion area for bulky records manuals and catalogs front and back scoring for quick document removal rod tips coated to slide smoothly slotted for index tabs 11pt stock</td>\n",
       "      <td>4.569</td>\n",
       "      <td>0.00</td>\n",
       "      <td>0.0</td>\n",
       "      <td>0.00</td>\n",
       "    </tr>\n",
       "    <tr>\n",
       "      <th>8799</th>\n",
       "      <td>6722</td>\n",
       "      <td>lowepro</td>\n",
       "      <td>accessories</td>\n",
       "      <td>lowepro apex 100 aw black</td>\n",
       "      <td>44.99</td>\n",
       "      <td>single pocket design provides easy and secure access to camera and accessories memory card pocket so you can quickly find your extra memory cards in the same place every  soft tricot linging and microfiber lined divider to protect the camera amp lcd from scratches padded shoulder strap offers  comfortable carrying solution over long  lowepro  patented all weather cover to protect bag and contents from extreme weather sand dirt</td>\n",
       "      <td>nan</td>\n",
       "      <td>designed for the elements the lowepro apex 100 aw black satisfies even the most discerning adventure  designed for  point and shoot digital cameras or  camcorders the apex 100 aw is lightweight and rugged providing  single pocket design keeping its contents protected in one convenient  main camera compartment has an organizer for extra memory card and an extra  the apex 100 aw also includes   all weather cover tm to offer maximum protection against rain dust and</td>\n",
       "      <td>0.0</td>\n",
       "      <td>6.3</td>\n",
       "      <td>...</td>\n",
       "      <td>photography  general</td>\n",
       "      <td>lowepro apex 100 aw  digital slr camera bag</td>\n",
       "      <td>27.47</td>\n",
       "      <td>lining sliplock attachment loops water resistant outer fabric</td>\n",
       "      <td>designed for today  digital photographer the apex 100 aw accommodates  digital  camera memory card additional batteries and  the entire bag is shielded from rain and dust with lowepro  patented all weather cover making it perfect for the</td>\n",
       "      <td>key features single compartment design all weather cover memory card pocket  lining padded shoulder strap  clips sliplock attachment loops water resistant outer fabric micro fiber cleaning cloth</td>\n",
       "      <td>0.600</td>\n",
       "      <td>6.40</td>\n",
       "      <td>5.3</td>\n",
       "      <td>4.80</td>\n",
       "    </tr>\n",
       "  </tbody>\n",
       "</table>\n",
       "<p>10 rows × 24 columns</p>\n",
       "</div>"
      ],
      "text/plain": [
       "         id1              brand                             groupname  \\\n",
       "1910   11885              green   laptop netbook computer accessories   \n",
       "7803   16033               svat                           electronics   \n",
       "9942   13541            scosche                  computer accessories   \n",
       "5721   13423           startech                           electronics   \n",
       "9694   11538           simplism       touch screen tablet accessories   \n",
       "11310  12192   night owl optics                  surveillance cameras   \n",
       "4661    7325         usrobotics                   networking products   \n",
       "2494   16127          panasonic                  accessories supplies   \n",
       "6540   16059              smead                                   nan   \n",
       "8799    6722            lowepro                           accessories   \n",
       "\n",
       "                                                                                          title  \\\n",
       "1910     green onions supply    screen protector for  wide laptop lcd screen  piece transparent   \n",
       "7803    svat  digital wireless dvr security system with sd card recording long range night visi   \n",
       "9942                      scosche foldio p2 black leather texture folio case for ipad  ipd2flbk   \n",
       "5721                 port pci express 1394a firewire adapter card   external  internal pex13943   \n",
       "9694                        simplism leather collection shoulder leather case for ipad deep red   \n",
       "11310             night owl security products  ccd wired color security camera with 60 of cable   \n",
       "4661                                  usrobotics usr5637 56k usb faxmodem for windows mac linux   \n",
       "2494                                            panasonic  lightweight headphones with xbs port   \n",
       "6540                 smead 64259   capacity box bottom hanging file folders letter green 25 box   \n",
       "8799                                                                  lowepro apex 100 aw black   \n",
       "\n",
       "        price  \\\n",
       "1910    39.95   \n",
       "7803   438.72   \n",
       "9942    44.99   \n",
       "5721    46.99   \n",
       "9694    59.99   \n",
       "11310   89.99   \n",
       "4661    49.99   \n",
       "2494     4.95   \n",
       "6540    37.93   \n",
       "8799    44.99   \n",
       "\n",
       "                                                                                                                                                                                                                                                                                                                                                                                                                                             shelfdescr  \\\n",
       "1910                                                                                                                                                                                                                                                                                                                                                                                                                                  sold individually   \n",
       "7803                                                                                                                                                                            wireless  system allows for easy   gb secure digital card records up to 350 minutes of continuos    wireless  camera has 18 infrared leds to allow up to  night vision  protective aluminum housing allows system to be used year round indoors amp  expandable up to     \n",
       "9942                                                                                                                                                                                                                         leather texture multiple viewing angles folio style protects screen while on the go leather texture folio case for ipad  with multiple viewing  folio style protects screen while on the  three position landscape viewing   \n",
       "5721                                                    easily add  firewire ports to your desktop computer includes  low profile bracket for slimline and small form factor system applications high speed data transfer rates of up to 400 mbits  compliant with pci express specification  hot swap capabilities allows you to connect or disconnect devices without turning off your computer compliant with ieee 1394 openhci specifications  and    \n",
       "9694                                                                                                                                                                                                                                                                                 glare film for ipad protects display from scratches shiny and invisible glare film  film that can be applied repeatedly leveler to squeeze out air bubbles in the    \n",
       "11310                                                                                                                                                                                                                                                                                                                                                                 night vision up to 45 compatible with all night owl systems vandal proof  bracket   \n",
       "4661                                                                                                                                                                                                                                                                                                                                                                                                                controller based dongle form factor   \n",
       "2494                                                                                                                                                                                                   lightweight  design headphones weigh just   without cable xbs port for increased bass response and neodymium magnets for  sound wide headband and  earphones for added listening comfort  driver units 30mm  16 frequency response 16 hz  22 khz   \n",
       "6540                                                                                                                                                                                                                                                                                                                                                                                 satisfaction ensured design is stylish and  functionality that is    \n",
       "8799    single pocket design provides easy and secure access to camera and accessories memory card pocket so you can quickly find your extra memory cards in the same place every  soft tricot linging and microfiber lined divider to protect the camera amp lcd from scratches padded shoulder strap offers  comfortable carrying solution over long  lowepro  patented all weather cover to protect bag and contents from extreme weather sand dirt    \n",
       "\n",
       "                                                          shortdescr  \\\n",
       "1910                                                             nan   \n",
       "7803                                                             nan   \n",
       "9942                                                             nan   \n",
       "5721                                                             nan   \n",
       "9694                                                             nan   \n",
       "11310                                                            nan   \n",
       "4661                                                             nan   \n",
       "2494    panasonic  lightweight headphones with xbs extra bass system   \n",
       "6540                                                             nan   \n",
       "8799                                                             nan   \n",
       "\n",
       "                                                                                                                                                                                                                                                                                                                                                                                                                                                                                                                                                                                                                                                                                                                                                                                                                                                                                                                                                                                                                                     longdescr  \\\n",
       "1910                                                                                                  screen protector for 17  laptop lcd screen product details this is   lcd screen protector suited to fit 17  lcd screens or 17 apple  the silicone glue allows for easy attachment while the micro fiber cloth allows for quick cleaning before placement of screen  unique company features  the  surface reduces the glare when viewing the screen under strong light   the hard coating 3h protects the screen from   the liner contains  release tab all of which is silicone glued onto the screen protector which makes it easy to peel   the silicone glue makes for easy attachment or reapplying of   keeps oil and fingerprints off lcd while in   each pack includes  screen protector and micro fiber wiping  customer service support information toll free  product specifications content one 17  screen protector with  high quality japanese made micro fiber  dimensions 14  20   32 33 367mm  228mm thickness  mm  mil   \n",
       "7803                                                                                                                                                                                                                                                                                                                                                                                                                                                                                                                           wireless  system allows for easy setup2 gb secure digital card records up to 350 minutes of continuos   footagewireless  camera has 18 infrared leds to allow up to  night vision rangeprotective aluminum housing allows system to be used year round indoors amp outdoorsexpandable up to  camerasadvanced  settings24 hour recording amp remote control access to adjust settings amp recording schedules24  lifetime live customer supportreceiverupc 871363012081shipping dimensions      shipping weight    \n",
       "9942                                                                                                                                                                                                                                                                                                                                                                                                                                                                                                                                                                                                                                                                                                                                                                                                                                                                                                                                                                the foldio is  leather texture folio case for ipad  with multiple viewing    \n",
       "5721                                                                                                                                                                                                                                                                                                                                                                                                                                                                                                                                           this  port pci express 1394a firewire adapter card turns  pci express slot into three external and one internal 1394a ports allowing you to connect portable drives digital camcorders and more to your desktop  the adapter card supports  so you ll be able to plug unplug and swap your firewire peripherals with ease without having to power down the  it also includes  low profile bracket that makes the adapter card suitable for installation in slimline or small micro form factor    \n",
       "9694    simplism shoulder leather case for ipad protects your ipad from dust and scratches in  luxurious leather  100 genuine leather is used on exterior and the special coating creates glossy and fancy  this finish provides  quality and elegant  addition to the function to protect ipad and absorb impacts as  case this leather case comes with  removable shoulder strap that completes its stylish  you will forget what is inside of the leather case is the latest  gadget  shoulder leather case for ipad is more than just the beautiful  its secret hidden plates absorb shocks and especially the cushioning in the back protects your  as the plates are bigger than the size of ipad the corners should be securely  all the buttons and connectors such as audio jack volume buttons sleep awake button screen rotation lock and dock connector can be accessed without removing from the  simply open the flap and it is ready to  all the sensors are uncovered and so is the speaker you can enjoy music with  flap ...   \n",
       "11310                                                                                                                                                                                                                                                                                                                                                                                                                                                                                                                                                                                                                                                                                                                                                                                                                                                                                                                                                      night vision up to 45  compatible with all night owl systems  vandal proof  bracket   \n",
       "4661                                                                                                                                                                                                                                                                                                                                                                                                                                                                                                                                                                                                                                                                                                                                                                                                                                                                                                                                                                                    us robotics robotics 5637 56k usb modem usr5637 modems   \n",
       "2494                                                                                                                                                                                                                                                                                                                                                                                                                           take your music on the run with panasonic  lightweight     lightweight    click here for  larger image  earphones and  wide headband for added  their large 30 mm diaphragms feature neodymium magnets offering  sound free of the discomfort that can sometimes accompany   the  phones also feature  wide headband for added listening  the phones are equipped with panasonic  xbs acoustic ports which naturally emphasize bass frequencies for rich sound from nearly any  specs driver unit diameter 30 frequency response 16 hz  22 khz weight   without cord xbs yes what  in the box  headphones data    \n",
       "6540                                                                                                                                                                                                                                                                                                                                                                                                                                                                                                                                                                                                                                                                                                                                                                                                                                                    ideal for bulky records manuals and  reinforcement strip prevents  tabs and inserts not  assorted  hanging file folder type box bottom expansion  material  11  stock color  standard    \n",
       "8799                                                                                                                                                                                                                                                                                                                                                                                                                                                                                                                                                       designed for the elements the lowepro apex 100 aw black satisfies even the most discerning adventure  designed for  point and shoot digital cameras or  camcorders the apex 100 aw is lightweight and rugged providing  single pocket design keeping its contents protected in one convenient  main camera compartment has an organizer for extra memory card and an extra  the apex 100 aw also includes   all weather cover tm to offer maximum protection against rain dust and    \n",
       "\n",
       "       shipweight length  ...                        groupname  \\\n",
       "1910          0.0   15.2  ...             electronics  general   \n",
       "7803          0.0    0.0  ...                  garden  general   \n",
       "9942          0.0   13.0  ...                  mp3 accessories   \n",
       "5721          0.0    7.1  ...             electronics  general   \n",
       "9694          0.0   14.0  ...                  mp3 accessories   \n",
       "11310         0.0   13.0  ...                  garden  general   \n",
       "4661          0.0    7.8  ...                       networking   \n",
       "2494          0.0    9.1  ...             electronics  general   \n",
       "6540          0.0    0.0  ...     stationery  office machinery   \n",
       "8799          0.0    6.3  ...             photography  general   \n",
       "\n",
       "                                                                                                                 title  \\\n",
       "1910                              green onions supply  screen protector for  wide laptop lcd screen  piece transparent   \n",
       "7803    svat  digital wireless dvr security system with receiver sd card recording and long range night vision cameras   \n",
       "9942                                                              foldio p2 leather texture folio case for ipad  black   \n",
       "5721                                                                   pex13943  port pcie 1394a firewire adapter card   \n",
       "9694                                                                               simplism shoulder case for ipad red   \n",
       "11310                                        night owl security products ccd wired color security camera with 60 cable   \n",
       "4661                                                                                usrobotics 56k usb  external modem   \n",
       "2494                                                                            panasonic lightweight headphones  xbs    \n",
       "6540                                                smead capacity box bottom hanging file folders letter green 25 box   \n",
       "8799                                                                       lowepro apex 100 aw  digital slr camera bag   \n",
       "\n",
       "        price  \\\n",
       "1910    32.88   \n",
       "7803   249.82   \n",
       "9942    44.88   \n",
       "5721    34.88   \n",
       "9694    58.76   \n",
       "11310   67.82   \n",
       "4661    47.82   \n",
       "2494     9.88   \n",
       "6540    30.94   \n",
       "8799    27.47   \n",
       "\n",
       "                                                                                                                                     shelfdescr  \\\n",
       "1910                                        fits 17 laptops or macbooks reduces lighting problems on reflective screens includes cleaning cloth   \n",
       "7803                 record up to 350 min of video and audio on included 2gb sd card advanced motion detection settings includes remote control   \n",
       "9942                                                                                        multiple viewing angles leather texture color black   \n",
       "5721    data transfer rate up to 400 mbps ports    female ieee 1394a firewire external    female ieee 1394a firewire internal form factor  card   \n",
       "9694                                                                                                   shoulder case material leather color red   \n",
       "11310                                                                                   ccd wired color security camera color black 60 of cable   \n",
       "4661                                                               delivers superb performance and reliability in  compact flexible form factor   \n",
       "2494                                                                      extra bass system acoustic ports and large 30mm drivers provide rich    \n",
       "6540                                                              for bulky records manuals and catalogs front and back scoring coated rod tips   \n",
       "8799                                                                              lining sliplock attachment loops water resistant outer fabric   \n",
       "\n",
       "                                                                                                                                                                                                                                                                                                                                                                                                                                                                                                                                                                                                    shortdescr  \\\n",
       "1910       screen protector for 17  laptop lcd screen is an  lcd screen protector suited to fit 17  lcd screens or 17 apple  the silicone glue allows for easy attachment while the micro fiber cloth allows for quick cleaning before placement of screen  the  surface reduces the glare when viewing the screen under strong light   hard coating protects the screen from  the liner contains  release tab all of which is silicone glued onto the screen protector which makes it easy to peel  keeps oil and fingerprints off lcd while in  each pack includes  screen protector and micro fiber wiping    \n",
       "7803                                   svat  digital wireless dvr security system can be used to monitor and record video and audio in any indoor or outdoor space at any time of the  this wireless plug and play system allows for easy set up in  matter of minutes and the included 2gb sd card can record up to 350 minutes of continuous audio and video  the wireless weather resistant camera included with this system has 18 infrared leds that allow you to see up to 40 away in the  ideal for monitoring entrances backyards valuables and employees the system can be used in any situation you    \n",
       "9942                                                                                                                                                                                                                                                                                                                                                                                                                                                                                                                                the foldio is  leather texture folio case for ipad  with multiple viewing    \n",
       "5721                                                                                                                                                                                                                                                                                                                                                                                          this  port pci express 1394a firewire adapter card turns  pci express slot into three external and one internal 1394a ports allowing you to connect portable drives digital camcorders and more to your desktop    \n",
       "9694                                                                                                                                                                                                                                                                                                                                                                                                                                                               the simplism shoulder case for ipad red protects your ipad from the  conveniently transport your ipad with you anywhere with this shoulder    \n",
       "11310                                                                                                                                                                                                                                                                                                                                                                                                                               the night owl security products ccd wired color security camera includes  of cable and provides night vision up to  this security camera is compatible with all night owl    \n",
       "4661                                                                                                                                                                                                                                                                                                                                                                                                                                                                                                       the usrobotics 56k usb modem delivers superb performance and reliability in  compact flexible form    \n",
       "2494                                                                                                                                                                                                                                                                                                                                                                                               design minimizes adverse resonances and extra bass system acoustic ports naturally emphasize bass frequencies for rich  large 30mm drivers offer  sound free of harshness and  frequency response is 18hz     \n",
       "6540                                                                                                                                                                                                                                                                                                                            protect and organize documents with smead capacity box bottom hanging file  these folders are great for organizing bulky records manuals and  the reinforcement strip prevents  the smead capacity box bottom hanging file folders are scored front and back for easy content    \n",
       "8799                                                                                                                                                                                                                                                                                                                                                            designed for today  digital photographer the apex 100 aw accommodates  digital  camera memory card additional batteries and  the entire bag is shielded from rain and dust with lowepro  patented all weather cover making it perfect for the    \n",
       "\n",
       "                                                                                                                                                                                                                                                                                                                                                                                                                                                            longdescr  \\\n",
       "1910                                                                                                                                                                                                                                                                                            key features fits 17 laptops or macbooks reduces lighting problems on reflective screens material pet film with silicone glue protects screen includes cleaning cloth   \n",
       "7803                                                                                  svat  digital wireless dvr security system with receiver and long range night vision cameras record up to 350 min of video and audio on included 2gb sd card long range night vision cameras 40 range compact receiver connects to any tv  intercom camera has protective aluminum housing expandable up to  cameras advanced motion detection settings includes remote control   \n",
       "9942                                                                                                                                                                                                                                                                                                                                                               foldio p2 leather texture folio case for ipad  multiple viewing angles leather texture color black   \n",
       "5721                                                                                                                                                                                                                                                                                            data transfer rate up to 400 mbps ports    female ieee 1394a firewire external    female ieee 1394a firewire internal form factor  card platform support pcs and macs   \n",
       "9694                                                                                                                                                                                                                                                                                                                                                                                                            key features shoulder case material leather color red   \n",
       "11310                                                                                                                                                                                                                                                                                        night owl security products ccd wired color security camera color black 60 of cable up to 45 of night vision vandal proof  bracket compatible with all night owl systems   \n",
       "4661    key features broadly compatible across major operating systems including linux windows and macintosh quick connect reduces your connection time to get you online quicker  upstream provides 50 greater upload speeds and is ideal for sending  messages with large attachments supports usrobotics modem on hold application to screen incoming voice calls while online answer calls without losing your internet connection no second phone line is needed   \n",
       "2494                                                                                                                                                                                                                                                                                                                                                                                                                                                              nan   \n",
       "6540                                                                                                                                                                                                                  smead capacity box bottom hanging file folders letter green 25 box  expansion area for bulky records manuals and catalogs front and back scoring for quick document removal rod tips coated to slide smoothly slotted for index tabs 11pt stock   \n",
       "8799                                                                                                                                                                                                                                                               key features single compartment design all weather cover memory card pocket  lining padded shoulder strap  clips sliplock attachment loops water resistant outer fabric micro fiber cleaning cloth   \n",
       "\n",
       "       shipweight length width height  \n",
       "1910        0.000   0.00   0.0   0.00  \n",
       "7803        5.000  11.50  11.0   3.50  \n",
       "9942        0.770  13.00   9.0   1.00  \n",
       "5721        0.250   6.75   6.3   2.25  \n",
       "9694        0.200  12.00  12.0   9.00  \n",
       "11310       2.800  13.00  11.5   5.50  \n",
       "4661        0.600   7.60   6.0   1.50  \n",
       "2494        0.850   9.10   6.6   1.90  \n",
       "6540        4.569   0.00   0.0   0.00  \n",
       "8799        0.600   6.40   5.3   4.80  \n",
       "\n",
       "[10 rows x 24 columns]"
      ]
     },
     "execution_count": 44,
     "metadata": {},
     "output_type": "execute_result"
    }
   ],
   "source": [
    "mapping = map.copy()\n",
    "bool_mask = (y_val_ == 1) & (y_val_pred >= 0.5)\n",
    "columns = ['brand', 'groupname', 'title', 'shelfdescr',\n",
    "           'shortdescr', 'longdescr']\n",
    "df_examine = hp.examine_data(data['val_1'], data['val_2'], columns, bool_mask, mapping)\n",
    "df_examine.sample(10)"
   ]
  },
  {
   "cell_type": "markdown",
   "metadata": {},
   "source": [
    "# Save model and histories "
   ]
  },
  {
   "cell_type": "code",
   "execution_count": 45,
   "metadata": {
    "ExecuteTime": {
     "end_time": "2018-04-12T21:51:21.415206Z",
     "start_time": "2018-04-12T21:51:21.050809Z"
    },
    "collapsed": true
   },
   "outputs": [],
   "source": [
    "pd.DataFrame(histories).to_csv('../data/histories/amazon-walmart-all-reduced.csv', index=False)\n",
    "model.save_weights('../data/models/amazon-walmart-all-reduced')"
   ]
  },
  {
   "cell_type": "markdown",
   "metadata": {},
   "source": [
    "# Test model "
   ]
  },
  {
   "cell_type": "code",
   "execution_count": 46,
   "metadata": {
    "ExecuteTime": {
     "end_time": "2018-04-12T21:51:26.898830Z",
     "start_time": "2018-04-12T21:51:23.802014Z"
    }
   },
   "outputs": [
    {
     "name": "stdout",
     "output_type": "stream",
     "text": [
      "             precision    recall  f1-score   support\n",
      "\n",
      "          0       1.00      1.00      1.00     11541\n",
      "          1       0.85      0.91      0.88       114\n",
      "\n",
      "avg / total       1.00      1.00      1.00     11655\n",
      "\n",
      "[[11523    18]\n",
      " [   10   104]]\n"
     ]
    }
   ],
   "source": [
    "y_test_pred = model.predict(X_test, batch_size=4096)[:,1]\n",
    "y_test_ = data['test_y'].values.squeeze()\n",
    "print(classification_report(y_test_, y_test_pred >= 0.5))\n",
    "print(confusion_matrix(y_test_, y_test_pred >= 0.5))"
   ]
  }
 ],
 "metadata": {
  "kernelspec": {
   "display_name": "Python 3.6",
   "language": "python",
   "name": "python-36"
  },
  "language_info": {
   "codemirror_mode": {
    "name": "ipython",
    "version": 3
   },
   "file_extension": ".py",
   "mimetype": "text/x-python",
   "name": "python",
   "nbconvert_exporter": "python",
   "pygments_lexer": "ipython3",
   "version": "3.6.4"
  },
  "varInspector": {
   "cols": {
    "lenName": 16,
    "lenType": 16,
    "lenVar": 40
   },
   "kernels_config": {
    "python": {
     "delete_cmd_postfix": "",
     "delete_cmd_prefix": "del ",
     "library": "var_list.py",
     "varRefreshCmd": "print(var_dic_list())"
    },
    "r": {
     "delete_cmd_postfix": ") ",
     "delete_cmd_prefix": "rm(",
     "library": "var_list.r",
     "varRefreshCmd": "cat(var_dic_list()) "
    }
   },
   "types_to_exclude": [
    "module",
    "function",
    "builtin_function_or_method",
    "instance",
    "_Feature"
   ],
   "window_display": false
  }
 },
 "nbformat": 4,
 "nbformat_minor": 2
}
