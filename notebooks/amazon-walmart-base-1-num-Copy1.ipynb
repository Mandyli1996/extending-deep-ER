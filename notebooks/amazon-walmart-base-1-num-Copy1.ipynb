{
 "cells": [
  {
   "cell_type": "code",
   "execution_count": 1,
   "metadata": {
    "ExecuteTime": {
     "end_time": "2018-04-12T22:59:58.825686Z",
     "start_time": "2018-04-12T22:59:56.376803Z"
    }
   },
   "outputs": [
    {
     "name": "stderr",
     "output_type": "stream",
     "text": [
      "Using TensorFlow backend.\n"
     ]
    }
   ],
   "source": [
    "import sys\n",
    "import os\n",
    "import re\n",
    "sys.path.append('../scripts')\n",
    "\n",
    "import numpy as np\n",
    "import pandas as pd\n",
    "import matplotlib.pyplot as plt\n",
    "import seaborn as sns\n",
    "import helpers as hp\n",
    "import pickle as pkl\n",
    "import itertools as it\n",
    "\n",
    "from collections import OrderedDict, defaultdict\n",
    "\n",
    "from sklearn.metrics import f1_score, precision_score, recall_score,\\\n",
    "                            average_precision_score, roc_auc_score,\\\n",
    "                            roc_curve, precision_recall_curve, confusion_matrix,\\\n",
    "                            accuracy_score, classification_report\n",
    "\n",
    "from IPython.core.interactiveshell import InteractiveShell\n",
    "from matplotlib import rcParams\n",
    "from importlib import reload\n",
    "from model_generator import deep_er_model_generator\n",
    "pd.options.display.max_colwidth = 1000\n",
    "\n",
    "rcParams['font.family'] = 'serif'\n",
    "rcParams['font.serif'] = 'times new roman'\n",
    "\n",
    "%config InlineBackend.figure_format = 'retina'\n",
    "%matplotlib inline"
   ]
  },
  {
   "cell_type": "markdown",
   "metadata": {},
   "source": [
    "# Load data "
   ]
  },
  {
   "cell_type": "code",
   "execution_count": 2,
   "metadata": {
    "ExecuteTime": {
     "end_time": "2018-04-12T23:00:28.383826Z",
     "start_time": "2018-04-12T22:59:58.843356Z"
    },
    "collapsed": true
   },
   "outputs": [],
   "source": [
    "reload(hp)\n",
    "\n",
    "with open('../data/converted/amazon-walmart-reduced/glove-300.map', 'rb') as f:\n",
    "    map = pkl.load(f)\n",
    "\n",
    "data_dir = os.path.join('..','data')\n",
    "source_dir = os.path.join(data_dir,'split','amazon-walmart-reduced')\n",
    "data = hp.load_data(source_dir)\n",
    "\n",
    "datasets = ['train_1', 'val_1', 'test_1', 'train_2', 'val_2', 'test_2']\n",
    "\n",
    "for data_name in data.keys():\n",
    "    data[data_name] = data[data_name].fillna(0)\n",
    "\n",
    "doc_freqs_1, doc_freqs_2 = hp.get_document_frequencies('../data/converted/amazon-walmart-reduced/', mapping=map)\n",
    "nan_idx = map['word2idx']['NaN']"
   ]
  },
  {
   "cell_type": "markdown",
   "metadata": {},
   "source": [
    "# Generate model"
   ]
  },
  {
   "cell_type": "code",
   "execution_count": 5,
   "metadata": {
    "ExecuteTime": {
     "end_time": "2018-04-12T23:01:27.907405Z",
     "start_time": "2018-04-12T23:01:18.625565Z"
    }
   },
   "outputs": [
    {
     "name": "stdout",
     "output_type": "stream",
     "text": [
      "Number of inputs to dense layer: 43\n"
     ]
    }
   ],
   "source": [
    "histories = dict(acc=list(), val_acc=list(), loss=list(), val_loss=list())\n",
    "model, X_train, X_val, X_test, y_train, y_val, y_test = \\\n",
    "deep_er_model_generator(data,\n",
    "                        embedding_file = '../data/converted/amazon-walmart-reduced/glove-300.matrix.npy',\n",
    "                        text_columns = ['brand', 'groupname', 'title', 'shelfdescr',\n",
    "                                        'shortdescr', 'longdescr'],\n",
    "                        numeric_columns = ['price', 'shipweight', 'length',\n",
    "                                           'width', 'height'],\n",
    "                        text_nan_idx=nan_idx,\n",
    "                        num_nan_val=0,\n",
    "                        text_sim_metrics=['cosine'],\n",
    "                        text_compositions=['average'],\n",
    "                        numeric_sim_metrics=['min_max_ratio',\n",
    "                                             'unscaled_inverse_lp',\n",
    "                                             'scaled_inverse_lp'],\n",
    "                        dense_nodes=[32, 16, 8],\n",
    "                        document_frequencies=(doc_freqs_1, doc_freqs_2),\n",
    "                        idf_smoothing=2,\n",
    "                        make_isna=True)"
   ]
  },
  {
   "cell_type": "markdown",
   "metadata": {},
   "source": [
    "# Train model"
   ]
  },
  {
   "cell_type": "code",
   "execution_count": 25,
   "metadata": {
    "ExecuteTime": {
     "end_time": "2018-04-12T23:08:18.675565Z",
     "start_time": "2018-04-12T23:07:44.860329Z"
    }
   },
   "outputs": [
    {
     "name": "stdout",
     "output_type": "stream",
     "text": [
      "Train on 93243 samples, validate on 11656 samples\n",
      "Epoch 1/1\n",
      "93243/93243 [==============================] - 34s 360us/step - loss: 0.0079 - acc: 0.9973 - val_loss: 0.0083 - val_acc: 0.9976\n"
     ]
    }
   ],
   "source": [
    "model.compile(optimizer='adam', loss='binary_crossentropy', metrics=['acc'])\n",
    "history = model.fit(X_train, y_train, epochs=1, batch_size=128,\n",
    "                    validation_data=(X_val, y_val),\n",
    "                    shuffle=True)\n",
    "\n",
    "histories['acc'].extend(history.history['acc'])\n",
    "histories['val_acc'].extend(history.history['val_acc'])\n",
    "histories['loss'].extend(history.history['loss'])\n",
    "histories['val_loss'].extend(history.history['val_loss'])"
   ]
  },
  {
   "cell_type": "markdown",
   "metadata": {},
   "source": [
    "# Learning curves"
   ]
  },
  {
   "cell_type": "code",
   "execution_count": 27,
   "metadata": {
    "ExecuteTime": {
     "end_time": "2018-04-12T23:08:30.485923Z",
     "start_time": "2018-04-12T23:08:30.098768Z"
    }
   },
   "outputs": [
    {
     "data": {
      "image/png": "[encoded data removed]",
      "text/plain": [
       "<matplotlib.figure.Figure at 0x1a71392cc0>"
      ]
     },
     "metadata": {
      "image/png": {
       "height": 371,
       "width": 933
      }
     },
     "output_type": "display_data"
    }
   ],
   "source": [
    "fig, axes = plt.subplots(1, 2, figsize=(16,6))\n",
    "axes[0].plot(histories['loss'], label='loss')\n",
    "axes[0].plot(histories['val_loss'], label='val_loss')\n",
    "axes[1].plot(histories['acc'], label='acc')\n",
    "axes[1].plot(histories['val_acc'], label='val_acc')\n",
    "\n",
    "for ax in axes:\n",
    "    ax.legend()\n",
    "    ax.grid(True)\n",
    "    ax.set(xlabel='epoch')"
   ]
  },
  {
   "cell_type": "markdown",
   "metadata": {},
   "source": [
    "# Evaluate model "
   ]
  },
  {
   "cell_type": "code",
   "execution_count": 28,
   "metadata": {
    "ExecuteTime": {
     "end_time": "2018-04-12T23:08:41.289426Z",
     "start_time": "2018-04-12T23:08:37.401059Z"
    },
    "collapsed": true
   },
   "outputs": [],
   "source": [
    "y_val_pred = model.predict(X_val)[:,1]\n",
    "y_val_ = data['val_y'].values.squeeze()"
   ]
  },
  {
   "cell_type": "code",
   "execution_count": 29,
   "metadata": {
    "ExecuteTime": {
     "end_time": "2018-04-12T23:08:43.282419Z",
     "start_time": "2018-04-12T23:08:43.246697Z"
    }
   },
   "outputs": [
    {
     "name": "stdout",
     "output_type": "stream",
     "text": [
      "             precision    recall  f1-score   support\n",
      "\n",
      "          0       1.00      1.00      1.00     11529\n",
      "          1       0.97      0.80      0.88       127\n",
      "\n",
      "avg / total       1.00      1.00      1.00     11656\n",
      "\n",
      "[[11526     3]\n",
      " [   25   102]]\n"
     ]
    }
   ],
   "source": [
    "print(classification_report(y_val_, y_val_pred >= 0.5))\n",
    "print(confusion_matrix(y_val_, y_val_pred >= 0.5))"
   ]
  },
  {
   "cell_type": "code",
   "execution_count": 49,
   "metadata": {
    "ExecuteTime": {
     "end_time": "2018-04-12T21:45:49.865322Z",
     "start_time": "2018-04-12T21:45:47.406682Z"
    },
    "collapsed": true
   },
   "outputs": [],
   "source": [
    "mapping = map.copy()\n",
    "bool_mask = (y_val_ == 1) & ~(y_val_pred >= 0.5)\n",
    "columns = ['brand', 'groupname', 'title', 'shelfdescr',\n",
    "           'shortdescr', 'longdescr']\n",
    "df_examine = hp.examine_data(data['val_1'], data['val_2'], columns, bool_mask, mapping)"
   ]
  },
  {
   "cell_type": "code",
   "execution_count": 50,
   "metadata": {
    "ExecuteTime": {
     "end_time": "2018-04-12T21:45:54.231091Z",
     "start_time": "2018-04-12T21:45:54.179173Z"
    },
    "scrolled": true
   },
   "outputs": [
    {
     "data": {
      "text/html": [
       "<div>\n",
       "<style>\n",
       "    .dataframe thead tr:only-child th {\n",
       "        text-align: right;\n",
       "    }\n",
       "\n",
       "    .dataframe thead th {\n",
       "        text-align: left;\n",
       "    }\n",
       "\n",
       "    .dataframe tbody tr th {\n",
       "        vertical-align: top;\n",
       "    }\n",
       "</style>\n",
       "<table border=\"1\" class=\"dataframe\">\n",
       "  <thead>\n",
       "    <tr style=\"text-align: right;\">\n",
       "      <th></th>\n",
       "      <th>id1</th>\n",
       "      <th>brand</th>\n",
       "      <th>groupname</th>\n",
       "      <th>title</th>\n",
       "      <th>price</th>\n",
       "      <th>shelfdescr</th>\n",
       "      <th>shortdescr</th>\n",
       "      <th>longdescr</th>\n",
       "      <th>shipweight</th>\n",
       "      <th>length</th>\n",
       "      <th>...</th>\n",
       "      <th>groupname</th>\n",
       "      <th>title</th>\n",
       "      <th>price</th>\n",
       "      <th>shelfdescr</th>\n",
       "      <th>shortdescr</th>\n",
       "      <th>longdescr</th>\n",
       "      <th>shipweight</th>\n",
       "      <th>length</th>\n",
       "      <th>width</th>\n",
       "      <th>height</th>\n",
       "    </tr>\n",
       "  </thead>\n",
       "  <tbody>\n",
       "    <tr>\n",
       "      <th>4661</th>\n",
       "      <td>7325</td>\n",
       "      <td>usrobotics</td>\n",
       "      <td>networking products</td>\n",
       "      <td>usrobotics usr5637 56k usb faxmodem for windows mac linux</td>\n",
       "      <td>49.99</td>\n",
       "      <td>controller based dongle form factor</td>\n",
       "      <td>nan</td>\n",
       "      <td>us robotics robotics 5637 56k usb modem usr5637 modems</td>\n",
       "      <td>0.0</td>\n",
       "      <td>7.8</td>\n",
       "      <td>...</td>\n",
       "      <td>networking</td>\n",
       "      <td>usrobotics 56k usb  external modem</td>\n",
       "      <td>47.82</td>\n",
       "      <td>delivers superb performance and reliability in  compact flexible form factor</td>\n",
       "      <td>the usrobotics 56k usb modem delivers superb performance and reliability in  compact flexible form</td>\n",
       "      <td>key features broadly compatible across major operating systems including linux windows and macintosh quick connect reduces your connection time to get you online quicker  upstream provides 50 greater upload speeds and is ideal for sending  messages with large attachments supports usrobotics modem on hold application to screen incoming voice calls while online answer calls without losing your internet connection no second phone line is needed</td>\n",
       "      <td>0.600</td>\n",
       "      <td>7.600</td>\n",
       "      <td>6.00</td>\n",
       "      <td>1.500</td>\n",
       "    </tr>\n",
       "    <tr>\n",
       "      <th>9125</th>\n",
       "      <td>8092</td>\n",
       "      <td>tomtom</td>\n",
       "      <td>vehicle gps</td>\n",
       "      <td>tomtom via 1505t  portable gps navigator with lifetime traffic</td>\n",
       "      <td>179.95</td>\n",
       "      <td>get over  million more miles of mapped roads in the us outsmart delays with free lifetime traffic updates without advertising navigate with ease using premium maps of the us canada amp mexico travel in style with the new slim design and integrated fold and go easyport mount plan routes easily with smarter user interface on  bright  touchscreen</td>\n",
       "      <td>tomtom via 1505t  portable gps navigator with lifetime traffic</td>\n",
       "      <td>the via story hit the road  and  the new  tomtom via series holds the latest navigation technology in  fresh sleek design including an integrated fold amp go easyport  travel confidently with superior routing and the most accurate dependable maps in the gps  in fact tomtom gives you one million more miles of mapped roads in the us  the via range offers  large array of unique  lifetime traffic and map updates bluetooth  calling and natural voice recognition with  destination address  at affordable  the tomtom via 1505t introducing the tomtom via 1505t equipped with superior driving  travel with ease and style throughout the us canada amp  this innovative navigator boasts   design classic finish new intuitive user interface and    using tomtom maps you have access to one million more miles of mapped road in the us than you would using any other gps brand  and with tomtom map share  updates you can easily make instant changes and download verified updates from other tomtom users to y...</td>\n",
       "      <td>0.0</td>\n",
       "      <td>5.3</td>\n",
       "      <td>...</td>\n",
       "      <td>gps</td>\n",
       "      <td>tomtoim via 1505t</td>\n",
       "      <td>179.95</td>\n",
       "      <td>lcd widescreen 480  272 pixels spoken street names advanced lane guidance</td>\n",
       "      <td>the tomtom via 1505t portable gps boasts  bright    this innovative navigator also has  super slim design  classic finish and  new intuitive user interface that will assist your travel throughout the us canada and mexico with ease and</td>\n",
       "      <td>tomtom via 1505t  lcd widescreen 480  272 pixels presents information clearly and brightly for optimal navigation spoken street names announces  directions includes us canada and mexico using tomtom  premium maps on demand updates with the latest maps advanced lane guidance never miss your exit includes adhesive disk usb cable usb traffic receiver and home charging cable get started right out of the box battery lasts up to  hours</td>\n",
       "      <td>1.100</td>\n",
       "      <td>7.000</td>\n",
       "      <td>6.90</td>\n",
       "      <td>1.900</td>\n",
       "    </tr>\n",
       "    <tr>\n",
       "      <th>11293</th>\n",
       "      <td>21732</td>\n",
       "      <td>v7</td>\n",
       "      <td>video cables</td>\n",
       "      <td>v7 dvi cable dual link  male to  male black  feet</td>\n",
       "      <td>13.99</td>\n",
       "      <td>cable dvi  to dvi  v7 by belkin</td>\n",
       "      <td>nan</td>\n",
       "      <td>v7 dvi cable  cables</td>\n",
       "      <td>0.0</td>\n",
       "      <td>10.8</td>\n",
       "      <td>...</td>\n",
       "      <td>electronics  general</td>\n",
       "      <td>v7   replacement   dvi cable by belkin</td>\n",
       "      <td>10.88</td>\n",
       "      <td>v7 dvi cables are designed and manufactured to meet and exceed all category specifications to ensure excellent  connectors contacts nickel plated</td>\n",
       "      <td>v7  replacement   dvi cable by belkin</td>\n",
       "      <td>v7 dvi cables are designed and manufactured to meet and exceed all category specifications to ensure excellent  connectors contacts nickel plated</td>\n",
       "      <td>0.350</td>\n",
       "      <td>9.675</td>\n",
       "      <td>7.65</td>\n",
       "      <td>0.675</td>\n",
       "    </tr>\n",
       "    <tr>\n",
       "      <th>6184</th>\n",
       "      <td>19801</td>\n",
       "      <td>lanthem</td>\n",
       "      <td>printer ink toner</td>\n",
       "      <td>time vis6008  vis6008 ribbon purple  lthvis6008</td>\n",
       "      <td>39.08</td>\n",
       "      <td>vis6008 ribbon  for use with latham 900e 1000e 1500e 5000ep 7000e and 7500e electronic time  accurate clear  device types  clock color  purple oem compatible  ribbon type   unit of measure</td>\n",
       "      <td>nan</td>\n",
       "      <td>for use with latham 900e 1000e 1500e 5000ep 7000e and 7500e electronic time  accurate clear  device types time clock color  purple oem compatible oem ribbon type   ribbon 1000e 7000e consumables transfer type printing publishing</td>\n",
       "      <td>0.0</td>\n",
       "      <td>0.0</td>\n",
       "      <td>...</td>\n",
       "      <td>stationery  office machinery</td>\n",
       "      <td>lathem time vis6008 ribbon purple</td>\n",
       "      <td>15.00</td>\n",
       "      <td>for use with latham 1000e and 7000e electronic time recorders</td>\n",
       "      <td>for use with latham 1000e and 7000e electronic time  accurate clear</td>\n",
       "      <td>lathem time vis6008 ribbon purple oem time recorder ribbon for latham 1000e and 7000e electronic time recorders for use with latham 1000e and 7000e electronic time recorders accurate clear output</td>\n",
       "      <td>0.049</td>\n",
       "      <td>0.000</td>\n",
       "      <td>0.00</td>\n",
       "      <td>0.000</td>\n",
       "    </tr>\n",
       "    <tr>\n",
       "      <th>9419</th>\n",
       "      <td>10274</td>\n",
       "      <td></td>\n",
       "      <td>video cables</td>\n",
       "      <td>bell  hd7102 high speed hdmi cables</td>\n",
       "      <td>90.00</td>\n",
       "      <td>hdmi hd7100 series high speed digital   cables 3d ready 24k gold plating provides optimum data   gbps truspeed transfer rate 1080p  our hdmi cables have been independently tested to the speed rating stated for it   lifejacket is designed for high performance both outside and inside your  lifejacket cable covering provides excellent flexibility durability and meets ul cl3 csa ft4 listed for    oxygen free copper  this provides excellent conductivity and corrosion  the copper wire within each cable is precision terminated at the connectors to provide the optimum   for more  furniture wall mounts cables and accessories options by bell  go to</td>\n",
       "      <td>nan</td>\n",
       "      <td>bell  hdmi7100 series hd7102  feet  meter high speed hdmi cables with 180 degree swivel head ethernet and 3d  engineered for superior performance advanced technologies including 3d ready ethernet capability and   gigabit per second transfer rate that exceeds today  standards making these the last cables you ll need for  very long</td>\n",
       "      <td>0.0</td>\n",
       "      <td>11.0</td>\n",
       "      <td>...</td>\n",
       "      <td>tv accessories</td>\n",
       "      <td>bell   hdmi cable with ethernet</td>\n",
       "      <td>69.99</td>\n",
       "      <td>truspeed transfer rate lifejacket ul listed for  installation  swivel connector head</td>\n",
       "      <td>your tv is only as good as the signal it  bell  hdmi cables ensure that all of the audio and video data available reaches your system to bring your experience to  advanced technologies and truspeed tested  gigabit per second transfer rate depending on length exceed today  standards making these the last cables you ll need for  very long</td>\n",
       "      <td>bell   hdmi cable with ethernet   truspeed transfer rate lifejacket ul listed for  installation hdmi ethernet channel audio return channel 1080p hd video  swivel connector head</td>\n",
       "      <td>0.500</td>\n",
       "      <td>80.000</td>\n",
       "      <td>0.50</td>\n",
       "      <td>0.500</td>\n",
       "    </tr>\n",
       "    <tr>\n",
       "      <th>11087</th>\n",
       "      <td>12950</td>\n",
       "      <td></td>\n",
       "      <td>networking products</td>\n",
       "      <td>dgs 1008p  switch  unmanaged    10 100 1000  desktop  poe</td>\n",
       "      <td>179.99</td>\n",
       "      <td>box contents  xtreme  gaming router  detachable antennas ethernet cable power adapter  with installation wizard product documentation and world in conflict content standards  ieee  draft  ieee  ieee  ieee  ieee  and ieee   gigabit lan ports  gigabit wan port and usb port for windows connect now  external reverse sma dualband antennas 64  wep</td>\n",
       "      <td>nan</td>\n",
       "      <td>ethernet switch   port  switches amp bridges</td>\n",
       "      <td>0.0</td>\n",
       "      <td>5.1</td>\n",
       "      <td>...</td>\n",
       "      <td>networking</td>\n",
       "      <td>gigabit ethernet poe switch</td>\n",
       "      <td>179.99</td>\n",
       "      <td>compact design  ports provide poe up to  for  total poe budget of 52w no special networking cables required</td>\n",
       "      <td>the   gigabit ethernet poe switch  enables office users the ability to easily connect and supply power to power over ethernet poe devices such as ip cameras ip phones and wireless access points aps to</td>\n",
       "      <td>gigabit ethernet poe switch  compact design for home and office use  ports provide poe up to  for  total poe budget of 52w no special networking cables required quick simple  installation</td>\n",
       "      <td>3.210</td>\n",
       "      <td>12.920</td>\n",
       "      <td>7.90</td>\n",
       "      <td>4.220</td>\n",
       "    </tr>\n",
       "    <tr>\n",
       "      <th>7575</th>\n",
       "      <td>5042</td>\n",
       "      <td>griffin technology</td>\n",
       "      <td>audio video accessories</td>\n",
       "      <td>griffin na15005 roadtrip handsfree for ipod iphone and smartphones black</td>\n",
       "      <td>99.99</td>\n",
       "      <td>play your ipod or iphone on your car  fm stereo while you recharge its battery  flexible steel neck and  cradle holds your ipod or iphone securely where you want it  easy smartscan  setup finds the best frequency for you  griffin smartsound adjusts the signal for best sound always    controls give you  fingertip control</td>\n",
       "      <td>nan</td>\n",
       "      <td>wireless music transmitting and charging for your ipod and iphone and handsfree calling for your  holds your iphone or ipod securely in place on  flexible steel neck in   cradle that accommodates most cases so you won  even have to take your ipod or iphone out of its case  uses  powerful fm transmitter to send the music wirelessly to your car  fm radio so you and the whole car can enjoy it through your stereo  and while you re enjoying the music your ipod or iphone is enjoying   can also use roadtrip as  handsfree speakerphone in your  roadtrip   microphone picks up your voice and your caller  voice plays through your stereo  roadtrip  handsfree phone features work with iphone and other   innovations and  design make the difference like smartscan  griffin feature that finds the best fm frequency and performs the setup for you and  presets that let you save and recall the most useful fm frequencies with  single button push and griffin smartsound that analyzes the signal and adjusts...</td>\n",
       "      <td>0.0</td>\n",
       "      <td>7.9</td>\n",
       "      <td>...</td>\n",
       "      <td>electronics  general</td>\n",
       "      <td>griffin technology roadtrip</td>\n",
       "      <td>99.99</td>\n",
       "      <td>fm transmitter   microphone caller  voice plays through stereo speakers</td>\n",
       "      <td>live in  house divided listen to your music on an ipod but use  smart phone then roadtrip  is the total music  calling solution for  roadtrip uses  powerful fm transmitter to send the music wirelessly to your car  fm radio so you and the whole car can enjoy it through your stereo  while you re enjoying the music your ipod or iphone is enjoying  battery  when  call comes in on your iphone or smartphone roadtrip becomes   speakerphone in your  roadtrip    microphone picks up your voice and your caller  voice plays through your stereo  roadtrip   phone features work with iphone and other</td>\n",
       "      <td>griffin technology roadtrip  fm transmitter   microphone caller  voice plays through stereo speakers works with iphones and other  phones</td>\n",
       "      <td>0.500</td>\n",
       "      <td>7.500</td>\n",
       "      <td>7.40</td>\n",
       "      <td>2.300</td>\n",
       "    </tr>\n",
       "    <tr>\n",
       "      <th>7026</th>\n",
       "      <td>13660</td>\n",
       "      <td></td>\n",
       "      <td>desk supplies holders dispensers</td>\n",
       "      <td>notes dispenser   inches   inches black includes one original  refill</td>\n",
       "      <td>10.99</td>\n",
       "      <td>made of strong   neutral  size    inch includes one original  refill  neutral</td>\n",
       "      <td>what did you ever do without them  notes dispensers makes it simple to grab one note at   pick  traditional style for the office  trendy style for the home message center or  mounted style for vertical dispensing  having  busy day and need to get more done there   note for that the  x3 size is perfect for writing reminder notes to  work greener today for  brighter tomorrow all  notes are sfi chain of custody certified paper used comes from forests that are  where trees are  all  notes are also recyclable so please remember to  contains  pack of  original  dispenser  x3 in  also try  flag highlighters pens and markers available in  variety of colors and</td>\n",
       "      <td>the  note was invented as  solution without   in 1968  spencer silver  3m scientist developed  unique repositionable  as remarkable as it was the product could not find   six years later colleague art fry recalled silver  seminars promoting the light adhesive when he was daydreaming about  bookmark that would stay put in his church  the rest is  today  boasts more than  000 unique products and has become one of the most  and beloved brands in the  are all  paper products recyclable  3m has conducted recycling trials on  notes at recycled paper  the adhesive does not interfere with paper recycling because the adhesive is substantially removed in the paper   the dyes in the paper are also removed in this part of the  are  notes made from recycled paper  many different colors and sizes of  notes are available with paper containing at least 30 percent  recycled  in addition 3m offers 100 percent recycled content notes in canary yellow and assorted pastel  the 100 percent recycled cont...</td>\n",
       "      <td>0.0</td>\n",
       "      <td>4.2</td>\n",
       "      <td>...</td>\n",
       "      <td>stationery  office machinery</td>\n",
       "      <td>notes professional series dispenser for      notes blk base</td>\n",
       "      <td>9.94</td>\n",
       "      <td>includes  note pad in canary yellow stylish design weighted to prevent lifting</td>\n",
       "      <td>the  notes professional series dispenser allows you to grab  notes quickly and easily with one  its practical design provides  professional look and complements any office</td>\n",
       "      <td>notes professional series dispenser includes  50 sheet    note pad in canary yellow black base weighted to prevent lifting</td>\n",
       "      <td>1.315</td>\n",
       "      <td>0.000</td>\n",
       "      <td>0.00</td>\n",
       "      <td>0.000</td>\n",
       "    </tr>\n",
       "    <tr>\n",
       "      <th>5885</th>\n",
       "      <td>20698</td>\n",
       "      <td>midland</td>\n",
       "      <td>nan</td>\n",
       "      <td>midland  open face helmet headset  boom microphone</td>\n",
       "      <td>39.99</td>\n",
       "      <td></td>\n",
       "      <td>nan</td>\n",
       "      <td>midland  helmet hdset kit  boom mic</td>\n",
       "      <td>0.0</td>\n",
       "      <td>13.8</td>\n",
       "      <td>...</td>\n",
       "      <td>frs</td>\n",
       "      <td>midland  motorcycle microphone speakers for gmrs frs radios</td>\n",
       "      <td>34.79</td>\n",
       "      <td>designed for  helmets and works with all midland gmrs frs</td>\n",
       "      <td>it  designed for  helmets and works with all midland gmrs frs  included are two speakers that attach inside the helmet and  boom microphone that goes inside  also features an  cable and   button that wraps on the motorcycle handle</td>\n",
       "      <td>nan</td>\n",
       "      <td>0.940</td>\n",
       "      <td>12.000</td>\n",
       "      <td>8.00</td>\n",
       "      <td>1.000</td>\n",
       "    </tr>\n",
       "    <tr>\n",
       "      <th>584</th>\n",
       "      <td>9551</td>\n",
       "      <td>roadwired</td>\n",
       "      <td>nan</td>\n",
       "      <td>skooba design skin 1617 for laptops</td>\n",
       "      <td>39.95</td>\n",
       "      <td>unique design allows you to use it as  tote or  sleeve to hold latptops up to         converts from  sleek padded laptop sleeve to  tote with  flip of the flap patented convertibility  protect your laptop while inside another bag or carry it on its own  design lets you put the skin through airport screening without removing your laptop available in  wide variety of colors and fabrics from  to fun and</td>\n",
       "      <td>nan</td>\n",
       "      <td>with  flip of the flap the skooba skin converts from  sleek padded laptop sleeve to  tote or  skooba skin is designed to protect  computer while carried inside another bag or suitcase or to be used on its own for meetings classes or other times when the laptop alone is all that needs to be carried</td>\n",
       "      <td>0.0</td>\n",
       "      <td>16.2</td>\n",
       "      <td>...</td>\n",
       "      <td>electronics  general</td>\n",
       "      <td>skooba design skooba skin 1617 large laptop sleeve in blue microsuede with blue lining</td>\n",
       "      <td>33.99</td>\n",
       "      <td>features  skins may be put through airport screening without removing the laptop from the   to hold laptops up to          design allows you to use it as  tote or     flip of the flap the skooba skin converts from  sleek padded laptop sleeve to  tote or   to protect  computer while carried inside another bag or suitcase or to be used on its   to hold large laptops ranging from  screen   available in blank diy canvas black ballistic silver nylon red black ripstop olive ballistic brown corduroy pink vinyl tangerine microsuede and plum      17     skooba design awards skooba design has won many awards and accolades for their bags their thoughtful designs have won rave reviews and product mentions in pc magazine macworld and laptop magazine just to name</td>\n",
       "      <td>nan</td>\n",
       "      <td>skb1073features  skins may be put through airport screening without removing the laptop from the skin designed to hold laptops up to         unique design allows you to use it as  tote or  sleeve with  flip of the flap the skooba skin converts from  sleek padded laptop sleeve to  tote or  designed to protect  computer while carried inside another bag or suitcase or to be used on its own sized to hold large laptops ranging from  screen size also available in and dimensions    17     skooba design awards skooba design has won many awards and accolades for their bags their thoughtful designs have won rave reviews and product mentions in pc magazine macworld and laptop magazine just to name</td>\n",
       "      <td>3.000</td>\n",
       "      <td>17.000</td>\n",
       "      <td>12.50</td>\n",
       "      <td>2.500</td>\n",
       "    </tr>\n",
       "  </tbody>\n",
       "</table>\n",
       "<p>10 rows × 24 columns</p>\n",
       "</div>"
      ],
      "text/plain": [
       "         id1                brand                          groupname  \\\n",
       "4661    7325           usrobotics                networking products   \n",
       "9125    8092               tomtom                        vehicle gps   \n",
       "11293  21732                   v7                       video cables   \n",
       "6184   19801              lanthem                  printer ink toner   \n",
       "9419   10274                                            video cables   \n",
       "11087  12950                                     networking products   \n",
       "7575    5042   griffin technology            audio video accessories   \n",
       "7026   13660                        desk supplies holders dispensers   \n",
       "5885   20698              midland                                nan   \n",
       "584     9551            roadwired                                nan   \n",
       "\n",
       "                                                                           title  \\\n",
       "4661                   usrobotics usr5637 56k usb faxmodem for windows mac linux   \n",
       "9125              tomtom via 1505t  portable gps navigator with lifetime traffic   \n",
       "11293                          v7 dvi cable dual link  male to  male black  feet   \n",
       "6184                             time vis6008  vis6008 ribbon purple  lthvis6008   \n",
       "9419                                         bell  hd7102 high speed hdmi cables   \n",
       "11087                  dgs 1008p  switch  unmanaged    10 100 1000  desktop  poe   \n",
       "7575    griffin na15005 roadtrip handsfree for ipod iphone and smartphones black   \n",
       "7026       notes dispenser   inches   inches black includes one original  refill   \n",
       "5885                          midland  open face helmet headset  boom microphone   \n",
       "584                                         skooba design skin 1617 for laptops    \n",
       "\n",
       "        price  \\\n",
       "4661    49.99   \n",
       "9125   179.95   \n",
       "11293   13.99   \n",
       "6184    39.08   \n",
       "9419    90.00   \n",
       "11087  179.99   \n",
       "7575    99.99   \n",
       "7026    10.99   \n",
       "5885    39.99   \n",
       "584     39.95   \n",
       "\n",
       "                                                                                                                                                                                                                                                                                                                                                                                                                                                                                                                                                                                                                                                                     shelfdescr  \\\n",
       "4661                                                                                                                                                                                                                                                                                                                                                                                                                                                                                                                                                                                                                                        controller based dongle form factor   \n",
       "9125                                                                                                                                                                                                                                                                                                                  get over  million more miles of mapped roads in the us outsmart delays with free lifetime traffic updates without advertising navigate with ease using premium maps of the us canada amp mexico travel in style with the new slim design and integrated fold and go easyport mount plan routes easily with smarter user interface on  bright  touchscreen   \n",
       "11293                                                                                                                                                                                                                                                                                                                                                                                                                                                                                                                                                                                                                                           cable dvi  to dvi  v7 by belkin   \n",
       "6184                                                                                                                                                                                                                                                                                                                                                                                                                                                                              vis6008 ribbon  for use with latham 900e 1000e 1500e 5000ep 7000e and 7500e electronic time  accurate clear  device types  clock color  purple oem compatible  ribbon type   unit of measure    \n",
       "9419    hdmi hd7100 series high speed digital   cables 3d ready 24k gold plating provides optimum data   gbps truspeed transfer rate 1080p  our hdmi cables have been independently tested to the speed rating stated for it   lifejacket is designed for high performance both outside and inside your  lifejacket cable covering provides excellent flexibility durability and meets ul cl3 csa ft4 listed for    oxygen free copper  this provides excellent conductivity and corrosion  the copper wire within each cable is precision terminated at the connectors to provide the optimum   for more  furniture wall mounts cables and accessories options by bell  go to    \n",
       "11087                                                                                                                                                                                                                                                                                                                   box contents  xtreme  gaming router  detachable antennas ethernet cable power adapter  with installation wizard product documentation and world in conflict content standards  ieee  draft  ieee  ieee  ieee  ieee  and ieee   gigabit lan ports  gigabit wan port and usb port for windows connect now  external reverse sma dualband antennas 64  wep   \n",
       "7575                                                                                                                                                                                                                                                                                                                                         play your ipod or iphone on your car  fm stereo while you recharge its battery  flexible steel neck and  cradle holds your ipod or iphone securely where you want it  easy smartscan  setup finds the best frequency for you  griffin smartsound adjusts the signal for best sound always    controls give you  fingertip control    \n",
       "7026                                                                                                                                                                                                                                                                                                                                                                                                                                                                                                                                                                                             made of strong   neutral  size    inch includes one original  refill  neutral    \n",
       "5885                                                                                                                                                                                                                                                                                                                                                                                                                                                                                                                                                                                                                                                                              \n",
       "584                                                                                                                                                                                                                                                        unique design allows you to use it as  tote or  sleeve to hold latptops up to         converts from  sleek padded laptop sleeve to  tote with  flip of the flap patented convertibility  protect your laptop while inside another bag or carry it on its own  design lets you put the skin through airport screening without removing your laptop available in  wide variety of colors and fabrics from  to fun and    \n",
       "\n",
       "                                                                                                                                                                                                                                                                                                                                                                                                                                                                                                                                                                                                                                                                                     shortdescr  \\\n",
       "4661                                                                                                                                                                                                                                                                                                                                                                                                                                                                                                                                                                                                                                                                                        nan   \n",
       "9125                                                                                                                                                                                                                                                                                                                                                                                                                                                                                                                                                                                                                             tomtom via 1505t  portable gps navigator with lifetime traffic   \n",
       "11293                                                                                                                                                                                                                                                                                                                                                                                                                                                                                                                                                                                                                                                                                       nan   \n",
       "6184                                                                                                                                                                                                                                                                                                                                                                                                                                                                                                                                                                                                                                                                                        nan   \n",
       "9419                                                                                                                                                                                                                                                                                                                                                                                                                                                                                                                                                                                                                                                                                        nan   \n",
       "11087                                                                                                                                                                                                                                                                                                                                                                                                                                                                                                                                                                                                                                                                                       nan   \n",
       "7575                                                                                                                                                                                                                                                                                                                                                                                                                                                                                                                                                                                                                                                                                        nan   \n",
       "7026      what did you ever do without them  notes dispensers makes it simple to grab one note at   pick  traditional style for the office  trendy style for the home message center or  mounted style for vertical dispensing  having  busy day and need to get more done there   note for that the  x3 size is perfect for writing reminder notes to  work greener today for  brighter tomorrow all  notes are sfi chain of custody certified paper used comes from forests that are  where trees are  all  notes are also recyclable so please remember to  contains  pack of  original  dispenser  x3 in  also try  flag highlighters pens and markers available in  variety of colors and    \n",
       "5885                                                                                                                                                                                                                                                                                                                                                                                                                                                                                                                                                                                                                                                                                        nan   \n",
       "584                                                                                                                                                                                                                                                                                                                                                                                                                                                                                                                                                                                                                                                                                         nan   \n",
       "\n",
       "                                                                                                                                                                                                                                                                                                                                                                                                                                                                                                                                                                                                                                                                                                                                                                                                                                                                                                                                                                                                                                     longdescr  \\\n",
       "4661                                                                                                                                                                                                                                                                                                                                                                                                                                                                                                                                                                                                                                                                                                                                                                                                                                                                                                                                                                                    us robotics robotics 5637 56k usb modem usr5637 modems   \n",
       "9125    the via story hit the road  and  the new  tomtom via series holds the latest navigation technology in  fresh sleek design including an integrated fold amp go easyport  travel confidently with superior routing and the most accurate dependable maps in the gps  in fact tomtom gives you one million more miles of mapped roads in the us  the via range offers  large array of unique  lifetime traffic and map updates bluetooth  calling and natural voice recognition with  destination address  at affordable  the tomtom via 1505t introducing the tomtom via 1505t equipped with superior driving  travel with ease and style throughout the us canada amp  this innovative navigator boasts   design classic finish new intuitive user interface and    using tomtom maps you have access to one million more miles of mapped road in the us than you would using any other gps brand  and with tomtom map share  updates you can easily make instant changes and download verified updates from other tomtom users to y...   \n",
       "11293                                                                                                                                                                                                                                                                                                                                                                                                                                                                                                                                                                                                                                                                                                                                                                                                                                                                                                                                                                                                                     v7 dvi cable  cables   \n",
       "6184                                                                                                                                                                                                                                                                                                                                                                                                                                                                                                                                                                                                                                                                                                                                                                                                      for use with latham 900e 1000e 1500e 5000ep 7000e and 7500e electronic time  accurate clear  device types time clock color  purple oem compatible oem ribbon type   ribbon 1000e 7000e consumables transfer type printing publishing   \n",
       "9419                                                                                                                                                                                                                                                                                                                                                                                                                                                                                                                                                                                                                                                                                              bell  hdmi7100 series hd7102  feet  meter high speed hdmi cables with 180 degree swivel head ethernet and 3d  engineered for superior performance advanced technologies including 3d ready ethernet capability and   gigabit per second transfer rate that exceeds today  standards making these the last cables you ll need for  very long    \n",
       "11087                                                                                                                                                                                                                                                                                                                                                                                                                                                                                                                                                                                                                                                                                                                                                                                                                                                                                                                                                                                             ethernet switch   port  switches amp bridges   \n",
       "7575    wireless music transmitting and charging for your ipod and iphone and handsfree calling for your  holds your iphone or ipod securely in place on  flexible steel neck in   cradle that accommodates most cases so you won  even have to take your ipod or iphone out of its case  uses  powerful fm transmitter to send the music wirelessly to your car  fm radio so you and the whole car can enjoy it through your stereo  and while you re enjoying the music your ipod or iphone is enjoying   can also use roadtrip as  handsfree speakerphone in your  roadtrip   microphone picks up your voice and your caller  voice plays through your stereo  roadtrip  handsfree phone features work with iphone and other   innovations and  design make the difference like smartscan  griffin feature that finds the best fm frequency and performs the setup for you and  presets that let you save and recall the most useful fm frequencies with  single button push and griffin smartsound that analyzes the signal and adjusts...   \n",
       "7026    the  note was invented as  solution without   in 1968  spencer silver  3m scientist developed  unique repositionable  as remarkable as it was the product could not find   six years later colleague art fry recalled silver  seminars promoting the light adhesive when he was daydreaming about  bookmark that would stay put in his church  the rest is  today  boasts more than  000 unique products and has become one of the most  and beloved brands in the  are all  paper products recyclable  3m has conducted recycling trials on  notes at recycled paper  the adhesive does not interfere with paper recycling because the adhesive is substantially removed in the paper   the dyes in the paper are also removed in this part of the  are  notes made from recycled paper  many different colors and sizes of  notes are available with paper containing at least 30 percent  recycled  in addition 3m offers 100 percent recycled content notes in canary yellow and assorted pastel  the 100 percent recycled cont...   \n",
       "5885                                                                                                                                                                                                                                                                                                                                                                                                                                                                                                                                                                                                                                                                                                                                                                                                                                                                                                                                                                                                       midland  helmet hdset kit  boom mic   \n",
       "584                                                                                                                                                                                                                                                                                                                                                                                                                                                                                                                                                                                                                                                                                                                                 with  flip of the flap the skooba skin converts from  sleek padded laptop sleeve to  tote or  skooba skin is designed to protect  computer while carried inside another bag or suitcase or to be used on its own for meetings classes or other times when the laptop alone is all that needs to be carried   \n",
       "\n",
       "       shipweight length  ...                        groupname  \\\n",
       "4661          0.0    7.8  ...                       networking   \n",
       "9125          0.0    5.3  ...                              gps   \n",
       "11293         0.0   10.8  ...             electronics  general   \n",
       "6184          0.0    0.0  ...     stationery  office machinery   \n",
       "9419          0.0   11.0  ...                   tv accessories   \n",
       "11087         0.0    5.1  ...                       networking   \n",
       "7575          0.0    7.9  ...             electronics  general   \n",
       "7026          0.0    4.2  ...     stationery  office machinery   \n",
       "5885          0.0   13.8  ...                              frs   \n",
       "584           0.0   16.2  ...             electronics  general   \n",
       "\n",
       "                                                                                         title  \\\n",
       "4661                                                        usrobotics 56k usb  external modem   \n",
       "9125                                                                         tomtoim via 1505t   \n",
       "11293                                                   v7   replacement   dvi cable by belkin   \n",
       "6184                                                         lathem time vis6008 ribbon purple   \n",
       "9419                                                          bell   hdmi cable with ethernet    \n",
       "11087                                                              gigabit ethernet poe switch   \n",
       "7575                                                              griffin technology roadtrip    \n",
       "7026                               notes professional series dispenser for      notes blk base   \n",
       "5885                               midland  motorcycle microphone speakers for gmrs frs radios   \n",
       "584     skooba design skooba skin 1617 large laptop sleeve in blue microsuede with blue lining   \n",
       "\n",
       "        price  \\\n",
       "4661    47.82   \n",
       "9125   179.95   \n",
       "11293   10.88   \n",
       "6184    15.00   \n",
       "9419    69.99   \n",
       "11087  179.99   \n",
       "7575    99.99   \n",
       "7026     9.94   \n",
       "5885    34.79   \n",
       "584     33.99   \n",
       "\n",
       "                                                                                                                                                                                                                                                                                                                                                                                                                                                                                                                                                                                                                                                                                                                                                                                       shelfdescr  \\\n",
       "4661                                                                                                                                                                                                                                                                                                                                                                                                                                                                                                                                                                                                                                                                                                                 delivers superb performance and reliability in  compact flexible form factor   \n",
       "9125                                                                                                                                                                                                                                                                                                                                                                                                                                                                                                                                                                                                                                                                                                                    lcd widescreen 480  272 pixels spoken street names advanced lane guidance   \n",
       "11293                                                                                                                                                                                                                                                                                                                                                                                                                                                                                                                                                                                                                                           v7 dvi cables are designed and manufactured to meet and exceed all category specifications to ensure excellent  connectors contacts nickel plated   \n",
       "6184                                                                                                                                                                                                                                                                                                                                                                                                                                                                                                                                                                                                                                                                                                                                for use with latham 1000e and 7000e electronic time recorders   \n",
       "9419                                                                                                                                                                                                                                                                                                                                                                                                                                                                                                                                                                                                                                                                                                         truspeed transfer rate lifejacket ul listed for  installation  swivel connector head   \n",
       "11087                                                                                                                                                                                                                                                                                                                                                                                                                                                                                                                                                                                                                                                                                 compact design  ports provide poe up to  for  total poe budget of 52w no special networking cables required   \n",
       "7575                                                                                                                                                                                                                                                                                                                                                                                                                                                                                                                                                                                                                                                                                                                      fm transmitter   microphone caller  voice plays through stereo speakers   \n",
       "7026                                                                                                                                                                                                                                                                                                                                                                                                                                                                                                                                                                                                                                                                                                               includes  note pad in canary yellow stylish design weighted to prevent lifting   \n",
       "5885                                                                                                                                                                                                                                                                                                                                                                                                                                                                                                                                                                                                                                                                                                                                   designed for  helmets and works with all midland gmrs frs    \n",
       "584     features  skins may be put through airport screening without removing the laptop from the   to hold laptops up to          design allows you to use it as  tote or     flip of the flap the skooba skin converts from  sleek padded laptop sleeve to  tote or   to protect  computer while carried inside another bag or suitcase or to be used on its   to hold large laptops ranging from  screen   available in blank diy canvas black ballistic silver nylon red black ripstop olive ballistic brown corduroy pink vinyl tangerine microsuede and plum      17     skooba design awards skooba design has won many awards and accolades for their bags their thoughtful designs have won rave reviews and product mentions in pc magazine macworld and laptop magazine just to name     \n",
       "\n",
       "                                                                                                                                                                                                                                                                                                                                                                                                                                                                                                                                                                                                               shortdescr  \\\n",
       "4661                                                                                                                                                                                                                                                                                                                                                                                                                                                                                                                  the usrobotics 56k usb modem delivers superb performance and reliability in  compact flexible form    \n",
       "9125                                                                                                                                                                                                                                                                                                                                                                          the tomtom via 1505t portable gps boasts  bright    this innovative navigator also has  super slim design  classic finish and  new intuitive user interface that will assist your travel throughout the us canada and mexico with ease and    \n",
       "11293                                                                                                                                                                                                                                                                                                                                                                                                                                                                                                                                                                             v7  replacement   dvi cable by belkin     \n",
       "6184                                                                                                                                                                                                                                                                                                                                                                                                                                                                                                                                                 for use with latham 1000e and 7000e electronic time  accurate clear    \n",
       "9419                                                                                                                                                                                                                                                                  your tv is only as good as the signal it  bell  hdmi cables ensure that all of the audio and video data available reaches your system to bring your experience to  advanced technologies and truspeed tested  gigabit per second transfer rate depending on length exceed today  standards making these the last cables you ll need for  very long    \n",
       "11087                                                                                                                                                                                                                                                                                                                                                                                                          the   gigabit ethernet poe switch  enables office users the ability to easily connect and supply power to power over ethernet poe devices such as ip cameras ip phones and wireless access points aps to     \n",
       "7575    live in  house divided listen to your music on an ipod but use  smart phone then roadtrip  is the total music  calling solution for  roadtrip uses  powerful fm transmitter to send the music wirelessly to your car  fm radio so you and the whole car can enjoy it through your stereo  while you re enjoying the music your ipod or iphone is enjoying  battery  when  call comes in on your iphone or smartphone roadtrip becomes   speakerphone in your  roadtrip    microphone picks up your voice and your caller  voice plays through your stereo  roadtrip   phone features work with iphone and other     \n",
       "7026                                                                                                                                                                                                                                                                                                                                                                                                                                         the  notes professional series dispenser allows you to grab  notes quickly and easily with one  its practical design provides  professional look and complements any office    \n",
       "5885                                                                                                                                                                                                                                                                                                                                                                              it  designed for  helmets and works with all midland gmrs frs  included are two speakers that attach inside the helmet and  boom microphone that goes inside  also features an  cable and   button that wraps on the motorcycle handle    \n",
       "584                                                                                                                                                                                                                                                                                                                                                                                                                                                                                                                                                                                                                   nan   \n",
       "\n",
       "                                                                                                                                                                                                                                                                                                                                                                                                                                                                                                                                                                                                                                                                                                                        longdescr  \\\n",
       "4661                                                                                                                                                                                                                                                                key features broadly compatible across major operating systems including linux windows and macintosh quick connect reduces your connection time to get you online quicker  upstream provides 50 greater upload speeds and is ideal for sending  messages with large attachments supports usrobotics modem on hold application to screen incoming voice calls while online answer calls without losing your internet connection no second phone line is needed   \n",
       "9125                                                                                                                                                                                                                                                                            tomtom via 1505t  lcd widescreen 480  272 pixels presents information clearly and brightly for optimal navigation spoken street names announces  directions includes us canada and mexico using tomtom  premium maps on demand updates with the latest maps advanced lane guidance never miss your exit includes adhesive disk usb cable usb traffic receiver and home charging cable get started right out of the box battery lasts up to  hours   \n",
       "11293                                                                                                                                                                                                                                                                                                                                                                                                                                                                                                                                                                           v7 dvi cables are designed and manufactured to meet and exceed all category specifications to ensure excellent  connectors contacts nickel plated   \n",
       "6184                                                                                                                                                                                                                                                                                                                                                                                                                                                                                                                          lathem time vis6008 ribbon purple oem time recorder ribbon for latham 1000e and 7000e electronic time recorders for use with latham 1000e and 7000e electronic time recorders accurate clear output   \n",
       "9419                                                                                                                                                                                                                                                                                                                                                                                                                                                                                                                                             bell   hdmi cable with ethernet   truspeed transfer rate lifejacket ul listed for  installation hdmi ethernet channel audio return channel 1080p hd video  swivel connector head   \n",
       "11087                                                                                                                                                                                                                                                                                                                                                                                                                                                                                                                                 gigabit ethernet poe switch  compact design for home and office use  ports provide poe up to  for  total poe budget of 52w no special networking cables required quick simple  installation   \n",
       "7575                                                                                                                                                                                                                                                                                                                                                                                                                                                                                                                                                                                    griffin technology roadtrip  fm transmitter   microphone caller  voice plays through stereo speakers works with iphones and other  phones   \n",
       "7026                                                                                                                                                                                                                                                                                                                                                                                                                                                                                                                                                                                                   notes professional series dispenser includes  50 sheet    note pad in canary yellow black base weighted to prevent lifting   \n",
       "5885                                                                                                                                                                                                                                                                                                                                                                                                                                                                                                                                                                                                                                                                                                                          nan   \n",
       "584     skb1073features  skins may be put through airport screening without removing the laptop from the skin designed to hold laptops up to         unique design allows you to use it as  tote or  sleeve with  flip of the flap the skooba skin converts from  sleek padded laptop sleeve to  tote or  designed to protect  computer while carried inside another bag or suitcase or to be used on its own sized to hold large laptops ranging from  screen size also available in and dimensions    17     skooba design awards skooba design has won many awards and accolades for their bags their thoughtful designs have won rave reviews and product mentions in pc magazine macworld and laptop magazine just to name     \n",
       "\n",
       "       shipweight  length  width height  \n",
       "4661        0.600   7.600   6.00  1.500  \n",
       "9125        1.100   7.000   6.90  1.900  \n",
       "11293       0.350   9.675   7.65  0.675  \n",
       "6184        0.049   0.000   0.00  0.000  \n",
       "9419        0.500  80.000   0.50  0.500  \n",
       "11087       3.210  12.920   7.90  4.220  \n",
       "7575        0.500   7.500   7.40  2.300  \n",
       "7026        1.315   0.000   0.00  0.000  \n",
       "5885        0.940  12.000   8.00  1.000  \n",
       "584         3.000  17.000  12.50  2.500  \n",
       "\n",
       "[10 rows x 24 columns]"
      ]
     },
     "execution_count": 50,
     "metadata": {},
     "output_type": "execute_result"
    }
   ],
   "source": [
    "df_examine.sample(10)"
   ]
  },
  {
   "cell_type": "markdown",
   "metadata": {},
   "source": [
    "# Save model and histories "
   ]
  },
  {
   "cell_type": "code",
   "execution_count": 20,
   "metadata": {
    "ExecuteTime": {
     "end_time": "2018-04-12T23:06:34.145349Z",
     "start_time": "2018-04-12T23:06:33.946782Z"
    },
    "collapsed": true
   },
   "outputs": [],
   "source": [
    "pd.DataFrame(histories).to_csv('../data/histories/amazon-walmart-base-1-num-null.csv', index=False)\n",
    "model.save_weights('../data/models/amazon-walmart-base-1-num-null')"
   ]
  },
  {
   "cell_type": "markdown",
   "metadata": {},
   "source": [
    "# Test model "
   ]
  },
  {
   "cell_type": "code",
   "execution_count": 21,
   "metadata": {
    "ExecuteTime": {
     "end_time": "2018-04-12T23:06:40.061937Z",
     "start_time": "2018-04-12T23:06:36.133872Z"
    }
   },
   "outputs": [
    {
     "name": "stdout",
     "output_type": "stream",
     "text": [
      "             precision    recall  f1-score   support\n",
      "\n",
      "          0       1.00      1.00      1.00     11541\n",
      "          1       0.90      0.82      0.86       114\n",
      "\n",
      "avg / total       1.00      1.00      1.00     11655\n",
      "\n",
      "[[11531    10]\n",
      " [   20    94]]\n"
     ]
    }
   ],
   "source": [
    "y_test_pred = model.predict(X_test)[:,1]\n",
    "y_test_ = data['test_y'].values.squeeze()\n",
    "print(classification_report(y_test_, y_test_pred >= 0.5))\n",
    "print(confusion_matrix(y_test_, y_test_pred >= 0.5))"
   ]
  },
  {
   "cell_type": "code",
   "execution_count": null,
   "metadata": {
    "collapsed": true
   },
   "outputs": [],
   "source": []
  }
 ],
 "metadata": {
  "kernelspec": {
   "display_name": "entity-resolution",
   "language": "python",
   "name": "entity-resolution"
  },
  "language_info": {
   "codemirror_mode": {
    "name": "ipython",
    "version": 3
   },
   "file_extension": ".py",
   "mimetype": "text/x-python",
   "name": "python",
   "nbconvert_exporter": "python",
   "pygments_lexer": "ipython3",
   "version": "3.6.3"
  },
  "varInspector": {
   "cols": {
    "lenName": 16,
    "lenType": 16,
    "lenVar": 40
   },
   "kernels_config": {
    "python": {
     "delete_cmd_postfix": "",
     "delete_cmd_prefix": "del ",
     "library": "var_list.py",
     "varRefreshCmd": "print(var_dic_list())"
    },
    "r": {
     "delete_cmd_postfix": ") ",
     "delete_cmd_prefix": "rm(",
     "library": "var_list.r",
     "varRefreshCmd": "cat(var_dic_list()) "
    }
   },
   "types_to_exclude": [
    "module",
    "function",
    "builtin_function_or_method",
    "instance",
    "_Feature"
   ],
   "window_display": false
  }
 },
 "nbformat": 4,
 "nbformat_minor": 2
}
