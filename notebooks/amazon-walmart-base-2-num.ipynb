{
 "cells": [
  {
   "cell_type": "code",
   "execution_count": 1,
   "metadata": {
    "ExecuteTime": {
     "end_time": "2018-04-12T19:27:23.665689Z",
     "start_time": "2018-04-12T19:27:20.582747Z"
    }
   },
   "outputs": [
    {
     "name": "stderr",
     "output_type": "stream",
     "text": [
      "/home/paperspace/anaconda3/envs/python-36/lib/python3.6/site-packages/h5py/__init__.py:36: FutureWarning: Conversion of the second argument of issubdtype from `float` to `np.floating` is deprecated. In future, it will be treated as `np.float64 == np.dtype(float).type`.\n",
      "  from ._conv import register_converters as _register_converters\n",
      "Using TensorFlow backend.\n"
     ]
    }
   ],
   "source": [
    "import sys\n",
    "import os\n",
    "import re\n",
    "sys.path.append('../scripts')\n",
    "\n",
    "import numpy as np\n",
    "import pandas as pd\n",
    "import matplotlib.pyplot as plt\n",
    "import seaborn as sns\n",
    "import helpers as hp\n",
    "import pickle as pkl\n",
    "import itertools as it\n",
    "\n",
    "from collections import OrderedDict, defaultdict\n",
    "\n",
    "from sklearn.metrics import f1_score, precision_score, recall_score,\\\n",
    "                            average_precision_score, roc_auc_score,\\\n",
    "                            roc_curve, precision_recall_curve, confusion_matrix,\\\n",
    "                            accuracy_score, classification_report\n",
    "\n",
    "from IPython.core.interactiveshell import InteractiveShell\n",
    "from matplotlib import rcParams\n",
    "from importlib import reload\n",
    "from model_generator import deep_er_model_generator\n",
    "pd.options.display.max_colwidth = 1000\n",
    "\n",
    "rcParams['font.family'] = 'serif'\n",
    "rcParams['font.serif'] = 'times new roman'\n",
    "\n",
    "%config InlineBackend.figure_format = 'retina'\n",
    "%matplotlib inline"
   ]
  },
  {
   "cell_type": "markdown",
   "metadata": {},
   "source": [
    "# Load data "
   ]
  },
  {
   "cell_type": "code",
   "execution_count": 2,
   "metadata": {
    "ExecuteTime": {
     "end_time": "2018-04-12T21:41:12.001384Z",
     "start_time": "2018-04-12T21:40:47.012379Z"
    },
    "collapsed": true
   },
   "outputs": [],
   "source": [
    "reload(hp)\n",
    "\n",
    "with open('../data/converted/amazon-walmart-reduced/glove-300.map', 'rb') as f:\n",
    "    map = pkl.load(f)\n",
    "\n",
    "data_dir = os.path.join('..','data')\n",
    "source_dir = os.path.join(data_dir,'split','amazon-walmart-reduced')\n",
    "data = hp.load_data(source_dir)\n",
    "\n",
    "datasets = ['train_1', 'val_1', 'test_1', 'train_2', 'val_2', 'test_2']\n",
    "\n",
    "for data_name in data.keys():\n",
    "    data[data_name] = data[data_name].fillna(0)\n",
    "\n",
    "doc_freqs_1, doc_freqs_2 = hp.get_document_frequencies('../data/converted/amazon-walmart-reduced/', mapping=map)\n",
    "nan_idx = map['word2idx']['NaN']"
   ]
  },
  {
   "cell_type": "markdown",
   "metadata": {},
   "source": [
    "# Generate model"
   ]
  },
  {
   "cell_type": "code",
   "execution_count": 3,
   "metadata": {
    "ExecuteTime": {
     "end_time": "2018-04-12T21:41:28.691606Z",
     "start_time": "2018-04-12T21:41:20.426588Z"
    }
   },
   "outputs": [
    {
     "name": "stdout",
     "output_type": "stream",
     "text": [
      "Number of inputs to dense layer: 177\n"
     ]
    }
   ],
   "source": [
    "histories = dict(acc=list(), val_acc=list(), loss=list(), val_loss=list())\n",
    "model, X_train, X_val, X_test, y_train, y_val, y_test = \\\n",
    "deep_er_model_generator(data,\n",
    "                        embedding_file = '../data/converted/amazon-walmart-reduced/glove-300.matrix.npy',\n",
    "                        text_columns = ['brand', 'groupname', 'title', 'shelfdescr',\n",
    "                                        'shortdescr', 'longdescr'],\n",
    "                        numeric_columns = ['price', 'shipweight', 'length', 'width', 'height'],\n",
    "                        text_nan_idx=nan_idx,\n",
    "                        num_nan_val=0,\n",
    "                        text_sim_metrics=[],\n",
    "                        text_compositions=['bi_lstm'],\n",
    "                        numeric_sim_metrics=['min_max_ratio', 'scaled_inverse_lp', 'unscaled_inverse_lp'],\n",
    "                        dense_nodes=[32, 16],\n",
    "                        document_frequencies=(doc_freqs_1, doc_freqs_2),\n",
    "                        idf_smoothing=2,\n",
    "                        make_isna=False,\n",
    "                        dropout=0.5,\n",
    "                        batch_norm=True,\n",
    "                        lstm_args=dict(units=25, dropout=0, recurrent_dropout=0),\n",
    "                        shared_lstm=True)"
   ]
  },
  {
   "cell_type": "markdown",
   "metadata": {},
   "source": [
    "# Train model "
   ]
  },
  {
   "cell_type": "code",
   "execution_count": 83,
   "metadata": {
    "ExecuteTime": {
     "end_time": "2018-04-12T21:52:12.328428Z",
     "start_time": "2018-04-12T21:51:42.009377Z"
    }
   },
   "outputs": [
    {
     "name": "stdout",
     "output_type": "stream",
     "text": [
      "Train on 93243 samples, validate on 11656 samples\n",
      "Epoch 1/1\n",
      "93243/93243 [==============================] - 158s 2ms/step - loss: 0.0044 - acc: 0.9992 - val_loss: 0.0188 - val_acc: 0.9983\n"
     ]
    }
   ],
   "source": [
    "model.compile(optimizer='adam', loss='binary_crossentropy', metrics=['acc'])\n",
    "history = model.fit(X_train, y_train, epochs=1, batch_size=4096,\n",
    "                    validation_data=(X_val, y_val),\n",
    "                    shuffle=True)\n",
    "\n",
    "histories['acc'].extend(history.history['acc'])\n",
    "histories['val_acc'].extend(history.history['val_acc'])\n",
    "histories['loss'].extend(history.history['loss'])\n",
    "histories['val_loss'].extend(history.history['val_loss'])"
   ]
  },
  {
   "cell_type": "markdown",
   "metadata": {},
   "source": [
    "# Learning curves"
   ]
  },
  {
   "cell_type": "code",
   "execution_count": 85,
   "metadata": {
    "ExecuteTime": {
     "end_time": "2018-04-12T21:53:06.430610Z",
     "start_time": "2018-04-12T21:53:06.048975Z"
    }
   },
   "outputs": [
    {
     "data": {
      "image/png": "[encoded data removed]",
      "text/plain": [
       "<Figure size 1152x432 with 2 Axes>"
      ]
     },
     "metadata": {
      "image/png": {
       "height": 374,
       "width": 944
      }
     },
     "output_type": "display_data"
    }
   ],
   "source": [
    "fig, axes = plt.subplots(1, 2, figsize=(16,6))\n",
    "axes[0].plot(histories['loss'], label='loss')\n",
    "axes[0].plot(histories['val_loss'], label='val_loss')\n",
    "axes[0].set(ylim = (0, 0.2))\n",
    "axes[1].plot(histories['acc'], label='acc')\n",
    "axes[1].plot(histories['val_acc'], label='val_acc')\n",
    "axes[1].set(ylim = (0.98, 1))\n",
    "\n",
    "for ax in axes:\n",
    "    ax.legend()\n",
    "    ax.grid(True)\n",
    "    ax.set(xlabel='epoch')"
   ]
  },
  {
   "cell_type": "markdown",
   "metadata": {},
   "source": [
    "# Evaluate model "
   ]
  },
  {
   "cell_type": "code",
   "execution_count": 73,
   "metadata": {
    "ExecuteTime": {
     "end_time": "2018-04-12T21:53:11.515998Z",
     "start_time": "2018-04-12T21:53:08.723045Z"
    }
   },
   "outputs": [
    {
     "name": "stdout",
     "output_type": "stream",
     "text": [
      "             precision    recall  f1-score   support\n",
      "\n",
      "          0       1.00      1.00      1.00     11529\n",
      "          1       0.90      0.94      0.92       127\n",
      "\n",
      "avg / total       1.00      1.00      1.00     11656\n",
      "\n",
      "[[11516    13]\n",
      " [    8   119]]\n"
     ]
    }
   ],
   "source": [
    "y_val_pred = model.predict(X_val, batch_size=4096)[:,1]\n",
    "y_val_ = data['val_y'].values.squeeze()\n",
    "print(classification_report(y_val_, y_val_pred >= 0.5))\n",
    "print(confusion_matrix(y_val_, y_val_pred >= 0.5))"
   ]
  },
  {
   "cell_type": "code",
   "execution_count": 74,
   "metadata": {
    "ExecuteTime": {
     "end_time": "2018-04-12T21:45:49.865322Z",
     "start_time": "2018-04-12T21:45:47.406682Z"
    }
   },
   "outputs": [
    {
     "data": {
      "text/html": [
       "<div>\n",
       "<style scoped>\n",
       "    .dataframe tbody tr th:only-of-type {\n",
       "        vertical-align: middle;\n",
       "    }\n",
       "\n",
       "    .dataframe tbody tr th {\n",
       "        vertical-align: top;\n",
       "    }\n",
       "\n",
       "    .dataframe thead th {\n",
       "        text-align: right;\n",
       "    }\n",
       "</style>\n",
       "<table border=\"1\" class=\"dataframe\">\n",
       "  <thead>\n",
       "    <tr style=\"text-align: right;\">\n",
       "      <th></th>\n",
       "      <th>id1</th>\n",
       "      <th>brand</th>\n",
       "      <th>groupname</th>\n",
       "      <th>title</th>\n",
       "      <th>price</th>\n",
       "      <th>shelfdescr</th>\n",
       "      <th>shortdescr</th>\n",
       "      <th>longdescr</th>\n",
       "      <th>shipweight</th>\n",
       "      <th>length</th>\n",
       "      <th>...</th>\n",
       "      <th>groupname</th>\n",
       "      <th>title</th>\n",
       "      <th>price</th>\n",
       "      <th>shelfdescr</th>\n",
       "      <th>shortdescr</th>\n",
       "      <th>longdescr</th>\n",
       "      <th>shipweight</th>\n",
       "      <th>length</th>\n",
       "      <th>width</th>\n",
       "      <th>height</th>\n",
       "    </tr>\n",
       "  </thead>\n",
       "  <tbody>\n",
       "    <tr>\n",
       "      <th>3714</th>\n",
       "      <td>21375</td>\n",
       "      <td>royal</td>\n",
       "      <td>envelopes mailers shipping supplies</td>\n",
       "      <td>royal ds3 postal rate scale 17012y</td>\n",
       "      <td>29.49</td>\n",
       "      <td>pound weight capacity  ounce increments pull out storage drawer digital read out tare and hold feature</td>\n",
       "      <td>nan</td>\n",
       "      <td>digital postal scale</td>\n",
       "      <td>0.0</td>\n",
       "      <td>7.6</td>\n",
       "      <td>...</td>\n",
       "      <td>stationery  office machinery</td>\n",
       "      <td>royal ds3 postal rate scale</td>\n",
       "      <td>24.54</td>\n",
       "      <td>pounds weight capacity  kilograms resolution  ounce  gram increments  storage drawer convenient storage for stamps paper clips</td>\n",
       "      <td>nan</td>\n",
       "      <td>pounds weight capacity  kilograms resolution  ounce  gram increments  storage drawer convenient storage for stamps paper clips  digital  tare feature hold feature displays weight in pounds ounces or metric postal rate chart included us postal service and canada post</td>\n",
       "      <td>1.05</td>\n",
       "      <td>8.70</td>\n",
       "      <td>7.00</td>\n",
       "      <td>2.70</td>\n",
       "    </tr>\n",
       "    <tr>\n",
       "      <th>9419</th>\n",
       "      <td>10274</td>\n",
       "      <td></td>\n",
       "      <td>video cables</td>\n",
       "      <td>bell  hd7102 high speed hdmi cables</td>\n",
       "      <td>90.00</td>\n",
       "      <td>hdmi hd7100 series high speed digital   cables 3d ready 24k gold plating provides optimum data   gbps truspeed transfer rate 1080p  our hdmi cables have been independently tested to the speed rating stated for it   lifejacket is designed for high performance both outside and inside your  lifejacket cable covering provides excellent flexibility durability and meets ul cl3 csa ft4 listed for    oxygen free copper  this provides excellent conductivity and corrosion  the copper wire within each cable is precision terminated at the connectors to provide the optimum   for more  furniture wall mounts cables and accessories options by bell  go to</td>\n",
       "      <td>nan</td>\n",
       "      <td>bell  hdmi7100 series hd7102  feet  meter high speed hdmi cables with 180 degree swivel head ethernet and 3d  engineered for superior performance advanced technologies including 3d ready ethernet capability and   gigabit per second transfer rate that exceeds today  standards making these the last cables you ll need for  very long</td>\n",
       "      <td>0.0</td>\n",
       "      <td>11.0</td>\n",
       "      <td>...</td>\n",
       "      <td>tv accessories</td>\n",
       "      <td>bell   hdmi cable with ethernet</td>\n",
       "      <td>69.99</td>\n",
       "      <td>truspeed transfer rate lifejacket ul listed for  installation  swivel connector head</td>\n",
       "      <td>your tv is only as good as the signal it  bell  hdmi cables ensure that all of the audio and video data available reaches your system to bring your experience to  advanced technologies and truspeed tested  gigabit per second transfer rate depending on length exceed today  standards making these the last cables you ll need for  very long</td>\n",
       "      <td>bell   hdmi cable with ethernet   truspeed transfer rate lifejacket ul listed for  installation hdmi ethernet channel audio return channel 1080p hd video  swivel connector head</td>\n",
       "      <td>0.50</td>\n",
       "      <td>80.00</td>\n",
       "      <td>0.50</td>\n",
       "      <td>0.50</td>\n",
       "    </tr>\n",
       "    <tr>\n",
       "      <th>5430</th>\n",
       "      <td>11705</td>\n",
       "      <td>plantronics</td>\n",
       "      <td>electronics</td>\n",
       "      <td>plantronics headset to usb adapter da40</td>\n",
       "      <td>49.95</td>\n",
       "      <td>voip capability when paired with any plantronics professional headset specifically designed for enterprise office communication or employees with both  desk phone and  softphone  alternative to  headset systems</td>\n",
       "      <td>nan</td>\n",
       "      <td>plantronics da series  adapter da40 cable adapters</td>\n",
       "      <td>0.0</td>\n",
       "      <td>7.0</td>\n",
       "      <td>...</td>\n",
       "      <td>electronics  general</td>\n",
       "      <td>plantronics  adapter</td>\n",
       "      <td>27.98</td>\n",
       "      <td>voip capability when paired with any plantronics professional headset</td>\n",
       "      <td>nan</td>\n",
       "      <td>voip capability when paired with any plantronics professional headset specifically designed for enterprise office communication or employees with both  desk phone and  softphone  alternative to  headset systems</td>\n",
       "      <td>0.33</td>\n",
       "      <td>6.75</td>\n",
       "      <td>5.50</td>\n",
       "      <td>2.00</td>\n",
       "    </tr>\n",
       "    <tr>\n",
       "      <th>4581</th>\n",
       "      <td>8359</td>\n",
       "      <td>atrend</td>\n",
       "      <td>office products</td>\n",
       "      <td>box series  10  enclosure for dodge ram quad cab 2002</td>\n",
       "      <td>94.53</td>\n",
       "      <td>fits 2002 amp up dodge ram quad  mdf   speaker  completely carpeted enclosure with rounded  custom built for</td>\n",
       "      <td>nan</td>\n",
       "      <td>fits 2002 amp up dodge ram quad cabmdf  speaker bafflescompletely carpeted enclosure with rounded edgescustom built for  applicationscrewed down terminal cupscompletely glued amp braced10 single sealed  fits crew cabsupc 636644998160shipping dimensions      shipping weight</td>\n",
       "      <td>0.0</td>\n",
       "      <td>0.0</td>\n",
       "      <td>...</td>\n",
       "      <td>car stereos</td>\n",
       "      <td>box series  10  enclosure</td>\n",
       "      <td>60.88</td>\n",
       "      <td>for dodge ram quad cab 2002 and up mdf construction custom built for under seat application</td>\n",
       "      <td>the    box series  10  enclosure fits dodge ram quad cabs 2002 and  it is custom built so that you can put it under your seat and save</td>\n",
       "      <td>box series  10 speaker baffles completely carpeted enclosure with rounded edges custom built for under seat application screwed down terminal cups completely glued and braced</td>\n",
       "      <td>19.45</td>\n",
       "      <td>33.50</td>\n",
       "      <td>14.00</td>\n",
       "      <td>8.25</td>\n",
       "    </tr>\n",
       "    <tr>\n",
       "      <th>8982</th>\n",
       "      <td>15496</td>\n",
       "      <td>sennheiser</td>\n",
       "      <td>electronics</td>\n",
       "      <td>sennheiser sh230 monaural headset with microphone</td>\n",
       "      <td>84.00</td>\n",
       "      <td>microphone with flexible boom arm allowsm for accurate and stable positioning and optimal  ball mounted speaker capsule automatically self adjusts for wearing comfort   patented technology acts as an automatic control in your headset to instantly lower the volume from acoustic  detachable headband for easy upgrade to clip</td>\n",
       "      <td>nan</td>\n",
       "      <td>when you have to concentrate and attention to detail is important sennheiser headsets help you stay on the  light and comfortable to wear you are free to work without  reliable high quality performance and design from sennheiser proved</td>\n",
       "      <td>0.0</td>\n",
       "      <td>8.0</td>\n",
       "      <td>...</td>\n",
       "      <td>electronics  general</td>\n",
       "      <td>sennheiser sh 230 monaural headset</td>\n",
       "      <td>84.00</td>\n",
       "      <td>patented activegard technology safeguards your hearing acoustical foam ear cushion channels sound into ear lightweight construction for  comfort</td>\n",
       "      <td>the sh 230 headset from sennheiser is an   headset with flexible boom  microphone and activegard protection  comes in black with   metal</td>\n",
       "      <td>sennheiser sh 230 monaural headset packed with safety and comfort features exclusive to sennheiser communications patented activegard technology safeguards your hearing acoustical foam ear cushion effectively channels sound into ear detachable headband for easy upgrading to ear clip model black with dark gray colored  lightweight construction perfect for any type of office or professional communication includes cable clothing clip and carry bag</td>\n",
       "      <td>0.40</td>\n",
       "      <td>0.20</td>\n",
       "      <td>0.10</td>\n",
       "      <td>0.01</td>\n",
       "    </tr>\n",
       "    <tr>\n",
       "      <th>3448</th>\n",
       "      <td>21710</td>\n",
       "      <td>imation</td>\n",
       "      <td>accessories supplies</td>\n",
       "      <td>imation rdx removable hard disk cartridge 160gb</td>\n",
       "      <td>237.67</td>\n",
       "      <td>nan</td>\n",
       "      <td>nan</td>\n",
       "      <td>160gb  serial ata 150  serial ata  internal</td>\n",
       "      <td>0.0</td>\n",
       "      <td>5.2</td>\n",
       "      <td>...</td>\n",
       "      <td>hard drives</td>\n",
       "      <td>imation 26607 rdx cartridge hard drive</td>\n",
       "      <td>117.84</td>\n",
       "      <td>160gb storage capacity internal form factor serial ata host interface</td>\n",
       "      <td>quickly protecting your business or personal data imation rdx removable hard disk cartridges contain   hard disk drive that offers all of the advantages of  storage including high performance and    the cartridges are available in 160gb and provide both forward and backward</td>\n",
       "      <td>160gb storage capacity internal form factor serial ata host interface forward and backward compatibility</td>\n",
       "      <td>0.50</td>\n",
       "      <td>4.94</td>\n",
       "      <td>3.75</td>\n",
       "      <td>1.19</td>\n",
       "    </tr>\n",
       "    <tr>\n",
       "      <th>5885</th>\n",
       "      <td>20698</td>\n",
       "      <td>midland</td>\n",
       "      <td>nan</td>\n",
       "      <td>midland  open face helmet headset  boom microphone</td>\n",
       "      <td>39.99</td>\n",
       "      <td></td>\n",
       "      <td>nan</td>\n",
       "      <td>midland  helmet hdset kit  boom mic</td>\n",
       "      <td>0.0</td>\n",
       "      <td>13.8</td>\n",
       "      <td>...</td>\n",
       "      <td>frs</td>\n",
       "      <td>midland  motorcycle microphone speakers for gmrs frs radios</td>\n",
       "      <td>34.79</td>\n",
       "      <td>designed for  helmets and works with all midland gmrs frs</td>\n",
       "      <td>it  designed for  helmets and works with all midland gmrs frs  included are two speakers that attach inside the helmet and  boom microphone that goes inside  also features an  cable and   button that wraps on the motorcycle handle</td>\n",
       "      <td>nan</td>\n",
       "      <td>0.94</td>\n",
       "      <td>12.00</td>\n",
       "      <td>8.00</td>\n",
       "      <td>1.00</td>\n",
       "    </tr>\n",
       "    <tr>\n",
       "      <th>3395</th>\n",
       "      <td>11351</td>\n",
       "      <td>kensington</td>\n",
       "      <td>nan</td>\n",
       "      <td>toshiba laptop charger with usb</td>\n",
       "      <td>52.97</td>\n",
       "      <td>features  energy star qualified so it uses 30 less energy than conventional adapters reliable and simple to use  tips for easy set up over current protection over voltage protection short circuit protection and over temperature protection</td>\n",
       "      <td>nan</td>\n",
       "      <td>toshiba laptop power adapter  usb</td>\n",
       "      <td>0.0</td>\n",
       "      <td>0.0</td>\n",
       "      <td>...</td>\n",
       "      <td>electronics  general</td>\n",
       "      <td>kensington toshiba family laptop charger with usb power port</td>\n",
       "      <td>43.88</td>\n",
       "      <td>compatible with toshiba family laptops  usb power port ideal for use on the road at home in the office</td>\n",
       "      <td>the kensington toshiba family laptop charger with usb power port charges multiple devices throughout the  it is guaranteed compatible with top selling laptop brands yet does not stop at providing reliable power for  the  usb power port can also charge smartphones headsets and other portable electronic</td>\n",
       "      <td>kensington toshiba family laptop charger with usb power port compatible with toshiba family laptops  usb power port provides reliable power at  great price ideal for use on the road at home in the office</td>\n",
       "      <td>1.40</td>\n",
       "      <td>7.20</td>\n",
       "      <td>5.30</td>\n",
       "      <td>2.90</td>\n",
       "    </tr>\n",
       "    <tr>\n",
       "      <th>2451</th>\n",
       "      <td>1593</td>\n",
       "      <td>scosche</td>\n",
       "      <td>computer accessories</td>\n",
       "      <td>scosche snapshield p2 polycarbonate case ipad   smoke ipd2pcbk</td>\n",
       "      <td>29.99</td>\n",
       "      <td>shatterproof polycarbonate material offers superior protection open design allows complete access to all connections and controls includes  screen protector and microfiber cleaning cloth low profile polycarbonate case for ipad  open design allows complete access to all connections and</td>\n",
       "      <td>nan</td>\n",
       "      <td>the snapshield is  low profile polycarbonate case for ipad</td>\n",
       "      <td>0.0</td>\n",
       "      <td>13.0</td>\n",
       "      <td>...</td>\n",
       "      <td>mp3 accessories</td>\n",
       "      <td>snapshield p2 polycarbonate case ipad  smoke</td>\n",
       "      <td>20.88</td>\n",
       "      <td>protects ipad  material polycarbonate color smoke</td>\n",
       "      <td>the snapshield is  low profile polycarbonate case for ipad</td>\n",
       "      <td>snapshield p2 polycarbonate case ipad  protects ipad  material polycarbonate color smoke</td>\n",
       "      <td>1.29</td>\n",
       "      <td>13.00</td>\n",
       "      <td>9.00</td>\n",
       "      <td>0.50</td>\n",
       "    </tr>\n",
       "    <tr>\n",
       "      <th>2484</th>\n",
       "      <td>4893</td>\n",
       "      <td>incipio</td>\n",
       "      <td>nan</td>\n",
       "      <td>incipio kaddy nylon kindle case black fits  display latest generation kindle</td>\n",
       "      <td>25.00</td>\n",
       "      <td>made of durable ripstop nylon the kaddy nylon folio is  durable  carrying case for your amazon kindle  ensure the safety of your kindle  in   kaddy case exterior durable ripstop nylon is complemented by  luxurious microsuede lining leaving your kindle  sitting snugly enveloped in  soft cushion  classy elastic band enclosure ensures that your kindle  will stay safely secured at all times also while adding  sophisticated clean and professional</td>\n",
       "      <td>nan</td>\n",
       "      <td>the kaddy for amazon kindle  transforms your kindle  into  sturdy and sophistocated personal  with  classic elastic band enclosure and  rigid frame to fend off drops and bumps your kindle  will remain protected in</td>\n",
       "      <td>0.0</td>\n",
       "      <td>0.0</td>\n",
       "      <td>...</td>\n",
       "      <td>mp3 accessories</td>\n",
       "      <td>incipio  kaddy nylon folio for amazon kindle  black</td>\n",
       "      <td>28.50</td>\n",
       "      <td>polycarbonate tabs allow for ultimate holding strength made of high quality nylon with soft suede lining easy access to all buttons and features</td>\n",
       "      <td>the incipio  kaddy nylon folio transforms your kindle  into  sturdy and sophisticated personal  with  classic elastic band enclosure and  rigid frame to fend off drops and bumps the incipio  kaddy nylon folio will keep your kindle  protected in</td>\n",
       "      <td>incipio  kaddy nylon folio for amazon kindle  black kaddy design allows you to fold back the cover of the case so that you can read comfortably with just one hand easy slide in polycarbonate tabs allow for ultimate holding strength made of high quality  nylon and soft suede lining on the inside easy access to all buttons and features</td>\n",
       "      <td>1.00</td>\n",
       "      <td>8.00</td>\n",
       "      <td>7.60</td>\n",
       "      <td>0.51</td>\n",
       "    </tr>\n",
       "  </tbody>\n",
       "</table>\n",
       "<p>10 rows × 24 columns</p>\n",
       "</div>"
      ],
      "text/plain": [
       "        id1         brand                             groupname  \\\n",
       "3714  21375         royal   envelopes mailers shipping supplies   \n",
       "9419  10274                                        video cables   \n",
       "5430  11705   plantronics                           electronics   \n",
       "4581   8359        atrend                       office products   \n",
       "8982  15496    sennheiser                           electronics   \n",
       "3448  21710       imation                  accessories supplies   \n",
       "5885  20698       midland                                   nan   \n",
       "3395  11351    kensington                                   nan   \n",
       "2451   1593       scosche                  computer accessories   \n",
       "2484   4893       incipio                                   nan   \n",
       "\n",
       "                                                                              title  \\\n",
       "3714                                             royal ds3 postal rate scale 17012y   \n",
       "9419                                            bell  hd7102 high speed hdmi cables   \n",
       "5430                                        plantronics headset to usb adapter da40   \n",
       "4581                          box series  10  enclosure for dodge ram quad cab 2002   \n",
       "8982                              sennheiser sh230 monaural headset with microphone   \n",
       "3448                                imation rdx removable hard disk cartridge 160gb   \n",
       "5885                             midland  open face helmet headset  boom microphone   \n",
       "3395                                                toshiba laptop charger with usb   \n",
       "2451                 scosche snapshield p2 polycarbonate case ipad   smoke ipd2pcbk   \n",
       "2484   incipio kaddy nylon kindle case black fits  display latest generation kindle   \n",
       "\n",
       "       price  \\\n",
       "3714   29.49   \n",
       "9419   90.00   \n",
       "5430   49.95   \n",
       "4581   94.53   \n",
       "8982   84.00   \n",
       "3448  237.67   \n",
       "5885   39.99   \n",
       "3395   52.97   \n",
       "2451   29.99   \n",
       "2484   25.00   \n",
       "\n",
       "                                                                                                                                                                                                                                                                                                                                                                                                                                                                                                                                                                                                                                                                    shelfdescr  \\\n",
       "3714                                                                                                                                                                                                                                                                                                                                                                                                                                                                                                                                                                    pound weight capacity  ounce increments pull out storage drawer digital read out tare and hold feature   \n",
       "9419   hdmi hd7100 series high speed digital   cables 3d ready 24k gold plating provides optimum data   gbps truspeed transfer rate 1080p  our hdmi cables have been independently tested to the speed rating stated for it   lifejacket is designed for high performance both outside and inside your  lifejacket cable covering provides excellent flexibility durability and meets ul cl3 csa ft4 listed for    oxygen free copper  this provides excellent conductivity and corrosion  the copper wire within each cable is precision terminated at the connectors to provide the optimum   for more  furniture wall mounts cables and accessories options by bell  go to    \n",
       "5430                                                                                                                                                                                                                                                                                                                                                                                                                                                        voip capability when paired with any plantronics professional headset specifically designed for enterprise office communication or employees with both  desk phone and  softphone  alternative to  headset systems   \n",
       "4581                                                                                                                                                                                                                                                                                                                                                                                                                                                                                                                                                            fits 2002 amp up dodge ram quad  mdf   speaker  completely carpeted enclosure with rounded  custom built for     \n",
       "8982                                                                                                                                                                                                                                                                                                                                      microphone with flexible boom arm allowsm for accurate and stable positioning and optimal  ball mounted speaker capsule automatically self adjusts for wearing comfort   patented technology acts as an automatic control in your headset to instantly lower the volume from acoustic  detachable headband for easy upgrade to clip    \n",
       "3448                                                                                                                                                                                                                                                                                                                                                                                                                                                                                                                                                                                                                                                                       nan   \n",
       "5885                                                                                                                                                                                                                                                                                                                                                                                                                                                                                                                                                                                                                                                                             \n",
       "3395                                                                                                                                                                                                                                                                                                                                                                                                                            features  energy star qualified so it uses 30 less energy than conventional adapters reliable and simple to use  tips for easy set up over current protection over voltage protection short circuit protection and over temperature protection   \n",
       "2451                                                                                                                                                                                                                                                                                                                                                                            shatterproof polycarbonate material offers superior protection open design allows complete access to all connections and controls includes  screen protector and microfiber cleaning cloth low profile polycarbonate case for ipad  open design allows complete access to all connections and    \n",
       "2484                                                                                                                                                                                                            made of durable ripstop nylon the kaddy nylon folio is  durable  carrying case for your amazon kindle  ensure the safety of your kindle  in   kaddy case exterior durable ripstop nylon is complemented by  luxurious microsuede lining leaving your kindle  sitting snugly enveloped in  soft cushion  classy elastic band enclosure ensures that your kindle  will stay safely secured at all times also while adding  sophisticated clean and professional    \n",
       "\n",
       "     shortdescr  \\\n",
       "3714        nan   \n",
       "9419        nan   \n",
       "5430        nan   \n",
       "4581        nan   \n",
       "8982        nan   \n",
       "3448        nan   \n",
       "5885        nan   \n",
       "3395        nan   \n",
       "2451        nan   \n",
       "2484        nan   \n",
       "\n",
       "                                                                                                                                                                                                                                                                                                                                          longdescr  \\\n",
       "3714                                                                                                                                                                                                                                                                                                                           digital postal scale   \n",
       "9419   bell  hdmi7100 series hd7102  feet  meter high speed hdmi cables with 180 degree swivel head ethernet and 3d  engineered for superior performance advanced technologies including 3d ready ethernet capability and   gigabit per second transfer rate that exceeds today  standards making these the last cables you ll need for  very long    \n",
       "5430                                                                                                                                                                                                                                                                                             plantronics da series  adapter da40 cable adapters   \n",
       "4581                                                             fits 2002 amp up dodge ram quad cabmdf  speaker bafflescompletely carpeted enclosure with rounded edgescustom built for  applicationscrewed down terminal cupscompletely glued amp braced10 single sealed  fits crew cabsupc 636644998160shipping dimensions      shipping weight    \n",
       "8982                                                                                                    when you have to concentrate and attention to detail is important sennheiser headsets help you stay on the  light and comfortable to wear you are free to work without  reliable high quality performance and design from sennheiser proved   \n",
       "3448                                                                                                                                                                                                                                                                                                    160gb  serial ata 150  serial ata  internal   \n",
       "5885                                                                                                                                                                                                                                                                                                            midland  helmet hdset kit  boom mic   \n",
       "3395                                                                                                                                                                                                                                                                                                              toshiba laptop power adapter  usb   \n",
       "2451                                                                                                                                                                                                                                                                                    the snapshield is  low profile polycarbonate case for ipad    \n",
       "2484                                                                                                                         the kaddy for amazon kindle  transforms your kindle  into  sturdy and sophistocated personal  with  classic elastic band enclosure and  rigid frame to fend off drops and bumps your kindle  will remain protected in    \n",
       "\n",
       "      shipweight length  ...                        groupname  \\\n",
       "3714         0.0    7.6  ...     stationery  office machinery   \n",
       "9419         0.0   11.0  ...                   tv accessories   \n",
       "5430         0.0    7.0  ...             electronics  general   \n",
       "4581         0.0    0.0  ...                      car stereos   \n",
       "8982         0.0    8.0  ...             electronics  general   \n",
       "3448         0.0    5.2  ...                      hard drives   \n",
       "5885         0.0   13.8  ...                              frs   \n",
       "3395         0.0    0.0  ...             electronics  general   \n",
       "2451         0.0   13.0  ...                  mp3 accessories   \n",
       "2484         0.0    0.0  ...                  mp3 accessories   \n",
       "\n",
       "                                                              title   price  \\\n",
       "3714                                    royal ds3 postal rate scale   24.54   \n",
       "9419                               bell   hdmi cable with ethernet    69.99   \n",
       "5430                                           plantronics  adapter   27.98   \n",
       "4581                                      box series  10  enclosure   60.88   \n",
       "8982                             sennheiser sh 230 monaural headset   84.00   \n",
       "3448                         imation 26607 rdx cartridge hard drive  117.84   \n",
       "5885    midland  motorcycle microphone speakers for gmrs frs radios   34.79   \n",
       "3395   kensington toshiba family laptop charger with usb power port   43.88   \n",
       "2451                   snapshield p2 polycarbonate case ipad  smoke   20.88   \n",
       "2484            incipio  kaddy nylon folio for amazon kindle  black   28.50   \n",
       "\n",
       "                                                                                                                                             shelfdescr  \\\n",
       "3714                    pounds weight capacity  kilograms resolution  ounce  gram increments  storage drawer convenient storage for stamps paper clips    \n",
       "9419                                                               truspeed transfer rate lifejacket ul listed for  installation  swivel connector head   \n",
       "5430                                                                              voip capability when paired with any plantronics professional headset   \n",
       "4581                                                        for dodge ram quad cab 2002 and up mdf construction custom built for under seat application   \n",
       "8982   patented activegard technology safeguards your hearing acoustical foam ear cushion channels sound into ear lightweight construction for  comfort   \n",
       "3448                                                                              160gb storage capacity internal form factor serial ata host interface   \n",
       "5885                                                                                         designed for  helmets and works with all midland gmrs frs    \n",
       "3395                                             compatible with toshiba family laptops  usb power port ideal for use on the road at home in the office   \n",
       "2451                                                                                                  protects ipad  material polycarbonate color smoke   \n",
       "2484   polycarbonate tabs allow for ultimate holding strength made of high quality nylon with soft suede lining easy access to all buttons and features   \n",
       "\n",
       "                                                                                                                                                                                                                                                                                                                                                shortdescr  \\\n",
       "3714                                                                                                                                                                                                                                                                                                                                                   nan   \n",
       "9419   your tv is only as good as the signal it  bell  hdmi cables ensure that all of the audio and video data available reaches your system to bring your experience to  advanced technologies and truspeed tested  gigabit per second transfer rate depending on length exceed today  standards making these the last cables you ll need for  very long    \n",
       "5430                                                                                                                                                                                                                                                                                                                                                   nan   \n",
       "4581                                                                                                                                                                                                               the    box series  10  enclosure fits dodge ram quad cabs 2002 and  it is custom built so that you can put it under your seat and save    \n",
       "8982                                                                                                                                                                                                             the sh 230 headset from sennheiser is an   headset with flexible boom  microphone and activegard protection  comes in black with   metal    \n",
       "3448                                                                   quickly protecting your business or personal data imation rdx removable hard disk cartridges contain   hard disk drive that offers all of the advantages of  storage including high performance and    the cartridges are available in 160gb and provide both forward and backward    \n",
       "5885                                                                                                               it  designed for  helmets and works with all midland gmrs frs  included are two speakers that attach inside the helmet and  boom microphone that goes inside  also features an  cable and   button that wraps on the motorcycle handle    \n",
       "3395                                       the kensington toshiba family laptop charger with usb power port charges multiple devices throughout the  it is guaranteed compatible with top selling laptop brands yet does not stop at providing reliable power for  the  usb power port can also charge smartphones headsets and other portable electronic    \n",
       "2451                                                                                                                                                                                                                                                                                           the snapshield is  low profile polycarbonate case for ipad    \n",
       "2484                                                                                                 the incipio  kaddy nylon folio transforms your kindle  into  sturdy and sophisticated personal  with  classic elastic band enclosure and  rigid frame to fend off drops and bumps the incipio  kaddy nylon folio will keep your kindle  protected in    \n",
       "\n",
       "                                                                                                                                                                                                                                                                                                                                                                                                                                                              longdescr  \\\n",
       "3714                                                                                                                                                                                         pounds weight capacity  kilograms resolution  ounce  gram increments  storage drawer convenient storage for stamps paper clips  digital  tare feature hold feature displays weight in pounds ounces or metric postal rate chart included us postal service and canada post   \n",
       "9419                                                                                                                                                                                                                                                                                   bell   hdmi cable with ethernet   truspeed transfer rate lifejacket ul listed for  installation hdmi ethernet channel audio return channel 1080p hd video  swivel connector head   \n",
       "5430                                                                                                                                                                                                                                                 voip capability when paired with any plantronics professional headset specifically designed for enterprise office communication or employees with both  desk phone and  softphone  alternative to  headset systems   \n",
       "4581                                                                                                                                                                                                                                                                                     box series  10 speaker baffles completely carpeted enclosure with rounded edges custom built for under seat application screwed down terminal cups completely glued and braced   \n",
       "8982   sennheiser sh 230 monaural headset packed with safety and comfort features exclusive to sennheiser communications patented activegard technology safeguards your hearing acoustical foam ear cushion effectively channels sound into ear detachable headband for easy upgrading to ear clip model black with dark gray colored  lightweight construction perfect for any type of office or professional communication includes cable clothing clip and carry bag   \n",
       "3448                                                                                                                                                                                                                                                                                                                                                           160gb storage capacity internal form factor serial ata host interface forward and backward compatibility   \n",
       "5885                                                                                                                                                                                                                                                                                                                                                                                                                                                                nan   \n",
       "3395                                                                                                                                                                                                                                                        kensington toshiba family laptop charger with usb power port compatible with toshiba family laptops  usb power port provides reliable power at  great price ideal for use on the road at home in the office   \n",
       "2451                                                                                                                                                                                                                                                                                                                                                                           snapshield p2 polycarbonate case ipad  protects ipad  material polycarbonate color smoke   \n",
       "2484                                                                                                                    incipio  kaddy nylon folio for amazon kindle  black kaddy design allows you to fold back the cover of the case so that you can read comfortably with just one hand easy slide in polycarbonate tabs allow for ultimate holding strength made of high quality  nylon and soft suede lining on the inside easy access to all buttons and features   \n",
       "\n",
       "      shipweight length  width height  \n",
       "3714        1.05   8.70   7.00   2.70  \n",
       "9419        0.50  80.00   0.50   0.50  \n",
       "5430        0.33   6.75   5.50   2.00  \n",
       "4581       19.45  33.50  14.00   8.25  \n",
       "8982        0.40   0.20   0.10   0.01  \n",
       "3448        0.50   4.94   3.75   1.19  \n",
       "5885        0.94  12.00   8.00   1.00  \n",
       "3395        1.40   7.20   5.30   2.90  \n",
       "2451        1.29  13.00   9.00   0.50  \n",
       "2484        1.00   8.00   7.60   0.51  \n",
       "\n",
       "[10 rows x 24 columns]"
      ]
     },
     "execution_count": 74,
     "metadata": {},
     "output_type": "execute_result"
    }
   ],
   "source": [
    "mapping = map.copy()\n",
    "bool_mask = (y_val_ == 1) & (y_val_pred >= 0.5)\n",
    "columns = ['brand', 'groupname', 'title', 'shelfdescr',\n",
    "           'shortdescr', 'longdescr']\n",
    "df_examine = hp.examine_data(data['val_1'], data['val_2'], columns, bool_mask, mapping)\n",
    "df_examine.sample(10)"
   ]
  },
  {
   "cell_type": "markdown",
   "metadata": {},
   "source": [
    "# Save model and histories "
   ]
  },
  {
   "cell_type": "code",
   "execution_count": 75,
   "metadata": {
    "ExecuteTime": {
     "end_time": "2018-04-12T21:51:21.415206Z",
     "start_time": "2018-04-12T21:51:21.050809Z"
    },
    "collapsed": true
   },
   "outputs": [],
   "source": [
    "pd.DataFrame(histories).to_csv('../data/histories/amazon-walmart-base-2-num.csv', index=False)\n",
    "model.save_weights('../data/models/amazon-walmart-base-2-num')"
   ]
  },
  {
   "cell_type": "markdown",
   "metadata": {},
   "source": [
    "# Test model "
   ]
  },
  {
   "cell_type": "code",
   "execution_count": 76,
   "metadata": {
    "ExecuteTime": {
     "end_time": "2018-04-12T21:51:26.898830Z",
     "start_time": "2018-04-12T21:51:23.802014Z"
    }
   },
   "outputs": [
    {
     "name": "stdout",
     "output_type": "stream",
     "text": [
      "             precision    recall  f1-score   support\n",
      "\n",
      "          0       1.00      1.00      1.00     11541\n",
      "          1       0.91      0.88      0.89       114\n",
      "\n",
      "avg / total       1.00      1.00      1.00     11655\n",
      "\n",
      "[[11531    10]\n",
      " [   14   100]]\n"
     ]
    }
   ],
   "source": [
    "y_test_pred = model.predict(X_test, batch_size=4096)[:,1]\n",
    "y_test_ = data['test_y'].values.squeeze()\n",
    "print(classification_report(y_test_, y_test_pred >= 0.5))\n",
    "print(confusion_matrix(y_test_, y_test_pred >= 0.5))"
   ]
  }
 ],
 "metadata": {
  "kernelspec": {
   "display_name": "Python 3.6",
   "language": "python",
   "name": "python-36"
  },
  "language_info": {
   "codemirror_mode": {
    "name": "ipython",
    "version": 3
   },
   "file_extension": ".py",
   "mimetype": "text/x-python",
   "name": "python",
   "nbconvert_exporter": "python",
   "pygments_lexer": "ipython3",
   "version": "3.6.4"
  },
  "varInspector": {
   "cols": {
    "lenName": 16,
    "lenType": 16,
    "lenVar": 40
   },
   "kernels_config": {
    "python": {
     "delete_cmd_postfix": "",
     "delete_cmd_prefix": "del ",
     "library": "var_list.py",
     "varRefreshCmd": "print(var_dic_list())"
    },
    "r": {
     "delete_cmd_postfix": ") ",
     "delete_cmd_prefix": "rm(",
     "library": "var_list.r",
     "varRefreshCmd": "cat(var_dic_list()) "
    }
   },
   "types_to_exclude": [
    "module",
    "function",
    "builtin_function_or_method",
    "instance",
    "_Feature"
   ],
   "window_display": false
  }
 },
 "nbformat": 4,
 "nbformat_minor": 2
}
