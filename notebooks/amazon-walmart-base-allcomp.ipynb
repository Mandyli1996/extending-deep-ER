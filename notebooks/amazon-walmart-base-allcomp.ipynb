{
 "cells": [
  {
   "cell_type": "code",
   "execution_count": 1,
   "metadata": {
    "ExecuteTime": {
     "end_time": "2018-04-12T19:27:23.665689Z",
     "start_time": "2018-04-12T19:27:20.582747Z"
    }
   },
   "outputs": [
    {
     "name": "stderr",
     "output_type": "stream",
     "text": [
      "/home/paperspace/anaconda3/envs/python-36/lib/python3.6/site-packages/h5py/__init__.py:36: FutureWarning: Conversion of the second argument of issubdtype from `float` to `np.floating` is deprecated. In future, it will be treated as `np.float64 == np.dtype(float).type`.\n",
      "  from ._conv import register_converters as _register_converters\n",
      "Using TensorFlow backend.\n"
     ]
    }
   ],
   "source": [
    "import sys\n",
    "import os\n",
    "import re\n",
    "sys.path.append('../scripts')\n",
    "\n",
    "import numpy as np\n",
    "import pandas as pd\n",
    "import matplotlib.pyplot as plt\n",
    "import seaborn as sns\n",
    "import helpers as hp\n",
    "import pickle as pkl\n",
    "import itertools as it\n",
    "\n",
    "from collections import OrderedDict, defaultdict\n",
    "\n",
    "from sklearn.metrics import f1_score, precision_score, recall_score,\\\n",
    "                            average_precision_score, roc_auc_score,\\\n",
    "                            roc_curve, precision_recall_curve, confusion_matrix,\\\n",
    "                            accuracy_score, classification_report\n",
    "\n",
    "from IPython.core.interactiveshell import InteractiveShell\n",
    "from matplotlib import rcParams\n",
    "from importlib import reload\n",
    "from model_generator import deep_er_model_generator\n",
    "pd.options.display.max_colwidth = 1000\n",
    "\n",
    "rcParams['font.family'] = 'serif'\n",
    "rcParams['font.serif'] = 'times new roman'\n",
    "\n",
    "%config InlineBackend.figure_format = 'retina'\n",
    "%matplotlib inline"
   ]
  },
  {
   "cell_type": "markdown",
   "metadata": {},
   "source": [
    "# Load data "
   ]
  },
  {
   "cell_type": "code",
   "execution_count": 2,
   "metadata": {
    "ExecuteTime": {
     "end_time": "2018-04-12T21:41:12.001384Z",
     "start_time": "2018-04-12T21:40:47.012379Z"
    },
    "collapsed": true
   },
   "outputs": [],
   "source": [
    "reload(hp)\n",
    "\n",
    "with open('../data/converted/amazon-walmart-reduced/glove-300.map', 'rb') as f:\n",
    "    map = pkl.load(f)\n",
    "\n",
    "data_dir = os.path.join('..','data')\n",
    "source_dir = os.path.join(data_dir,'split','amazon-walmart-reduced')\n",
    "data = hp.load_data(source_dir)\n",
    "\n",
    "datasets = ['train_1', 'val_1', 'test_1', 'train_2', 'val_2', 'test_2']\n",
    "\n",
    "for data_name in data.keys():\n",
    "    data[data_name] = data[data_name].fillna(0)\n",
    "\n",
    "doc_freqs_1, doc_freqs_2 = hp.get_document_frequencies('../data/converted/amazon-walmart-reduced/', mapping=map)\n",
    "nan_idx = map['word2idx']['NaN']"
   ]
  },
  {
   "cell_type": "markdown",
   "metadata": {},
   "source": [
    "# Generate model"
   ]
  },
  {
   "cell_type": "code",
   "execution_count": 3,
   "metadata": {
    "ExecuteTime": {
     "end_time": "2018-04-12T21:41:28.691606Z",
     "start_time": "2018-04-12T21:41:20.426588Z"
    }
   },
   "outputs": [
    {
     "name": "stdout",
     "output_type": "stream",
     "text": [
      "Number of inputs to dense layer: 180\n"
     ]
    }
   ],
   "source": [
    "histories = dict(acc=list(), val_acc=list(), loss=list(), val_loss=list())\n",
    "model, X_train, X_val, X_test, y_train, y_val, y_test = \\\n",
    "deep_er_model_generator(data,\n",
    "                        embedding_file = '../data/converted/amazon-walmart-reduced/glove-300.matrix.npy',\n",
    "                        text_columns = ['brand', 'groupname', 'title', 'shelfdescr',\n",
    "                                        'shortdescr', 'longdescr'],\n",
    "                        numeric_columns = [],\n",
    "                        text_nan_idx=nan_idx,\n",
    "                        num_nan_val=0,\n",
    "                        text_sim_metrics=['cosine'],\n",
    "                        text_compositions=['average', 'idf', 'bi_lstm'],\n",
    "                        numeric_sim_metrics=[],\n",
    "                        dense_nodes=[32, 16],\n",
    "                        document_frequencies=(doc_freqs_1, doc_freqs_2),\n",
    "                        idf_smoothing=2,\n",
    "                        make_isna=False,\n",
    "                        dropout=0.5,\n",
    "                        batch_norm=True,\n",
    "                        lstm_args=dict(units=25, dropout=0, recurrent_dropout=0),\n",
    "                        shared_lstm=True)"
   ]
  },
  {
   "cell_type": "markdown",
   "metadata": {},
   "source": [
    "# Crash recovery"
   ]
  },
  {
   "cell_type": "code",
   "execution_count": 4,
   "metadata": {
    "collapsed": true,
    "scrolled": true
   },
   "outputs": [],
   "source": [
    "model.load_weights('../data/models/amazon-walmart-base-allcomp')\n",
    "df_hist = pd.read_csv('../data/histories/amazon-walmart-base-allcomp.csv')\n",
    "\n",
    "histories['acc'] = list(df_hist['acc'].values)\n",
    "histories['val_acc'] = list(df_hist['val_acc'].values)\n",
    "histories['loss'] = list(df_hist['loss'].values)\n",
    "histories['val_loss'] = list(df_hist['val_loss'].values)"
   ]
  },
  {
   "cell_type": "markdown",
   "metadata": {},
   "source": [
    "# Train model "
   ]
  },
  {
   "cell_type": "code",
   "execution_count": 35,
   "metadata": {
    "ExecuteTime": {
     "end_time": "2018-04-12T21:52:12.328428Z",
     "start_time": "2018-04-12T21:51:42.009377Z"
    }
   },
   "outputs": [
    {
     "name": "stdout",
     "output_type": "stream",
     "text": [
      "Train on 93243 samples, validate on 11656 samples\n",
      "Epoch 1/1\n",
      "93243/93243 [==============================] - 153s 2ms/step - loss: 0.0220 - acc: 0.9960 - val_loss: 0.0167 - val_acc: 0.9961\n"
     ]
    }
   ],
   "source": [
    "model.compile(optimizer='adam', loss='binary_crossentropy', metrics=['acc'])\n",
    "history = model.fit(X_train, y_train, epochs=1, batch_size=4096,\n",
    "                    validation_data=(X_val, y_val),\n",
    "                    shuffle=True)\n",
    "\n",
    "histories['acc'].extend(history.history['acc'])\n",
    "histories['val_acc'].extend(history.history['val_acc'])\n",
    "histories['loss'].extend(history.history['loss'])\n",
    "histories['val_loss'].extend(history.history['val_loss'])"
   ]
  },
  {
   "cell_type": "markdown",
   "metadata": {},
   "source": [
    "# Learning curves"
   ]
  },
  {
   "cell_type": "code",
   "execution_count": 37,
   "metadata": {
    "ExecuteTime": {
     "end_time": "2018-04-12T21:53:06.430610Z",
     "start_time": "2018-04-12T21:53:06.048975Z"
    }
   },
   "outputs": [
    {
     "data": {
      "image/png": "[encoded data removed]",
      "text/plain": [
       "<Figure size 1152x432 with 2 Axes>"
      ]
     },
     "metadata": {
      "image/png": {
       "height": 374,
       "width": 944
      }
     },
     "output_type": "display_data"
    }
   ],
   "source": [
    "fig, axes = plt.subplots(1, 2, figsize=(16,6))\n",
    "axes[0].plot(histories['loss'], label='loss')\n",
    "axes[0].plot(histories['val_loss'], label='val_loss')\n",
    "axes[0].set(ylim = (0, 0.2))\n",
    "axes[1].plot(histories['acc'], label='acc')\n",
    "axes[1].plot(histories['val_acc'], label='val_acc')\n",
    "axes[1].set(ylim = (0.98, 1))\n",
    "\n",
    "for ax in axes:\n",
    "    ax.legend()\n",
    "    ax.grid(True)\n",
    "    ax.set(xlabel='epoch')"
   ]
  },
  {
   "cell_type": "markdown",
   "metadata": {},
   "source": [
    "# Evaluate model "
   ]
  },
  {
   "cell_type": "code",
   "execution_count": 38,
   "metadata": {
    "ExecuteTime": {
     "end_time": "2018-04-12T21:53:11.515998Z",
     "start_time": "2018-04-12T21:53:08.723045Z"
    }
   },
   "outputs": [
    {
     "name": "stdout",
     "output_type": "stream",
     "text": [
      "             precision    recall  f1-score   support\n",
      "\n",
      "          0       1.00      1.00      1.00     11529\n",
      "          1       0.98      0.66      0.79       127\n",
      "\n",
      "avg / total       1.00      1.00      1.00     11656\n",
      "\n",
      "[[11527     2]\n",
      " [   43    84]]\n"
     ]
    }
   ],
   "source": [
    "y_val_pred = model.predict(X_val, batch_size=4096)[:,1]\n",
    "y_val_ = data['val_y'].values.squeeze()\n",
    "print(classification_report(y_val_, y_val_pred >= 0.5))\n",
    "print(confusion_matrix(y_val_, y_val_pred >= 0.5))"
   ]
  },
  {
   "cell_type": "code",
   "execution_count": 86,
   "metadata": {
    "ExecuteTime": {
     "end_time": "2018-04-12T21:45:49.865322Z",
     "start_time": "2018-04-12T21:45:47.406682Z"
    }
   },
   "outputs": [
    {
     "data": {
      "text/html": [
       "<div>\n",
       "<style scoped>\n",
       "    .dataframe tbody tr th:only-of-type {\n",
       "        vertical-align: middle;\n",
       "    }\n",
       "\n",
       "    .dataframe tbody tr th {\n",
       "        vertical-align: top;\n",
       "    }\n",
       "\n",
       "    .dataframe thead th {\n",
       "        text-align: right;\n",
       "    }\n",
       "</style>\n",
       "<table border=\"1\" class=\"dataframe\">\n",
       "  <thead>\n",
       "    <tr style=\"text-align: right;\">\n",
       "      <th></th>\n",
       "      <th>id1</th>\n",
       "      <th>brand</th>\n",
       "      <th>groupname</th>\n",
       "      <th>title</th>\n",
       "      <th>price</th>\n",
       "      <th>shelfdescr</th>\n",
       "      <th>shortdescr</th>\n",
       "      <th>longdescr</th>\n",
       "      <th>shipweight</th>\n",
       "      <th>length</th>\n",
       "      <th>...</th>\n",
       "      <th>groupname</th>\n",
       "      <th>title</th>\n",
       "      <th>price</th>\n",
       "      <th>shelfdescr</th>\n",
       "      <th>shortdescr</th>\n",
       "      <th>longdescr</th>\n",
       "      <th>shipweight</th>\n",
       "      <th>length</th>\n",
       "      <th>width</th>\n",
       "      <th>height</th>\n",
       "    </tr>\n",
       "  </thead>\n",
       "  <tbody>\n",
       "    <tr>\n",
       "      <th>9045</th>\n",
       "      <td>21813</td>\n",
       "      <td></td>\n",
       "      <td>projector accessories</td>\n",
       "      <td>portable rental deluxe screen skirt adapter clamp</td>\n",
       "      <td>6.99</td>\n",
       "      <td>skirt adapter  brackets to allow use of larger skirt on smaller width</td>\n",
       "      <td>nan</td>\n",
       "      <td>skirt adapter brackets allow larger skirts to be attached to smaller width</td>\n",
       "      <td>0.0</td>\n",
       "      <td>0.0</td>\n",
       "      <td>...</td>\n",
       "      <td>electronics  general</td>\n",
       "      <td>deluxe skirt adapter bracket for fast fold screens</td>\n",
       "      <td>6.99</td>\n",
       "      <td>deluxe skirt adapter allows for use of  larger skirt on  smaller width deluxe fast fold  price is per</td>\n",
       "      <td>nan</td>\n",
       "      <td>dl1633deluxe skirt adapter allows for use of  larger skirt on  smaller width deluxe fast fold  price is per</td>\n",
       "      <td>0.500</td>\n",
       "      <td>0.00</td>\n",
       "      <td>0.00</td>\n",
       "      <td>0.00</td>\n",
       "    </tr>\n",
       "    <tr>\n",
       "      <th>4332</th>\n",
       "      <td>4494</td>\n",
       "      <td>norazza</td>\n",
       "      <td>accessories</td>\n",
       "      <td>ape case small digital camera bag ac165</td>\n",
       "      <td>15.99</td>\n",
       "      <td>inner pockets for holding media batteries and other accessories  external easy access mesh pockets padded and water resistant convenient belt loop and removable shoulder strap signature  yellow interior makes finding your equipment easier  external  inner pockets for holding media batteries amp other accessories  mesh pockets zippered pouch amp pocket keeps contents safe</td>\n",
       "      <td>nan</td>\n",
       "      <td>ape case small digital camera bag ac165 this case offers  little extra space for standard sized digital  with four inner pockets it  great for holding media batteries and other  the external easy to access mesh pockets and zippered pouch and pocket keeps contents  the bag conveniently attaches to your belt and has removable shoulder  it has extra padding water resistant and has the signature  yellow  ac160 ac165 ac220 ac240 ac250 ac252 ac260 ac120 ac145 ac150  inner pockets great for holding media batteries and other  offers  little extra space for standard sized digital  designed to hold your digital camera and much  front pocket holds batteries media cards and other  front pocket holds batteries media cards and many other  front pocket holds batteries media cards and many other  folds out to  multi pocket wallet with plenty of room for credit cards passport digital media cards money traveler  checks maps pda and  large front pocket holds  large variety of accessories including c...</td>\n",
       "      <td>0.0</td>\n",
       "      <td>8.0</td>\n",
       "      <td>...</td>\n",
       "      <td>photography  general</td>\n",
       "      <td>ape case ac165 digital camera case</td>\n",
       "      <td>12.85</td>\n",
       "      <td>keep your digital camera safe from life  hard knocks with theac165 ape case for digital cameras by norazza</td>\n",
       "      <td>the ac165 ape case for digital cameras is     case designed to hold your digital camera and much</td>\n",
       "      <td>key features benefits extra space offers  little extra space for standard sized digital cameras four inner pockets great for holding media batteries and other accessories  construction keeps the elements away from your valuable camera signature bright yellow interior makes it easy to see everything stowed inside two external mesh pockets easily access instructions gum pens and your other necessities two carrying options attaches to your belt and has  removeable shoulder strap inner dimensions      outer dimensions</td>\n",
       "      <td>0.810</td>\n",
       "      <td>8.00</td>\n",
       "      <td>5.00</td>\n",
       "      <td>3.50</td>\n",
       "    </tr>\n",
       "    <tr>\n",
       "      <th>10388</th>\n",
       "      <td>6873</td>\n",
       "      <td>iris</td>\n",
       "      <td>computers accessories</td>\n",
       "      <td>iris usoa400 irispen express  pen scanner</td>\n",
       "      <td>129.99</td>\n",
       "      <td>portable  scanner with ocr recognizes 128 languages recognizes alphanumeric characters numeric data mathematical symbols currency symbols and much more scans small images scans up to  inches per second mac and pc compatible powers off usb port automatically recognizes mix of western and greek or cyrillic languages optionally reads japanese simplified chinese traditional chinese and korean</td>\n",
       "      <td>irispen express  pen scanner</td>\n",
       "      <td>product description the iris usoa400 irispen express  pen scanner is  portable  scanner that works just like   you simply slide the scanner over virtually any printed text and the text is automatically scanned directly into your  ideal for remote research projects or any task in which  flatbed scanner would prove too cumbersome this  scanner operates at  rate of over three inches per second and recognizes 128  the iris usoa400 irispen express  pen scanner offers small size for easy  automatic conversion of text on paper into editable text on the  recognition of 128  pc and mac  the  scanner scans at  rate of over three inches per  view larger  fast scanning and high accuracy the irispen express  includes optical character recognition software or ocr that is up to 100 accurate with 128  whether you re scanning print from  newspaper in new york istanbul or ljubljana this scanner will provide you with highly accurate  it can even read wavy and distorted images as well as colored tex...</td>\n",
       "      <td>0.0</td>\n",
       "      <td>10.0</td>\n",
       "      <td>...</td>\n",
       "      <td>electronics  general</td>\n",
       "      <td>irispen express  usb pen scanner for pcs macs by iris</td>\n",
       "      <td>109.82</td>\n",
       "      <td>instantly enters text numbers or images into anycomputer application</td>\n",
       "      <td>instantly enters text numbers or images into anycomputer application slide the irispen over printed material from newspapers magazines faxes letters or brochures real and editable text right at your cursor in your favorite application</td>\n",
       "      <td>nan</td>\n",
       "      <td>1.160</td>\n",
       "      <td>9.70</td>\n",
       "      <td>7.70</td>\n",
       "      <td>3.25</td>\n",
       "    </tr>\n",
       "    <tr>\n",
       "      <th>8951</th>\n",
       "      <td>3966</td>\n",
       "      <td>avery</td>\n",
       "      <td>labels stickers</td>\n",
       "      <td>avery  tabs  inches 48 tabs 16143</td>\n",
       "      <td>4.08</td>\n",
       "      <td>removable and durable  tabs won  smear when you write on them assorted colors stand out to help you find your place quickly use in personal organizers reports reference manuals books catalogs and more get free templates and software from avery website attaches temporarily to documents to provide fast easy access write on tabs with any kind of pen or marker ink won  smear removable yet durable solid yellow or assorted colors attach temporarily to any document for quick and easy access</td>\n",
       "      <td>nan</td>\n",
       "      <td>make sure you re always in the right  easily find your place in books reports catalogs and more with the help of these   attach brightly colored  tabs to help you flip back to specific  flag important facts and figures gain quick access to favorite quotes or assign sections in  notebook or personal  and when you re done the tabs remove  write on the tabs with virtually any writing instrument to remind yourself why you marked  particular  now you can always land right where you want to</td>\n",
       "      <td>0.0</td>\n",
       "      <td>7.2</td>\n",
       "      <td>...</td>\n",
       "      <td>stationery  office machinery</td>\n",
       "      <td>avery  tabs</td>\n",
       "      <td>3.54</td>\n",
       "      <td>removable won  smear colors stand out</td>\n",
       "      <td>write on the the avery  tabs with any writing instrument and the ink won   the removable and durable self stick tabs are available in solid or assorted  each sheet attaches temporarily to the document for quick and easy  they re ideal for dividing and organizing documents such as personal organizers reports reference manuals books catalogs and  the avery  tabs assorted colors include yellow blue and</td>\n",
       "      <td>avery  tabs removable and durable  tabs won  smear when you write on them assorted colors stand out use in personal organizers reports reference manuals books catalogs and more get free templates and software from  color yellow blue and magenta size  includes 48 tabs</td>\n",
       "      <td>0.050</td>\n",
       "      <td>7.25</td>\n",
       "      <td>3.00</td>\n",
       "      <td>0.30</td>\n",
       "    </tr>\n",
       "    <tr>\n",
       "      <th>6540</th>\n",
       "      <td>16059</td>\n",
       "      <td>smead</td>\n",
       "      <td>nan</td>\n",
       "      <td>smead 64259   capacity box bottom hanging file folders letter green 25 box</td>\n",
       "      <td>37.93</td>\n",
       "      <td>satisfaction ensured design is stylish and  functionality that is</td>\n",
       "      <td>nan</td>\n",
       "      <td>ideal for bulky records manuals and  reinforcement strip prevents  tabs and inserts not  assorted  hanging file folder type box bottom expansion  material  11  stock color  standard</td>\n",
       "      <td>0.0</td>\n",
       "      <td>0.0</td>\n",
       "      <td>...</td>\n",
       "      <td>stationery  office machinery</td>\n",
       "      <td>smead capacity box bottom hanging file folders letter green 25 box</td>\n",
       "      <td>30.94</td>\n",
       "      <td>for bulky records manuals and catalogs front and back scoring coated rod tips</td>\n",
       "      <td>protect and organize documents with smead capacity box bottom hanging file  these folders are great for organizing bulky records manuals and  the reinforcement strip prevents  the smead capacity box bottom hanging file folders are scored front and back for easy content</td>\n",
       "      <td>smead capacity box bottom hanging file folders letter green 25 box  expansion area for bulky records manuals and catalogs front and back scoring for quick document removal rod tips coated to slide smoothly slotted for index tabs 11pt stock</td>\n",
       "      <td>4.569</td>\n",
       "      <td>0.00</td>\n",
       "      <td>0.00</td>\n",
       "      <td>0.00</td>\n",
       "    </tr>\n",
       "    <tr>\n",
       "      <th>9062</th>\n",
       "      <td>17448</td>\n",
       "      <td>dymo</td>\n",
       "      <td>other office equipment</td>\n",
       "      <td>1754490  labelmanager 260p  lines  10w   9d   5h  dym1754490</td>\n",
       "      <td>0.00</td>\n",
       "      <td>nan</td>\n",
       "      <td>nan</td>\n",
       "      <td>eliminate the inconvenience of aa batteriesjust charge and go with this sleek  label  packed with new features inspired by labelmanager users to help you get the results you want with more ease and  the large        screen displays two lines of label  plus the graphical display lets you see text effects onscreen before you  works faster with an improved user interface that displays all menu options onscreen without scrolling and includes intuitive icons for formatting  familiar   offers quick access to special  choose from three font styles six font sizes and one of eight different box or underline  nine label memory and easy insertion of saved  prints up to 10 copies of the same  includes rechargeable lithium ion battery charging cord starter label cassette and user  tape size       number of printed lines  display characters  display lines 13   memory   label makers label  thermal transfer label printer label manager identifications classifications stickers creators producer roo...</td>\n",
       "      <td>0.0</td>\n",
       "      <td>0.0</td>\n",
       "      <td>...</td>\n",
       "      <td>stationery  office machinery</td>\n",
       "      <td>dymo labelmanager 260p</td>\n",
       "      <td>59.97</td>\n",
       "      <td>easy to use graphical display  buttons</td>\n",
       "      <td>eliminate the inconvenience of aa batteries just charge and go with this sleek  dymo  packed with new features inspired by labelmanager users to help you get the results you want with more ease and</td>\n",
       "      <td>dymo labelmanager smartly designed  keyboard   buttons can bold underline and box font graphical display   customize labels with  different fonts  sizes and  different box or underline styles  memory can save text print up to 10 copies of the same label rechargeable lithium ion battery charging cord included has  starter label cassette and  user manual size</td>\n",
       "      <td>2.090</td>\n",
       "      <td>0.00</td>\n",
       "      <td>0.00</td>\n",
       "      <td>0.00</td>\n",
       "    </tr>\n",
       "    <tr>\n",
       "      <th>7762</th>\n",
       "      <td>9692</td>\n",
       "      <td>imation</td>\n",
       "      <td>blank media</td>\n",
       "      <td>qic 250 mb 500 mb    storage media</td>\n",
       "      <td>60.47</td>\n",
       "      <td>dc6250 data cartridge 250mb  sold by the ea</td>\n",
       "      <td>nan</td>\n",
       "      <td>dc6250 data cartridge 250mb</td>\n",
       "      <td>0.0</td>\n",
       "      <td>6.4</td>\n",
       "      <td>...</td>\n",
       "      <td>mp3 accessories</td>\n",
       "      <td>imation 46157 dc6250 data cartridge</td>\n",
       "      <td>38.88</td>\n",
       "      <td>up to 18 tracks on tape recording densities fttpi 12500 storage capacity 250mb native  500mb compressed</td>\n",
       "      <td>imation 46157 dc6250 data cartridge</td>\n",
       "      <td>compatibility qic system 150 and qic system 120 up to 18 tracks on tape recording densities fttpi 12500 storage capacity 250mb native  500mb compressed</td>\n",
       "      <td>0.600</td>\n",
       "      <td>5.85</td>\n",
       "      <td>3.83</td>\n",
       "      <td>0.68</td>\n",
       "    </tr>\n",
       "    <tr>\n",
       "      <th>10535</th>\n",
       "      <td>18627</td>\n",
       "      <td>motion systems</td>\n",
       "      <td>touch screen tablet accessories</td>\n",
       "      <td>charlie black nylon sleeve for ipad</td>\n",
       "      <td>16.99</td>\n",
       "      <td>model</td>\n",
       "      <td>nan</td>\n",
       "      <td>sleeve  nylon</td>\n",
       "      <td>0.0</td>\n",
       "      <td>0.0</td>\n",
       "      <td>...</td>\n",
       "      <td>mp3 accessories</td>\n",
       "      <td>motion systems ipad01 charlie ipad sleeve black</td>\n",
       "      <td>16.99</td>\n",
       "      <td>sleeve design for convenient access hard protective exterior soft interior design</td>\n",
       "      <td>the motion systems ipad01 charlie ipad sleeve features  stiff exterior and  soft lining to give your ipad ultimate</td>\n",
       "      <td>motion systems ipad01 charlie ipad sleeve sleeve design for convenient access hard protective exterior soft interior design perfect for the  individual</td>\n",
       "      <td>0.100</td>\n",
       "      <td>11.00</td>\n",
       "      <td>10.50</td>\n",
       "      <td>1.00</td>\n",
       "    </tr>\n",
       "    <tr>\n",
       "      <th>11087</th>\n",
       "      <td>12950</td>\n",
       "      <td></td>\n",
       "      <td>networking products</td>\n",
       "      <td>dgs 1008p  switch  unmanaged    10 100 1000  desktop  poe</td>\n",
       "      <td>179.99</td>\n",
       "      <td>box contents  xtreme  gaming router  detachable antennas ethernet cable power adapter  with installation wizard product documentation and world in conflict content standards  ieee  draft  ieee  ieee  ieee  ieee  and ieee   gigabit lan ports  gigabit wan port and usb port for windows connect now  external reverse sma dualband antennas 64  wep</td>\n",
       "      <td>nan</td>\n",
       "      <td>ethernet switch   port  switches amp bridges</td>\n",
       "      <td>0.0</td>\n",
       "      <td>5.1</td>\n",
       "      <td>...</td>\n",
       "      <td>networking</td>\n",
       "      <td>gigabit ethernet poe switch</td>\n",
       "      <td>179.99</td>\n",
       "      <td>compact design  ports provide poe up to  for  total poe budget of 52w no special networking cables required</td>\n",
       "      <td>the   gigabit ethernet poe switch  enables office users the ability to easily connect and supply power to power over ethernet poe devices such as ip cameras ip phones and wireless access points aps to</td>\n",
       "      <td>gigabit ethernet poe switch  compact design for home and office use  ports provide poe up to  for  total poe budget of 52w no special networking cables required quick simple  installation</td>\n",
       "      <td>3.210</td>\n",
       "      <td>12.92</td>\n",
       "      <td>7.90</td>\n",
       "      <td>4.22</td>\n",
       "    </tr>\n",
       "    <tr>\n",
       "      <th>7575</th>\n",
       "      <td>5042</td>\n",
       "      <td>griffin technology</td>\n",
       "      <td>audio video accessories</td>\n",
       "      <td>griffin na15005 roadtrip handsfree for ipod iphone and smartphones black</td>\n",
       "      <td>99.99</td>\n",
       "      <td>play your ipod or iphone on your car  fm stereo while you recharge its battery  flexible steel neck and  cradle holds your ipod or iphone securely where you want it  easy smartscan  setup finds the best frequency for you  griffin smartsound adjusts the signal for best sound always    controls give you  fingertip control</td>\n",
       "      <td>nan</td>\n",
       "      <td>wireless music transmitting and charging for your ipod and iphone and handsfree calling for your  holds your iphone or ipod securely in place on  flexible steel neck in   cradle that accommodates most cases so you won  even have to take your ipod or iphone out of its case  uses  powerful fm transmitter to send the music wirelessly to your car  fm radio so you and the whole car can enjoy it through your stereo  and while you re enjoying the music your ipod or iphone is enjoying   can also use roadtrip as  handsfree speakerphone in your  roadtrip   microphone picks up your voice and your caller  voice plays through your stereo  roadtrip  handsfree phone features work with iphone and other   innovations and  design make the difference like smartscan  griffin feature that finds the best fm frequency and performs the setup for you and  presets that let you save and recall the most useful fm frequencies with  single button push and griffin smartsound that analyzes the signal and adjusts...</td>\n",
       "      <td>0.0</td>\n",
       "      <td>7.9</td>\n",
       "      <td>...</td>\n",
       "      <td>electronics  general</td>\n",
       "      <td>griffin technology roadtrip</td>\n",
       "      <td>99.99</td>\n",
       "      <td>fm transmitter   microphone caller  voice plays through stereo speakers</td>\n",
       "      <td>live in  house divided listen to your music on an ipod but use  smart phone then roadtrip  is the total music  calling solution for  roadtrip uses  powerful fm transmitter to send the music wirelessly to your car  fm radio so you and the whole car can enjoy it through your stereo  while you re enjoying the music your ipod or iphone is enjoying  battery  when  call comes in on your iphone or smartphone roadtrip becomes   speakerphone in your  roadtrip    microphone picks up your voice and your caller  voice plays through your stereo  roadtrip   phone features work with iphone and other</td>\n",
       "      <td>griffin technology roadtrip  fm transmitter   microphone caller  voice plays through stereo speakers works with iphones and other  phones</td>\n",
       "      <td>0.500</td>\n",
       "      <td>7.50</td>\n",
       "      <td>7.40</td>\n",
       "      <td>2.30</td>\n",
       "    </tr>\n",
       "  </tbody>\n",
       "</table>\n",
       "<p>10 rows × 24 columns</p>\n",
       "</div>"
      ],
      "text/plain": [
       "         id1                brand                         groupname  \\\n",
       "9045   21813                                  projector accessories   \n",
       "4332    4494              norazza                       accessories   \n",
       "10388   6873                 iris             computers accessories   \n",
       "8951    3966                avery                   labels stickers   \n",
       "6540   16059                smead                               nan   \n",
       "9062   17448                 dymo            other office equipment   \n",
       "7762    9692              imation                       blank media   \n",
       "10535  18627       motion systems   touch screen tablet accessories   \n",
       "11087  12950                                    networking products   \n",
       "7575    5042   griffin technology           audio video accessories   \n",
       "\n",
       "                                                                             title  \\\n",
       "9045                             portable rental deluxe screen skirt adapter clamp   \n",
       "4332                                       ape case small digital camera bag ac165   \n",
       "10388                                    iris usoa400 irispen express  pen scanner   \n",
       "8951                                             avery  tabs  inches 48 tabs 16143   \n",
       "6540    smead 64259   capacity box bottom hanging file folders letter green 25 box   \n",
       "9062                  1754490  labelmanager 260p  lines  10w   9d   5h  dym1754490   \n",
       "7762                                            qic 250 mb 500 mb    storage media   \n",
       "10535                                          charlie black nylon sleeve for ipad   \n",
       "11087                    dgs 1008p  switch  unmanaged    10 100 1000  desktop  poe   \n",
       "7575      griffin na15005 roadtrip handsfree for ipod iphone and smartphones black   \n",
       "\n",
       "        price  \\\n",
       "9045     6.99   \n",
       "4332    15.99   \n",
       "10388  129.99   \n",
       "8951     4.08   \n",
       "6540    37.93   \n",
       "9062     0.00   \n",
       "7762    60.47   \n",
       "10535   16.99   \n",
       "11087  179.99   \n",
       "7575    99.99   \n",
       "\n",
       "                                                                                                                                                                                                                                                                                                                                                                                                                                                                                                      shelfdescr  \\\n",
       "9045                                                                                                                                                                                                                                                                                                                                                                                                                                      skirt adapter  brackets to allow use of larger skirt on smaller width    \n",
       "4332                                                                                                                       inner pockets for holding media batteries and other accessories  external easy access mesh pockets padded and water resistant convenient belt loop and removable shoulder strap signature  yellow interior makes finding your equipment easier  external  inner pockets for holding media batteries amp other accessories  mesh pockets zippered pouch amp pocket keeps contents safe   \n",
       "10388                                                                                                    portable  scanner with ocr recognizes 128 languages recognizes alphanumeric characters numeric data mathematical symbols currency symbols and much more scans small images scans up to  inches per second mac and pc compatible powers off usb port automatically recognizes mix of western and greek or cyrillic languages optionally reads japanese simplified chinese traditional chinese and korean   \n",
       "8951    removable and durable  tabs won  smear when you write on them assorted colors stand out to help you find your place quickly use in personal organizers reports reference manuals books catalogs and more get free templates and software from avery website attaches temporarily to documents to provide fast easy access write on tabs with any kind of pen or marker ink won  smear removable yet durable solid yellow or assorted colors attach temporarily to any document for quick and easy access   \n",
       "6540                                                                                                                                                                                                                                                                                                                                                                                                                                          satisfaction ensured design is stylish and  functionality that is    \n",
       "9062                                                                                                                                                                                                                                                                                                                                                                                                                                                                                                         nan   \n",
       "7762                                                                                                                                                                                                                                                                                                                                                                                                                                                                 dc6250 data cartridge 250mb  sold by the ea   \n",
       "10535                                                                                                                                                                                                                                                                                                                                                                                                                                                                                                     model    \n",
       "11087                                                                                                                                                    box contents  xtreme  gaming router  detachable antennas ethernet cable power adapter  with installation wizard product documentation and world in conflict content standards  ieee  draft  ieee  ieee  ieee  ieee  and ieee   gigabit lan ports  gigabit wan port and usb port for windows connect now  external reverse sma dualband antennas 64  wep   \n",
       "7575                                                                                                                                                                          play your ipod or iphone on your car  fm stereo while you recharge its battery  flexible steel neck and  cradle holds your ipod or iphone securely where you want it  easy smartscan  setup finds the best frequency for you  griffin smartsound adjusts the signal for best sound always    controls give you  fingertip control    \n",
       "\n",
       "                          shortdescr  \\\n",
       "9045                             nan   \n",
       "4332                             nan   \n",
       "10388   irispen express  pen scanner   \n",
       "8951                             nan   \n",
       "6540                             nan   \n",
       "9062                             nan   \n",
       "7762                             nan   \n",
       "10535                            nan   \n",
       "11087                            nan   \n",
       "7575                             nan   \n",
       "\n",
       "                                                                                                                                                                                                                                                                                                                                                                                                                                                                                                                                                                                                                                                                                                                                                                                                                                                                                                                                                                                                                                     longdescr  \\\n",
       "9045                                                                                                                                                                                                                                                                                                                                                                                                                                                                                                                                                                                                                                                                                                                                                                                                                                                                                                                                                              skirt adapter brackets allow larger skirts to be attached to smaller width     \n",
       "4332    ape case small digital camera bag ac165 this case offers  little extra space for standard sized digital  with four inner pockets it  great for holding media batteries and other  the external easy to access mesh pockets and zippered pouch and pocket keeps contents  the bag conveniently attaches to your belt and has removable shoulder  it has extra padding water resistant and has the signature  yellow  ac160 ac165 ac220 ac240 ac250 ac252 ac260 ac120 ac145 ac150  inner pockets great for holding media batteries and other  offers  little extra space for standard sized digital  designed to hold your digital camera and much  front pocket holds batteries media cards and other  front pocket holds batteries media cards and many other  front pocket holds batteries media cards and many other  folds out to  multi pocket wallet with plenty of room for credit cards passport digital media cards money traveler  checks maps pda and  large front pocket holds  large variety of accessories including c...   \n",
       "10388    product description the iris usoa400 irispen express  pen scanner is  portable  scanner that works just like   you simply slide the scanner over virtually any printed text and the text is automatically scanned directly into your  ideal for remote research projects or any task in which  flatbed scanner would prove too cumbersome this  scanner operates at  rate of over three inches per second and recognizes 128  the iris usoa400 irispen express  pen scanner offers small size for easy  automatic conversion of text on paper into editable text on the  recognition of 128  pc and mac  the  scanner scans at  rate of over three inches per  view larger  fast scanning and high accuracy the irispen express  includes optical character recognition software or ocr that is up to 100 accurate with 128  whether you re scanning print from  newspaper in new york istanbul or ljubljana this scanner will provide you with highly accurate  it can even read wavy and distorted images as well as colored tex...   \n",
       "8951                                                                                                                                                                                                                                                                                                                                                                                                                                                                                                                                make sure you re always in the right  easily find your place in books reports catalogs and more with the help of these   attach brightly colored  tabs to help you flip back to specific  flag important facts and figures gain quick access to favorite quotes or assign sections in  notebook or personal  and when you re done the tabs remove  write on the tabs with virtually any writing instrument to remind yourself why you marked  particular  now you can always land right where you want to    \n",
       "6540                                                                                                                                                                                                                                                                                                                                                                                                                                                                                                                                                                                                                                                                                                                                                                                                                                                    ideal for bulky records manuals and  reinforcement strip prevents  tabs and inserts not  assorted  hanging file folder type box bottom expansion  material  11  stock color  standard    \n",
       "9062    eliminate the inconvenience of aa batteriesjust charge and go with this sleek  label  packed with new features inspired by labelmanager users to help you get the results you want with more ease and  the large        screen displays two lines of label  plus the graphical display lets you see text effects onscreen before you  works faster with an improved user interface that displays all menu options onscreen without scrolling and includes intuitive icons for formatting  familiar   offers quick access to special  choose from three font styles six font sizes and one of eight different box or underline  nine label memory and easy insertion of saved  prints up to 10 copies of the same  includes rechargeable lithium ion battery charging cord starter label cassette and user  tape size       number of printed lines  display characters  display lines 13   memory   label makers label  thermal transfer label printer label manager identifications classifications stickers creators producer roo...   \n",
       "7762                                                                                                                                                                                                                                                                                                                                                                                                                                                                                                                                                                                                                                                                                                                                                                                                                                                                                                                                                                                                              dc6250 data cartridge 250mb    \n",
       "10535                                                                                                                                                                                                                                                                                                                                                                                                                                                                                                                                                                                                                                                                                                                                                                                                                                                                                                                                                                                                                            sleeve  nylon   \n",
       "11087                                                                                                                                                                                                                                                                                                                                                                                                                                                                                                                                                                                                                                                                                                                                                                                                                                                                                                                                                                                             ethernet switch   port  switches amp bridges   \n",
       "7575    wireless music transmitting and charging for your ipod and iphone and handsfree calling for your  holds your iphone or ipod securely in place on  flexible steel neck in   cradle that accommodates most cases so you won  even have to take your ipod or iphone out of its case  uses  powerful fm transmitter to send the music wirelessly to your car  fm radio so you and the whole car can enjoy it through your stereo  and while you re enjoying the music your ipod or iphone is enjoying   can also use roadtrip as  handsfree speakerphone in your  roadtrip   microphone picks up your voice and your caller  voice plays through your stereo  roadtrip  handsfree phone features work with iphone and other   innovations and  design make the difference like smartscan  griffin feature that finds the best fm frequency and performs the setup for you and  presets that let you save and recall the most useful fm frequencies with  single button push and griffin smartsound that analyzes the signal and adjusts...   \n",
       "\n",
       "       shipweight length  ...                        groupname  \\\n",
       "9045          0.0    0.0  ...             electronics  general   \n",
       "4332          0.0    8.0  ...             photography  general   \n",
       "10388         0.0   10.0  ...             electronics  general   \n",
       "8951          0.0    7.2  ...     stationery  office machinery   \n",
       "6540          0.0    0.0  ...     stationery  office machinery   \n",
       "9062          0.0    0.0  ...     stationery  office machinery   \n",
       "7762          0.0    6.4  ...                  mp3 accessories   \n",
       "10535         0.0    0.0  ...                  mp3 accessories   \n",
       "11087         0.0    5.1  ...                       networking   \n",
       "7575          0.0    7.9  ...             electronics  general   \n",
       "\n",
       "                                                                     title  \\\n",
       "9045                    deluxe skirt adapter bracket for fast fold screens   \n",
       "4332                                    ape case ac165 digital camera case   \n",
       "10388                irispen express  usb pen scanner for pcs macs by iris   \n",
       "8951                                                         avery  tabs     \n",
       "6540    smead capacity box bottom hanging file folders letter green 25 box   \n",
       "9062                                                dymo labelmanager 260p   \n",
       "7762                                   imation 46157 dc6250 data cartridge   \n",
       "10535                      motion systems ipad01 charlie ipad sleeve black   \n",
       "11087                                          gigabit ethernet poe switch   \n",
       "7575                                          griffin technology roadtrip    \n",
       "\n",
       "        price  \\\n",
       "9045     6.99   \n",
       "4332    12.85   \n",
       "10388  109.82   \n",
       "8951     3.54   \n",
       "6540    30.94   \n",
       "9062    59.97   \n",
       "7762    38.88   \n",
       "10535   16.99   \n",
       "11087  179.99   \n",
       "7575    99.99   \n",
       "\n",
       "                                                                                                          shelfdescr  \\\n",
       "9045          deluxe skirt adapter allows for use of  larger skirt on  smaller width deluxe fast fold  price is per    \n",
       "4332      keep your digital camera safe from life  hard knocks with theac165 ape case for digital cameras by norazza   \n",
       "10388                                           instantly enters text numbers or images into anycomputer application   \n",
       "8951                                                                           removable won  smear colors stand out   \n",
       "6540                                   for bulky records manuals and catalogs front and back scoring coated rod tips   \n",
       "9062                                                                          easy to use graphical display  buttons   \n",
       "7762         up to 18 tracks on tape recording densities fttpi 12500 storage capacity 250mb native  500mb compressed   \n",
       "10535                              sleeve design for convenient access hard protective exterior soft interior design   \n",
       "11087    compact design  ports provide poe up to  for  total poe budget of 52w no special networking cables required   \n",
       "7575                                         fm transmitter   microphone caller  voice plays through stereo speakers   \n",
       "\n",
       "                                                                                                                                                                                                                                                                                                                                                                                                                                                                                                                                                                                                               shortdescr  \\\n",
       "9045                                                                                                                                                                                                                                                                                                                                                                                                                                                                                                                                                                                                                  nan   \n",
       "4332                                                                                                                                                                                                                                                                                                                                                                                                                                                                                                                    the ac165 ape case for digital cameras is     case designed to hold your digital camera and much    \n",
       "10388                                                                                                                                                                                                                                                                                                                                                                          instantly enters text numbers or images into anycomputer application slide the irispen over printed material from newspapers magazines faxes letters or brochures real and editable text right at your cursor in your favorite application   \n",
       "8951                                                                                                                                                                                                  write on the the avery  tabs with any writing instrument and the ink won   the removable and durable self stick tabs are available in solid or assorted  each sheet attaches temporarily to the document for quick and easy  they re ideal for dividing and organizing documents such as personal organizers reports reference manuals books catalogs and  the avery  tabs assorted colors include yellow blue and    \n",
       "6540                                                                                                                                                                                                                                                                                                                                       protect and organize documents with smead capacity box bottom hanging file  these folders are great for organizing bulky records manuals and  the reinforcement strip prevents  the smead capacity box bottom hanging file folders are scored front and back for easy content    \n",
       "9062                                                                                                                                                                                                                                                                                                                                                                                                               eliminate the inconvenience of aa batteries just charge and go with this sleek  dymo  packed with new features inspired by labelmanager users to help you get the results you want with more ease and    \n",
       "7762                                                                                                                                                                                                                                                                                                                                                                                                                                                                                                                                                                                  imation 46157 dc6250 data cartridge   \n",
       "10535                                                                                                                                                                                                                                                                                                                                                                                                                                                                                                 the motion systems ipad01 charlie ipad sleeve features  stiff exterior and  soft lining to give your ipad ultimate    \n",
       "11087                                                                                                                                                                                                                                                                                                                                                                                                          the   gigabit ethernet poe switch  enables office users the ability to easily connect and supply power to power over ethernet poe devices such as ip cameras ip phones and wireless access points aps to     \n",
       "7575    live in  house divided listen to your music on an ipod but use  smart phone then roadtrip  is the total music  calling solution for  roadtrip uses  powerful fm transmitter to send the music wirelessly to your car  fm radio so you and the whole car can enjoy it through your stereo  while you re enjoying the music your ipod or iphone is enjoying  battery  when  call comes in on your iphone or smartphone roadtrip becomes   speakerphone in your  roadtrip    microphone picks up your voice and your caller  voice plays through your stereo  roadtrip   phone features work with iphone and other     \n",
       "\n",
       "                                                                                                                                                                                                                                                                                                                                                                                                                                                                                                                                           longdescr  \\\n",
       "9045                                                                                                                                                                                                                                                                                                                                                                                                                                    dl1633deluxe skirt adapter allows for use of  larger skirt on  smaller width deluxe fast fold  price is per    \n",
       "4332    key features benefits extra space offers  little extra space for standard sized digital cameras four inner pockets great for holding media batteries and other accessories  construction keeps the elements away from your valuable camera signature bright yellow interior makes it easy to see everything stowed inside two external mesh pockets easily access instructions gum pens and your other necessities two carrying options attaches to your belt and has  removeable shoulder strap inner dimensions      outer dimensions        \n",
       "10388                                                                                                                                                                                                                                                                                                                                                                                                                                                                                                                                            nan   \n",
       "8951                                                                                                                                                                                                                                                                     avery  tabs removable and durable  tabs won  smear when you write on them assorted colors stand out use in personal organizers reports reference manuals books catalogs and more get free templates and software from  color yellow blue and magenta size  includes 48 tabs   \n",
       "6540                                                                                                                                                                                                                                                                                                 smead capacity box bottom hanging file folders letter green 25 box  expansion area for bulky records manuals and catalogs front and back scoring for quick document removal rod tips coated to slide smoothly slotted for index tabs 11pt stock   \n",
       "9062                                                                                                                                                                       dymo labelmanager smartly designed  keyboard   buttons can bold underline and box font graphical display   customize labels with  different fonts  sizes and  different box or underline styles  memory can save text print up to 10 copies of the same label rechargeable lithium ion battery charging cord included has  starter label cassette and  user manual size     \n",
       "7762                                                                                                                                                                                                                                                                                                                                                                                         compatibility qic system 150 and qic system 120 up to 18 tracks on tape recording densities fttpi 12500 storage capacity 250mb native  500mb compressed   \n",
       "10535                                                                                                                                                                                                                                                                                                                                                                                        motion systems ipad01 charlie ipad sleeve sleeve design for convenient access hard protective exterior soft interior design perfect for the  individual   \n",
       "11087                                                                                                                                                                                                                                                                                                                                                    gigabit ethernet poe switch  compact design for home and office use  ports provide poe up to  for  total poe budget of 52w no special networking cables required quick simple  installation   \n",
       "7575                                                                                                                                                                                                                                                                                                                                                                                                       griffin technology roadtrip  fm transmitter   microphone caller  voice plays through stereo speakers works with iphones and other  phones   \n",
       "\n",
       "       shipweight length  width height  \n",
       "9045        0.500   0.00   0.00   0.00  \n",
       "4332        0.810   8.00   5.00   3.50  \n",
       "10388       1.160   9.70   7.70   3.25  \n",
       "8951        0.050   7.25   3.00   0.30  \n",
       "6540        4.569   0.00   0.00   0.00  \n",
       "9062        2.090   0.00   0.00   0.00  \n",
       "7762        0.600   5.85   3.83   0.68  \n",
       "10535       0.100  11.00  10.50   1.00  \n",
       "11087       3.210  12.92   7.90   4.22  \n",
       "7575        0.500   7.50   7.40   2.30  \n",
       "\n",
       "[10 rows x 24 columns]"
      ]
     },
     "execution_count": 86,
     "metadata": {},
     "output_type": "execute_result"
    }
   ],
   "source": [
    "mapping = map.copy()\n",
    "bool_mask = (y_val_ == 1) & ~(y_val_pred >= 0.5)\n",
    "columns = ['brand', 'groupname', 'title', 'shelfdescr',\n",
    "           'shortdescr', 'longdescr']\n",
    "df_examine = hp.examine_data(data['val_1'], data['val_2'], columns, bool_mask, mapping)\n",
    "df_examine.sample(10)"
   ]
  },
  {
   "cell_type": "markdown",
   "metadata": {},
   "source": [
    "# Save model and histories "
   ]
  },
  {
   "cell_type": "code",
   "execution_count": 30,
   "metadata": {
    "ExecuteTime": {
     "end_time": "2018-04-12T21:51:21.415206Z",
     "start_time": "2018-04-12T21:51:21.050809Z"
    },
    "collapsed": true
   },
   "outputs": [],
   "source": [
    "pd.DataFrame(histories).to_csv('../data/histories/amazon-walmart-base-allcomp.csv', index=False)\n",
    "model.save_weights('../data/models/amazon-walmart-base-allcomp')"
   ]
  },
  {
   "cell_type": "markdown",
   "metadata": {},
   "source": [
    "# Test model "
   ]
  },
  {
   "cell_type": "code",
   "execution_count": 4,
   "metadata": {
    "ExecuteTime": {
     "end_time": "2018-04-12T21:51:26.898830Z",
     "start_time": "2018-04-12T21:51:23.802014Z"
    }
   },
   "outputs": [
    {
     "name": "stdout",
     "output_type": "stream",
     "text": [
      "             precision    recall  f1-score   support\n",
      "\n",
      "          0    0.99835   0.99887   0.99861     11541\n",
      "          1    0.87963   0.83333   0.85586       114\n",
      "\n",
      "avg / total    0.99719   0.99725   0.99722     11655\n",
      "\n",
      "[[11528    13]\n",
      " [   19    95]]\n"
     ]
    }
   ],
   "source": [
    "model.load_weights('../data/models/amazon-walmart-base-allcomp')\n",
    "y_test_pred = model.predict(X_test, batch_size=4096)[:,1]\n",
    "y_test_ = data['test_y'].values.squeeze()\n",
    "print(classification_report(y_test_, y_test_pred >= 0.5, digits=5))\n",
    "print(confusion_matrix(y_test_, y_test_pred >= 0.5))"
   ]
  },
  {
   "cell_type": "code",
   "execution_count": null,
   "metadata": {
    "collapsed": true
   },
   "outputs": [],
   "source": []
  }
 ],
 "metadata": {
  "kernelspec": {
   "display_name": "Python 3.6",
   "language": "python",
   "name": "python-36"
  },
  "language_info": {
   "codemirror_mode": {
    "name": "ipython",
    "version": 3
   },
   "file_extension": ".py",
   "mimetype": "text/x-python",
   "name": "python",
   "nbconvert_exporter": "python",
   "pygments_lexer": "ipython3",
   "version": "3.6.4"
  },
  "varInspector": {
   "cols": {
    "lenName": 16,
    "lenType": 16,
    "lenVar": 40
   },
   "kernels_config": {
    "python": {
     "delete_cmd_postfix": "",
     "delete_cmd_prefix": "del ",
     "library": "var_list.py",
     "varRefreshCmd": "print(var_dic_list())"
    },
    "r": {
     "delete_cmd_postfix": ") ",
     "delete_cmd_prefix": "rm(",
     "library": "var_list.r",
     "varRefreshCmd": "cat(var_dic_list()) "
    }
   },
   "types_to_exclude": [
    "module",
    "function",
    "builtin_function_or_method",
    "instance",
    "_Feature"
   ],
   "window_display": false
  }
 },
 "nbformat": 4,
 "nbformat_minor": 2
}
