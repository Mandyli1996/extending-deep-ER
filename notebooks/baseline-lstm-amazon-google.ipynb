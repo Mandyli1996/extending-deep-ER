{
 "cells": [
  {
   "cell_type": "code",
   "execution_count": 259,
   "metadata": {
    "ExecuteTime": {
     "end_time": "2018-03-03T23:33:13.987850Z",
     "start_time": "2018-03-03T23:33:13.792003Z"
    }
   },
   "outputs": [],
   "source": [
    "import numpy as np\n",
    "import pandas as pd\n",
    "import matplotlib.pyplot as plt\n",
    "import seaborn as sns\n",
    "import helpers as hp\n",
    "import pickle as pkl\n",
    "import os\n",
    "import sys\n",
    "\n",
    "sys.path.append('../scripts')\n",
    "\n",
    "from keras.layers import Input, Dense, LSTM, Embedding, Merge\n",
    "from keras.models import Model\n",
    "from keras.preprocessing.sequence import pad_sequences\n",
    "from keras.optimizers import Adadelta\n",
    "from keras.callbacks import Callback\n",
    "from keras import backend as K\n",
    "\n",
    "from sklearn.metrics import f1_score, precision_score, recall_score,\\\n",
    "                            average_precision_score, roc_auc_score,\\\n",
    "                            roc_curve, precision_recall_curve\n",
    "\n",
    "from IPython.core.interactiveshell import InteractiveShell\n",
    "from matplotlib import rcParams\n",
    "from importlib import reload\n",
    "\n",
    "rcParams['font.family'] = 'serif'\n",
    "rcParams['font.serif'] = 'times new roman'\n",
    "\n",
    "%config InlineBackend.figure_format = 'retina'\n",
    "%matplotlib inline"
   ]
  },
  {
   "cell_type": "markdown",
   "metadata": {},
   "source": [
    "# Data Preprocessing"
   ]
  },
  {
   "cell_type": "code",
   "execution_count": 261,
   "metadata": {
    "ExecuteTime": {
     "end_time": "2018-03-03T23:34:04.547276Z",
     "start_time": "2018-03-03T23:33:58.541064Z"
    }
   },
   "outputs": [],
   "source": [
    "with open('../data/embeddings/glove-300.map', 'rb') as f:\n",
    "    map = pkl.load(f)\n",
    "\n",
    "data_dir = os.path.join('..','data')\n",
    "source_dir = os.path.join(data_dir,'split','amazon-google')\n",
    "data = hp.load_data(source_dir)\n",
    "\n",
    "datasets = ['train_1', 'val_1', 'test_1', 'train_2', 'val_2', 'test_2']\n",
    "\n",
    "# drop columns that do not contain embeddings\n",
    "data['train_1'] = data['train_1'].drop(['id1', 'price'], axis = 'columns')\n",
    "data['train_2'] = data['train_2'].drop(['id2', 'price'], axis = 'columns')\n",
    "data['val_1'] = data['val_1'].drop(['id1', 'price'], axis = 'columns')\n",
    "data['val_2'] = data['val_2'].drop(['id2', 'price'], axis = 'columns')\n",
    "data['test_1'] = data['test_1'].drop(['id1', 'price'], axis = 'columns')\n",
    "data['test_2'] = data['test_2'].drop(['id2', 'price'], axis = 'columns')\n",
    "\n",
    "\n",
    "# concatenate all embedding columns so each record becomes one giant list\n",
    "def concat_columns(x):\n",
    "    x = x['title'] + x['description'] + x['manufacturer']\n",
    "    return x\n",
    "\n",
    "for df_name in datasets:\n",
    "    data[df_name] = data[df_name].apply(concat_columns, axis='columns')\n",
    "    \n",
    "# pad all sequences with less than 500 indices with zeros\n",
    "# limit all sequences to 500 indices\n",
    "maxlen = 500\n",
    "for df_name in datasets:\n",
    "    data[df_name] = pad_sequences(data[df_name], maxlen=maxlen)"
   ]
  },
  {
   "cell_type": "markdown",
   "metadata": {},
   "source": [
    "# Build Model"
   ]
  },
  {
   "cell_type": "code",
   "execution_count": 111,
   "metadata": {
    "ExecuteTime": {
     "end_time": "2018-03-03T17:55:17.098911Z",
     "start_time": "2018-03-03T17:55:08.566823Z"
    },
    "collapsed": true
   },
   "outputs": [],
   "source": [
    "glove_matrix = np.load(os.path.join(data_dir, \n",
    "                                    'embeddings',\n",
    "                                    'glove-300.matrix.npy'))"
   ]
  },
  {
   "cell_type": "code",
   "execution_count": 128,
   "metadata": {
    "ExecuteTime": {
     "end_time": "2018-03-03T18:33:49.510048Z",
     "start_time": "2018-03-03T18:32:50.701981Z"
    }
   },
   "outputs": [
    {
     "name": "stderr",
     "output_type": "stream",
     "text": [
      "/Users/derekzhao/anaconda3/envs/entity-resolution/lib/python3.6/site-packages/ipykernel_launcher.py:26: UserWarning: The `Merge` layer is deprecated and will be removed after 08/2017. Use instead layers from `keras.layers.merge`, e.g. `add`, `concatenate`, etc.\n"
     ]
    }
   ],
   "source": [
    "n_hidden = 50\n",
    "gradient_clipping_norm = 1.25\n",
    "\n",
    "input_left = Input(shape=(maxlen,))\n",
    "input_right = Input(shape=(maxlen,))\n",
    "\n",
    "embedding_layer = Embedding(glove_matrix.shape[0],\n",
    "                            glove_matrix.shape[1],\n",
    "                            weights=[glove_matrix],\n",
    "                            input_length=maxlen,\n",
    "                            trainable=False)\n",
    "embedded_left = embedding_layer(input_left)\n",
    "embedded_right = embedding_layer(input_right)\n",
    "\n",
    "lstm_layer = LSTM(n_hidden)\n",
    "output_left = lstm_layer(embedded_right)\n",
    "output_right = lstm_layer(embedded_left)\n",
    "\n",
    "def distance_metric(x1, x2):\n",
    "    l1 = -K.sum(K.abs(x1 - x2), axis=1, keepdims=True)\n",
    "    return K.exp(l1)\n",
    "\n",
    "merge_layer = Merge(mode=lambda x: distance_metric(x[0], x[1]),\n",
    "                    output_shape=lambda x: (x[0][0], 1))\n",
    "distance = merge_layer([output_left, output_right])\n",
    "\n",
    "malstm = Model([input_left, input_right], [distance])"
   ]
  },
  {
   "cell_type": "code",
   "execution_count": 162,
   "metadata": {
    "ExecuteTime": {
     "end_time": "2018-03-03T19:55:44.463741Z",
     "start_time": "2018-03-03T19:55:44.443551Z"
    }
   },
   "outputs": [],
   "source": [
    "metrics = Metrics()\n",
    "optimizer = Adadelta(clipnorm=gradient_clipping_norm)\n",
    "\n",
    "malstm.compile(loss='mean_squared_error',\n",
    "               optimizer=optimizer,\n",
    "               metrics=['accuracy'])"
   ]
  },
  {
   "cell_type": "code",
   "execution_count": 264,
   "metadata": {
    "ExecuteTime": {
     "end_time": "2018-03-03T23:46:27.955807Z",
     "start_time": "2018-03-03T23:45:00.101758Z"
    }
   },
   "outputs": [
    {
     "name": "stdout",
     "output_type": "stream",
     "text": [
      "Epoch 1/1\n",
      "10400/10400 [==============================] - 88s 8ms/step - loss: 0.0572 - acc: 0.9154\n"
     ]
    }
   ],
   "source": [
    "batch_size = 128\n",
    "epochs = 1\n",
    "\n",
    "malstm_trained = malstm.fit([data['train_1'], data['train_2']],\n",
    "                            data['train_y'],\n",
    "                            batch_size=batch_size,\n",
    "                            epochs=epochs)"
   ]
  },
  {
   "cell_type": "code",
   "execution_count": 266,
   "metadata": {
    "ExecuteTime": {
     "end_time": "2018-03-03T23:47:03.885902Z",
     "start_time": "2018-03-03T23:47:03.881529Z"
    }
   },
   "outputs": [
    {
     "data": {
      "text/plain": [
       "{'acc': [0.91538461538461535], 'loss': [0.057233135654376106]}"
      ]
     },
     "execution_count": 266,
     "metadata": {},
     "output_type": "execute_result"
    }
   ],
   "source": [
    "malstm_trained.history"
   ]
  },
  {
   "cell_type": "code",
   "execution_count": null,
   "metadata": {
    "collapsed": true
   },
   "outputs": [],
   "source": []
  }
 ],
 "metadata": {
  "kernelspec": {
   "display_name": "entity-resolution",
   "language": "python",
   "name": "entity-resolution"
  },
  "language_info": {
   "codemirror_mode": {
    "name": "ipython",
    "version": 3
   },
   "file_extension": ".py",
   "mimetype": "text/x-python",
   "name": "python",
   "nbconvert_exporter": "python",
   "pygments_lexer": "ipython3",
   "version": "3.6.3"
  },
  "toc": {
   "nav_menu": {},
   "number_sections": false,
   "sideBar": true,
   "skip_h1_title": false,
   "toc_cell": false,
   "toc_position": {},
   "toc_section_display": "block",
   "toc_window_display": false
  },
  "varInspector": {
   "cols": {
    "lenName": 16,
    "lenType": 16,
    "lenVar": 40
   },
   "kernels_config": {
    "python": {
     "delete_cmd_postfix": "",
     "delete_cmd_prefix": "del ",
     "library": "var_list.py",
     "varRefreshCmd": "print(var_dic_list())"
    },
    "r": {
     "delete_cmd_postfix": ") ",
     "delete_cmd_prefix": "rm(",
     "library": "var_list.r",
     "varRefreshCmd": "cat(var_dic_list()) "
    }
   },
   "types_to_exclude": [
    "module",
    "function",
    "builtin_function_or_method",
    "instance",
    "_Feature"
   ],
   "window_display": false
  }
 },
 "nbformat": 4,
 "nbformat_minor": 2
}
