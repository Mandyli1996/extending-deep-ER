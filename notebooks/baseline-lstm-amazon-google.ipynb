{
 "cells": [
  {
   "cell_type": "code",
   "execution_count": 51,
   "metadata": {
    "ExecuteTime": {
     "end_time": "2018-03-03T23:33:13.987850Z",
     "start_time": "2018-03-03T23:33:13.792003Z"
    }
   },
   "outputs": [],
   "source": [
    "import sys\n",
    "sys.path.append('../scripts')\n",
    "\n",
    "import numpy as np\n",
    "import pandas as pd\n",
    "import matplotlib.pyplot as plt\n",
    "import seaborn as sns\n",
    "import helpers as hp\n",
    "import pickle as pkl\n",
    "import os\n",
    "\n",
    "from keras.layers import Input, Dense, LSTM, Embedding, Merge\n",
    "from keras.models import Model\n",
    "from keras.preprocessing.sequence import pad_sequences\n",
    "from keras.optimizers import Adadelta\n",
    "from keras.callbacks import Callback\n",
    "from keras import backend as K\n",
    "\n",
    "from sklearn.metrics import f1_score, precision_score, recall_score,\\\n",
    "                            average_precision_score, roc_auc_score,\\\n",
    "                            roc_curve, precision_recall_curve, confusion_matrix,\\\n",
    "                            accuracy_score\n",
    "\n",
    "from IPython.core.interactiveshell import InteractiveShell\n",
    "from matplotlib import rcParams\n",
    "from importlib import reload\n",
    "\n",
    "rcParams['font.family'] = 'serif'\n",
    "rcParams['font.serif'] = 'times new roman'\n",
    "\n",
    "%config InlineBackend.figure_format = 'retina'\n",
    "%matplotlib inline"
   ]
  },
  {
   "cell_type": "markdown",
   "metadata": {},
   "source": [
    "# Data Preprocessing"
   ]
  },
  {
   "cell_type": "code",
   "execution_count": 2,
   "metadata": {
    "ExecuteTime": {
     "end_time": "2018-03-03T23:34:04.547276Z",
     "start_time": "2018-03-03T23:33:58.541064Z"
    },
    "collapsed": true
   },
   "outputs": [],
   "source": [
    "with open('../data/embeddings/glove-300.map', 'rb') as f:\n",
    "    map = pkl.load(f)\n",
    "\n",
    "data_dir = os.path.join('..','data')\n",
    "source_dir = os.path.join(data_dir,'split','amazon-google')\n",
    "data = hp.load_data(source_dir)\n",
    "\n",
    "datasets = ['train_1', 'val_1', 'test_1', 'train_2', 'val_2', 'test_2']\n",
    "\n",
    "# drop columns that do not contain embeddings\n",
    "data['train_1'] = data['train_1'].drop(['id1', 'price'], axis = 'columns')\n",
    "data['train_2'] = data['train_2'].drop(['id2', 'price'], axis = 'columns')\n",
    "data['val_1'] = data['val_1'].drop(['id1', 'price'], axis = 'columns')\n",
    "data['val_2'] = data['val_2'].drop(['id2', 'price'], axis = 'columns')\n",
    "data['test_1'] = data['test_1'].drop(['id1', 'price'], axis = 'columns')\n",
    "data['test_2'] = data['test_2'].drop(['id2', 'price'], axis = 'columns')\n",
    "\n",
    "\n",
    "# concatenate all embedding columns so each record becomes one giant list\n",
    "def concat_columns(x):\n",
    "    x = x['title'] + x['description'] + x['manufacturer']\n",
    "    return x\n",
    "\n",
    "for df_name in datasets:\n",
    "    data[df_name] = data[df_name].apply(concat_columns, axis='columns')\n",
    "    \n",
    "# pad all sequences with less than 500 indices with zeros\n",
    "# limit all sequences to 500 indices\n",
    "maxlen = 500\n",
    "for df_name in datasets:\n",
    "    data[df_name] = pad_sequences(data[df_name], maxlen=maxlen)"
   ]
  },
  {
   "cell_type": "markdown",
   "metadata": {},
   "source": [
    "# Build Model"
   ]
  },
  {
   "cell_type": "code",
   "execution_count": 5,
   "metadata": {
    "ExecuteTime": {
     "end_time": "2018-03-03T17:55:17.098911Z",
     "start_time": "2018-03-03T17:55:08.566823Z"
    }
   },
   "outputs": [],
   "source": [
    "glove_matrix = np.load(os.path.join(data_dir, \n",
    "                                    'embeddings',\n",
    "                                    'glove-300.matrix.npy'))"
   ]
  },
  {
   "cell_type": "code",
   "execution_count": 6,
   "metadata": {
    "ExecuteTime": {
     "end_time": "2018-03-03T18:33:49.510048Z",
     "start_time": "2018-03-03T18:32:50.701981Z"
    }
   },
   "outputs": [
    {
     "name": "stderr",
     "output_type": "stream",
     "text": [
      "/home/paperspace/anaconda3/envs/python-36/lib/python3.6/site-packages/ipykernel_launcher.py:24: UserWarning: The `Merge` layer is deprecated and will be removed after 08/2017. Use instead layers from `keras.layers.merge`, e.g. `add`, `concatenate`, etc.\n"
     ]
    }
   ],
   "source": [
    "n_hidden = 50\n",
    "gradient_clipping_norm = 1.25\n",
    "\n",
    "input_left = Input(shape=(maxlen,))\n",
    "input_right = Input(shape=(maxlen,))\n",
    "\n",
    "embedding_layer = Embedding(glove_matrix.shape[0],\n",
    "                            glove_matrix.shape[1],\n",
    "                            weights=[glove_matrix],\n",
    "                            input_length=maxlen,\n",
    "                            trainable=False)\n",
    "embedded_left = embedding_layer(input_left)\n",
    "embedded_right = embedding_layer(input_right)\n",
    "\n",
    "lstm_layer = LSTM(n_hidden)\n",
    "output_left = lstm_layer(embedded_right)\n",
    "output_right = lstm_layer(embedded_left)\n",
    "\n",
    "def distance_metric(x1, x2):\n",
    "    l1 = -K.sum(K.abs(x1 - x2), axis=1, keepdims=True)\n",
    "    return K.exp(l1)\n",
    "\n",
    "merge_layer = Merge(mode=lambda x: distance_metric(x[0], x[1]),\n",
    "                    output_shape=lambda x: (x[0][0], 1))\n",
    "distance = merge_layer([output_left, output_right])\n",
    "\n",
    "malstm = Model([input_left, input_right], [distance])"
   ]
  },
  {
   "cell_type": "code",
   "execution_count": 7,
   "metadata": {
    "ExecuteTime": {
     "end_time": "2018-03-03T19:55:44.463741Z",
     "start_time": "2018-03-03T19:55:44.443551Z"
    },
    "collapsed": true
   },
   "outputs": [],
   "source": [
    "optimizer = Adadelta(clipnorm=gradient_clipping_norm)\n",
    "\n",
    "malstm.compile(loss='mean_squared_error',\n",
    "               optimizer=optimizer,\n",
    "               metrics=['accuracy'])"
   ]
  },
  {
   "cell_type": "code",
   "execution_count": 43,
   "metadata": {
    "ExecuteTime": {
     "end_time": "2018-03-03T23:46:27.955807Z",
     "start_time": "2018-03-03T23:45:00.101758Z"
    }
   },
   "outputs": [
    {
     "name": "stdout",
     "output_type": "stream",
     "text": [
      "Epoch 1/50\n",
      "10400/10400 [==============================] - 14s 1ms/step - loss: 0.1806 - acc: 0.9373\n",
      "Epoch 2/50\n",
      "10400/10400 [==============================] - 13s 1ms/step - loss: 0.1761 - acc: 0.9400\n",
      "Epoch 3/50\n",
      "10400/10400 [==============================] - 14s 1ms/step - loss: 0.1775 - acc: 0.9377\n",
      "Epoch 4/50\n",
      "10400/10400 [==============================] - 13s 1ms/step - loss: 0.1714 - acc: 0.9423\n",
      "Epoch 5/50\n",
      "10400/10400 [==============================] - 13s 1ms/step - loss: 0.1724 - acc: 0.9408\n",
      "Epoch 6/50\n",
      "10400/10400 [==============================] - 13s 1ms/step - loss: 0.1716 - acc: 0.9415\n",
      "Epoch 7/50\n",
      "10400/10400 [==============================] - 13s 1ms/step - loss: 0.1701 - acc: 0.9412\n",
      "Epoch 8/50\n",
      "10400/10400 [==============================] - 13s 1ms/step - loss: 0.1709 - acc: 0.9387\n",
      "Epoch 9/50\n",
      "10400/10400 [==============================] - 13s 1ms/step - loss: 0.1680 - acc: 0.9427\n",
      "Epoch 10/50\n",
      "10400/10400 [==============================] - 13s 1ms/step - loss: 0.1661 - acc: 0.9430\n",
      "Epoch 11/50\n",
      "10400/10400 [==============================] - 13s 1ms/step - loss: 0.1726 - acc: 0.9370\n",
      "Epoch 12/50\n",
      "10400/10400 [==============================] - 13s 1ms/step - loss: 0.1659 - acc: 0.9421\n",
      "Epoch 13/50\n",
      "10400/10400 [==============================] - 14s 1ms/step - loss: 0.1725 - acc: 0.9349\n",
      "Epoch 14/50\n",
      "10400/10400 [==============================] - 20s 2ms/step - loss: 0.1626 - acc: 0.9403\n",
      "Epoch 15/50\n",
      "10400/10400 [==============================] - 27s 3ms/step - loss: 0.1656 - acc: 0.9394\n",
      "Epoch 16/50\n",
      "10400/10400 [==============================] - 26s 3ms/step - loss: 0.1639 - acc: 0.9401\n",
      "Epoch 17/50\n",
      "10400/10400 [==============================] - 25s 2ms/step - loss: 0.1608 - acc: 0.9417\n",
      "Epoch 18/50\n",
      "10400/10400 [==============================] - 25s 2ms/step - loss: 0.1594 - acc: 0.9450\n",
      "Epoch 19/50\n",
      "10400/10400 [==============================] - 24s 2ms/step - loss: 0.1620 - acc: 0.9411\n",
      "Epoch 20/50\n",
      "10400/10400 [==============================] - 24s 2ms/step - loss: 0.1681 - acc: 0.9381\n",
      "Epoch 21/50\n",
      "10400/10400 [==============================] - 23s 2ms/step - loss: 0.1575 - acc: 0.9423\n",
      "Epoch 22/50\n",
      "10400/10400 [==============================] - 23s 2ms/step - loss: 0.1583 - acc: 0.9436\n",
      "Epoch 23/50\n",
      "10400/10400 [==============================] - 25s 2ms/step - loss: 0.1577 - acc: 0.9442\n",
      "Epoch 24/50\n",
      "10400/10400 [==============================] - 26s 3ms/step - loss: 0.1537 - acc: 0.9437\n",
      "Epoch 25/50\n",
      "10400/10400 [==============================] - 24s 2ms/step - loss: 0.1575 - acc: 0.9435\n",
      "Epoch 26/50\n",
      "10400/10400 [==============================] - 28s 3ms/step - loss: 0.1606 - acc: 0.9407\n",
      "Epoch 27/50\n",
      "10400/10400 [==============================] - 22s 2ms/step - loss: 0.1542 - acc: 0.9436\n",
      "Epoch 28/50\n",
      "10400/10400 [==============================] - 23s 2ms/step - loss: 0.1522 - acc: 0.9459\n",
      "Epoch 29/50\n",
      "10400/10400 [==============================] - 22s 2ms/step - loss: 0.1505 - acc: 0.9478\n",
      "Epoch 30/50\n",
      "10400/10400 [==============================] - 25s 2ms/step - loss: 0.1467 - acc: 0.9460\n",
      "Epoch 31/50\n",
      "10400/10400 [==============================] - 24s 2ms/step - loss: 0.1459 - acc: 0.9472\n",
      "Epoch 32/50\n",
      "10400/10400 [==============================] - 27s 3ms/step - loss: 0.1468 - acc: 0.9481\n",
      "Epoch 33/50\n",
      "10400/10400 [==============================] - 26s 2ms/step - loss: 0.1492 - acc: 0.9459\n",
      "Epoch 34/50\n",
      "10400/10400 [==============================] - 24s 2ms/step - loss: 0.1527 - acc: 0.9398\n",
      "Epoch 35/50\n",
      "10400/10400 [==============================] - 23s 2ms/step - loss: 0.1464 - acc: 0.9460\n",
      "Epoch 36/50\n",
      "10400/10400 [==============================] - 25s 2ms/step - loss: 0.1475 - acc: 0.9467\n",
      "Epoch 37/50\n",
      "10400/10400 [==============================] - 16s 2ms/step - loss: 0.1414 - acc: 0.9489\n",
      "Epoch 38/50\n",
      "10400/10400 [==============================] - 13s 1ms/step - loss: 0.1431 - acc: 0.9469\n",
      "Epoch 39/50\n",
      "10400/10400 [==============================] - 13s 1ms/step - loss: 0.1416 - acc: 0.9488\n",
      "Epoch 40/50\n",
      "10400/10400 [==============================] - 13s 1ms/step - loss: 0.1439 - acc: 0.9513\n",
      "Epoch 41/50\n",
      "10400/10400 [==============================] - 14s 1ms/step - loss: 0.1433 - acc: 0.9462\n",
      "Epoch 42/50\n",
      "10400/10400 [==============================] - 19s 2ms/step - loss: 0.1377 - acc: 0.9508\n",
      "Epoch 43/50\n",
      "10400/10400 [==============================] - 25s 2ms/step - loss: 0.1425 - acc: 0.9484\n",
      "Epoch 44/50\n",
      "10400/10400 [==============================] - 29s 3ms/step - loss: 0.1401 - acc: 0.9490\n",
      "Epoch 45/50\n",
      "10400/10400 [==============================] - 24s 2ms/step - loss: 0.1345 - acc: 0.9523\n",
      "Epoch 46/50\n",
      "10400/10400 [==============================] - 24s 2ms/step - loss: 0.1371 - acc: 0.9511\n",
      "Epoch 47/50\n",
      "10400/10400 [==============================] - 24s 2ms/step - loss: 0.1372 - acc: 0.9507\n",
      "Epoch 48/50\n",
      "10400/10400 [==============================] - 27s 3ms/step - loss: 0.1360 - acc: 0.9515\n",
      "Epoch 49/50\n",
      "10400/10400 [==============================] - 26s 3ms/step - loss: 0.1350 - acc: 0.9526\n",
      "Epoch 50/50\n",
      "10400/10400 [==============================] - 25s 2ms/step - loss: 0.1320 - acc: 0.9514\n"
     ]
    }
   ],
   "source": [
    "batch_size = 2048\n",
    "epochs = 50\n",
    "\n",
    "malstm_trained = malstm.fit([data['train_1'], data['train_2']],\n",
    "                            data['train_y'],\n",
    "                            batch_size=batch_size,\n",
    "                            epochs=epochs,\n",
    "                            class_weight={0:1, 1:5},\n",
    "                            shuffle=True)\n",
    "history.append(malstm_trained.history)"
   ]
  },
  {
   "cell_type": "code",
   "execution_count": 44,
   "metadata": {},
   "outputs": [
    {
     "data": {
      "text/plain": [
       "array([[9093,  259],\n",
       "       [ 287,  761]])"
      ]
     },
     "execution_count": 44,
     "metadata": {},
     "output_type": "execute_result"
    }
   ],
   "source": [
    "y_train_pred = malstm.predict([data['train_1'], data['train_2']])\n",
    "confusion_matrix(data['train_y'], y_train_pred >= 0.5)"
   ]
  },
  {
   "cell_type": "code",
   "execution_count": 45,
   "metadata": {},
   "outputs": [
    {
     "data": {
      "text/plain": [
       "array([[1138,   49],\n",
       "       [  75,   38]])"
      ]
     },
     "execution_count": 45,
     "metadata": {},
     "output_type": "execute_result"
    }
   ],
   "source": [
    "y_val_pred = malstm.predict([data['val_1'], data['val_2']])"
   ]
  },
  {
   "cell_type": "code",
   "execution_count": 78,
   "metadata": {},
   "outputs": [
    {
     "name": "stdout",
     "output_type": "stream",
     "text": [
      "[[9093  259]\n",
      " [ 287  761]]\n",
      "0.9475\n",
      "0.7359767891682786\n"
     ]
    }
   ],
   "source": [
    "threshold = 0.5\n",
    "print(confusion_matrix(data['train_y'], y_train_pred >= threshold))\n",
    "print(accuracy_score(data['train_y'], y_train_pred >= threshold))\n",
    "print(f1_score(data['train_y'], y_train_pred >= threshold))"
   ]
  },
  {
   "cell_type": "code",
   "execution_count": 79,
   "metadata": {},
   "outputs": [
    {
     "name": "stdout",
     "output_type": "stream",
     "text": [
      "0.9046153846153846\n",
      "[[1138   49]\n",
      " [  75   38]]\n",
      "0.38000000000000006\n"
     ]
    }
   ],
   "source": [
    "threshold = 0.5\n",
    "print(accuracy_score(data['val_y'], y_val_pred >= threshold))\n",
    "print(confusion_matrix(data['val_y'], y_val_pred >= threshold))\n",
    "print(f1_score(data['val_y'], y_val_pred >= threshold))"
   ]
  }
 ],
 "metadata": {
  "kernelspec": {
   "display_name": "Python 3.6",
   "language": "python",
   "name": "python-36"
  },
  "language_info": {
   "codemirror_mode": {
    "name": "ipython",
    "version": 3
   },
   "file_extension": ".py",
   "mimetype": "text/x-python",
   "name": "python",
   "nbconvert_exporter": "python",
   "pygments_lexer": "ipython3",
   "version": "3.6.4"
  },
  "toc": {
   "nav_menu": {},
   "number_sections": false,
   "sideBar": true,
   "skip_h1_title": false,
   "toc_cell": false,
   "toc_position": {},
   "toc_section_display": "block",
   "toc_window_display": false
  },
  "varInspector": {
   "cols": {
    "lenName": 16,
    "lenType": 16,
    "lenVar": 40
   },
   "kernels_config": {
    "python": {
     "delete_cmd_postfix": "",
     "delete_cmd_prefix": "del ",
     "library": "var_list.py",
     "varRefreshCmd": "print(var_dic_list())"
    },
    "r": {
     "delete_cmd_postfix": ") ",
     "delete_cmd_prefix": "rm(",
     "library": "var_list.r",
     "varRefreshCmd": "cat(var_dic_list()) "
    }
   },
   "types_to_exclude": [
    "module",
    "function",
    "builtin_function_or_method",
    "instance",
    "_Feature"
   ],
   "window_display": false
  }
 },
 "nbformat": 4,
 "nbformat_minor": 2
}
