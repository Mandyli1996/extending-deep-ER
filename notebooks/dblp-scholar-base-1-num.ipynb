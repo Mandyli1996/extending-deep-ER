{
 "cells": [
  {
   "cell_type": "code",
   "execution_count": 1,
   "metadata": {
    "ExecuteTime": {
     "end_time": "2018-04-12T19:27:23.665689Z",
     "start_time": "2018-04-12T19:27:20.582747Z"
    }
   },
   "outputs": [
    {
     "name": "stderr",
     "output_type": "stream",
     "text": [
      "/home/paperspace/anaconda3/envs/python-36/lib/python3.6/site-packages/h5py/__init__.py:36: FutureWarning: Conversion of the second argument of issubdtype from `float` to `np.floating` is deprecated. In future, it will be treated as `np.float64 == np.dtype(float).type`.\n",
      "  from ._conv import register_converters as _register_converters\n",
      "Using TensorFlow backend.\n"
     ]
    }
   ],
   "source": [
    "import sys\n",
    "import os\n",
    "import re\n",
    "sys.path.append('../scripts')\n",
    "\n",
    "import numpy as np\n",
    "import pandas as pd\n",
    "import matplotlib.pyplot as plt\n",
    "import seaborn as sns\n",
    "import helpers as hp\n",
    "import pickle as pkl\n",
    "import itertools as it\n",
    "\n",
    "from collections import OrderedDict, defaultdict\n",
    "\n",
    "from sklearn.metrics import f1_score, precision_score, recall_score,\\\n",
    "                            average_precision_score, roc_auc_score,\\\n",
    "                            roc_curve, precision_recall_curve, confusion_matrix,\\\n",
    "                            accuracy_score, classification_report\n",
    "\n",
    "from IPython.core.interactiveshell import InteractiveShell\n",
    "from matplotlib import rcParams\n",
    "from importlib import reload\n",
    "from model_generator import deep_er_model_generator\n",
    "pd.options.display.max_colwidth = 1000\n",
    "\n",
    "rcParams['font.family'] = 'serif'\n",
    "rcParams['font.serif'] = 'times new roman'\n",
    "\n",
    "%config InlineBackend.figure_format = 'retina'\n",
    "%matplotlib inline"
   ]
  },
  {
   "cell_type": "markdown",
   "metadata": {},
   "source": [
    "# Load data "
   ]
  },
  {
   "cell_type": "code",
   "execution_count": 2,
   "metadata": {
    "ExecuteTime": {
     "end_time": "2018-04-12T21:41:12.001384Z",
     "start_time": "2018-04-12T21:40:47.012379Z"
    },
    "collapsed": true
   },
   "outputs": [],
   "source": [
    "reload(hp)\n",
    "\n",
    "with open('../data/converted/dblp-scholar-reduced/glove-300.map', 'rb') as f:\n",
    "    map = pkl.load(f)\n",
    "\n",
    "data_dir = os.path.join('..','data')\n",
    "source_dir = os.path.join(data_dir,'split','dblp-scholar-reduced')\n",
    "data = hp.load_data(source_dir)\n",
    "\n",
    "datasets = ['train_1', 'val_1', 'test_1', 'train_2', 'val_2', 'test_2']\n",
    "\n",
    "for data_name in datasets:\n",
    "    data[data_name] = data[data_name].fillna(0)\n",
    "\n",
    "doc_freqs_1, doc_freqs_2 = hp.get_document_frequencies('../data/converted/dblp-scholar-reduced/', mapping=map)\n",
    "nan_idx = map['word2idx']['NaN']"
   ]
  },
  {
   "cell_type": "markdown",
   "metadata": {},
   "source": [
    "# Generate model"
   ]
  },
  {
   "cell_type": "code",
   "execution_count": 3,
   "metadata": {
    "ExecuteTime": {
     "end_time": "2018-04-12T21:41:28.691606Z",
     "start_time": "2018-04-12T21:41:20.426588Z"
    }
   },
   "outputs": [
    {
     "name": "stdout",
     "output_type": "stream",
     "text": [
      "Number of inputs to dense layer: 6\n"
     ]
    }
   ],
   "source": [
    "histories = dict(acc=list(), val_acc=list(), loss=list(), val_loss=list())\n",
    "model, X_train, X_val, X_test, y_train, y_val, y_test = \\\n",
    "deep_er_model_generator(data,\n",
    "                        embedding_file = '../data/converted/dblp-scholar-reduced/glove-300.matrix.npy',\n",
    "                        text_columns = ['title', 'authors', 'venue'],\n",
    "                        numeric_columns = ['year'],\n",
    "                        text_nan_idx=nan_idx,\n",
    "                        num_nan_val=0,\n",
    "                        text_sim_metrics=['cosine'],\n",
    "                        text_compositions=['average'],\n",
    "                        numeric_sim_metrics=['min_max_ratio', 'scaled_inverse_lp', 'unscaled_inverse_lp'],\n",
    "                        dense_nodes=[32, 16, 8],\n",
    "                        document_frequencies=(doc_freqs_1, doc_freqs_2),\n",
    "                        idf_smoothing=2,\n",
    "                        make_isna=False)"
   ]
  },
  {
   "cell_type": "markdown",
   "metadata": {},
   "source": [
    "# Train model "
   ]
  },
  {
   "cell_type": "code",
   "execution_count": 90,
   "metadata": {
    "ExecuteTime": {
     "end_time": "2018-04-12T21:52:12.328428Z",
     "start_time": "2018-04-12T21:51:42.009377Z"
    }
   },
   "outputs": [
    {
     "name": "stdout",
     "output_type": "stream",
     "text": [
      "Train on 432038 samples, validate on 54004 samples\n",
      "Epoch 1/10\n",
      "432038/432038 [==============================] - 5s 10us/step - loss: 0.0025 - acc: 0.9994 - val_loss: 0.0033 - val_acc: 0.9993\n",
      "Epoch 2/10\n",
      "432038/432038 [==============================] - 4s 8us/step - loss: 0.0024 - acc: 0.9994 - val_loss: 0.0032 - val_acc: 0.9993\n",
      "Epoch 3/10\n",
      "432038/432038 [==============================] - 4s 8us/step - loss: 0.0025 - acc: 0.9994 - val_loss: 0.0032 - val_acc: 0.9993\n",
      "Epoch 4/10\n",
      "432038/432038 [==============================] - 4s 8us/step - loss: 0.0024 - acc: 0.9994 - val_loss: 0.0032 - val_acc: 0.9993\n",
      "Epoch 5/10\n",
      "432038/432038 [==============================] - 4s 8us/step - loss: 0.0024 - acc: 0.9994 - val_loss: 0.0032 - val_acc: 0.9993\n",
      "Epoch 6/10\n",
      "432038/432038 [==============================] - 4s 8us/step - loss: 0.0024 - acc: 0.9994 - val_loss: 0.0033 - val_acc: 0.9993\n",
      "Epoch 7/10\n",
      "432038/432038 [==============================] - 4s 8us/step - loss: 0.0024 - acc: 0.9994 - val_loss: 0.0032 - val_acc: 0.9992\n",
      "Epoch 8/10\n",
      "432038/432038 [==============================] - 4s 8us/step - loss: 0.0024 - acc: 0.9994 - val_loss: 0.0032 - val_acc: 0.9993\n",
      "Epoch 9/10\n",
      "432038/432038 [==============================] - 4s 8us/step - loss: 0.0024 - acc: 0.9994 - val_loss: 0.0033 - val_acc: 0.9993\n",
      "Epoch 10/10\n",
      "432038/432038 [==============================] - 4s 8us/step - loss: 0.0024 - acc: 0.9994 - val_loss: 0.0032 - val_acc: 0.9993\n"
     ]
    }
   ],
   "source": [
    "model.compile(optimizer='adam', loss='binary_crossentropy', metrics=['acc'])\n",
    "history = model.fit(X_train, y_train, epochs=10, batch_size=16384,\n",
    "                    validation_data=(X_val, y_val),\n",
    "                    shuffle=True)\n",
    "\n",
    "histories['acc'].extend(history.history['acc'])\n",
    "histories['val_acc'].extend(history.history['val_acc'])\n",
    "histories['loss'].extend(history.history['loss'])\n",
    "histories['val_loss'].extend(history.history['val_loss'])"
   ]
  },
  {
   "cell_type": "markdown",
   "metadata": {},
   "source": [
    "# Learning curves"
   ]
  },
  {
   "cell_type": "code",
   "execution_count": 94,
   "metadata": {
    "ExecuteTime": {
     "end_time": "2018-04-12T21:53:06.430610Z",
     "start_time": "2018-04-12T21:53:06.048975Z"
    }
   },
   "outputs": [
    {
     "data": {
      "image/png": "[encoded data removed]",
      "text/plain": [
       "<Figure size 1152x432 with 2 Axes>"
      ]
     },
     "metadata": {
      "image/png": {
       "height": 374,
       "width": 951
      }
     },
     "output_type": "display_data"
    }
   ],
   "source": [
    "fig, axes = plt.subplots(1, 2, figsize=(16,6))\n",
    "axes[0].plot(histories['loss'], label='loss')\n",
    "axes[0].plot(histories['val_loss'], label='val_loss')\n",
    "axes[0].set_ylim(0, 0.02)\n",
    "axes[1].plot(histories['acc'], label='acc')\n",
    "axes[1].plot(histories['val_acc'], label='val_acc')\n",
    "axes[1].set_ylim(.99, 1)\n",
    "\n",
    "for ax in axes:\n",
    "    ax.legend()\n",
    "    ax.grid(True)\n",
    "    ax.set(xlabel='epoch')"
   ]
  },
  {
   "cell_type": "markdown",
   "metadata": {},
   "source": [
    "# Evaluate model "
   ]
  },
  {
   "cell_type": "code",
   "execution_count": 70,
   "metadata": {
    "ExecuteTime": {
     "end_time": "2018-04-12T21:53:11.515998Z",
     "start_time": "2018-04-12T21:53:08.723045Z"
    }
   },
   "outputs": [
    {
     "name": "stdout",
     "output_type": "stream",
     "text": [
      "             precision    recall  f1-score   support\n",
      "\n",
      "          0       1.00      1.00      1.00     53474\n",
      "          1       1.00      0.92      0.96       530\n",
      "\n",
      "avg / total       1.00      1.00      1.00     54004\n",
      "\n",
      "[[53472     2]\n",
      " [   40   490]]\n"
     ]
    }
   ],
   "source": [
    "y_val_pred = model.predict(X_val, batch_size=8192)[:,1]\n",
    "y_val_ = data['val_y'].values.squeeze()\n",
    "print(classification_report(y_val_, y_val_pred >= 0.5))\n",
    "print(confusion_matrix(y_val_, y_val_pred >= 0.5))"
   ]
  },
  {
   "cell_type": "code",
   "execution_count": 71,
   "metadata": {
    "ExecuteTime": {
     "end_time": "2018-04-12T21:45:49.865322Z",
     "start_time": "2018-04-12T21:45:47.406682Z"
    }
   },
   "outputs": [
    {
     "data": {
      "text/html": [
       "<div>\n",
       "<style scoped>\n",
       "    .dataframe tbody tr th:only-of-type {\n",
       "        vertical-align: middle;\n",
       "    }\n",
       "\n",
       "    .dataframe tbody tr th {\n",
       "        vertical-align: top;\n",
       "    }\n",
       "\n",
       "    .dataframe thead th {\n",
       "        text-align: right;\n",
       "    }\n",
       "</style>\n",
       "<table border=\"1\" class=\"dataframe\">\n",
       "  <thead>\n",
       "    <tr style=\"text-align: right;\">\n",
       "      <th></th>\n",
       "      <th>id1</th>\n",
       "      <th>title</th>\n",
       "      <th>authors</th>\n",
       "      <th>venue</th>\n",
       "      <th>year</th>\n",
       "      <th>id2</th>\n",
       "      <th>title</th>\n",
       "      <th>authors</th>\n",
       "      <th>venue</th>\n",
       "      <th>year</th>\n",
       "    </tr>\n",
       "  </thead>\n",
       "  <tbody>\n",
       "    <tr>\n",
       "      <th>49761</th>\n",
       "      <td>conf/vldb/FangSGMU98</td>\n",
       "      <td>computing iceberg queries efficiently</td>\n",
       "      <td>fang   shivakumar      motwani   ullman</td>\n",
       "      <td>vldb</td>\n",
       "      <td>1998</td>\n",
       "      <td>E7yZtVJa2xAJ</td>\n",
       "      <td>computing iceberg queries  1996 int</td>\n",
       "      <td>fang   shivakumar  hg molina   motwani  jd</td>\n",
       "      <td>very large data bases</td>\n",
       "      <td>0.0</td>\n",
       "    </tr>\n",
       "    <tr>\n",
       "      <th>1026</th>\n",
       "      <td>conf/vldb/AgrawalS94</td>\n",
       "      <td>fast algorithms for mining association rules in large databases</td>\n",
       "      <td>agrawal   srikant</td>\n",
       "      <td>vldb</td>\n",
       "      <td>1994</td>\n",
       "      <td>3MzTom30SiMJ</td>\n",
       "      <td>fastalgorithmsformining association rules</td>\n",
       "      <td>rar srikant</td>\n",
       "      <td>of the vldb conference  santiago  chile  september</td>\n",
       "      <td>0.0</td>\n",
       "    </tr>\n",
       "    <tr>\n",
       "      <th>2016</th>\n",
       "      <td>conf/sigmod/ChandrasekaranCDFHHKMRS03</td>\n",
       "      <td>telegraphcq  continuous dataflow processing</td>\n",
       "      <td>chandrasekaran   cooper   deshpande   franklin   hellerstein   hong   krishnamurthy   madden   reiss   shah</td>\n",
       "      <td>sigmod conference</td>\n",
       "      <td>2003</td>\n",
       "      <td>eOhZfLS25AsJ</td>\n",
       "      <td>telegraphcq  continuous dataflow processing for an uncertain world</td>\n",
       "      <td>chandrasekaran   cooper   deshpande  mj</td>\n",
       "      <td>nan</td>\n",
       "      <td>0.0</td>\n",
       "    </tr>\n",
       "    <tr>\n",
       "      <th>6333</th>\n",
       "      <td>conf/vldb/KahveciS01</td>\n",
       "      <td>efficient index structures for string databases</td>\n",
       "      <td>kahveci   singh</td>\n",
       "      <td>vldb</td>\n",
       "      <td>2001</td>\n",
       "      <td>i6KmypFd39AJ</td>\n",
       "      <td>singh   ak efficient index structures for string databases</td>\n",
       "      <td>kahveci</td>\n",
       "      <td>of the international conference on very large data</td>\n",
       "      <td>0.0</td>\n",
       "    </tr>\n",
       "    <tr>\n",
       "      <th>17181</th>\n",
       "      <td>journals/sigmod/CasatiDS00</td>\n",
       "      <td>vldb workshop on technologies in   tes</td>\n",
       "      <td>nan</td>\n",
       "      <td>nan</td>\n",
       "      <td>2000</td>\n",
       "      <td>pJsnj7fi9LIJ</td>\n",
       "      <td>report on the vldb workshop on technologies for   tes  cairo  egypt september 14 and 15</td>\n",
       "      <td>casati</td>\n",
       "      <td>sigmod record</td>\n",
       "      <td>2000.0</td>\n",
       "    </tr>\n",
       "  </tbody>\n",
       "</table>\n",
       "</div>"
      ],
      "text/plain": [
       "                                         id1  \\\n",
       "49761                   conf/vldb/FangSGMU98   \n",
       "1026                    conf/vldb/AgrawalS94   \n",
       "2016   conf/sigmod/ChandrasekaranCDFHHKMRS03   \n",
       "6333                    conf/vldb/KahveciS01   \n",
       "17181             journals/sigmod/CasatiDS00   \n",
       "\n",
       "                                                                  title  \\\n",
       "49761                             computing iceberg queries efficiently   \n",
       "1026    fast algorithms for mining association rules in large databases   \n",
       "2016                        telegraphcq  continuous dataflow processing   \n",
       "6333                    efficient index structures for string databases   \n",
       "17181                           vldb workshop on technologies in   tes    \n",
       "\n",
       "                                                                                                             authors  \\\n",
       "49761                                                                        fang   shivakumar      motwani   ullman   \n",
       "1026                                                                                               agrawal   srikant   \n",
       "2016     chandrasekaran   cooper   deshpande   franklin   hellerstein   hong   krishnamurthy   madden   reiss   shah   \n",
       "6333                                                                                                 kahveci   singh   \n",
       "17181                                                                                                            nan   \n",
       "\n",
       "                    venue  year           id2  \\\n",
       "49761                vldb  1998  E7yZtVJa2xAJ   \n",
       "1026                 vldb  1994  3MzTom30SiMJ   \n",
       "2016    sigmod conference  2003  eOhZfLS25AsJ   \n",
       "6333                 vldb  2001  i6KmypFd39AJ   \n",
       "17181                 nan  2000  pJsnj7fi9LIJ   \n",
       "\n",
       "                                                                                           title  \\\n",
       "49761                                                        computing iceberg queries  1996 int   \n",
       "1026                                                   fastalgorithmsformining association rules   \n",
       "2016                          telegraphcq  continuous dataflow processing for an uncertain world   \n",
       "6333                                  singh   ak efficient index structures for string databases   \n",
       "17181   report on the vldb workshop on technologies for   tes  cairo  egypt september 14 and 15    \n",
       "\n",
       "                                            authors  \\\n",
       "49761    fang   shivakumar  hg molina   motwani  jd   \n",
       "1026                                    rar srikant   \n",
       "2016        chandrasekaran   cooper   deshpande  mj   \n",
       "6333                                        kahveci   \n",
       "17181                                        casati   \n",
       "\n",
       "                                                       venue    year  \n",
       "49761                                 very large data bases      0.0  \n",
       "1026     of the vldb conference  santiago  chile  september      0.0  \n",
       "2016                                                     nan     0.0  \n",
       "6333      of the international conference on very large data     0.0  \n",
       "17181                                         sigmod record   2000.0  "
      ]
     },
     "execution_count": 71,
     "metadata": {},
     "output_type": "execute_result"
    }
   ],
   "source": [
    "mapping = map.copy()\n",
    "bool_mask = (y_val_ == 1) & ~(y_val_pred >= 0.5)\n",
    "columns = ['title', 'authors', 'venue']\n",
    "df_examine = hp.examine_data(data['val_1'], data['val_2'], columns, bool_mask, mapping)\n",
    "df_examine.sample(5)"
   ]
  },
  {
   "cell_type": "markdown",
   "metadata": {},
   "source": [
    "# Save model and histories "
   ]
  },
  {
   "cell_type": "code",
   "execution_count": 72,
   "metadata": {
    "ExecuteTime": {
     "end_time": "2018-04-12T21:51:21.415206Z",
     "start_time": "2018-04-12T21:51:21.050809Z"
    },
    "collapsed": true
   },
   "outputs": [],
   "source": [
    "pd.DataFrame(histories).to_csv('../data/histories/dblp-scholar-base-1-num.csv', index=False)\n",
    "model.save_weights('../data/models/dblp-scholar-base-1-num')"
   ]
  },
  {
   "cell_type": "markdown",
   "metadata": {},
   "source": [
    "# Test model "
   ]
  },
  {
   "cell_type": "code",
   "execution_count": 4,
   "metadata": {
    "ExecuteTime": {
     "end_time": "2018-04-12T21:51:26.898830Z",
     "start_time": "2018-04-12T21:51:23.802014Z"
    }
   },
   "outputs": [
    {
     "name": "stdout",
     "output_type": "stream",
     "text": [
      "             precision    recall  f1-score   support\n",
      "\n",
      "          0    0.99953   0.99998   0.99976     53467\n",
      "          1    0.99805   0.95353   0.97529       538\n",
      "\n",
      "avg / total    0.99952   0.99952   0.99951     54005\n",
      "\n",
      "[[53466     1]\n",
      " [   25   513]]\n"
     ]
    }
   ],
   "source": [
    "model.load_weights('../data/models/dblp-scholar-base-1-num')\n",
    "y_test_pred = model.predict(X_test, batch_size=8192)[:,1]\n",
    "y_test_ = data['test_y'].values.squeeze()\n",
    "print(classification_report(y_test_, y_test_pred >= 0.5, digits=5))\n",
    "print(confusion_matrix(y_test_, y_test_pred >= 0.5))"
   ]
  },
  {
   "cell_type": "code",
   "execution_count": null,
   "metadata": {
    "collapsed": true
   },
   "outputs": [],
   "source": []
  }
 ],
 "metadata": {
  "kernelspec": {
   "display_name": "Python 3.6",
   "language": "python",
   "name": "python-36"
  },
  "language_info": {
   "codemirror_mode": {
    "name": "ipython",
    "version": 3
   },
   "file_extension": ".py",
   "mimetype": "text/x-python",
   "name": "python",
   "nbconvert_exporter": "python",
   "pygments_lexer": "ipython3",
   "version": "3.6.4"
  },
  "varInspector": {
   "cols": {
    "lenName": 16,
    "lenType": 16,
    "lenVar": 40
   },
   "kernels_config": {
    "python": {
     "delete_cmd_postfix": "",
     "delete_cmd_prefix": "del ",
     "library": "var_list.py",
     "varRefreshCmd": "print(var_dic_list())"
    },
    "r": {
     "delete_cmd_postfix": ") ",
     "delete_cmd_prefix": "rm(",
     "library": "var_list.r",
     "varRefreshCmd": "cat(var_dic_list()) "
    }
   },
   "types_to_exclude": [
    "module",
    "function",
    "builtin_function_or_method",
    "instance",
    "_Feature"
   ],
   "window_display": false
  }
 },
 "nbformat": 4,
 "nbformat_minor": 2
}
