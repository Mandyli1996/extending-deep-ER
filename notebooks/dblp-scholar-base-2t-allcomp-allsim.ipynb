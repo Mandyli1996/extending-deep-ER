{
 "cells": [
  {
   "cell_type": "code",
   "execution_count": 1,
   "metadata": {
    "ExecuteTime": {
     "end_time": "2018-04-12T19:27:23.665689Z",
     "start_time": "2018-04-12T19:27:20.582747Z"
    }
   },
   "outputs": [
    {
     "name": "stderr",
     "output_type": "stream",
     "text": [
      "/home/paperspace/anaconda3/envs/python-36/lib/python3.6/site-packages/h5py/__init__.py:36: FutureWarning: Conversion of the second argument of issubdtype from `float` to `np.floating` is deprecated. In future, it will be treated as `np.float64 == np.dtype(float).type`.\n",
      "  from ._conv import register_converters as _register_converters\n",
      "Using TensorFlow backend.\n"
     ]
    }
   ],
   "source": [
    "import sys\n",
    "import os\n",
    "import re\n",
    "sys.path.append('../scripts')\n",
    "\n",
    "import numpy as np\n",
    "import pandas as pd\n",
    "import matplotlib.pyplot as plt\n",
    "import seaborn as sns\n",
    "import helpers as hp\n",
    "import pickle as pkl\n",
    "import itertools as it\n",
    "\n",
    "from collections import OrderedDict, defaultdict\n",
    "\n",
    "from sklearn.metrics import f1_score, precision_score, recall_score,\\\n",
    "                            average_precision_score, roc_auc_score,\\\n",
    "                            roc_curve, precision_recall_curve, confusion_matrix,\\\n",
    "                            accuracy_score, classification_report\n",
    "\n",
    "from IPython.core.interactiveshell import InteractiveShell\n",
    "from matplotlib import rcParams\n",
    "from importlib import reload\n",
    "from model_generator import deep_er_model_generator\n",
    "pd.options.display.max_colwidth = 1000\n",
    "\n",
    "rcParams['font.family'] = 'serif'\n",
    "rcParams['font.serif'] = 'times new roman'\n",
    "\n",
    "%config InlineBackend.figure_format = 'retina'\n",
    "%matplotlib inline"
   ]
  },
  {
   "cell_type": "markdown",
   "metadata": {},
   "source": [
    "# Load data "
   ]
  },
  {
   "cell_type": "code",
   "execution_count": 2,
   "metadata": {
    "ExecuteTime": {
     "end_time": "2018-04-12T21:41:12.001384Z",
     "start_time": "2018-04-12T21:40:47.012379Z"
    },
    "collapsed": true
   },
   "outputs": [],
   "source": [
    "reload(hp)\n",
    "\n",
    "with open('../data/converted/dblp-scholar-reduced/glove-300.map', 'rb') as f:\n",
    "    map = pkl.load(f)\n",
    "\n",
    "data_dir = os.path.join('..','data')\n",
    "source_dir = os.path.join(data_dir,'split','dblp-scholar-reduced')\n",
    "data = hp.load_data(source_dir)\n",
    "\n",
    "datasets = ['train_1', 'val_1', 'test_1', 'train_2', 'val_2', 'test_2']\n",
    "\n",
    "for data_name in datasets:\n",
    "    data[data_name] = data[data_name].fillna(0)\n",
    "\n",
    "doc_freqs_1, doc_freqs_2 = hp.get_document_frequencies('../data/converted/dblp-scholar-reduced/', mapping=map)\n",
    "nan_idx = map['word2idx']['NaN']"
   ]
  },
  {
   "cell_type": "markdown",
   "metadata": {},
   "source": [
    "# Generate model"
   ]
  },
  {
   "cell_type": "code",
   "execution_count": 3,
   "metadata": {
    "ExecuteTime": {
     "end_time": "2018-04-12T21:41:28.691606Z",
     "start_time": "2018-04-12T21:41:20.426588Z"
    }
   },
   "outputs": [
    {
     "name": "stdout",
     "output_type": "stream",
     "text": [
      "Number of inputs to dense layer: 84\n"
     ]
    }
   ],
   "source": [
    "histories = dict(acc=list(), val_acc=list(), loss=list(), val_loss=list())\n",
    "model, X_train, X_val, X_test, y_train, y_val, y_test = \\\n",
    "deep_er_model_generator(data,\n",
    "                        embedding_file = '../data/converted/dblp-scholar-reduced/glove-300.matrix.npy',\n",
    "                        text_columns = ['title', 'authors', 'venue'],\n",
    "                        numeric_columns = [],\n",
    "                        text_nan_idx=nan_idx,\n",
    "                        num_nan_val=0,\n",
    "                        text_sim_metrics=['cosine', 'inverse_l1'],\n",
    "                        text_compositions=['average', 'idf', 'bi_lstm'],\n",
    "                        numeric_sim_metrics=[],\n",
    "                        dense_nodes=[32, 16],\n",
    "                        document_frequencies=(doc_freqs_1, doc_freqs_2),\n",
    "                        idf_smoothing=2,\n",
    "                        make_isna=False,\n",
    "                        lstm_args=dict(units=20, dropout=0.25, recurrent_dropout=0.25),\n",
    "                        batch_norm=True,\n",
    "                        dropout=0.75,\n",
    "                        embedding_trainable=True)"
   ]
  },
  {
   "cell_type": "markdown",
   "metadata": {},
   "source": [
    "# Crash recovery "
   ]
  },
  {
   "cell_type": "code",
   "execution_count": null,
   "metadata": {
    "collapsed": true
   },
   "outputs": [],
   "source": [
    "model.load_weights('../data/models/dblp-scholar-base-2t-allcomp-allsim')\n",
    "df_hist = pd.read_csv('../data/histories/dblp-scholar-base-2t-allcomp-allsim.csv')\n",
    "\n",
    "histories['acc'] = list(df_hist['acc'].values)\n",
    "histories['val_acc'] = list(df_hist['val_acc'].values)\n",
    "histories['loss'] = list(df_hist['loss'].values)\n",
    "histories['val_loss'] = list(df_hist['val_loss'].values)"
   ]
  },
  {
   "cell_type": "markdown",
   "metadata": {},
   "source": [
    "# Train model "
   ]
  },
  {
   "cell_type": "code",
   "execution_count": 52,
   "metadata": {
    "ExecuteTime": {
     "end_time": "2018-04-12T21:52:12.328428Z",
     "start_time": "2018-04-12T21:51:42.009377Z"
    }
   },
   "outputs": [
    {
     "name": "stdout",
     "output_type": "stream",
     "text": [
      "Train on 432038 samples, validate on 54004 samples\n",
      "Epoch 1/1\n",
      "432038/432038 [==============================] - 486s 1ms/step - loss: 0.0111 - acc: 0.9981 - val_loss: 0.0021 - val_acc: 0.9997\n"
     ]
    }
   ],
   "source": [
    "model.compile(optimizer='adam', loss='binary_crossentropy', metrics=['acc'])\n",
    "history = model.fit(X_train, y_train, epochs=1, batch_size=2048,\n",
    "                    validation_data=(X_val, y_val),\n",
    "                    shuffle=True)\n",
    "\n",
    "histories['acc'].extend(history.history['acc'])\n",
    "histories['val_acc'].extend(history.history['val_acc'])\n",
    "histories['loss'].extend(history.history['loss'])\n",
    "histories['val_loss'].extend(history.history['val_loss'])"
   ]
  },
  {
   "cell_type": "markdown",
   "metadata": {},
   "source": [
    "# Learning curves"
   ]
  },
  {
   "cell_type": "code",
   "execution_count": 54,
   "metadata": {
    "ExecuteTime": {
     "end_time": "2018-04-12T21:53:06.430610Z",
     "start_time": "2018-04-12T21:53:06.048975Z"
    }
   },
   "outputs": [
    {
     "data": {
      "image/png": "[encoded data removed]",
      "text/plain": [
       "<Figure size 1152x432 with 2 Axes>"
      ]
     },
     "metadata": {
      "image/png": {
       "height": 374,
       "width": 944
      }
     },
     "output_type": "display_data"
    }
   ],
   "source": [
    "fig, axes = plt.subplots(1, 2, figsize=(16,6))\n",
    "axes[0].plot(histories['loss'], label='loss')\n",
    "axes[0].plot(histories['val_loss'], label='val_loss')\n",
    "axes[0].set_ylim(0, 0.005)\n",
    "axes[1].plot(histories['acc'], label='acc')\n",
    "axes[1].plot(histories['val_acc'], label='val_acc')\n",
    "axes[1].set_ylim(0.999, 1)\n",
    "\n",
    "for ax in axes:\n",
    "    ax.legend()\n",
    "    ax.grid(True)\n",
    "    ax.set(xlabel='epoch')"
   ]
  },
  {
   "cell_type": "markdown",
   "metadata": {},
   "source": [
    "# Evaluate model "
   ]
  },
  {
   "cell_type": "code",
   "execution_count": 43,
   "metadata": {
    "ExecuteTime": {
     "end_time": "2018-04-12T21:53:11.515998Z",
     "start_time": "2018-04-12T21:53:08.723045Z"
    }
   },
   "outputs": [
    {
     "name": "stdout",
     "output_type": "stream",
     "text": [
      "             precision    recall  f1-score   support\n",
      "\n",
      "          0       1.00      1.00      1.00     53474\n",
      "          1       0.99      0.98      0.98       530\n",
      "\n",
      "avg / total       1.00      1.00      1.00     54004\n",
      "\n",
      "[[53468     6]\n",
      " [   10   520]]\n"
     ]
    }
   ],
   "source": [
    "y_val_pred = model.predict(X_val, batch_size=8192)[:,1]\n",
    "y_val_ = data['val_y'].values.squeeze()\n",
    "print(classification_report(y_val_, y_val_pred >= 0.5))\n",
    "print(confusion_matrix(y_val_, y_val_pred >= 0.5))"
   ]
  },
  {
   "cell_type": "code",
   "execution_count": 44,
   "metadata": {
    "ExecuteTime": {
     "end_time": "2018-04-12T21:45:49.865322Z",
     "start_time": "2018-04-12T21:45:47.406682Z"
    }
   },
   "outputs": [
    {
     "data": {
      "text/html": [
       "<div>\n",
       "<style scoped>\n",
       "    .dataframe tbody tr th:only-of-type {\n",
       "        vertical-align: middle;\n",
       "    }\n",
       "\n",
       "    .dataframe tbody tr th {\n",
       "        vertical-align: top;\n",
       "    }\n",
       "\n",
       "    .dataframe thead th {\n",
       "        text-align: right;\n",
       "    }\n",
       "</style>\n",
       "<table border=\"1\" class=\"dataframe\">\n",
       "  <thead>\n",
       "    <tr style=\"text-align: right;\">\n",
       "      <th></th>\n",
       "      <th>id1</th>\n",
       "      <th>title</th>\n",
       "      <th>authors</th>\n",
       "      <th>venue</th>\n",
       "      <th>year</th>\n",
       "      <th>id2</th>\n",
       "      <th>title</th>\n",
       "      <th>authors</th>\n",
       "      <th>venue</th>\n",
       "      <th>year</th>\n",
       "    </tr>\n",
       "  </thead>\n",
       "  <tbody>\n",
       "    <tr>\n",
       "      <th>7157</th>\n",
       "      <td>conf/vldb/BonczMK99</td>\n",
       "      <td>database architecture optimized for the new bottleneck  memory access</td>\n",
       "      <td>boncz   manegold   kersten</td>\n",
       "      <td>vldb</td>\n",
       "      <td>1999</td>\n",
       "      <td>6GAoBRINv7kJ</td>\n",
       "      <td>databasearchitecture optimizedforthenewbottleneck  memoryaccess</td>\n",
       "      <td>boncz   manegold   kersten</td>\n",
       "      <td>25th international conference on very large data bases</td>\n",
       "      <td>0.0</td>\n",
       "    </tr>\n",
       "    <tr>\n",
       "      <th>27714</th>\n",
       "      <td>journals/vldb/C94c</td>\n",
       "      <td>title  foreword  preface to the special issue on spatial database systems  index</td>\n",
       "      <td>nan</td>\n",
       "      <td>nan</td>\n",
       "      <td>1994</td>\n",
       "      <td>url:http://portal.acm.org/citation.cfm%3Fid%3D615204.615205%26dl%3Dportal%26dl%3DACM%26type%3Dissue%26idx%3DJ869%26part%3Dperiodical%26WantType%3Dperiodical%26title%3DThe%2520VLDB%2520Journal%2520%2526mdash%253B%2520The%2520International%2520Journal%2520on%2520Very%2520Large%2520Data%2520Bases%26CFID%3D11111111%26CFTOKEN%3D2222222</td>\n",
       "      <td>special issue on spatial database systems</td>\n",
       "      <td>hj schek</td>\n",
       "      <td>the vldb    the international journal on very large</td>\n",
       "      <td>1994.0</td>\n",
       "    </tr>\n",
       "    <tr>\n",
       "      <th>11699</th>\n",
       "      <td>conf/sigmod/ZhaoDNS98</td>\n",
       "      <td>simultaneous optimization and evaluation of multiple dimensional queries</td>\n",
       "      <td>zhao   deshpande   naughton   shukla</td>\n",
       "      <td>sigmod conference</td>\n",
       "      <td>1998</td>\n",
       "      <td>6AK0GF7jAtsJ</td>\n",
       "      <td>pm deshpande  jf naughton   shukla     simultaneous optimization and evaluation of multiple</td>\n",
       "      <td>zhao</td>\n",
       "      <td>acm sigmod</td>\n",
       "      <td>0.0</td>\n",
       "    </tr>\n",
       "    <tr>\n",
       "      <th>17181</th>\n",
       "      <td>journals/sigmod/CasatiDS00</td>\n",
       "      <td>vldb workshop on technologies in   tes</td>\n",
       "      <td>nan</td>\n",
       "      <td>nan</td>\n",
       "      <td>2000</td>\n",
       "      <td>pJsnj7fi9LIJ</td>\n",
       "      <td>report on the vldb workshop on technologies for   tes  cairo  egypt september 14 and 15</td>\n",
       "      <td>casati</td>\n",
       "      <td>sigmod record</td>\n",
       "      <td>2000.0</td>\n",
       "    </tr>\n",
       "    <tr>\n",
       "      <th>26814</th>\n",
       "      <td>conf/vldb/GyssensL97</td>\n",
       "      <td>foundation for  databases</td>\n",
       "      <td>gyssens   lakshmanan</td>\n",
       "      <td>vldb</td>\n",
       "      <td>1997</td>\n",
       "      <td>CfujBHjOpPAJ</td>\n",
       "      <td>foundation for   in  dayal   gray pmd  nishio  eds</td>\n",
       "      <td>gyssens  lvs lakshmanan</td>\n",
       "      <td>nan</td>\n",
       "      <td>1997.0</td>\n",
       "    </tr>\n",
       "  </tbody>\n",
       "</table>\n",
       "</div>"
      ],
      "text/plain": [
       "                              id1  \\\n",
       "7157          conf/vldb/BonczMK99   \n",
       "27714          journals/vldb/C94c   \n",
       "11699       conf/sigmod/ZhaoDNS98   \n",
       "17181  journals/sigmod/CasatiDS00   \n",
       "26814        conf/vldb/GyssensL97   \n",
       "\n",
       "                                                                                     title  \\\n",
       "7157                 database architecture optimized for the new bottleneck  memory access   \n",
       "27714   title  foreword  preface to the special issue on spatial database systems  index     \n",
       "11699             simultaneous optimization and evaluation of multiple dimensional queries   \n",
       "17181                                              vldb workshop on technologies in   tes    \n",
       "26814                                                            foundation for  databases   \n",
       "\n",
       "                                      authors               venue  year  \\\n",
       "7157               boncz   manegold   kersten                vldb  1999   \n",
       "27714                                     nan                 nan  1994   \n",
       "11699    zhao   deshpande   naughton   shukla   sigmod conference  1998   \n",
       "17181                                     nan                 nan  2000   \n",
       "26814                    gyssens   lakshmanan                vldb  1997   \n",
       "\n",
       "                                                                                                                                                                                                                                                                                                                                                id2  \\\n",
       "7157                                                                                                                                                                                                                                                                                                                                   6GAoBRINv7kJ   \n",
       "27714  url:http://portal.acm.org/citation.cfm%3Fid%3D615204.615205%26dl%3Dportal%26dl%3DACM%26type%3Dissue%26idx%3DJ869%26part%3Dperiodical%26WantType%3Dperiodical%26title%3DThe%2520VLDB%2520Journal%2520%2526mdash%253B%2520The%2520International%2520Journal%2520on%2520Very%2520Large%2520Data%2520Bases%26CFID%3D11111111%26CFTOKEN%3D2222222   \n",
       "11699                                                                                                                                                                                                                                                                                                                                  6AK0GF7jAtsJ   \n",
       "17181                                                                                                                                                                                                                                                                                                                                  pJsnj7fi9LIJ   \n",
       "26814                                                                                                                                                                                                                                                                                                                                  CfujBHjOpPAJ   \n",
       "\n",
       "                                                                                              title  \\\n",
       "7157                                databasearchitecture optimizedforthenewbottleneck  memoryaccess   \n",
       "27714                                                     special issue on spatial database systems   \n",
       "11699   pm deshpande  jf naughton   shukla     simultaneous optimization and evaluation of multiple   \n",
       "17181      report on the vldb workshop on technologies for   tes  cairo  egypt september 14 and 15    \n",
       "26814                                            foundation for   in  dayal   gray pmd  nishio  eds   \n",
       "\n",
       "                            authors  \\\n",
       "7157     boncz   manegold   kersten   \n",
       "27714                      hj schek   \n",
       "11699                          zhao   \n",
       "17181                        casati   \n",
       "26814       gyssens  lvs lakshmanan   \n",
       "\n",
       "                                                            venue    year  \n",
       "7157     25th international conference on very large data bases       0.0  \n",
       "27714       the vldb    the international journal on very large    1994.0  \n",
       "11699                                                  acm sigmod     0.0  \n",
       "17181                                              sigmod record   2000.0  \n",
       "26814                                                         nan  1997.0  "
      ]
     },
     "execution_count": 44,
     "metadata": {},
     "output_type": "execute_result"
    }
   ],
   "source": [
    "mapping = map.copy()\n",
    "bool_mask = (y_val_ == 1) & ~(y_val_pred >= 0.5)\n",
    "columns = ['title', 'authors', 'venue']\n",
    "df_examine = hp.examine_data(data['val_1'], data['val_2'], columns, bool_mask, mapping)\n",
    "df_examine.sample(5)"
   ]
  },
  {
   "cell_type": "markdown",
   "metadata": {},
   "source": [
    "# Save model and histories "
   ]
  },
  {
   "cell_type": "code",
   "execution_count": 45,
   "metadata": {
    "ExecuteTime": {
     "end_time": "2018-04-12T21:51:21.415206Z",
     "start_time": "2018-04-12T21:51:21.050809Z"
    },
    "collapsed": true
   },
   "outputs": [],
   "source": [
    "pd.DataFrame(histories).to_csv('../data/histories/dblp-scholar-base-2t-allcomp-allsim.csv', index=False)\n",
    "model.save_weights('../data/models/dblp-scholar-base-2t-allcomp-allsim')"
   ]
  },
  {
   "cell_type": "markdown",
   "metadata": {},
   "source": [
    "# Test model "
   ]
  },
  {
   "cell_type": "code",
   "execution_count": 4,
   "metadata": {
    "ExecuteTime": {
     "end_time": "2018-04-12T21:51:26.898830Z",
     "start_time": "2018-04-12T21:51:23.802014Z"
    }
   },
   "outputs": [
    {
     "name": "stdout",
     "output_type": "stream",
     "text": [
      "             precision    recall  f1-score   support\n",
      "\n",
      "          0    0.99979   0.99987   0.99983     53467\n",
      "          1    0.98689   0.97955   0.98321       538\n",
      "\n",
      "avg / total    0.99967   0.99967   0.99967     54005\n",
      "\n",
      "[[53460     7]\n",
      " [   11   527]]\n"
     ]
    }
   ],
   "source": [
    "model.load_weights('../data/models/dblp-scholar-base-2t-allcomp-allsim')\n",
    "y_test_pred = model.predict(X_test, batch_size=8192)[:,1]\n",
    "y_test_ = data['test_y'].values.squeeze()\n",
    "print(classification_report(y_test_, y_test_pred >= 0.5, digits=5))\n",
    "print(confusion_matrix(y_test_, y_test_pred >= 0.5))"
   ]
  },
  {
   "cell_type": "code",
   "execution_count": null,
   "metadata": {
    "collapsed": true
   },
   "outputs": [],
   "source": []
  }
 ],
 "metadata": {
  "kernelspec": {
   "display_name": "Python 3.6",
   "language": "python",
   "name": "python-36"
  },
  "language_info": {
   "codemirror_mode": {
    "name": "ipython",
    "version": 3
   },
   "file_extension": ".py",
   "mimetype": "text/x-python",
   "name": "python",
   "nbconvert_exporter": "python",
   "pygments_lexer": "ipython3",
   "version": "3.6.4"
  },
  "varInspector": {
   "cols": {
    "lenName": 16,
    "lenType": 16,
    "lenVar": 40
   },
   "kernels_config": {
    "python": {
     "delete_cmd_postfix": "",
     "delete_cmd_prefix": "del ",
     "library": "var_list.py",
     "varRefreshCmd": "print(var_dic_list())"
    },
    "r": {
     "delete_cmd_postfix": ") ",
     "delete_cmd_prefix": "rm(",
     "library": "var_list.r",
     "varRefreshCmd": "cat(var_dic_list()) "
    }
   },
   "types_to_exclude": [
    "module",
    "function",
    "builtin_function_or_method",
    "instance",
    "_Feature"
   ],
   "window_display": false
  }
 },
 "nbformat": 4,
 "nbformat_minor": 2
}
