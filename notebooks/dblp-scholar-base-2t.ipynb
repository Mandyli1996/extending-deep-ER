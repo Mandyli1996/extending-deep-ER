{
 "cells": [
  {
   "cell_type": "code",
   "execution_count": 1,
   "metadata": {
    "ExecuteTime": {
     "end_time": "2018-04-12T19:27:23.665689Z",
     "start_time": "2018-04-12T19:27:20.582747Z"
    }
   },
   "outputs": [
    {
     "name": "stderr",
     "output_type": "stream",
     "text": [
      "/home/paperspace/anaconda3/envs/python-36/lib/python3.6/site-packages/h5py/__init__.py:36: FutureWarning: Conversion of the second argument of issubdtype from `float` to `np.floating` is deprecated. In future, it will be treated as `np.float64 == np.dtype(float).type`.\n",
      "  from ._conv import register_converters as _register_converters\n",
      "Using TensorFlow backend.\n"
     ]
    }
   ],
   "source": [
    "import sys\n",
    "import os\n",
    "import re\n",
    "sys.path.append('../scripts')\n",
    "\n",
    "import numpy as np\n",
    "import pandas as pd\n",
    "import matplotlib.pyplot as plt\n",
    "import seaborn as sns\n",
    "import helpers as hp\n",
    "import pickle as pkl\n",
    "import itertools as it\n",
    "\n",
    "from collections import OrderedDict, defaultdict\n",
    "\n",
    "from sklearn.metrics import f1_score, precision_score, recall_score,\\\n",
    "                            average_precision_score, roc_auc_score,\\\n",
    "                            roc_curve, precision_recall_curve, confusion_matrix,\\\n",
    "                            accuracy_score, classification_report\n",
    "\n",
    "from IPython.core.interactiveshell import InteractiveShell\n",
    "from matplotlib import rcParams\n",
    "from importlib import reload\n",
    "from model_generator import deep_er_model_generator\n",
    "pd.options.display.max_colwidth = 1000\n",
    "\n",
    "rcParams['font.family'] = 'serif'\n",
    "rcParams['font.serif'] = 'times new roman'\n",
    "\n",
    "%config InlineBackend.figure_format = 'retina'\n",
    "%matplotlib inline"
   ]
  },
  {
   "cell_type": "markdown",
   "metadata": {},
   "source": [
    "# Load data "
   ]
  },
  {
   "cell_type": "code",
   "execution_count": 2,
   "metadata": {
    "ExecuteTime": {
     "end_time": "2018-04-12T21:41:12.001384Z",
     "start_time": "2018-04-12T21:40:47.012379Z"
    },
    "collapsed": true
   },
   "outputs": [],
   "source": [
    "reload(hp)\n",
    "\n",
    "with open('../data/converted/dblp-scholar-reduced/glove-300.map', 'rb') as f:\n",
    "    map = pkl.load(f)\n",
    "\n",
    "data_dir = os.path.join('..','data')\n",
    "source_dir = os.path.join(data_dir,'split','dblp-scholar-reduced')\n",
    "data = hp.load_data(source_dir)\n",
    "\n",
    "datasets = ['train_1', 'val_1', 'test_1', 'train_2', 'val_2', 'test_2']\n",
    "\n",
    "for data_name in datasets:\n",
    "    data[data_name] = data[data_name].fillna(0)\n",
    "\n",
    "doc_freqs_1, doc_freqs_2 = hp.get_document_frequencies('../data/converted/dblp-scholar-reduced/', mapping=map)\n",
    "nan_idx = map['word2idx']['NaN']"
   ]
  },
  {
   "cell_type": "markdown",
   "metadata": {},
   "source": [
    "# Generate model"
   ]
  },
  {
   "cell_type": "code",
   "execution_count": 5,
   "metadata": {
    "ExecuteTime": {
     "end_time": "2018-04-12T21:41:28.691606Z",
     "start_time": "2018-04-12T21:41:20.426588Z"
    }
   },
   "outputs": [
    {
     "name": "stdout",
     "output_type": "stream",
     "text": [
      "Number of inputs to dense layer: 156\n"
     ]
    }
   ],
   "source": [
    "histories = dict(acc=list(), val_acc=list(), loss=list(), val_loss=list())\n",
    "model, X_train, X_val, X_test, y_train, y_val, y_test = \\\n",
    "deep_er_model_generator(data,\n",
    "                        embedding_file = '../data/converted/dblp-scholar-reduced/glove-300.matrix.npy',\n",
    "                        text_columns = ['title', 'authors', 'venue'],\n",
    "                        numeric_columns = [],\n",
    "                        text_nan_idx=nan_idx,\n",
    "                        num_nan_val=0,\n",
    "                        text_sim_metrics=[],\n",
    "                        text_compositions=['bi_lstm'],\n",
    "                        numeric_sim_metrics=[],\n",
    "                        dense_nodes=[32, 16],\n",
    "                        document_frequencies=(doc_freqs_1, doc_freqs_2),\n",
    "                        idf_smoothing=2,\n",
    "                        make_isna=False,\n",
    "                        embedding_trainable=True)"
   ]
  },
  {
   "cell_type": "markdown",
   "metadata": {},
   "source": [
    "# Train model "
   ]
  },
  {
   "cell_type": "code",
   "execution_count": 29,
   "metadata": {
    "ExecuteTime": {
     "end_time": "2018-04-12T21:52:12.328428Z",
     "start_time": "2018-04-12T21:51:42.009377Z"
    }
   },
   "outputs": [
    {
     "name": "stdout",
     "output_type": "stream",
     "text": [
      "Train on 432038 samples, validate on 54004 samples\n",
      "Epoch 1/1\n",
      "432038/432038 [==============================] - 457s 1ms/step - loss: 1.1112e-04 - acc: 1.0000 - val_loss: 0.0026 - val_acc: 0.9995\n"
     ]
    }
   ],
   "source": [
    "model.compile(optimizer='adam', loss='binary_crossentropy', metrics=['acc'])\n",
    "history = model.fit(X_train, y_train, epochs=1, batch_size=2048,\n",
    "                    validation_data=(X_val, y_val),\n",
    "                    shuffle=True)\n",
    "\n",
    "histories['acc'].extend(history.history['acc'])\n",
    "histories['val_acc'].extend(history.history['val_acc'])\n",
    "histories['loss'].extend(history.history['loss'])\n",
    "histories['val_loss'].extend(history.history['val_loss'])"
   ]
  },
  {
   "cell_type": "markdown",
   "metadata": {},
   "source": [
    "# Learning curves"
   ]
  },
  {
   "cell_type": "code",
   "execution_count": 31,
   "metadata": {
    "ExecuteTime": {
     "end_time": "2018-04-12T21:53:06.430610Z",
     "start_time": "2018-04-12T21:53:06.048975Z"
    }
   },
   "outputs": [
    {
     "data": {
      "image/png": "[encoded data removed]",
      "text/plain": [
       "<Figure size 1152x432 with 2 Axes>"
      ]
     },
     "metadata": {
      "image/png": {
       "height": 372,
       "width": 938
      }
     },
     "output_type": "display_data"
    }
   ],
   "source": [
    "fig, axes = plt.subplots(1, 2, figsize=(16,6))\n",
    "axes[0].plot(histories['loss'], label='loss')\n",
    "axes[0].plot(histories['val_loss'], label='val_loss')\n",
    "axes[1].plot(histories['acc'], label='acc')\n",
    "axes[1].plot(histories['val_acc'], label='val_acc')\n",
    "\n",
    "for ax in axes:\n",
    "    ax.legend()\n",
    "    ax.grid(True)\n",
    "    ax.set(xlabel='epoch')"
   ]
  },
  {
   "cell_type": "markdown",
   "metadata": {},
   "source": [
    "# Evaluate model "
   ]
  },
  {
   "cell_type": "code",
   "execution_count": 25,
   "metadata": {
    "ExecuteTime": {
     "end_time": "2018-04-12T21:53:11.515998Z",
     "start_time": "2018-04-12T21:53:08.723045Z"
    }
   },
   "outputs": [
    {
     "name": "stdout",
     "output_type": "stream",
     "text": [
      "             precision    recall  f1-score   support\n",
      "\n",
      "          0       1.00      1.00      1.00     53474\n",
      "          1       0.99      0.97      0.98       530\n",
      "\n",
      "avg / total       1.00      1.00      1.00     54004\n",
      "\n",
      "[[53468     6]\n",
      " [   18   512]]\n"
     ]
    }
   ],
   "source": [
    "y_val_pred = model.predict(X_val, batch_size=4096)[:,1]\n",
    "y_val_ = data['val_y'].values.squeeze()\n",
    "print(classification_report(y_val_, y_val_pred >= 0.5))\n",
    "print(confusion_matrix(y_val_, y_val_pred >= 0.5))"
   ]
  },
  {
   "cell_type": "code",
   "execution_count": 26,
   "metadata": {
    "ExecuteTime": {
     "end_time": "2018-04-12T21:45:49.865322Z",
     "start_time": "2018-04-12T21:45:47.406682Z"
    }
   },
   "outputs": [
    {
     "data": {
      "text/html": [
       "<div>\n",
       "<style scoped>\n",
       "    .dataframe tbody tr th:only-of-type {\n",
       "        vertical-align: middle;\n",
       "    }\n",
       "\n",
       "    .dataframe tbody tr th {\n",
       "        vertical-align: top;\n",
       "    }\n",
       "\n",
       "    .dataframe thead th {\n",
       "        text-align: right;\n",
       "    }\n",
       "</style>\n",
       "<table border=\"1\" class=\"dataframe\">\n",
       "  <thead>\n",
       "    <tr style=\"text-align: right;\">\n",
       "      <th></th>\n",
       "      <th>id1</th>\n",
       "      <th>title</th>\n",
       "      <th>authors</th>\n",
       "      <th>venue</th>\n",
       "      <th>year</th>\n",
       "      <th>id2</th>\n",
       "      <th>title</th>\n",
       "      <th>authors</th>\n",
       "      <th>venue</th>\n",
       "      <th>year</th>\n",
       "    </tr>\n",
       "  </thead>\n",
       "  <tbody>\n",
       "    <tr>\n",
       "      <th>1026</th>\n",
       "      <td>conf/vldb/AgrawalS94</td>\n",
       "      <td>fast algorithms for mining association rules in large databases</td>\n",
       "      <td>agrawal   srikant</td>\n",
       "      <td>vldb</td>\n",
       "      <td>1994</td>\n",
       "      <td>3MzTom30SiMJ</td>\n",
       "      <td>fastalgorithmsformining association rules</td>\n",
       "      <td>rar srikant</td>\n",
       "      <td>of the vldb conference  santiago  chile  september</td>\n",
       "      <td>0.0</td>\n",
       "    </tr>\n",
       "    <tr>\n",
       "      <th>9403</th>\n",
       "      <td>conf/sigmod/BratsbergT00</td>\n",
       "      <td>tutorial  designing an ultra highly available dbms</td>\n",
       "      <td>nan</td>\n",
       "      <td>nan</td>\n",
       "      <td>2000</td>\n",
       "      <td>af50lhGnD8gJ</td>\n",
       "      <td>an ultra highly available dbms</td>\n",
       "      <td>so hvasshovd  se bratsberg   torbjoernsen</td>\n",
       "      <td>nan</td>\n",
       "      <td>0.0</td>\n",
       "    </tr>\n",
       "    <tr>\n",
       "      <th>11286</th>\n",
       "      <td>conf/vldb/ManegoldBK00</td>\n",
       "      <td>what happens during  join  dissecting cpu and memory optimization effects</td>\n",
       "      <td>manegold   boncz   kersten</td>\n",
       "      <td>vldb</td>\n",
       "      <td>2000</td>\n",
       "      <td>sZmrat79cF0J</td>\n",
       "      <td>what happens duringajoin     dissectingcpuandmemoryoptimization effects</td>\n",
       "      <td>manegold  pa boncz  ml kersten</td>\n",
       "      <td>on very large data bases  cairo  egypt</td>\n",
       "      <td>0.0</td>\n",
       "    </tr>\n",
       "    <tr>\n",
       "      <th>11340</th>\n",
       "      <td>journals/vldb/PapadiasS94</td>\n",
       "      <td>qualitative representation of spatial knowledge in  space</td>\n",
       "      <td>papadias   sellis</td>\n",
       "      <td>vldb</td>\n",
       "      <td>1994</td>\n",
       "      <td>kEte3P_QB60J</td>\n",
       "      <td>qualitative representation ofspatial knowledge</td>\n",
       "      <td>dpt sellis</td>\n",
       "      <td>vldb journal</td>\n",
       "      <td>0.0</td>\n",
       "    </tr>\n",
       "    <tr>\n",
       "      <th>11699</th>\n",
       "      <td>conf/sigmod/ZhaoDNS98</td>\n",
       "      <td>simultaneous optimization and evaluation of multiple dimensional queries</td>\n",
       "      <td>zhao   deshpande   naughton   shukla</td>\n",
       "      <td>sigmod conference</td>\n",
       "      <td>1998</td>\n",
       "      <td>6AK0GF7jAtsJ</td>\n",
       "      <td>pm deshpande  jf naughton   shukla     simultaneous optimization and evaluation of multiple</td>\n",
       "      <td>zhao</td>\n",
       "      <td>acm sigmod</td>\n",
       "      <td>0.0</td>\n",
       "    </tr>\n",
       "    <tr>\n",
       "      <th>13493</th>\n",
       "      <td>conf/vldb/HellersteinNP95</td>\n",
       "      <td>generalized search trees for database systems</td>\n",
       "      <td>hellerstein   naughton   pfeffer</td>\n",
       "      <td>vldb</td>\n",
       "      <td>1995</td>\n",
       "      <td>SA4P684zTf4J</td>\n",
       "      <td>generalizedsearchtreesfordatabasesystems</td>\n",
       "      <td>jm hellerstein  jf naughton</td>\n",
       "      <td>21st   very large data bases</td>\n",
       "      <td>0.0</td>\n",
       "    </tr>\n",
       "    <tr>\n",
       "      <th>17181</th>\n",
       "      <td>journals/sigmod/CasatiDS00</td>\n",
       "      <td>vldb workshop on technologies in   tes</td>\n",
       "      <td>nan</td>\n",
       "      <td>nan</td>\n",
       "      <td>2000</td>\n",
       "      <td>pJsnj7fi9LIJ</td>\n",
       "      <td>report on the vldb workshop on technologies for   tes  cairo  egypt september 14 and 15</td>\n",
       "      <td>casati</td>\n",
       "      <td>sigmod record</td>\n",
       "      <td>2000.0</td>\n",
       "    </tr>\n",
       "    <tr>\n",
       "      <th>18381</th>\n",
       "      <td>conf/sigmod/LiYVGPUV98</td>\n",
       "      <td>capability based mediation in tsimmis</td>\n",
       "      <td>li   yerneni   vassalos      papakonstantinou   ullman   valiveti</td>\n",
       "      <td>sigmod conference</td>\n",
       "      <td>1998</td>\n",
       "      <td>fOQEOEdh-mcJ</td>\n",
       "      <td>mediation in tsimmis</td>\n",
       "      <td>li   yerneni</td>\n",
       "      <td>sigmod conference</td>\n",
       "      <td>0.0</td>\n",
       "    </tr>\n",
       "    <tr>\n",
       "      <th>23432</th>\n",
       "      <td>conf/sigmod/OlstonJW03</td>\n",
       "      <td>adaptive filters for continuous queries over distributed data streams</td>\n",
       "      <td>olston   jiang   widom</td>\n",
       "      <td>sigmod conference</td>\n",
       "      <td>2003</td>\n",
       "      <td>fW0CpIqoV7QJ</td>\n",
       "      <td>widomj  2003  adaptivefiltersforcontinuous queries over distributed data streams</td>\n",
       "      <td>jj olstonc</td>\n",
       "      <td>proceedings of acm sigmod</td>\n",
       "      <td>0.0</td>\n",
       "    </tr>\n",
       "    <tr>\n",
       "      <th>25979</th>\n",
       "      <td>conf/vldb/GardarinST96</td>\n",
       "      <td>calibrating the query optimizer cost model of   an  federated database system</td>\n",
       "      <td>gardarin   sha   tang</td>\n",
       "      <td>vldb</td>\n",
       "      <td>1996</td>\n",
       "      <td>RB2VKRwnXywJ</td>\n",
       "      <td>calibrating optimizer cost model of</td>\n",
       "      <td>gardarin   sha  zh tang</td>\n",
       "      <td>the vldb journal</td>\n",
       "      <td>0.0</td>\n",
       "    </tr>\n",
       "    <tr>\n",
       "      <th>27714</th>\n",
       "      <td>journals/vldb/C94c</td>\n",
       "      <td>title  foreword  preface to the special issue on spatial database systems  index</td>\n",
       "      <td>nan</td>\n",
       "      <td>nan</td>\n",
       "      <td>1994</td>\n",
       "      <td>url:http://portal.acm.org/citation.cfm%3Fid%3D615204.615205%26dl%3Dportal%26dl%3DACM%26type%3Dissue%26idx%3DJ869%26part%3Dperiodical%26WantType%3Dperiodical%26title%3DThe%2520VLDB%2520Journal%2520%2526mdash%253B%2520The%2520International%2520Journal%2520on%2520Very%2520Large%2520Data%2520Bases%26CFID%3D11111111%26CFTOKEN%3D2222222</td>\n",
       "      <td>special issue on spatial database systems</td>\n",
       "      <td>hj schek</td>\n",
       "      <td>the vldb    the international journal on very large</td>\n",
       "      <td>1994.0</td>\n",
       "    </tr>\n",
       "    <tr>\n",
       "      <th>30812</th>\n",
       "      <td>conf/vldb/KiesslingK02</td>\n",
       "      <td>preference sql  design  implementation  experiences</td>\n",
       "      <td>kießling   köstler</td>\n",
       "      <td>vldb</td>\n",
       "      <td>2002</td>\n",
       "      <td>3VHepuiTGHUJ</td>\n",
       "      <td>preference   implementation</td>\n",
       "      <td>ling   kostler</td>\n",
       "      <td>technical report   october</td>\n",
       "      <td>0.0</td>\n",
       "    </tr>\n",
       "    <tr>\n",
       "      <th>31113</th>\n",
       "      <td>conf/sigmod/GeneserethKD97</td>\n",
       "      <td>infomaster  an information integration system</td>\n",
       "      <td>genesereth   keller   duschka</td>\n",
       "      <td>sigmod conference</td>\n",
       "      <td>1997</td>\n",
       "      <td>V1GBio3oeqMJ</td>\n",
       "      <td>infomaster  an information integration   in proceedings of 1997 acm sigmod conference</td>\n",
       "      <td>mr genesereth  am keller   duschka</td>\n",
       "      <td>nan</td>\n",
       "      <td>1997.0</td>\n",
       "    </tr>\n",
       "    <tr>\n",
       "      <th>31899</th>\n",
       "      <td>conf/vldb/SrikantA95</td>\n",
       "      <td>mining generalized association rules</td>\n",
       "      <td>srikant   agrawal</td>\n",
       "      <td>vldb</td>\n",
       "      <td>1995</td>\n",
       "      <td>kAi6HssDySgJ</td>\n",
       "      <td>fast  for mining assoiciation rules</td>\n",
       "      <td>agrawal   srikant</td>\n",
       "      <td>the 20th vldb</td>\n",
       "      <td>0.0</td>\n",
       "    </tr>\n",
       "    <tr>\n",
       "      <th>36199</th>\n",
       "      <td>journals/vldb/ShyyASL96</td>\n",
       "      <td>the design and implementation of      programming language of osam</td>\n",
       "      <td>shyy   arroyo   su   lam</td>\n",
       "      <td>vldb</td>\n",
       "      <td>1996</td>\n",
       "      <td>1J2ubL0l2UMJ</td>\n",
       "      <td>knowledge base programming language for advanced database applications</td>\n",
       "      <td>ym shyy</td>\n",
       "      <td>nan</td>\n",
       "      <td>0.0</td>\n",
       "    </tr>\n",
       "    <tr>\n",
       "      <th>36202</th>\n",
       "      <td>conf/sigmod/PoosalaIHS96</td>\n",
       "      <td>improved histograms for selectivity estimation of range predicates</td>\n",
       "      <td>poosala   ioannidis   haas   shekita</td>\n",
       "      <td>sigmod conference</td>\n",
       "      <td>1996</td>\n",
       "      <td>4eUqHKdkGNoJ</td>\n",
       "      <td>ye loannidis  pj haas  and ej  improved histograms for selectivity estimation of range</td>\n",
       "      <td>poosala</td>\n",
       "      <td>proceedings of the 1996 acm international conference on</td>\n",
       "      <td>0.0</td>\n",
       "    </tr>\n",
       "    <tr>\n",
       "      <th>43003</th>\n",
       "      <td>conf/sigmod/EmbleyJN99</td>\n",
       "      <td>discovery in web documents</td>\n",
       "      <td>embley   jiang   ng</td>\n",
       "      <td>sigmod conference</td>\n",
       "      <td>1999</td>\n",
       "      <td>O_SMlr3bFBMJ</td>\n",
       "      <td>jiang and yk     discovery in web documents</td>\n",
       "      <td>embley</td>\n",
       "      <td>acm sigmod conf</td>\n",
       "      <td>0.0</td>\n",
       "    </tr>\n",
       "    <tr>\n",
       "      <th>49643</th>\n",
       "      <td>conf/vldb/CeriM03</td>\n",
       "      <td>constructing and integrating  web applications  methods  tools  and techniques</td>\n",
       "      <td>nan</td>\n",
       "      <td>nan</td>\n",
       "      <td>2003</td>\n",
       "      <td>G2QuI5QYYMoJ</td>\n",
       "      <td>constructing and integrating  web applications</td>\n",
       "      <td>ceri   manolescu</td>\n",
       "      <td>methods  tools and techniques  vldb</td>\n",
       "      <td>0.0</td>\n",
       "    </tr>\n",
       "  </tbody>\n",
       "</table>\n",
       "</div>"
      ],
      "text/plain": [
       "                              id1  \\\n",
       "1026         conf/vldb/AgrawalS94   \n",
       "9403     conf/sigmod/BratsbergT00   \n",
       "11286      conf/vldb/ManegoldBK00   \n",
       "11340   journals/vldb/PapadiasS94   \n",
       "11699       conf/sigmod/ZhaoDNS98   \n",
       "13493   conf/vldb/HellersteinNP95   \n",
       "17181  journals/sigmod/CasatiDS00   \n",
       "18381      conf/sigmod/LiYVGPUV98   \n",
       "23432      conf/sigmod/OlstonJW03   \n",
       "25979      conf/vldb/GardarinST96   \n",
       "27714          journals/vldb/C94c   \n",
       "30812      conf/vldb/KiesslingK02   \n",
       "31113  conf/sigmod/GeneserethKD97   \n",
       "31899        conf/vldb/SrikantA95   \n",
       "36199     journals/vldb/ShyyASL96   \n",
       "36202    conf/sigmod/PoosalaIHS96   \n",
       "43003      conf/sigmod/EmbleyJN99   \n",
       "49643           conf/vldb/CeriM03   \n",
       "\n",
       "                                                                                     title  \\\n",
       "1026                       fast algorithms for mining association rules in large databases   \n",
       "9403                                    tutorial  designing an ultra highly available dbms   \n",
       "11286            what happens during  join  dissecting cpu and memory optimization effects   \n",
       "11340                            qualitative representation of spatial knowledge in  space   \n",
       "11699             simultaneous optimization and evaluation of multiple dimensional queries   \n",
       "13493                                        generalized search trees for database systems   \n",
       "17181                                              vldb workshop on technologies in   tes    \n",
       "18381                                                capability based mediation in tsimmis   \n",
       "23432                adaptive filters for continuous queries over distributed data streams   \n",
       "25979        calibrating the query optimizer cost model of   an  federated database system   \n",
       "27714   title  foreword  preface to the special issue on spatial database systems  index     \n",
       "30812                                  preference sql  design  implementation  experiences   \n",
       "31113                                        infomaster  an information integration system   \n",
       "31899                                                 mining generalized association rules   \n",
       "36199                 the design and implementation of      programming language of osam     \n",
       "36202                   improved histograms for selectivity estimation of range predicates   \n",
       "43003                                                           discovery in web documents   \n",
       "49643       constructing and integrating  web applications  methods  tools  and techniques   \n",
       "\n",
       "                                                                   authors  \\\n",
       "1026                                                     agrawal   srikant   \n",
       "9403                                                                   nan   \n",
       "11286                                           manegold   boncz   kersten   \n",
       "11340                                                    papadias   sellis   \n",
       "11699                                 zhao   deshpande   naughton   shukla   \n",
       "13493                                     hellerstein   naughton   pfeffer   \n",
       "17181                                                                  nan   \n",
       "18381    li   yerneni   vassalos      papakonstantinou   ullman   valiveti   \n",
       "23432                                               olston   jiang   widom   \n",
       "25979                                                gardarin   sha   tang   \n",
       "27714                                                                  nan   \n",
       "30812                                                   kießling   köstler   \n",
       "31113                                        genesereth   keller   duschka   \n",
       "31899                                                    srikant   agrawal   \n",
       "36199                                             shyy   arroyo   su   lam   \n",
       "36202                                 poosala   ioannidis   haas   shekita   \n",
       "43003                                                  embley   jiang   ng   \n",
       "49643                                                                  nan   \n",
       "\n",
       "                    venue  year  \\\n",
       "1026                 vldb  1994   \n",
       "9403                  nan  2000   \n",
       "11286                vldb  2000   \n",
       "11340               vldb   1994   \n",
       "11699   sigmod conference  1998   \n",
       "13493                vldb  1995   \n",
       "17181                 nan  2000   \n",
       "18381   sigmod conference  1998   \n",
       "23432   sigmod conference  2003   \n",
       "25979                vldb  1996   \n",
       "27714                 nan  1994   \n",
       "30812                vldb  2002   \n",
       "31113   sigmod conference  1997   \n",
       "31899                vldb  1995   \n",
       "36199               vldb   1996   \n",
       "36202   sigmod conference  1996   \n",
       "43003   sigmod conference  1999   \n",
       "49643                 nan  2003   \n",
       "\n",
       "                                                                                                                                                                                                                                                                                                                                                id2  \\\n",
       "1026                                                                                                                                                                                                                                                                                                                                   3MzTom30SiMJ   \n",
       "9403                                                                                                                                                                                                                                                                                                                                   af50lhGnD8gJ   \n",
       "11286                                                                                                                                                                                                                                                                                                                                  sZmrat79cF0J   \n",
       "11340                                                                                                                                                                                                                                                                                                                                  kEte3P_QB60J   \n",
       "11699                                                                                                                                                                                                                                                                                                                                  6AK0GF7jAtsJ   \n",
       "13493                                                                                                                                                                                                                                                                                                                                  SA4P684zTf4J   \n",
       "17181                                                                                                                                                                                                                                                                                                                                  pJsnj7fi9LIJ   \n",
       "18381                                                                                                                                                                                                                                                                                                                                  fOQEOEdh-mcJ   \n",
       "23432                                                                                                                                                                                                                                                                                                                                  fW0CpIqoV7QJ   \n",
       "25979                                                                                                                                                                                                                                                                                                                                  RB2VKRwnXywJ   \n",
       "27714  url:http://portal.acm.org/citation.cfm%3Fid%3D615204.615205%26dl%3Dportal%26dl%3DACM%26type%3Dissue%26idx%3DJ869%26part%3Dperiodical%26WantType%3Dperiodical%26title%3DThe%2520VLDB%2520Journal%2520%2526mdash%253B%2520The%2520International%2520Journal%2520on%2520Very%2520Large%2520Data%2520Bases%26CFID%3D11111111%26CFTOKEN%3D2222222   \n",
       "30812                                                                                                                                                                                                                                                                                                                                  3VHepuiTGHUJ   \n",
       "31113                                                                                                                                                                                                                                                                                                                                  V1GBio3oeqMJ   \n",
       "31899                                                                                                                                                                                                                                                                                                                                  kAi6HssDySgJ   \n",
       "36199                                                                                                                                                                                                                                                                                                                                  1J2ubL0l2UMJ   \n",
       "36202                                                                                                                                                                                                                                                                                                                                  4eUqHKdkGNoJ   \n",
       "43003                                                                                                                                                                                                                                                                                                                                  O_SMlr3bFBMJ   \n",
       "49643                                                                                                                                                                                                                                                                                                                                  G2QuI5QYYMoJ   \n",
       "\n",
       "                                                                                              title  \\\n",
       "1026                                                      fastalgorithmsformining association rules   \n",
       "9403                                                                 an ultra highly available dbms   \n",
       "11286                       what happens duringajoin     dissectingcpuandmemoryoptimization effects   \n",
       "11340                                               qualitative representation ofspatial knowledge    \n",
       "11699   pm deshpande  jf naughton   shukla     simultaneous optimization and evaluation of multiple   \n",
       "13493                                                      generalizedsearchtreesfordatabasesystems   \n",
       "17181      report on the vldb workshop on technologies for   tes  cairo  egypt september 14 and 15    \n",
       "18381                                                                          mediation in tsimmis   \n",
       "23432              widomj  2003  adaptivefiltersforcontinuous queries over distributed data streams   \n",
       "25979                                                          calibrating optimizer cost model of    \n",
       "27714                                                     special issue on spatial database systems   \n",
       "30812                                                                   preference   implementation   \n",
       "31113         infomaster  an information integration   in proceedings of 1997 acm sigmod conference   \n",
       "31899                                                           fast  for mining assoiciation rules   \n",
       "36199                        knowledge base programming language for advanced database applications   \n",
       "36202        ye loannidis  pj haas  and ej  improved histograms for selectivity estimation of range   \n",
       "43003                                               jiang and yk     discovery in web documents       \n",
       "49643                                                constructing and integrating  web applications   \n",
       "\n",
       "                                          authors  \\\n",
       "1026                                  rar srikant   \n",
       "9403    so hvasshovd  se bratsberg   torbjoernsen   \n",
       "11286              manegold  pa boncz  ml kersten   \n",
       "11340                                  dpt sellis   \n",
       "11699                                        zhao   \n",
       "13493                 jm hellerstein  jf naughton   \n",
       "17181                                      casati   \n",
       "18381                                li   yerneni   \n",
       "23432                                  jj olstonc   \n",
       "25979                     gardarin   sha  zh tang   \n",
       "27714                                    hj schek   \n",
       "30812                              ling   kostler   \n",
       "31113          mr genesereth  am keller   duschka   \n",
       "31899                           agrawal   srikant   \n",
       "36199                                     ym shyy   \n",
       "36202                                     poosala   \n",
       "43003                                      embley   \n",
       "49643                            ceri   manolescu   \n",
       "\n",
       "                                                            venue    year  \n",
       "1026          of the vldb conference  santiago  chile  september      0.0  \n",
       "9403                                                          nan     0.0  \n",
       "11286                   on very large data bases  cairo  egypt        0.0  \n",
       "11340                                               vldb journal      0.0  \n",
       "11699                                                  acm sigmod     0.0  \n",
       "13493                               21st   very large data bases      0.0  \n",
       "17181                                              sigmod record   2000.0  \n",
       "18381                                          sigmod conference      0.0  \n",
       "23432                                   proceedings of acm sigmod     0.0  \n",
       "25979                                           the vldb journal      0.0  \n",
       "27714       the vldb    the international journal on very large    1994.0  \n",
       "30812                                  technical report   october     0.0  \n",
       "31113                                                         nan  1997.0  \n",
       "31899                                              the 20th vldb      0.0  \n",
       "36199                                                         nan     0.0  \n",
       "36202   proceedings of the 1996 acm international conference on       0.0  \n",
       "43003                                            acm sigmod conf      0.0  \n",
       "49643                        methods  tools and techniques  vldb      0.0  "
      ]
     },
     "execution_count": 26,
     "metadata": {},
     "output_type": "execute_result"
    }
   ],
   "source": [
    "mapping = map.copy()\n",
    "bool_mask = (y_val_ == 1) & ~(y_val_pred >= 0.5)\n",
    "columns = ['title', 'authors', 'venue']\n",
    "df_examine = hp.examine_data(data['val_1'], data['val_2'], columns, bool_mask, mapping)\n",
    "df_examine"
   ]
  },
  {
   "cell_type": "markdown",
   "metadata": {},
   "source": [
    "# Save model and histories "
   ]
  },
  {
   "cell_type": "code",
   "execution_count": 27,
   "metadata": {
    "ExecuteTime": {
     "end_time": "2018-04-12T21:51:21.415206Z",
     "start_time": "2018-04-12T21:51:21.050809Z"
    },
    "collapsed": true
   },
   "outputs": [],
   "source": [
    "pd.DataFrame(histories).to_csv('../data/histories/dblp-scholar-base-2t.csv', index=False)\n",
    "model.save_weights('../data/models/dblp-scholar-base-2t')"
   ]
  },
  {
   "cell_type": "markdown",
   "metadata": {},
   "source": [
    "# Test model "
   ]
  },
  {
   "cell_type": "code",
   "execution_count": 28,
   "metadata": {
    "ExecuteTime": {
     "end_time": "2018-04-12T21:51:26.898830Z",
     "start_time": "2018-04-12T21:51:23.802014Z"
    }
   },
   "outputs": [
    {
     "name": "stdout",
     "output_type": "stream",
     "text": [
      "             precision    recall  f1-score   support\n",
      "\n",
      "          0    0.99963   0.99996   0.99979     53467\n",
      "          1    0.99615   0.96283   0.97921       538\n",
      "\n",
      "avg / total    0.99959   0.99959   0.99959     54005\n",
      "\n",
      "[[53465     2]\n",
      " [   20   518]]\n"
     ]
    }
   ],
   "source": [
    "y_test_pred = model.predict(X_test, batch_size=4096)[:,1]\n",
    "y_test_ = data['test_y'].values.squeeze()\n",
    "print(classification_report(y_test_, y_test_pred >= 0.5, digits=5))\n",
    "print(confusion_matrix(y_test_, y_test_pred >= 0.5))"
   ]
  }
 ],
 "metadata": {
  "kernelspec": {
   "display_name": "Python 3.6",
   "language": "python",
   "name": "python-36"
  },
  "language_info": {
   "codemirror_mode": {
    "name": "ipython",
    "version": 3
   },
   "file_extension": ".py",
   "mimetype": "text/x-python",
   "name": "python",
   "nbconvert_exporter": "python",
   "pygments_lexer": "ipython3",
   "version": "3.6.4"
  },
  "varInspector": {
   "cols": {
    "lenName": 16,
    "lenType": 16,
    "lenVar": 40
   },
   "kernels_config": {
    "python": {
     "delete_cmd_postfix": "",
     "delete_cmd_prefix": "del ",
     "library": "var_list.py",
     "varRefreshCmd": "print(var_dic_list())"
    },
    "r": {
     "delete_cmd_postfix": ") ",
     "delete_cmd_prefix": "rm(",
     "library": "var_list.r",
     "varRefreshCmd": "cat(var_dic_list()) "
    }
   },
   "types_to_exclude": [
    "module",
    "function",
    "builtin_function_or_method",
    "instance",
    "_Feature"
   ],
   "window_display": false
  }
 },
 "nbformat": 4,
 "nbformat_minor": 2
}
