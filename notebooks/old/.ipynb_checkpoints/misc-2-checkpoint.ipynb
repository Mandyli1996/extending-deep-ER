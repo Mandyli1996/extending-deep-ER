{
 "cells": [
  {
   "cell_type": "code",
   "execution_count": 4,
   "metadata": {
    "ExecuteTime": {
     "end_time": "2018-03-26T04:54:51.103015Z",
     "start_time": "2018-03-26T04:54:51.061714Z"
    }
   },
   "outputs": [],
   "source": [
    "import sys\n",
    "sys.path.append('../scripts')\n",
    "\n",
    "import numpy as np\n",
    "import pandas as pd\n",
    "import matplotlib.pyplot as plt\n",
    "import seaborn as sns\n",
    "import helpers as hp\n",
    "import pickle as pkl\n",
    "import helpers as hp\n",
    "import tensorflow as tf\n",
    "import os\n",
    "\n",
    "from keras.layers import Input, Dense, LSTM, Embedding, Merge, Lambda\n",
    "from keras.models import Model\n",
    "from keras.preprocessing.sequence import pad_sequences\n",
    "from keras.optimizers import Adadelta\n",
    "from keras.callbacks import Callback\n",
    "from keras import backend as K\n",
    "\n",
    "from sklearn.metrics import f1_score, precision_score, recall_score,\\\n",
    "                            average_precision_score, roc_auc_score,\\\n",
    "                            roc_curve, precision_recall_curve, confusion_matrix,\\\n",
    "                            accuracy_score\n",
    "\n",
    "from IPython.core.interactiveshell import InteractiveShell\n",
    "from matplotlib import rcParams\n",
    "from importlib import reload\n",
    "from harness import TrainingHarness\n",
    "\n",
    "rcParams['font.family'] = 'serif'\n",
    "rcParams['font.serif'] = 'times new roman'\n",
    "\n",
    "%config InlineBackend.figure_format = 'retina'\n",
    "%matplotlib inline"
   ]
  },
  {
   "cell_type": "code",
   "execution_count": 50,
   "metadata": {
    "ExecuteTime": {
     "end_time": "2018-03-26T06:04:24.442866Z",
     "start_time": "2018-03-26T06:04:24.439425Z"
    },
    "collapsed": true
   },
   "outputs": [],
   "source": [
    "x = np.array([[0,1,5],\n",
    "              [30,50,100]], dtype=int)"
   ]
  },
  {
   "cell_type": "code",
   "execution_count": 8,
   "metadata": {
    "ExecuteTime": {
     "end_time": "2018-03-26T04:56:00.453753Z",
     "start_time": "2018-03-26T04:56:00.439057Z"
    }
   },
   "outputs": [],
   "source": [
    "input_tensor = Input(shape=(3,))\n",
    "\n",
    "k = K.constant([1,11,111,1111,11111,111111])\n",
    "i = K.constant([[1,2]], dtype=np.int32)\n",
    "\n",
    "output_tensor = Lambda(function=lambda x: K.gather(k, K.cast(x, np.int32)))(input_tensor)\n",
    "\n",
    "\n",
    "model = Model([input_tensor], [output_tensor, input_tensor])\n",
    "model.predict(x)"
   ]
  },
  {
   "cell_type": "code",
   "execution_count": 91,
   "metadata": {
    "ExecuteTime": {
     "end_time": "2018-03-26T06:35:08.376978Z",
     "start_time": "2018-03-26T06:35:08.304712Z"
    }
   },
   "outputs": [
    {
     "data": {
      "text/plain": [
       "[array([[        inf,  1.        ,  0.44721359],\n",
       "        [ 0.18257418,  0.14142136,  0.1       ]], dtype=float32),\n",
       " array([[0, 1, 1],\n",
       "        [1, 1, 1]], dtype=int32)]"
      ]
     },
     "execution_count": 91,
     "metadata": {},
     "output_type": "execute_result"
    }
   ],
   "source": [
    "input_tensor = Input(shape=(3,))\n",
    "\n",
    "idfs_tensor = Lambda(lambda x: 1 / (K.pow(x, 1/2)))(input_tensor)\n",
    "idfs_tensor_inf = Lambda(lambda x: K.cast(~tf.is_inf(x), np.int32))(idfs_tensor)\n",
    "didfs_tensor_normalized = Lambda(lambda x: x / K.expand_dims(K.sum(x, axis=1), axis=1))(idfs_tensor)\n",
    "\n",
    "\n",
    "model = Model([input_tensor], [idfs_tensor, idfs_tensor_inf])\n",
    "\n",
    "model.predict(x)"
   ]
  },
  {
   "cell_type": "code",
   "execution_count": null,
   "metadata": {
    "collapsed": true
   },
   "outputs": [],
   "source": []
  }
 ],
 "metadata": {
  "kernelspec": {
   "display_name": "entity-resolution",
   "language": "python",
   "name": "entity-resolution"
  },
  "language_info": {
   "codemirror_mode": {
    "name": "ipython",
    "version": 3
   },
   "file_extension": ".py",
   "mimetype": "text/x-python",
   "name": "python",
   "nbconvert_exporter": "python",
   "pygments_lexer": "ipython3",
   "version": "3.6.3"
  },
  "toc": {
   "nav_menu": {},
   "number_sections": false,
   "sideBar": true,
   "skip_h1_title": false,
   "toc_cell": false,
   "toc_position": {},
   "toc_section_display": "block",
   "toc_window_display": false
  },
  "varInspector": {
   "cols": {
    "lenName": 16,
    "lenType": 16,
    "lenVar": 40
   },
   "kernels_config": {
    "python": {
     "delete_cmd_postfix": "",
     "delete_cmd_prefix": "del ",
     "library": "var_list.py",
     "varRefreshCmd": "print(var_dic_list())"
    },
    "r": {
     "delete_cmd_postfix": ") ",
     "delete_cmd_prefix": "rm(",
     "library": "var_list.r",
     "varRefreshCmd": "cat(var_dic_list()) "
    }
   },
   "types_to_exclude": [
    "module",
    "function",
    "builtin_function_or_method",
    "instance",
    "_Feature"
   ],
   "window_display": false
  }
 },
 "nbformat": 4,
 "nbformat_minor": 2
}
