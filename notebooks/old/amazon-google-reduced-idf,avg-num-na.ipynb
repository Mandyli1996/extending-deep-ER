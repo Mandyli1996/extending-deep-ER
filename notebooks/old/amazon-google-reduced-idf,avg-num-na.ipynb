{
 "cells": [
  {
   "cell_type": "code",
   "execution_count": 1,
   "metadata": {
    "ExecuteTime": {
     "end_time": "2018-04-02T07:07:22.145080Z",
     "start_time": "2018-04-02T07:07:19.477201Z"
    }
   },
   "outputs": [
    {
     "name": "stderr",
     "output_type": "stream",
     "text": [
      "Using TensorFlow backend.\n"
     ]
    }
   ],
   "source": [
    "import sys\n",
    "import os\n",
    "import re\n",
    "sys.path.append('../scripts')\n",
    "\n",
    "import numpy as np\n",
    "import pandas as pd\n",
    "import matplotlib.pyplot as plt\n",
    "import seaborn as sns\n",
    "import helpers as hp\n",
    "import pickle as pkl\n",
    "import itertools as it\n",
    "\n",
    "from collections import OrderedDict, defaultdict\n",
    "\n",
    "from sklearn.metrics import f1_score, precision_score, recall_score,\\\n",
    "                            average_precision_score, roc_auc_score,\\\n",
    "                            roc_curve, precision_recall_curve, confusion_matrix,\\\n",
    "                            accuracy_score, classification_report\n",
    "\n",
    "from IPython.core.interactiveshell import InteractiveShell\n",
    "from matplotlib import rcParams\n",
    "from importlib import reload\n",
    "from model_generator import deep_er_model_generator\n",
    "pd.options.display.max_colwidth = 1000\n",
    "\n",
    "rcParams['font.family'] = 'serif'\n",
    "rcParams['font.serif'] = 'times new roman'\n",
    "\n",
    "%config InlineBackend.figure_format = 'retina'\n",
    "%matplotlib inline"
   ]
  },
  {
   "cell_type": "markdown",
   "metadata": {},
   "source": [
    "# Load data "
   ]
  },
  {
   "cell_type": "code",
   "execution_count": 2,
   "metadata": {
    "ExecuteTime": {
     "end_time": "2018-04-02T07:07:39.622373Z",
     "start_time": "2018-04-02T07:07:22.698243Z"
    },
    "collapsed": true
   },
   "outputs": [],
   "source": [
    "reload(hp)\n",
    "\n",
    "with open('../data/converted/amazon-google-reduced/glove-300.map', 'rb') as f:\n",
    "    map = pkl.load(f)\n",
    "\n",
    "data_dir = os.path.join('..','data')\n",
    "source_dir = os.path.join(data_dir,'split','amazon-google-reduced')\n",
    "data = hp.load_data(source_dir)\n",
    "\n",
    "datasets = ['train_1', 'val_1', 'test_1', 'train_2', 'val_2', 'test_2']\n",
    "\n",
    "data['train_2']['price'] = data['train_2']['price'].apply(hp.str_to_num)\n",
    "data['val_2']['price'] = data['val_2']['price'].apply(hp.str_to_num)\n",
    "data['test_2']['price'] = data['test_2']['price'].apply(hp.str_to_num)\n",
    "\n",
    "doc_freqs_1, doc_freqs_2 = hp.get_document_frequencies('../data/converted/amazon-google-reduced/', mapping=map)\n",
    "nan_idx = map['word2idx']['NaN']"
   ]
  },
  {
   "cell_type": "markdown",
   "metadata": {},
   "source": [
    "# Generate model "
   ]
  },
  {
   "cell_type": "code",
   "execution_count": 4,
   "metadata": {
    "ExecuteTime": {
     "end_time": "2018-04-02T07:07:57.625645Z",
     "start_time": "2018-04-02T07:07:53.866467Z"
    }
   },
   "outputs": [
    {
     "name": "stdout",
     "output_type": "stream",
     "text": [
      "Number of inputs to dense layer: 21\n"
     ]
    }
   ],
   "source": [
    "histories = dict(acc=list(), val_acc=list(), loss=list(), val_loss=list())\n",
    "model, X_train, X_val, X_test, y_train, y_val, y_test = \\\n",
    "deep_er_model_generator(data,\n",
    "                        embedding_file = '../data/converted/amazon-google-reduced/glove-300.matrix.npy',\n",
    "                        text_columns = ['name', 'description'],\n",
    "                        numeric_columns = ['price'],\n",
    "                        text_nan_idx=nan_idx,\n",
    "                        num_nan_val=0,\n",
    "                        text_sim_metrics=['cosine', 'inverse_l1', 'inverse_l2'],\n",
    "                        text_compositions=['idf', 'average'],\n",
    "                        numeric_sim_metrics=['scaled_inverse_lp', 'unscaled_inverse_lp', 'min_max_ratio'],\n",
    "                        dense_nodes=[30, 10],\n",
    "                        document_frequencies=(doc_freqs_1, doc_freqs_2),\n",
    "                        idf_smoothing=2,\n",
    "                        make_isna=True)"
   ]
  },
  {
   "cell_type": "markdown",
   "metadata": {},
   "source": [
    "# Train model "
   ]
  },
  {
   "cell_type": "code",
   "execution_count": 24,
   "metadata": {
    "ExecuteTime": {
     "end_time": "2018-04-02T07:18:15.626599Z",
     "start_time": "2018-04-02T07:16:54.364932Z"
    }
   },
   "outputs": [
    {
     "name": "stdout",
     "output_type": "stream",
     "text": [
      "Train on 105040 samples, validate on 13130 samples\n",
      "Epoch 1/5\n",
      "105040/105040 [==============================] - 18s 168us/step - loss: 0.0100 - acc: 0.9970 - val_loss: 0.0111 - val_acc: 0.9970\n",
      "Epoch 2/5\n",
      "105040/105040 [==============================] - 16s 150us/step - loss: 0.0098 - acc: 0.9970 - val_loss: 0.0110 - val_acc: 0.9968\n",
      "Epoch 3/5\n",
      "105040/105040 [==============================] - 16s 155us/step - loss: 0.0098 - acc: 0.9970 - val_loss: 0.0116 - val_acc: 0.9966\n",
      "Epoch 4/5\n",
      "105040/105040 [==============================] - 15s 146us/step - loss: 0.0097 - acc: 0.9970 - val_loss: 0.0105 - val_acc: 0.9970\n",
      "Epoch 5/5\n",
      "105040/105040 [==============================] - 16s 153us/step - loss: 0.0098 - acc: 0.9969 - val_loss: 0.0110 - val_acc: 0.9969\n"
     ]
    }
   ],
   "source": [
    "model.compile(optimizer='adam', loss='binary_crossentropy', metrics=['acc'])\n",
    "history = model.fit(X_train, y_train, epochs=5, batch_size=128,\n",
    "                    validation_data=(X_val, y_val),\n",
    "                    shuffle=True)\n",
    "\n",
    "histories['acc'].extend(history.history['acc'])\n",
    "histories['val_acc'].extend(history.history['val_acc'])\n",
    "histories['loss'].extend(history.history['loss'])\n",
    "histories['val_loss'].extend(history.history['val_loss'])"
   ]
  },
  {
   "cell_type": "markdown",
   "metadata": {},
   "source": [
    "# Learning curves"
   ]
  },
  {
   "cell_type": "code",
   "execution_count": 25,
   "metadata": {
    "ExecuteTime": {
     "end_time": "2018-04-02T07:18:22.178095Z",
     "start_time": "2018-04-02T07:18:21.823834Z"
    }
   },
   "outputs": [
    {
     "data": {
      "image/png": "[encoded data removed]",
      "text/plain": [
       "<matplotlib.figure.Figure at 0x1a5ab5de48>"
      ]
     },
     "metadata": {
      "image/png": {
       "height": 358,
       "width": 933
      }
     },
     "output_type": "display_data"
    }
   ],
   "source": [
    "fig, axes = plt.subplots(1, 2, figsize=(16,6))\n",
    "axes[0].plot(histories['loss'], label='loss')\n",
    "axes[0].plot(histories['val_loss'], label='val_loss')\n",
    "axes[1].plot(histories['acc'], label='acc')\n",
    "axes[1].plot(histories['val_acc'], label='val_acc')\n",
    "\n",
    "for ax in axes:\n",
    "    ax.legend()\n",
    "    ax.grid(True)"
   ]
  },
  {
   "cell_type": "markdown",
   "metadata": {},
   "source": [
    "# Evaluate model "
   ]
  },
  {
   "cell_type": "code",
   "execution_count": 16,
   "metadata": {
    "ExecuteTime": {
     "end_time": "2018-04-02T07:14:14.023038Z",
     "start_time": "2018-04-02T07:14:12.377701Z"
    },
    "collapsed": true
   },
   "outputs": [],
   "source": [
    "y_val_pred = model.predict(X_val)[:,1]\n",
    "y_val_ = data['val_y'].values.squeeze()"
   ]
  },
  {
   "cell_type": "code",
   "execution_count": 17,
   "metadata": {
    "ExecuteTime": {
     "end_time": "2018-04-02T07:14:14.972025Z",
     "start_time": "2018-04-02T07:14:14.929110Z"
    }
   },
   "outputs": [
    {
     "name": "stdout",
     "output_type": "stream",
     "text": [
      "             precision    recall  f1-score   support\n",
      "\n",
      "          0       1.00      1.00      1.00     12999\n",
      "          1       0.89      0.80      0.84       131\n",
      "\n",
      "avg / total       1.00      1.00      1.00     13130\n",
      "\n",
      "[[12986    13]\n",
      " [   26   105]]\n"
     ]
    }
   ],
   "source": [
    "print(classification_report(y_val_, y_val_pred >= 0.5))\n",
    "print(confusion_matrix(y_val_, y_val_pred >= 0.5))"
   ]
  },
  {
   "cell_type": "code",
   "execution_count": 90,
   "metadata": {
    "ExecuteTime": {
     "end_time": "2018-04-02T05:56:52.991932Z",
     "start_time": "2018-04-02T05:56:52.036820Z"
    },
    "collapsed": true
   },
   "outputs": [],
   "source": [
    "mapping = map.copy()\n",
    "bool_mask = (y_val_ == 1) & ~(y_val_pred >= 0.5)\n",
    "columns = ['name', 'description']\n",
    "df_examine = hp.examine_data(data['val_1'], data['val_2'], columns, bool_mask, mapping)"
   ]
  },
  {
   "cell_type": "code",
   "execution_count": 91,
   "metadata": {
    "ExecuteTime": {
     "end_time": "2018-04-02T05:56:54.670941Z",
     "start_time": "2018-04-02T05:56:54.653804Z"
    },
    "scrolled": true
   },
   "outputs": [
    {
     "data": {
      "text/html": [
       "<div>\n",
       "<style>\n",
       "    .dataframe thead tr:only-child th {\n",
       "        text-align: right;\n",
       "    }\n",
       "\n",
       "    .dataframe thead th {\n",
       "        text-align: left;\n",
       "    }\n",
       "\n",
       "    .dataframe tbody tr th {\n",
       "        vertical-align: top;\n",
       "    }\n",
       "</style>\n",
       "<table border=\"1\" class=\"dataframe\">\n",
       "  <thead>\n",
       "    <tr style=\"text-align: right;\">\n",
       "      <th></th>\n",
       "      <th>id1</th>\n",
       "      <th>name</th>\n",
       "      <th>description</th>\n",
       "      <th>price</th>\n",
       "      <th>id2</th>\n",
       "      <th>name</th>\n",
       "      <th>description</th>\n",
       "      <th>price</th>\n",
       "    </tr>\n",
       "  </thead>\n",
       "  <tbody>\n",
       "    <tr>\n",
       "      <th>1313</th>\n",
       "      <td>b000i2qubi</td>\n",
       "      <td>intuit inc. quickbooks pos : pro multistore 6.0</td>\n",
       "      <td>quickbooks point-of-sale pro multi-store 6.0 RETAIL-MANAGEMENT software turns any pc into a cash register that does what no ordinary cash register can do : it automatically keeps track of your detailed inventory customers sales orders layaways and employee commissions and tips while you and your employees are ringing up sales in up to 10 different locations. it 's a high-powered RETAIL-MANAGEMENT system that tracks inventory sales and customer information to help save you time and better serve your customers. pro features not included with pos basic 6.0 include refinements and extras that let you : create special orders for items not tracked in inventory generate purchase orders automatically at preset inventory levels track multiple vendors and upc codes per item track inventory assemblies ( kits ) and items sold as groups track serial numbers customize price tags receipts and more with the document designer create customizable fields for vendors items and customers track employe...</td>\n",
       "      <td>1399.95</td>\n",
       "      <td>http://www.google.com/base/feeds/snippets/12835181529749808477</td>\n",
       "      <td>intuit qb pos 6.0 pro multi store sw</td>\n",
       "      <td>qb pos 6.0 pro multistore retail mngmt software. has all the features in basic plus the ability to manage up to ten stores from a single office.</td>\n",
       "      <td>1054.99</td>\n",
       "    </tr>\n",
       "    <tr>\n",
       "      <th>925</th>\n",
       "      <td>b000hlt57q</td>\n",
       "      <td>intriguing development iremember digital scrapbooking 2.0</td>\n",
       "      <td>iremember digital scrapbook makes it easier than ever to create gorgeous scrapbooks on your mac ! finish a page in only minutes - just add a blank page to your scrapbook using iremember drag in a template add your photos resize crop and share add text to your creations - familiar poems quotations scripture verses and more</td>\n",
       "      <td>39.95</td>\n",
       "      <td>http://www.google.com/base/feeds/snippets/18385266399097496621</td>\n",
       "      <td>iremember 2.0 - intriguing development</td>\n",
       "      <td>turn digital photos into memories with IREMEMBER. easily create stunning scrapbooks your family will treasure for a lifetime. use templates to create a page in minutes ! drag and drop pictures from iphoto ? crop resize and arrange them on your ...</td>\n",
       "      <td>32.99</td>\n",
       "    </tr>\n",
       "    <tr>\n",
       "      <th>3131</th>\n",
       "      <td>b000eplmpi</td>\n",
       "      <td>nova development printmaster gold v 17.0</td>\n",
       "      <td>printmaster gold 17 gives creative home users a chance to get creative &amp; use their IMAGINATIONS. everything from a bridal shower invitation to youth soccer league rosters can be made quickly and easily.</td>\n",
       "      <td>19.95</td>\n",
       "      <td>http://www.google.com/base/feeds/snippets/13683578637114771147</td>\n",
       "      <td>printmaster gold v 17.0 ( win 98 me 2000 xp )</td>\n",
       "      <td>if you ve got a passion for creative self-expression you ll find endless inspiration in this sophisticated easy-to-use program. enjoy all of the great features you expect from PRINTMASTERÅ½ plus brilliant new upgrades that make personal creativity ...</td>\n",
       "      <td>19.95</td>\n",
       "    </tr>\n",
       "    <tr>\n",
       "      <th>11611</th>\n",
       "      <td>b0009stm6g</td>\n",
       "      <td>knowledge adventure jumpstart learning games phonics ( pc &amp; mac )</td>\n",
       "      <td>NaN</td>\n",
       "      <td>9.99</td>\n",
       "      <td>http://www.google.com/base/feeds/snippets/7117788517647646539</td>\n",
       "      <td>jumpstart phonics ( jc )</td>\n",
       "      <td>welcome to camp READALOT !</td>\n",
       "      <td>9.90</td>\n",
       "    </tr>\n",
       "    <tr>\n",
       "      <th>8415</th>\n",
       "      <td>b000j1h08k</td>\n",
       "      <td>global marketing partners bitdefender antivirus 10.0 [ 2 year subscription for 2 pcs ]</td>\n",
       "      <td>MODEL- BDCD00105WI VENOR- bitdefender FEATURES- bitdefender antivirus V10- small box antivirus v10 delivers a one-two security punch integrating todays most powerful antivirus and antispyware modules into one convenient package. its easy to use and updates itself automatically making it truly an install and forget solution. * antivirus the purpose of the antivirus module is to ensure detection and removal of all viruses in the wild. bitdefender antivirus uses robust scan engines certified by ICSA labs virus bulletin checkmark CHECKVIR and TUV. - improved proactive detection B-HAVE ( behavioral heuristic analyzer in virtual environments ) emulates a virtual COMPUTER-INSIDE-A-COMPUTER where pieces of software are run in order to check for potential malware behavior. this bitdefender proprietary technology represents a new security layer that keeps the operating system safe from unknown viruses by detecting malicious pieces of code for which signatures have not yet been released. - p...</td>\n",
       "      <td>39.95</td>\n",
       "      <td>http://www.google.com/base/feeds/snippets/17943324820292919047</td>\n",
       "      <td>global marketing partners antivirus V.10 - bit defender</td>\n",
       "      <td>bitdefender antivirus v10 provides you with worry-free antivirus antispyware and antirootkit protection for 2 years and 2 pcs. you get a security suite that combines the best antivirus antispyware and antirootkit detection and removal along with a ...</td>\n",
       "      <td>31.96</td>\n",
       "    </tr>\n",
       "    <tr>\n",
       "      <th>12474</th>\n",
       "      <td>b0009hl34q</td>\n",
       "      <td>Destineer inc tropico 2 : pirate cove ( mac )</td>\n",
       "      <td>in tropico 2 : pirate cove you're the ruler of a land full of scurvy sea dogs in the 17th century ! build your own galleons to create your own pirate fleet and watch your back -- rival pirates will try to assassinate you !</td>\n",
       "      <td>29.99</td>\n",
       "      <td>http://www.google.com/base/feeds/snippets/11654629063147846560</td>\n",
       "      <td>Destineer tropico 2 : pirate cove</td>\n",
       "      <td>system requirements : macintosh computer with an 800 mhz or faster processor os x version 10.2.8 or higher 256 mb ram os X-compatible 32mb + video card ( graphics accelerator ) cd / dvd-rom drive 1.8 gb free hard drive space</td>\n",
       "      <td>29.99</td>\n",
       "    </tr>\n",
       "    <tr>\n",
       "      <th>10142</th>\n",
       "      <td>b000hpf7p6</td>\n",
       "      <td>encore software pc professor fuji 's kakuro</td>\n",
       "      <td>professor fuji 's kakuro offers the most puzzles and excitement for puzzle lovers at all levels ! pick up a pencil and prepared to be stumped !</td>\n",
       "      <td>9.99</td>\n",
       "      <td>http://www.google.com/base/feeds/snippets/1781031509566531842</td>\n",
       "      <td>encore software 10653 - professor Fujis kakuro - win 98 me 2000 xp</td>\n",
       "      <td>encore software 10653 : professor fuji s kakuro offers the most puzzles and excitement for puzzle lovers at all levels ! pick up a pencil and prepared to be stumped ! system requirements : windows 98se / me / 2000 sp4 / xp sp1 pentium iii 450mhz 128mb ram 8x ...</td>\n",
       "      <td>7.69</td>\n",
       "    </tr>\n",
       "    <tr>\n",
       "      <th>1247</th>\n",
       "      <td>b000cqyclu</td>\n",
       "      <td>dorling kindersley multimedia ( dk ) my first bible stories</td>\n",
       "      <td>combines exciting multimedia technology with great story-telling traditions that have brought bible stories to life for thousands of years. teaches kids reinforces and tests their general knowledge of the Bible.</td>\n",
       "      <td>29.95</td>\n",
       "      <td>http://www.google.com/base/feeds/snippets/1695089910833084773</td>\n",
       "      <td>my first bible stories ( jc )</td>\n",
       "      <td>brings seven of the best-loved stories from the bible to life</td>\n",
       "      <td>9.90</td>\n",
       "    </tr>\n",
       "    <tr>\n",
       "      <th>3962</th>\n",
       "      <td>b000hhxevi</td>\n",
       "      <td>encore hasbro classic collection ( 2006 )</td>\n",
       "      <td>the family game collection combines digital version of four classic board games. you'll have hours of fun as you play the game of life monopoly 3 clue and scrabble complete.</td>\n",
       "      <td>19.99</td>\n",
       "      <td>http://www.google.com/base/feeds/snippets/2710470763365986624</td>\n",
       "      <td>encore software 11272 - hasbro : family collection ( 2006 ) - win 98 me 2000 xp</td>\n",
       "      <td>encore software 11272 : hasbro family collection features only the best-selling hasbro titles of all time - there sa game for everyone in the entire family ! system requirements : operating system : windows ( r ) 95 / 98 / me / xp processor : pentium ( r ) ii 333 ...</td>\n",
       "      <td>18.97</td>\n",
       "    </tr>\n",
       "    <tr>\n",
       "      <th>1013</th>\n",
       "      <td>b000mu6mve</td>\n",
       "      <td>Micromat Micromat PROTOGO</td>\n",
       "      <td>PROTOGO turns your old portable drives or ipods into a bootable diagnostic device. quickly load up Micromat 's most powerful tools or any of your own UTILITIES. select the device select the desired profile and then press a single button -- PROTOGO will format and configure the device and then install all of the system files and tools you'll need. you can even load up a full-blown mac os x installation including a finder classic and multiple utility programs. PROTOGO includes several profiles for standard system / utility configurations so that you can easily set up a device for your particular needs. rebuild volume directories boot different mac os versions recover data from damaged volumes repartition your drives without losing data run all kinds of utilities system requirements - macintosh capable of running mac os x 10.4 or above / mac os x 10.4 or greater / dvd-rom drive / 512 mb ram or greater / 2 gb or larger target device like an older ipod or other external media device</td>\n",
       "      <td>0.00</td>\n",
       "      <td>http://www.google.com/base/feeds/snippets/5562499905130838466</td>\n",
       "      <td>Micromat techtool PROTOGO</td>\n",
       "      <td>macintosh capable of running mac os x 10.4 or above mac os x 10.4 or GREATER. dvd-rom drive. 512 mb ram or GREATER. 2 gb or larger target device like an older ipod or other external media device. * features denoted with * are only available on os 9 ...</td>\n",
       "      <td>109.99</td>\n",
       "    </tr>\n",
       "  </tbody>\n",
       "</table>\n",
       "</div>"
      ],
      "text/plain": [
       "              id1  \\\n",
       "1313   b000i2qubi   \n",
       "925    b000hlt57q   \n",
       "3131   b000eplmpi   \n",
       "11611  b0009stm6g   \n",
       "8415   b000j1h08k   \n",
       "12474  b0009hl34q   \n",
       "10142  b000hpf7p6   \n",
       "1247   b000cqyclu   \n",
       "3962   b000hhxevi   \n",
       "1013   b000mu6mve   \n",
       "\n",
       "                                                                                          name  \\\n",
       "1313                                           intuit inc. quickbooks pos : pro multistore 6.0   \n",
       "925                                  intriguing development iremember digital scrapbooking 2.0   \n",
       "3131                                                  nova development printmaster gold v 17.0   \n",
       "11611                        knowledge adventure jumpstart learning games phonics ( pc & mac )   \n",
       "8415    global marketing partners bitdefender antivirus 10.0 [ 2 year subscription for 2 pcs ]   \n",
       "12474                                            Destineer inc tropico 2 : pirate cove ( mac )   \n",
       "10142                                              encore software pc professor fuji 's kakuro   \n",
       "1247                               dorling kindersley multimedia ( dk ) my first bible stories   \n",
       "3962                                                 encore hasbro classic collection ( 2006 )   \n",
       "1013                                                                 Micromat Micromat PROTOGO   \n",
       "\n",
       "                                                                                                                                                                                                                                                                                                                                                                                                                                                                                                                                                                                                                                                                                                                                                                                                                                                                                                                                                                                                                                   description  \\\n",
       "1313    quickbooks point-of-sale pro multi-store 6.0 RETAIL-MANAGEMENT software turns any pc into a cash register that does what no ordinary cash register can do : it automatically keeps track of your detailed inventory customers sales orders layaways and employee commissions and tips while you and your employees are ringing up sales in up to 10 different locations. it 's a high-powered RETAIL-MANAGEMENT system that tracks inventory sales and customer information to help save you time and better serve your customers. pro features not included with pos basic 6.0 include refinements and extras that let you : create special orders for items not tracked in inventory generate purchase orders automatically at preset inventory levels track multiple vendors and upc codes per item track inventory assemblies ( kits ) and items sold as groups track serial numbers customize price tags receipts and more with the document designer create customizable fields for vendors items and customers track employe...   \n",
       "925                                                                                                                                                                                                                                                                                                                                                                                                                                                                                                                                                                                                                                                                                                        iremember digital scrapbook makes it easier than ever to create gorgeous scrapbooks on your mac ! finish a page in only minutes - just add a blank page to your scrapbook using iremember drag in a template add your photos resize crop and share add text to your creations - familiar poems quotations scripture verses and more   \n",
       "3131                                                                                                                                                                                                                                                                                                                                                                                                                                                                                                                                                                                                                                                                                                                                                                                                                                printmaster gold 17 gives creative home users a chance to get creative & use their IMAGINATIONS. everything from a bridal shower invitation to youth soccer league rosters can be made quickly and easily.   \n",
       "11611                                                                                                                                                                                                                                                                                                                                                                                                                                                                                                                                                                                                                                                                                                                                                                                                                                                                                                                                                                                                                                      NaN   \n",
       "8415    MODEL- BDCD00105WI VENOR- bitdefender FEATURES- bitdefender antivirus V10- small box antivirus v10 delivers a one-two security punch integrating todays most powerful antivirus and antispyware modules into one convenient package. its easy to use and updates itself automatically making it truly an install and forget solution. * antivirus the purpose of the antivirus module is to ensure detection and removal of all viruses in the wild. bitdefender antivirus uses robust scan engines certified by ICSA labs virus bulletin checkmark CHECKVIR and TUV. - improved proactive detection B-HAVE ( behavioral heuristic analyzer in virtual environments ) emulates a virtual COMPUTER-INSIDE-A-COMPUTER where pieces of software are run in order to check for potential malware behavior. this bitdefender proprietary technology represents a new security layer that keeps the operating system safe from unknown viruses by detecting malicious pieces of code for which signatures have not yet been released. - p...   \n",
       "12474                                                                                                                                                                                                                                                                                                                                                                                                                                                                                                                                                                                                                                                                                                                                                                                                           in tropico 2 : pirate cove you're the ruler of a land full of scurvy sea dogs in the 17th century ! build your own galleons to create your own pirate fleet and watch your back -- rival pirates will try to assassinate you !   \n",
       "10142                                                                                                                                                                                                                                                                                                                                                                                                                                                                                                                                                                                                                                                                                                                                                                                                                                                                                          professor fuji 's kakuro offers the most puzzles and excitement for puzzle lovers at all levels ! pick up a pencil and prepared to be stumped !   \n",
       "1247                                                                                                                                                                                                                                                                                                                                                                                                                                                                                                                                                                                                                                                                                                                                                                                                                       combines exciting multimedia technology with great story-telling traditions that have brought bible stories to life for thousands of years. teaches kids reinforces and tests their general knowledge of the Bible.   \n",
       "3962                                                                                                                                                                                                                                                                                                                                                                                                                                                                                                                                                                                                                                                                                                                                                                                                                                                             the family game collection combines digital version of four classic board games. you'll have hours of fun as you play the game of life monopoly 3 clue and scrabble complete.   \n",
       "1013          PROTOGO turns your old portable drives or ipods into a bootable diagnostic device. quickly load up Micromat 's most powerful tools or any of your own UTILITIES. select the device select the desired profile and then press a single button -- PROTOGO will format and configure the device and then install all of the system files and tools you'll need. you can even load up a full-blown mac os x installation including a finder classic and multiple utility programs. PROTOGO includes several profiles for standard system / utility configurations so that you can easily set up a device for your particular needs. rebuild volume directories boot different mac os versions recover data from damaged volumes repartition your drives without losing data run all kinds of utilities system requirements - macintosh capable of running mac os x 10.4 or above / mac os x 10.4 or greater / dvd-rom drive / 512 mb ram or greater / 2 gb or larger target device like an older ipod or other external media device   \n",
       "\n",
       "         price  \\\n",
       "1313   1399.95   \n",
       "925      39.95   \n",
       "3131     19.95   \n",
       "11611     9.99   \n",
       "8415     39.95   \n",
       "12474    29.99   \n",
       "10142     9.99   \n",
       "1247     29.95   \n",
       "3962     19.99   \n",
       "1013      0.00   \n",
       "\n",
       "                                                                  id2  \\\n",
       "1313   http://www.google.com/base/feeds/snippets/12835181529749808477   \n",
       "925    http://www.google.com/base/feeds/snippets/18385266399097496621   \n",
       "3131   http://www.google.com/base/feeds/snippets/13683578637114771147   \n",
       "11611   http://www.google.com/base/feeds/snippets/7117788517647646539   \n",
       "8415   http://www.google.com/base/feeds/snippets/17943324820292919047   \n",
       "12474  http://www.google.com/base/feeds/snippets/11654629063147846560   \n",
       "10142   http://www.google.com/base/feeds/snippets/1781031509566531842   \n",
       "1247    http://www.google.com/base/feeds/snippets/1695089910833084773   \n",
       "3962    http://www.google.com/base/feeds/snippets/2710470763365986624   \n",
       "1013    http://www.google.com/base/feeds/snippets/5562499905130838466   \n",
       "\n",
       "                                                                                   name  \\\n",
       "1313                                               intuit qb pos 6.0 pro multi store sw   \n",
       "925                                              iremember 2.0 - intriguing development   \n",
       "3131                                      printmaster gold v 17.0 ( win 98 me 2000 xp )   \n",
       "11611                                                          jumpstart phonics ( jc )   \n",
       "8415                            global marketing partners antivirus V.10 - bit defender   \n",
       "12474                                                 Destineer tropico 2 : pirate cove   \n",
       "10142                encore software 10653 - professor Fujis kakuro - win 98 me 2000 xp   \n",
       "1247                                                      my first bible stories ( jc )   \n",
       "3962    encore software 11272 - hasbro : family collection ( 2006 ) - win 98 me 2000 xp   \n",
       "1013                                                          Micromat techtool PROTOGO   \n",
       "\n",
       "                                                                                                                                                                                                                                                                        description  \\\n",
       "1313                                                                                                                               qb pos 6.0 pro multistore retail mngmt software. has all the features in basic plus the ability to manage up to ten stores from a single office.   \n",
       "925                         turn digital photos into memories with IREMEMBER. easily create stunning scrapbooks your family will treasure for a lifetime. use templates to create a page in minutes ! drag and drop pictures from iphoto ? crop resize and arrange them on your ...   \n",
       "3131                    if you ve got a passion for creative self-expression you ll find endless inspiration in this sophisticated easy-to-use program. enjoy all of the great features you expect from PRINTMASTERÅ½ plus brilliant new upgrades that make personal creativity ...   \n",
       "11611                                                                                                                                                                                                                                                    welcome to camp READALOT !   \n",
       "8415                    bitdefender antivirus v10 provides you with worry-free antivirus antispyware and antirootkit protection for 2 years and 2 pcs. you get a security suite that combines the best antivirus antispyware and antirootkit detection and removal along with a ...   \n",
       "12474                                              system requirements : macintosh computer with an 800 mhz or faster processor os x version 10.2.8 or higher 256 mb ram os X-compatible 32mb + video card ( graphics accelerator ) cd / dvd-rom drive 1.8 gb free hard drive space   \n",
       "10142        encore software 10653 : professor fuji s kakuro offers the most puzzles and excitement for puzzle lovers at all levels ! pick up a pencil and prepared to be stumped ! system requirements : windows 98se / me / 2000 sp4 / xp sp1 pentium iii 450mhz 128mb ram 8x ...   \n",
       "1247                                                                                                                                                                                                                  brings seven of the best-loved stories from the bible to life   \n",
       "3962    encore software 11272 : hasbro family collection features only the best-selling hasbro titles of all time - there sa game for everyone in the entire family ! system requirements : operating system : windows ( r ) 95 / 98 / me / xp processor : pentium ( r ) ii 333 ...   \n",
       "1013                   macintosh capable of running mac os x 10.4 or above mac os x 10.4 or GREATER. dvd-rom drive. 512 mb ram or GREATER. 2 gb or larger target device like an older ipod or other external media device. * features denoted with * are only available on os 9 ...   \n",
       "\n",
       "         price  \n",
       "1313   1054.99  \n",
       "925      32.99  \n",
       "3131     19.95  \n",
       "11611     9.90  \n",
       "8415     31.96  \n",
       "12474    29.99  \n",
       "10142     7.69  \n",
       "1247      9.90  \n",
       "3962     18.97  \n",
       "1013    109.99  "
      ]
     },
     "execution_count": 91,
     "metadata": {},
     "output_type": "execute_result"
    }
   ],
   "source": [
    "df_examine.sample(10)"
   ]
  },
  {
   "cell_type": "markdown",
   "metadata": {},
   "source": [
    "# Save model and histories"
   ]
  },
  {
   "cell_type": "code",
   "execution_count": 11,
   "metadata": {
    "ExecuteTime": {
     "end_time": "2018-04-02T07:12:10.049353Z",
     "start_time": "2018-04-02T07:12:10.043538Z"
    },
    "collapsed": true,
    "scrolled": false
   },
   "outputs": [],
   "source": [
    "pd.DataFrame(histories).to_csv('../data/histories/amazon-google-reduced-idf-num-na.csv', index=False)\n",
    "#model.save('../data/models/amazon-google-full-idf')"
   ]
  },
  {
   "cell_type": "markdown",
   "metadata": {},
   "source": [
    "# Test model "
   ]
  },
  {
   "cell_type": "code",
   "execution_count": 22,
   "metadata": {
    "ExecuteTime": {
     "end_time": "2018-04-02T07:16:37.261686Z",
     "start_time": "2018-04-02T07:16:35.546806Z"
    },
    "collapsed": true
   },
   "outputs": [],
   "source": [
    "y_test_pred = model.predict(X_test)[:,1]\n",
    "y_test_ = data['test_y'].values.squeeze()"
   ]
  },
  {
   "cell_type": "code",
   "execution_count": 23,
   "metadata": {
    "ExecuteTime": {
     "end_time": "2018-04-02T07:16:37.990593Z",
     "start_time": "2018-04-02T07:16:37.949022Z"
    }
   },
   "outputs": [
    {
     "name": "stdout",
     "output_type": "stream",
     "text": [
      "             precision    recall  f1-score   support\n",
      "\n",
      "          0       1.00      1.00      1.00     13013\n",
      "          1       0.81      0.82      0.82       117\n",
      "\n",
      "avg / total       1.00      1.00      1.00     13130\n",
      "\n",
      "[[12991    22]\n",
      " [   21    96]]\n"
     ]
    }
   ],
   "source": [
    "print(classification_report(y_test_, y_test_pred >= 0.5))\n",
    "print(confusion_matrix(y_test_, y_test_pred >= 0.5))"
   ]
  }
 ],
 "metadata": {
  "kernelspec": {
   "display_name": "entity-resolution",
   "language": "python",
   "name": "entity-resolution"
  },
  "language_info": {
   "codemirror_mode": {
    "name": "ipython",
    "version": 3
   },
   "file_extension": ".py",
   "mimetype": "text/x-python",
   "name": "python",
   "nbconvert_exporter": "python",
   "pygments_lexer": "ipython3",
   "version": "3.6.3"
  },
  "varInspector": {
   "cols": {
    "lenName": 16,
    "lenType": 16,
    "lenVar": 40
   },
   "kernels_config": {
    "python": {
     "delete_cmd_postfix": "",
     "delete_cmd_prefix": "del ",
     "library": "var_list.py",
     "varRefreshCmd": "print(var_dic_list())"
    },
    "r": {
     "delete_cmd_postfix": ") ",
     "delete_cmd_prefix": "rm(",
     "library": "var_list.r",
     "varRefreshCmd": "cat(var_dic_list()) "
    }
   },
   "types_to_exclude": [
    "module",
    "function",
    "builtin_function_or_method",
    "instance",
    "_Feature"
   ],
   "window_display": false
  }
 },
 "nbformat": 4,
 "nbformat_minor": 2
}
