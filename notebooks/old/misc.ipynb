{
 "cells": [
  {
   "cell_type": "code",
   "execution_count": 1,
   "metadata": {
    "ExecuteTime": {
     "end_time": "2018-03-18T21:25:26.733305Z",
     "start_time": "2018-03-18T21:25:23.728112Z"
    }
   },
   "outputs": [
    {
     "name": "stderr",
     "output_type": "stream",
     "text": [
      "Using TensorFlow backend.\n"
     ]
    }
   ],
   "source": [
    "import sys\n",
    "sys.path.append('../scripts')\n",
    "\n",
    "import numpy as np\n",
    "import pandas as pd\n",
    "import matplotlib.pyplot as plt\n",
    "import seaborn as sns\n",
    "import helpers as hp\n",
    "import pickle as pkl\n",
    "import helpers as hp\n",
    "import os\n",
    "\n",
    "from keras.layers import Input, Dense, LSTM, Embedding, Merge\n",
    "from keras.models import Model\n",
    "from keras.preprocessing.sequence import pad_sequences\n",
    "from keras.optimizers import Adadelta\n",
    "from keras.callbacks import Callback\n",
    "from keras import backend as K\n",
    "\n",
    "from sklearn.metrics import f1_score, precision_score, recall_score,\\\n",
    "                            average_precision_score, roc_auc_score,\\\n",
    "                            roc_curve, precision_recall_curve, confusion_matrix,\\\n",
    "                            accuracy_score\n",
    "\n",
    "from IPython.core.interactiveshell import InteractiveShell\n",
    "from matplotlib import rcParams\n",
    "from importlib import reload\n",
    "from harness import TrainingHarness\n",
    "\n",
    "rcParams['font.family'] = 'serif'\n",
    "rcParams['font.serif'] = 'times new roman'\n",
    "\n",
    "%config InlineBackend.figure_format = 'retina'\n",
    "%matplotlib inline"
   ]
  },
  {
   "cell_type": "markdown",
   "metadata": {},
   "source": [
    "# Data Preprocessing"
   ]
  },
  {
   "cell_type": "code",
   "execution_count": 2,
   "metadata": {
    "ExecuteTime": {
     "end_time": "2018-03-18T21:25:34.852094Z",
     "start_time": "2018-03-18T21:25:30.385229Z"
    },
    "collapsed": true
   },
   "outputs": [],
   "source": [
    "with open('../data/embeddings/glove-300.map', 'rb') as f:\n",
    "    map = pkl.load(f)\n",
    "\n",
    "data_dir = os.path.join('..','data')\n",
    "source_dir = os.path.join(data_dir,'split','amazon-google')\n",
    "data = hp.load_data(source_dir)\n",
    "\n",
    "datasets = ['train_1', 'val_1', 'test_1', 'train_2', 'val_2', 'test_2']\n",
    "\n",
    "# drop columns that do not contain embeddings\n",
    "data['train_1'] = data['train_1'].drop(['id1', 'price'], axis = 'columns')\n",
    "data['train_2'] = data['train_2'].drop(['id2', 'price'], axis = 'columns')\n",
    "data['val_1'] = data['val_1'].drop(['id1', 'price'], axis = 'columns')\n",
    "data['val_2'] = data['val_2'].drop(['id2', 'price'], axis = 'columns')\n",
    "data['test_1'] = data['test_1'].drop(['id1', 'price'], axis = 'columns')\n",
    "data['test_2'] = data['test_2'].drop(['id2', 'price'], axis = 'columns')\n",
    "\n",
    "\n",
    "# concatenate all embedding columns so each record becomes one giant list\n",
    "def concat_columns(x):\n",
    "    x = x['title'] + x['description'] + x['manufacturer']\n",
    "    return x\n",
    "\n",
    "for df_name in datasets:\n",
    "    data[df_name] = data[df_name].apply(concat_columns, axis='columns')\n",
    "    \n",
    "# pad all sequences with less than 500 indices with zeros\n",
    "# limit all sequences to 500 indices\n",
    "maxlen = 500\n",
    "for df_name in datasets:\n",
    "    data[df_name] = pad_sequences(data[df_name], maxlen=maxlen)"
   ]
  },
  {
   "cell_type": "markdown",
   "metadata": {},
   "source": [
    "# Build Model"
   ]
  },
  {
   "cell_type": "code",
   "execution_count": 3,
   "metadata": {
    "ExecuteTime": {
     "end_time": "2018-03-18T21:25:54.413362Z",
     "start_time": "2018-03-18T21:25:46.626566Z"
    },
    "collapsed": true
   },
   "outputs": [],
   "source": [
    "glove_matrix = np.load(os.path.join(data_dir, \n",
    "                                    'embeddings',\n",
    "                                    'glove-300.matrix.npy'))"
   ]
  },
  {
   "cell_type": "code",
   "execution_count": 24,
   "metadata": {
    "ExecuteTime": {
     "end_time": "2018-03-18T21:35:15.044292Z",
     "start_time": "2018-03-18T21:34:11.602678Z"
    },
    "collapsed": true
   },
   "outputs": [],
   "source": [
    "n_hidden = 50\n",
    "\n",
    "input_left = Input(shape=(maxlen,))\n",
    "\n",
    "embedding_layer = Embedding(glove_matrix.shape[0]-1,\n",
    "                            glove_matrix.shape[1],\n",
    "                            weights=[glove_matrix[1:,:]],\n",
    "                            input_length=maxlen,\n",
    "                            trainable=False)\n",
    "embedded_left = embedding_layer(input_left)\n",
    "\n",
    "# lstm_layer = LSTM(n_hidden)\n",
    "# output_left = lstm_layer(embedded_right)i\n",
    "# output_right = lstm_layer(embedded_left)\n",
    "\n",
    "# def distance_metric(x1, x2):\n",
    "#     l1 = -K.sum(K.abs(x1 - x2), axis=1, keepdims=True)\n",
    "#     return K.exp(l1)\n",
    "\n",
    "# merge_layer = Merge(mode=lambda x: distance_metric(x[0], x[1]),\n",
    "#                     output_shape=lambda x: (x[0][0], 1))\n",
    "# distance = merge_layer([output_left, output_right])\n",
    "\n",
    "malstm = Model([input_left], [embedded_left])"
   ]
  },
  {
   "cell_type": "markdown",
   "metadata": {},
   "source": [
    "# Pre-training"
   ]
  },
  {
   "cell_type": "code",
   "execution_count": 5,
   "metadata": {
    "ExecuteTime": {
     "end_time": "2018-03-03T19:55:44.463741Z",
     "start_time": "2018-03-03T19:55:44.443551Z"
    },
    "collapsed": true
   },
   "outputs": [],
   "source": [
    "compile_args = dict(optimizer='adam', loss='mean_squared_error')\n",
    "fit_args = dict(x = [data['train_1'], data['train_2']],\n",
    "                  y = data['train_y'],\n",
    "                  epochs = 10,\n",
    "                  batch_size = 2048,\n",
    "                  validation_data = ([data['val_1'], data['val_2']], data['val_y']))\n",
    "th = TrainingHarness(malstm,\n",
    "                     n_checkpoints = 10,\n",
    "                     compile_args = compile_args,\n",
    "                     fit_args = fit_args,\n",
    "                     npy_embedding_matrix = '../data/embeddings/glove-300.matrix.npy')"
   ]
  },
  {
   "cell_type": "code",
   "execution_count": 29,
   "metadata": {
    "ExecuteTime": {
     "end_time": "2018-03-18T21:36:03.774813Z",
     "start_time": "2018-03-18T21:36:03.770780Z"
    },
    "collapsed": true
   },
   "outputs": [],
   "source": [
    "test_instance = np.zeros(500)\n",
    "test_instance[0] = 0\n",
    "test_instance = np.expand_dims(test_instance, axis = 0)"
   ]
  },
  {
   "cell_type": "code",
   "execution_count": 30,
   "metadata": {
    "ExecuteTime": {
     "end_time": "2018-03-18T21:36:06.111122Z",
     "start_time": "2018-03-18T21:36:06.101090Z"
    },
    "run_control": {
     "marked": false
    }
   },
   "outputs": [
    {
     "data": {
      "text/plain": [
       "array([[[-0.082752  ,  0.67203999, -0.14986999, ..., -0.1918    ,\n",
       "         -0.37845999, -0.06589   ],\n",
       "        [-0.082752  ,  0.67203999, -0.14986999, ..., -0.1918    ,\n",
       "         -0.37845999, -0.06589   ],\n",
       "        [-0.082752  ,  0.67203999, -0.14986999, ..., -0.1918    ,\n",
       "         -0.37845999, -0.06589   ],\n",
       "        ..., \n",
       "        [-0.082752  ,  0.67203999, -0.14986999, ..., -0.1918    ,\n",
       "         -0.37845999, -0.06589   ],\n",
       "        [-0.082752  ,  0.67203999, -0.14986999, ..., -0.1918    ,\n",
       "         -0.37845999, -0.06589   ],\n",
       "        [-0.082752  ,  0.67203999, -0.14986999, ..., -0.1918    ,\n",
       "         -0.37845999, -0.06589   ]]], dtype=float32)"
      ]
     },
     "execution_count": 30,
     "metadata": {},
     "output_type": "execute_result"
    }
   ],
   "source": [
    "malstm.predict([test_instance])"
   ]
  },
  {
   "cell_type": "code",
   "execution_count": 22,
   "metadata": {
    "ExecuteTime": {
     "end_time": "2018-03-18T21:33:28.179415Z",
     "start_time": "2018-03-18T21:33:28.167143Z"
    }
   },
   "outputs": [
    {
     "data": {
      "text/plain": [
       "array([-0.082752  ,  0.67203999, -0.14986999, -0.064983  ,  0.056491  ,\n",
       "        0.40228   ,  0.0027747 , -0.33109999, -0.30691001,  2.08170009,\n",
       "        0.031819  ,  0.013643  ,  0.30265   ,  0.0071297 , -0.5819    ,\n",
       "       -0.27739999, -0.062254  ,  1.1451    , -0.24232   ,  0.1235    ,\n",
       "       -0.12243   ,  0.33151999, -0.006162  , -0.30541   , -0.13056999,\n",
       "       -0.054601  ,  0.037083  , -0.070552  ,  0.58929998, -0.30385   ,\n",
       "        0.28979999, -0.14653   , -0.27052   ,  0.37160999,  0.32031   ,\n",
       "       -0.29124999,  0.0052483 , -0.13212   , -0.052736  ,  0.087349  ,\n",
       "       -0.26668   , -0.16897   ,  0.015162  , -0.0083746 , -0.14871   ,\n",
       "        0.23413   , -0.20719001, -0.091386  ,  0.40075001, -0.17223001,\n",
       "        0.18144999,  0.37586001, -0.28681999,  0.37289   , -0.16185001,\n",
       "        0.18008   ,  0.30320001, -0.13215999,  0.18352   ,  0.095759  ,\n",
       "        0.094916  ,  0.008289  ,  0.11761   ,  0.34046   ,  0.03677   ,\n",
       "       -0.29076999,  0.058303  , -0.027814  ,  0.082941  ,  0.18619999,\n",
       "       -0.031494  ,  0.27985001, -0.074412  , -0.13762   , -0.21866   ,\n",
       "        0.18138   ,  0.040855  , -0.113     ,  0.24107   ,  0.36570001,\n",
       "       -0.27524999, -0.05684   ,  0.34872001,  0.011884  ,  0.14517   ,\n",
       "       -0.71394998,  0.48497   ,  0.14806999,  0.62287003,  0.20599   ,\n",
       "        0.58379   , -0.13438   ,  0.40206999,  0.18311   ,  0.28020999,\n",
       "       -0.42348999, -0.25626001,  0.17715   , -0.54095   ,  0.16596   ,\n",
       "       -0.036058  ,  0.08499   , -0.64989001,  0.075549  , -0.28830999,\n",
       "        0.40626001, -0.2802    ,  0.094062  ,  0.32405999,  0.28437001,\n",
       "       -0.26341   ,  0.11553   ,  0.071918  , -0.47215   , -0.18366   ,\n",
       "       -0.34709001,  0.29964   , -0.66513997,  0.002516  , -0.42333001,\n",
       "        0.27511999,  0.36012   ,  0.16311   ,  0.23964   , -0.05923   ,\n",
       "        0.32609999,  0.20558999,  0.038677  , -0.045816  ,  0.089764  ,\n",
       "        0.43151   , -0.15954   ,  0.08532   , -0.26572001, -0.15001   ,\n",
       "        0.084286  , -0.16714001, -0.43004   ,  0.060807  ,  0.13121   ,\n",
       "       -0.24112   ,  0.66553998,  0.44530001, -0.18019   , -0.13919   ,\n",
       "        0.56252003,  0.21457   , -0.46443   , -0.012211  ,  0.029988  ,\n",
       "       -0.051094  , -0.20135   ,  0.80787998,  0.47376999, -0.057647  ,\n",
       "        0.46215999,  0.16084   , -0.20953999, -0.05452   ,  0.15572   ,\n",
       "       -0.13711999,  0.12972   , -0.011936  , -0.003378  , -0.13595   ,\n",
       "       -0.080711  ,  0.20065001,  0.054056  ,  0.046816  ,  0.059539  ,\n",
       "        0.046265  ,  0.17754   , -0.31094   ,  0.28119001, -0.24355   ,\n",
       "        0.085252  , -0.21010999, -0.19472   ,  0.0027297 , -0.46340999,\n",
       "        0.14789   , -0.31516999, -0.065939  ,  0.036106  ,  0.42903   ,\n",
       "       -0.33759001,  0.16432001,  0.32567999, -0.050392  , -0.054297  ,\n",
       "        0.24074   ,  0.41923001,  0.13011999, -0.17167   , -0.37808001,\n",
       "       -0.23089001, -0.019477  , -0.29291001, -0.30824   ,  0.30296999,\n",
       "       -0.22658999,  0.081574  , -0.18516   , -0.21408001,  0.40616   ,\n",
       "       -0.28974   ,  0.074174  , -0.17794999,  0.28595001, -0.039626  ,\n",
       "       -0.2339    , -0.36054   , -0.067503  , -0.091065  ,  0.23438001,\n",
       "       -0.0041331 ,  0.003232  ,  0.0072134 ,  0.008697  ,  0.21614   ,\n",
       "        0.049904  ,  0.35582   ,  0.13748001,  0.073361  ,  0.14166   ,\n",
       "        0.2412    , -0.013322  ,  0.15613   ,  0.083381  ,  0.088146  ,\n",
       "       -0.019357  ,  0.43794999,  0.083961  ,  0.45309001, -0.50489002,\n",
       "       -0.10865   , -0.2527    , -0.18251   ,  0.20441   ,  0.13319001,\n",
       "        0.1294    ,  0.050594  , -0.15612   , -0.39543   ,  0.12537999,\n",
       "        0.24880999, -0.1927    , -0.31847   , -0.12718999,  0.4341    ,\n",
       "        0.31176999, -0.0040946 , -0.2094    , -0.079961  ,  0.1161    ,\n",
       "       -0.050794  ,  0.015266  , -0.28029999, -0.12486   ,  0.23587   ,\n",
       "        0.2339    , -0.14023   ,  0.028462  ,  0.56923002, -0.1649    ,\n",
       "       -0.036429  ,  0.010051  , -0.17106999, -0.042608  ,  0.044965  ,\n",
       "       -0.4393    , -0.26137   ,  0.30088001, -0.060772  , -0.45311999,\n",
       "       -0.19076   , -0.20288   ,  0.27693999, -0.060888  ,  0.11944   ,\n",
       "        0.62206   , -0.19343001,  0.47849   , -0.30113   ,  0.059389  ,\n",
       "        0.074901  ,  0.061068  , -0.46619999,  0.40053999, -0.19099   ,\n",
       "       -0.14331   ,  0.018267  , -0.18643001,  0.20709001, -0.35598001,\n",
       "        0.05338   , -0.050821  , -0.1918    , -0.37845999, -0.06589   ])"
      ]
     },
     "execution_count": 22,
     "metadata": {},
     "output_type": "execute_result"
    }
   ],
   "source": [
    "glove_matrix[1,:]"
   ]
  },
  {
   "cell_type": "code",
   "execution_count": null,
   "metadata": {
    "collapsed": true
   },
   "outputs": [],
   "source": []
  }
 ],
 "metadata": {
  "kernelspec": {
   "display_name": "entity-resolution",
   "language": "python",
   "name": "entity-resolution"
  },
  "language_info": {
   "codemirror_mode": {
    "name": "ipython",
    "version": 3
   },
   "file_extension": ".py",
   "mimetype": "text/x-python",
   "name": "python",
   "nbconvert_exporter": "python",
   "pygments_lexer": "ipython3",
   "version": "3.6.3"
  },
  "toc": {
   "nav_menu": {},
   "number_sections": false,
   "sideBar": true,
   "skip_h1_title": false,
   "toc_cell": false,
   "toc_position": {},
   "toc_section_display": "block",
   "toc_window_display": false
  },
  "varInspector": {
   "cols": {
    "lenName": 16,
    "lenType": 16,
    "lenVar": 40
   },
   "kernels_config": {
    "python": {
     "delete_cmd_postfix": "",
     "delete_cmd_prefix": "del ",
     "library": "var_list.py",
     "varRefreshCmd": "print(var_dic_list())"
    },
    "r": {
     "delete_cmd_postfix": ") ",
     "delete_cmd_prefix": "rm(",
     "library": "var_list.r",
     "varRefreshCmd": "cat(var_dic_list()) "
    }
   },
   "types_to_exclude": [
    "module",
    "function",
    "builtin_function_or_method",
    "instance",
    "_Feature"
   ],
   "window_display": false
  }
 },
 "nbformat": 4,
 "nbformat_minor": 2
}
