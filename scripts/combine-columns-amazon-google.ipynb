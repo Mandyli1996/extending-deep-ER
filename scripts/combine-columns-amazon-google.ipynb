{
 "cells": [
  {
   "cell_type": "code",
   "execution_count": 1,
   "metadata": {
    "ExecuteTime": {
     "end_time": "2018-03-26T17:50:04.431751Z",
     "start_time": "2018-03-26T17:50:03.158554Z"
    },
    "collapsed": true
   },
   "outputs": [],
   "source": [
    "import numpy as np\n",
    "import pandas as pd\n",
    "import matplotlib.pyplot as plt\n",
    "import seaborn as sns\n",
    "\n",
    "from matplotlib import rcParams\n",
    "\n",
    "rcParams['font.family'] = 'serif'\n",
    "rcParams['font.serif'] = 'times new roman'\n",
    "\n",
    "%config InlineBackend.figure_format = 'retina'\n",
    "%matplotlib notebook"
   ]
  },
  {
   "cell_type": "code",
   "execution_count": 65,
   "metadata": {
    "ExecuteTime": {
     "end_time": "2018-03-26T18:16:59.068374Z",
     "start_time": "2018-03-26T18:16:58.810695Z"
    }
   },
   "outputs": [],
   "source": [
    "def manufacturer_plus_name(x):\n",
    "    m = x['manufacturer']\n",
    "    n = x['name']\n",
    "    if isinstance(m, str) and isinstance(n, str):\n",
    "        result = m + ' ' + n\n",
    "    elif isinstance(m, str):\n",
    "        result = m\n",
    "    elif isinstance(n, str):\n",
    "        result = n\n",
    "    else:\n",
    "        result = np.nan\n",
    "    return result\n",
    "\n",
    "set1 = pd.read_csv('../data/raw/amazon-google/set1-orig.csv', encoding='latin1')\n",
    "set2 = pd.read_csv('../data/raw/amazon-google/set2-orig.csv', encoding='latin2')\n",
    "\n",
    "set1_new = set1.copy()\n",
    "set2_new = set2.copy()\n",
    "\n",
    "set1_new['name'] = set1_new.apply(manufacturer_plus_name, axis='columns')\n",
    "set2_new['name'] = set2_new.apply(manufacturer_plus_name, axis='columns')\n",
    "\n",
    "set1_new = set1_new.drop('manufacturer', axis='columns')\n",
    "set2_new = set2_new.drop('manufacturer', axis='columns')\n",
    "\n",
    "set1_new.to_csv('../data/raw/amazon-google/set1.csv', index=False)\n",
    "set2_new.to_csv('../data/raw/amazon-google/set2.csv', index=False)"
   ]
  },
  {
   "cell_type": "code",
   "execution_count": null,
   "metadata": {
    "collapsed": true
   },
   "outputs": [],
   "source": []
  }
 ],
 "metadata": {
  "kernelspec": {
   "display_name": "entity-resolution",
   "language": "python",
   "name": "entity-resolution"
  },
  "language_info": {
   "codemirror_mode": {
    "name": "ipython",
    "version": 3
   },
   "file_extension": ".py",
   "mimetype": "text/x-python",
   "name": "python",
   "nbconvert_exporter": "python",
   "pygments_lexer": "ipython3",
   "version": "3.6.3"
  },
  "varInspector": {
   "cols": {
    "lenName": 16,
    "lenType": 16,
    "lenVar": 40
   },
   "kernels_config": {
    "python": {
     "delete_cmd_postfix": "",
     "delete_cmd_prefix": "del ",
     "library": "var_list.py",
     "varRefreshCmd": "print(var_dic_list())"
    },
    "r": {
     "delete_cmd_postfix": ") ",
     "delete_cmd_prefix": "rm(",
     "library": "var_list.r",
     "varRefreshCmd": "cat(var_dic_list()) "
    }
   },
   "types_to_exclude": [
    "module",
    "function",
    "builtin_function_or_method",
    "instance",
    "_Feature"
   ],
   "window_display": false
  }
 },
 "nbformat": 4,
 "nbformat_minor": 2
}
