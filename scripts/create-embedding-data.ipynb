{
 "cells": [
  {
   "cell_type": "code",
   "execution_count": 12,
   "metadata": {
    "ExecuteTime": {
     "end_time": "2018-03-03T22:54:05.278909Z",
     "start_time": "2018-03-03T22:54:05.261094Z"
    }
   },
   "outputs": [
    {
     "name": "stdout",
     "output_type": "stream",
     "text": [
      "Overwriting create-embedding-data.py\n"
     ]
    }
   ],
   "source": [
    "%%writefile create-embedding-data.py\n",
    "\n",
    "import numpy as np\n",
    "import pandas as pd\n",
    "import pickle as pkl\n",
    "import argparse as ap\n",
    "\n",
    "from gensim.models import KeyedVectors\n",
    "from collections import defaultdict\n",
    "\n",
    "# parse command-line arguments\n",
    "parser = ap.ArgumentParser()\n",
    "parser.add_argument('embedding',\n",
    "                    help = 'choose embedding type (word2vec or glove)')\n",
    "parser.add_argument('source', help = 'file path of downloaded embedding data')\n",
    "parser.add_argument('-d', '--destination',\n",
    "                    help = 'directory path to generate new embedding files',\n",
    "                    default = '../data/embeddings/')\n",
    "\n",
    "args = parser.parse_args()\n",
    "embedding = args.embedding\n",
    "source = args.source\n",
    "destination = args.destination\n",
    "\n",
    "# create and save gensim embedding model\n",
    "print('creating gensim models')\n",
    "if embedding == 'glove':\n",
    "    model_name = 'glove'\n",
    "    model = KeyedVectors.load_word2vec_format(source, binary=False)\n",
    "    \n",
    "elif embedding == 'word2vec':\n",
    "    model_name = 'word2vec'\n",
    "    model = KeyedVectors.load_word2vec_format(source, binary=True)\n",
    "    \n",
    "elif embedding == 'debug':\n",
    "    print(embedding)\n",
    "    print(source)\n",
    "    print(destination)\n",
    "    quit()\n",
    "\n",
    "else:\n",
    "    raise 'Not a valid embedding type'\n",
    "\n",
    "model.save(destination + '{}-300.gensim'.format(model_name))\n",
    "\n",
    "# create and save numpy embedding matrix with initial row of zeros\n",
    "print('creating embedding matrix')\n",
    "embedding_matrix = model.vectors\n",
    "embedding_matrix = np.vstack([np.zeros(300), embedding_matrix])\n",
    "np.save(file='../data/embeddings/{}-300.matrix'.format(model_name),\n",
    "        arr=embedding_matrix)\n",
    "\n",
    "# create and save two maps of corpus vocabulary\n",
    "print('creating maps')\n",
    "vocab = ['<unk>'] + list(model.vocab.keys())\n",
    "word2idx = defaultdict(int, zip(vocab, range(len(vocab))))\n",
    "idx2word = dict(zip(range(len(vocab)), vocab))\n",
    "\n",
    "# manually encode NaN's as unknown\n",
    "for nan in ['NaN', 'NAN', 'nan', 'Nan']:\n",
    "    word2idx[nan] = 0\n",
    "\n",
    "map = dict()\n",
    "map['word2idx'] = word2idx\n",
    "map['idx2word'] = idx2word\n",
    "\n",
    "with open('../data/embeddings/{}-300.map'.format(model_name), 'wb') as f:\n",
    "    pkl.dump(map, f)"
   ]
  },
  {
   "cell_type": "code",
   "execution_count": null,
   "metadata": {
    "collapsed": true
   },
   "outputs": [],
   "source": []
  }
 ],
 "metadata": {
  "kernelspec": {
   "display_name": "entity-resolution",
   "language": "python",
   "name": "entity-resolution"
  },
  "language_info": {
   "codemirror_mode": {
    "name": "ipython",
    "version": 3
   },
   "file_extension": ".py",
   "mimetype": "text/x-python",
   "name": "python",
   "nbconvert_exporter": "python",
   "pygments_lexer": "ipython3",
   "version": "3.6.3"
  },
  "toc": {
   "nav_menu": {},
   "number_sections": true,
   "sideBar": true,
   "skip_h1_title": false,
   "toc_cell": false,
   "toc_position": {},
   "toc_section_display": "block",
   "toc_window_display": false
  },
  "varInspector": {
   "cols": {
    "lenName": 16,
    "lenType": 16,
    "lenVar": 40
   },
   "kernels_config": {
    "python": {
     "delete_cmd_postfix": "",
     "delete_cmd_prefix": "del ",
     "library": "var_list.py",
     "varRefreshCmd": "print(var_dic_list())"
    },
    "r": {
     "delete_cmd_postfix": ") ",
     "delete_cmd_prefix": "rm(",
     "library": "var_list.r",
     "varRefreshCmd": "cat(var_dic_list()) "
    }
   },
   "types_to_exclude": [
    "module",
    "function",
    "builtin_function_or_method",
    "instance",
    "_Feature"
   ],
   "window_display": false
  }
 },
 "nbformat": 4,
 "nbformat_minor": 2
}
