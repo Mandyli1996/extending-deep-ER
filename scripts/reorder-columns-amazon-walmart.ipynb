{
 "cells": [
  {
   "cell_type": "code",
   "execution_count": 243,
   "metadata": {
    "ExecuteTime": {
     "end_time": "2018-02-25T07:51:42.593697Z",
     "start_time": "2018-02-25T07:51:42.587475Z"
    },
    "collapsed": true
   },
   "outputs": [],
   "source": [
    "import pandas as pd\n",
    "import numpy as np\n",
    "import re\n",
    "\n",
    "pd.options.display.max_columns = 999"
   ]
  },
  {
   "cell_type": "code",
   "execution_count": 257,
   "metadata": {
    "ExecuteTime": {
     "end_time": "2018-02-25T08:30:08.716141Z",
     "start_time": "2018-02-25T08:30:07.896210Z"
    },
    "scrolled": true
   },
   "outputs": [],
   "source": [
    "df1 = pd.read_csv('../data/raw/amazon-walmart/orig-set1.csv', encoding = 'latin1')\n",
    "df2 = pd.read_csv('../data/raw/amazon-walmart/orig-set2.csv', encoding = 'latin1')\n",
    "matches = pd.read_csv('../data/raw/amazon-walmart/orig-matches.csv', encoding = 'latin1')\n",
    "\n",
    "df1 = df1.loc[:, ~df1.columns.str.contains('orig')]\n",
    "df2 = df2.loc[:, ~df2.columns.str.contains('orig')]"
   ]
  },
  {
   "cell_type": "code",
   "execution_count": 258,
   "metadata": {
    "ExecuteTime": {
     "end_time": "2018-02-25T08:30:15.402887Z",
     "start_time": "2018-02-25T08:30:11.664299Z"
    },
    "code_folding": [],
    "run_control": {
     "marked": false
    }
   },
   "outputs": [],
   "source": [
    "def pick_price(x):\n",
    "    if np.isnan(x[0]):\n",
    "        x[0] = x[1]\n",
    "    return x\n",
    "df1['listprice'] = df1[['listprice','price']].apply(pick_price, axis = 1)['listprice']\n",
    "\n",
    "def pick_weight(x):\n",
    "    #print(x[0], x[1], end = ', ')\n",
    "    if not isinstance(x[0], str):\n",
    "        if not isinstance(x[1], str):\n",
    "            x[0] = 'nan'\n",
    "        else:\n",
    "            x[0] = x[1]\n",
    "    return x\n",
    "\n",
    "def weight_to_pounds(x):\n",
    "    try:\n",
    "        if re.search('ounces', x):\n",
    "            x = re.sub('ounces', '', x)\n",
    "            x = float(x)\n",
    "            x /= 16\n",
    "        elif re.search('pounds', x):\n",
    "            x = re.sub('pounds', '', x)\n",
    "            x = re.sub('\\s|,', '', x)\n",
    "            x = float(x)\n",
    "        else:\n",
    "            x = np.nan\n",
    "    except:\n",
    "        print(x)\n",
    "\n",
    "df1['itemweight'] = df1[['itemweight','shipweight']].apply(pick_weight, axis = 1)['itemweight']\n",
    "df1['itemweight'] = df1['itemweight'].apply(weight_to_pounds)"
   ]
  },
  {
   "cell_type": "code",
   "execution_count": 259,
   "metadata": {
    "ExecuteTime": {
     "end_time": "2018-02-25T08:30:15.723204Z",
     "start_time": "2018-02-25T08:30:15.714553Z"
    },
    "collapsed": true
   },
   "outputs": [],
   "source": [
    "new_columns = ['id1', 'url', 'asin', 'brand', 'pcategory1', 'title', 'listprice',\n",
    "               'techdetails', 'proddescrshort', 'proddescrlong', 'imageurl',\n",
    "               'modelno', 'itemweight', 'dimensions']\n",
    "df1 = df1[new_columns]"
   ]
  },
  {
   "cell_type": "code",
   "execution_count": 260,
   "metadata": {
    "ExecuteTime": {
     "end_time": "2018-02-25T08:30:17.755373Z",
     "start_time": "2018-02-25T08:30:16.631343Z"
    },
    "collapsed": true
   },
   "outputs": [],
   "source": [
    "def convert_dimensions(x):\n",
    "    if not isinstance(x, str):\n",
    "        return [np.nan] * 3\n",
    "    x = x.strip('inches').split('x')\n",
    "    if len(x) != 3:\n",
    "        return [np.nan] * 3\n",
    "    return x\n",
    "\n",
    "dimensions_1 = df1['dimensions'].apply(convert_dimensions)\n",
    "data = list(zip(dimensions_1.index, dimensions_1))\n",
    "dim_columns = ['length', 'width', 'height']\n",
    "df1[dim_columns] = pd.DataFrame.from_items(data).T.astype(float)\n",
    "df1 = df1.drop('dimensions', axis = 'columns')\n",
    "\n",
    "dimensions_2 = df2['dimensions'].apply(convert_dimensions)\n",
    "data = list(zip(dimensions_2.index, dimensions_2))\n",
    "dim_columns = ['length', 'width', 'height']\n",
    "df2[dim_columns] = pd.DataFrame.from_items(data).T.astype(float)\n",
    "df2 = df2.drop('dimensions', axis = 'columns')"
   ]
  },
  {
   "cell_type": "code",
   "execution_count": 262,
   "metadata": {
    "ExecuteTime": {
     "end_time": "2018-02-25T08:30:31.136398Z",
     "start_time": "2018-02-25T08:30:30.180567Z"
    }
   },
   "outputs": [],
   "source": [
    "assert(df1.columns.size == df2.columns.size)\n",
    "\n",
    "df1.to_csv('../data/raw/amazon-walmart/set1.csv', index=False)\n",
    "df2.to_csv('../data/raw/amazon-walmart/set2.csv', index=False)\n",
    "matches[['id1', 'id2']].to_csv('../data/raw/amazon-walmart/matches.csv', index=False)"
   ]
  },
  {
   "cell_type": "code",
   "execution_count": null,
   "metadata": {
    "collapsed": true
   },
   "outputs": [],
   "source": []
  }
 ],
 "metadata": {
  "kernelspec": {
   "display_name": "entity-resolution",
   "language": "python",
   "name": "entity-resolution"
  },
  "language_info": {
   "codemirror_mode": {
    "name": "ipython",
    "version": 3
   },
   "file_extension": ".py",
   "mimetype": "text/x-python",
   "name": "python",
   "nbconvert_exporter": "python",
   "pygments_lexer": "ipython3",
   "version": "3.6.3"
  },
  "toc": {
   "nav_menu": {},
   "number_sections": true,
   "sideBar": true,
   "skip_h1_title": false,
   "toc_cell": false,
   "toc_position": {},
   "toc_section_display": "block",
   "toc_window_display": false
  },
  "varInspector": {
   "cols": {
    "lenName": 16,
    "lenType": 16,
    "lenVar": 40
   },
   "kernels_config": {
    "python": {
     "delete_cmd_postfix": "",
     "delete_cmd_prefix": "del ",
     "library": "var_list.py",
     "varRefreshCmd": "print(var_dic_list())"
    },
    "r": {
     "delete_cmd_postfix": ") ",
     "delete_cmd_prefix": "rm(",
     "library": "var_list.r",
     "varRefreshCmd": "cat(var_dic_list()) "
    }
   },
   "types_to_exclude": [
    "module",
    "function",
    "builtin_function_or_method",
    "instance",
    "_Feature"
   ],
   "window_display": false
  }
 },
 "nbformat": 4,
 "nbformat_minor": 2
}
